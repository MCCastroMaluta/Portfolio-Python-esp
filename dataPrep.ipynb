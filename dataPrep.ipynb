{
 "cells": [
  {
   "cell_type": "markdown",
   "id": "cafe4ed2",
   "metadata": {},
   "source": [
    "# 1. 🚀 Introducción y Contexto\n",
    "\n",
    "## 🛠️ La Historia que Motivó este Análisis\n",
    "\n",
    "Era un día cualquiera en **Tandil** cuando mi bordeadora STIHL FSE60 decidió rendirse. Necesitaba un repuesto específico y, como cualquier persona del siglo XXI, mi primer instinto fue buscarlo **online**.\n",
    "\n",
    "🔍 **Google:** Nada en la ciudad  \n",
    "🛒 **MercadoLibre:** ¡Disponible! Pero a **350 km** y con 2 días de espera\n",
    "\n",
    "Decidí intentar la búsqueda física. Después de **un día completo** recorriendo comercios...\n",
    "\n",
    "💡 **¡EUREKA!** Un comercio finalmente sabía dónde conseguirlo. Estaba a **10 cuadras de casa**.\n",
    "\n",
    "### 🤔 La Pregunta que Cambió Todo\n",
    "\n",
    "> **\"Si este comercio lo tenía, ¿por qué no apareció en mis búsquedas online?\"**\n",
    "\n",
    "---\n",
    "\n",
    "## 🎯 Objetivos del Análisis\n",
    "\n",
    "**🔍 Objetivo Principal:** Analizar el estado de la digitalización comercial en 5 ciudades del centro de Buenos Aires.\n",
    "\n",
    "**📊 Preguntas de Investigación:**\n",
    "- ¿Qué porcentaje de comercios tiene **datos completos** en Google Maps?\n",
    "- ¿Cuántos tienen **sitio web** o **redes sociales** registradas?\n",
    "- ¿El **tamaño de la ciudad** influye en la digitalización?\n",
    "- ¿Los comercios digitalizados tienen **mejor engagement**?\n",
    "\n",
    "**💡 Meta:** Transformar una experiencia personal en insights útiles para comerciantes locales."
   ]
  },
  {
   "cell_type": "markdown",
   "id": "10295ee2",
   "metadata": {},
   "source": [
    "# 2. 🔧 Preparación de Datos\n",
    "\n",
    "📊 Importación y Limpieza\n",
    "\n",
    "**🔄 Procesamiento:** Carga de múltiples archivos CSV por ciudad, selección de columnas relevantes y corrección de valores erróneos.\n",
    "\n",
    "**🔗 Consolidación:** Concatenación de datasets individuales en archivo único 'Regional' con estandarización de teléfonos, tratamiento de missing values y eliminación de duplicados.\n",
    "\n",
    "**🧹 Normalización:** Limpieza de nombres comerciales (comillas, asteriscos, emoticones) y estandarización de formato."
   ]
  },
  {
   "cell_type": "code",
   "execution_count": 4,
   "id": "06b3f050",
   "metadata": {},
   "outputs": [],
   "source": [
    "# Se importan las librerías para la carga y manipulación de los datos.\n",
    "# pandas: manejo y limpieza de datos\n",
    "# numpy: operaciones numéricas\n",
    "# glob, os: manipulación de archivos y carpetas\n",
    "\n",
    "import pandas as pd\n",
    "import os\n",
    "import numpy as np\n",
    "from glob import glob\n",
    "import glob\n",
    "import matplotlib.pyplot as plt\n",
    "import seaborn as sns\n",
    "\n",
    "# Configura pandas para mostrar todas las columnas del DataFrame al mostrarlo, sin recorte visual.\n",
    "pd.set_option('display.max_columns', None) "
   ]
  },
  {
   "cell_type": "code",
   "execution_count": 5,
   "id": "17206384",
   "metadata": {},
   "outputs": [
    {
     "data": {
      "text/plain": [
       "['../Datasets\\\\azul_dataset_crawler-google-places_2025-06-15_22-59-32-816.csv',\n",
       " '../Datasets\\\\azul_dataset_crawler-google-places_2025-07-30_14-54-37-400.csv',\n",
       " '../Datasets\\\\azul_dataset_google-maps-extractor_2025-05-19_00-03-31-957.csv']"
      ]
     },
     "execution_count": 5,
     "metadata": {},
     "output_type": "execute_result"
    }
   ],
   "source": [
    "# Búsqueda de los archivos .csv en el directorio\n",
    "glob.glob('../Datasets/*azul*.csv')"
   ]
  },
  {
   "cell_type": "code",
   "execution_count": 6,
   "id": "090b6aef",
   "metadata": {},
   "outputs": [
    {
     "data": {
      "text/plain": [
       "Index(['additionalInfo/Accesibilidad/0/Entrada accesible para personas en silla de ruedas',\n",
       "       'additionalInfo/Accesibilidad/0/Espacio accesible para personas en silla de ruedas',\n",
       "       'additionalInfo/Accesibilidad/0/Estacionamiento accesible para personas en silla de ruedas',\n",
       "       'additionalInfo/Accesibilidad/1/Bucle magnético de asistencia',\n",
       "       'additionalInfo/Accesibilidad/1/Espacio accesible para personas en silla de ruedas',\n",
       "       'additionalInfo/Accesibilidad/1/Estacionamiento accesible para personas en silla de ruedas',\n",
       "       'additionalInfo/Accesibilidad/1/Sanitarios accesibles para personas en silla de ruedas',\n",
       "       'additionalInfo/Accesibilidad/2/Bucle magnético de asistencia',\n",
       "       'additionalInfo/Accesibilidad/2/Sanitarios accesibles para personas en silla de ruedas',\n",
       "       'additionalInfo/Ambiente/0/A la moda',\n",
       "       ...\n",
       "       'plusCode',\n",
       "       'additionalInfo/Accesibilidad/3/Sanitarios accesibles para personas en silla de ruedas',\n",
       "       'additionalInfo/Estacionamiento/0',\n",
       "       'additionalInfo/Opciones del local/3/Postres',\n",
       "       'additionalInfo/Opciones del local/4/Espacio con asientos',\n",
       "       'additionalInfo/Popular por/1/Almuerzo',\n",
       "       'additionalInfo/Popular por/2/Cena en solitario',\n",
       "       'additionalInfo/Popular por/3/Un buen lugar para trabajar con una laptop',\n",
       "       'additionalInfo/Qué ofrece/2/Comidas durante la madrugada',\n",
       "       'locatedIn'],\n",
       "      dtype='object', length=555)"
      ]
     },
     "execution_count": 6,
     "metadata": {},
     "output_type": "execute_result"
    }
   ],
   "source": [
    "# Lectura de todos los archivos CSV de la carpeta y se combinan en un único DataFrame con 'pd.concat()' y se reestablece el índice con 'reset_index(drop=True)'.\n",
    "# Se listan las columnas del DataFrame resultante.\n",
    "df = pd.concat(map(pd.read_csv, glob.glob('../Datasets/*azul*.csv'))).reset_index(drop=True)\n",
    "df.columns"
   ]
  },
  {
   "cell_type": "code",
   "execution_count": 7,
   "id": "48d6b069",
   "metadata": {},
   "outputs": [
    {
     "data": {
      "application/vnd.microsoft.datawrangler.viewer.v0+json": {
       "columns": [
        {
         "name": "index",
         "rawType": "int64",
         "type": "integer"
        },
        {
         "name": "title",
         "rawType": "object",
         "type": "string"
        },
        {
         "name": "categoryName",
         "rawType": "object",
         "type": "string"
        },
        {
         "name": "website",
         "rawType": "object",
         "type": "unknown"
        },
        {
         "name": "street",
         "rawType": "object",
         "type": "string"
        },
        {
         "name": "phone",
         "rawType": "object",
         "type": "string"
        },
        {
         "name": "city",
         "rawType": "object",
         "type": "string"
        },
        {
         "name": "state",
         "rawType": "object",
         "type": "string"
        },
        {
         "name": "location/lat",
         "rawType": "float64",
         "type": "float"
        },
        {
         "name": "location/lng",
         "rawType": "float64",
         "type": "float"
        },
        {
         "name": "totalScore",
         "rawType": "float64",
         "type": "float"
        },
        {
         "name": "rank",
         "rawType": "int64",
         "type": "integer"
        },
        {
         "name": "imageUrl",
         "rawType": "object",
         "type": "string"
        },
        {
         "name": "imagesCount",
         "rawType": "float64",
         "type": "float"
        },
        {
         "name": "reviewsCount",
         "rawType": "int64",
         "type": "integer"
        },
        {
         "name": "scrapedAt",
         "rawType": "object",
         "type": "string"
        },
        {
         "name": "searchString",
         "rawType": "object",
         "type": "string"
        }
       ],
       "ref": "e3ae1a2b-fc87-4afb-b538-a73df8d2a08a",
       "rows": [
        [
         "0",
         "DTI - Azul",
         "Soporte y servicios informáticos",
         null,
         "Av. Juan Domingo Perón 525",
         "+54 2281 42-7066",
         "Azul",
         "Provincia de Buenos Aires",
         "-36.7820062",
         "-59.8654974",
         null,
         "22",
         "https://streetviewpixels-pa.googleapis.com/v1/thumbnail?panoid=zL2SLXDLlIyLOOkG7pxFlg&cb_client=search.gws-prod.gps&w=408&h=240&yaw=231.62384&pitch=0&thumbfov=100",
         "1.0",
         "0",
         "2025-06-15T22:56:55.477Z",
         "tecnologia"
        ],
        [
         "1",
         "TECNO COMPUTACION",
         "Tienda de móviles",
         "http://www.tecnocomputacionazul.com/",
         "Lamadrid 33",
         "+54 2281 65-7938",
         "Azul",
         "Provincia de Buenos Aires",
         "-36.7649137",
         "-59.8624039",
         "4.6",
         "3",
         "https://lh3.googleusercontent.com/p/AF1QipP9GgrGu9iOG5xNOUsuEUj6fdq4j3xvaLptITLH=w408-h408-k-no",
         "12.0",
         "7",
         "2025-06-15T22:56:54.474Z",
         "tecnologia"
        ],
        [
         "2",
         "Ingeniero Marcelo Edgardo Cornec",
         "Ingeniero",
         null,
         "Av. Juan Domingo Perón 622",
         "+54 2281 42-6984",
         "Azul",
         "Provincia de Buenos Aires",
         "-36.7832779",
         "-59.8635941",
         "5.0",
         "20",
         "https://lh3.googleusercontent.com/p/AF1QipN3mw2facF8IFrTvwJ_gdFhsNWQrFQi4pazN5RN=w426-h240-k-no",
         "13.0",
         "3",
         "2025-06-15T22:56:57.478Z",
         "comercio"
        ],
        [
         "3",
         "La esquina",
         "Kiosco",
         null,
         "7300, Gral. Paz 1500",
         "+54 2281 36-0736",
         "Azul",
         "Provincia de Buenos Aires",
         "-36.7980904",
         "-59.8535248",
         "3.7",
         "19",
         "https://lh3.googleusercontent.com/p/AF1QipP1o8LwpKf0khxVBfihAWLOI4K4X00X3SCtGAg=w408-h544-k-no",
         "1.0",
         "3",
         "2025-06-15T22:56:57.478Z",
         "comercio"
        ],
        [
         "4",
         "Vidrieria 25 de Mayo de Jose Canalicchio",
         "Comercio",
         null,
         "Guaminí 610",
         "+54 2281 53-7036",
         "Azul",
         "Provincia de Buenos Aires",
         "-36.7855521",
         "-59.8671447",
         "4.2",
         "40",
         "https://lh3.googleusercontent.com/p/AF1QipM1o-ulafI-mAMROrwDJeAv15XDqrWz-t4wzI86=w426-h240-k-no",
         "5.0",
         "9",
         "2025-06-15T22:56:58.824Z",
         "comercio"
        ]
       ],
       "shape": {
        "columns": 16,
        "rows": 5
       }
      },
      "text/html": [
       "<div>\n",
       "<style scoped>\n",
       "    .dataframe tbody tr th:only-of-type {\n",
       "        vertical-align: middle;\n",
       "    }\n",
       "\n",
       "    .dataframe tbody tr th {\n",
       "        vertical-align: top;\n",
       "    }\n",
       "\n",
       "    .dataframe thead th {\n",
       "        text-align: right;\n",
       "    }\n",
       "</style>\n",
       "<table border=\"1\" class=\"dataframe\">\n",
       "  <thead>\n",
       "    <tr style=\"text-align: right;\">\n",
       "      <th></th>\n",
       "      <th>title</th>\n",
       "      <th>categoryName</th>\n",
       "      <th>website</th>\n",
       "      <th>street</th>\n",
       "      <th>phone</th>\n",
       "      <th>city</th>\n",
       "      <th>state</th>\n",
       "      <th>location/lat</th>\n",
       "      <th>location/lng</th>\n",
       "      <th>totalScore</th>\n",
       "      <th>rank</th>\n",
       "      <th>imageUrl</th>\n",
       "      <th>imagesCount</th>\n",
       "      <th>reviewsCount</th>\n",
       "      <th>scrapedAt</th>\n",
       "      <th>searchString</th>\n",
       "    </tr>\n",
       "  </thead>\n",
       "  <tbody>\n",
       "    <tr>\n",
       "      <th>0</th>\n",
       "      <td>DTI - Azul</td>\n",
       "      <td>Soporte y servicios informáticos</td>\n",
       "      <td>NaN</td>\n",
       "      <td>Av. Juan Domingo Perón 525</td>\n",
       "      <td>+54 2281 42-7066</td>\n",
       "      <td>Azul</td>\n",
       "      <td>Provincia de Buenos Aires</td>\n",
       "      <td>-36.782006</td>\n",
       "      <td>-59.865497</td>\n",
       "      <td>NaN</td>\n",
       "      <td>22</td>\n",
       "      <td>https://streetviewpixels-pa.googleapis.com/v1/...</td>\n",
       "      <td>1.0</td>\n",
       "      <td>0</td>\n",
       "      <td>2025-06-15T22:56:55.477Z</td>\n",
       "      <td>tecnologia</td>\n",
       "    </tr>\n",
       "    <tr>\n",
       "      <th>1</th>\n",
       "      <td>TECNO COMPUTACION</td>\n",
       "      <td>Tienda de móviles</td>\n",
       "      <td>http://www.tecnocomputacionazul.com/</td>\n",
       "      <td>Lamadrid 33</td>\n",
       "      <td>+54 2281 65-7938</td>\n",
       "      <td>Azul</td>\n",
       "      <td>Provincia de Buenos Aires</td>\n",
       "      <td>-36.764914</td>\n",
       "      <td>-59.862404</td>\n",
       "      <td>4.6</td>\n",
       "      <td>3</td>\n",
       "      <td>https://lh3.googleusercontent.com/p/AF1QipP9Gg...</td>\n",
       "      <td>12.0</td>\n",
       "      <td>7</td>\n",
       "      <td>2025-06-15T22:56:54.474Z</td>\n",
       "      <td>tecnologia</td>\n",
       "    </tr>\n",
       "    <tr>\n",
       "      <th>2</th>\n",
       "      <td>Ingeniero Marcelo Edgardo Cornec</td>\n",
       "      <td>Ingeniero</td>\n",
       "      <td>NaN</td>\n",
       "      <td>Av. Juan Domingo Perón 622</td>\n",
       "      <td>+54 2281 42-6984</td>\n",
       "      <td>Azul</td>\n",
       "      <td>Provincia de Buenos Aires</td>\n",
       "      <td>-36.783278</td>\n",
       "      <td>-59.863594</td>\n",
       "      <td>5.0</td>\n",
       "      <td>20</td>\n",
       "      <td>https://lh3.googleusercontent.com/p/AF1QipN3mw...</td>\n",
       "      <td>13.0</td>\n",
       "      <td>3</td>\n",
       "      <td>2025-06-15T22:56:57.478Z</td>\n",
       "      <td>comercio</td>\n",
       "    </tr>\n",
       "    <tr>\n",
       "      <th>3</th>\n",
       "      <td>La esquina</td>\n",
       "      <td>Kiosco</td>\n",
       "      <td>NaN</td>\n",
       "      <td>7300, Gral. Paz 1500</td>\n",
       "      <td>+54 2281 36-0736</td>\n",
       "      <td>Azul</td>\n",
       "      <td>Provincia de Buenos Aires</td>\n",
       "      <td>-36.798090</td>\n",
       "      <td>-59.853525</td>\n",
       "      <td>3.7</td>\n",
       "      <td>19</td>\n",
       "      <td>https://lh3.googleusercontent.com/p/AF1QipP1o8...</td>\n",
       "      <td>1.0</td>\n",
       "      <td>3</td>\n",
       "      <td>2025-06-15T22:56:57.478Z</td>\n",
       "      <td>comercio</td>\n",
       "    </tr>\n",
       "    <tr>\n",
       "      <th>4</th>\n",
       "      <td>Vidrieria 25 de Mayo de Jose Canalicchio</td>\n",
       "      <td>Comercio</td>\n",
       "      <td>NaN</td>\n",
       "      <td>Guaminí 610</td>\n",
       "      <td>+54 2281 53-7036</td>\n",
       "      <td>Azul</td>\n",
       "      <td>Provincia de Buenos Aires</td>\n",
       "      <td>-36.785552</td>\n",
       "      <td>-59.867145</td>\n",
       "      <td>4.2</td>\n",
       "      <td>40</td>\n",
       "      <td>https://lh3.googleusercontent.com/p/AF1QipM1o-...</td>\n",
       "      <td>5.0</td>\n",
       "      <td>9</td>\n",
       "      <td>2025-06-15T22:56:58.824Z</td>\n",
       "      <td>comercio</td>\n",
       "    </tr>\n",
       "  </tbody>\n",
       "</table>\n",
       "</div>"
      ],
      "text/plain": [
       "                                      title                      categoryName  \\\n",
       "0                                DTI - Azul  Soporte y servicios informáticos   \n",
       "1                         TECNO COMPUTACION                 Tienda de móviles   \n",
       "2          Ingeniero Marcelo Edgardo Cornec                         Ingeniero   \n",
       "3                                La esquina                            Kiosco   \n",
       "4  Vidrieria 25 de Mayo de Jose Canalicchio                          Comercio   \n",
       "\n",
       "                                website                      street  \\\n",
       "0                                   NaN  Av. Juan Domingo Perón 525   \n",
       "1  http://www.tecnocomputacionazul.com/                 Lamadrid 33   \n",
       "2                                   NaN  Av. Juan Domingo Perón 622   \n",
       "3                                   NaN        7300, Gral. Paz 1500   \n",
       "4                                   NaN                 Guaminí 610   \n",
       "\n",
       "              phone  city                      state  location/lat  \\\n",
       "0  +54 2281 42-7066  Azul  Provincia de Buenos Aires    -36.782006   \n",
       "1  +54 2281 65-7938  Azul  Provincia de Buenos Aires    -36.764914   \n",
       "2  +54 2281 42-6984  Azul  Provincia de Buenos Aires    -36.783278   \n",
       "3  +54 2281 36-0736  Azul  Provincia de Buenos Aires    -36.798090   \n",
       "4  +54 2281 53-7036  Azul  Provincia de Buenos Aires    -36.785552   \n",
       "\n",
       "   location/lng  totalScore  rank  \\\n",
       "0    -59.865497         NaN    22   \n",
       "1    -59.862404         4.6     3   \n",
       "2    -59.863594         5.0    20   \n",
       "3    -59.853525         3.7    19   \n",
       "4    -59.867145         4.2    40   \n",
       "\n",
       "                                            imageUrl  imagesCount  \\\n",
       "0  https://streetviewpixels-pa.googleapis.com/v1/...          1.0   \n",
       "1  https://lh3.googleusercontent.com/p/AF1QipP9Gg...         12.0   \n",
       "2  https://lh3.googleusercontent.com/p/AF1QipN3mw...         13.0   \n",
       "3  https://lh3.googleusercontent.com/p/AF1QipP1o8...          1.0   \n",
       "4  https://lh3.googleusercontent.com/p/AF1QipM1o-...          5.0   \n",
       "\n",
       "   reviewsCount                 scrapedAt searchString  \n",
       "0             0  2025-06-15T22:56:55.477Z   tecnologia  \n",
       "1             7  2025-06-15T22:56:54.474Z   tecnologia  \n",
       "2             3  2025-06-15T22:56:57.478Z     comercio  \n",
       "3             3  2025-06-15T22:56:57.478Z     comercio  \n",
       "4             9  2025-06-15T22:56:58.824Z     comercio  "
      ]
     },
     "execution_count": 7,
     "metadata": {},
     "output_type": "execute_result"
    }
   ],
   "source": [
    "# Selección de columnas relevantes\n",
    "df = df[[\n",
    "        'title',\n",
    "        'categoryName',\n",
    "        'website',\n",
    "        'street',\n",
    "        'phone',\n",
    "        'city',\n",
    "        'state',\n",
    "        'location/lat', \n",
    "        'location/lng',\n",
    "        'totalScore',\n",
    "        'rank',\n",
    "        'imageUrl',\n",
    "        'imagesCount',       \n",
    "        'reviewsCount', \n",
    "        'scrapedAt',\n",
    "        'searchString']]\n",
    "df.head(5)"
   ]
  },
  {
   "cell_type": "code",
   "execution_count": 8,
   "id": "5f22fe99",
   "metadata": {},
   "outputs": [
    {
     "name": "stdout",
     "output_type": "stream",
     "text": [
      "<class 'pandas.core.frame.DataFrame'>\n",
      "RangeIndex: 1730 entries, 0 to 1729\n",
      "Data columns (total 16 columns):\n",
      " #   Column        Non-Null Count  Dtype  \n",
      "---  ------        --------------  -----  \n",
      " 0   title         1730 non-null   object \n",
      " 1   categoryName  1699 non-null   object \n",
      " 2   website       377 non-null    object \n",
      " 3   street        1584 non-null   object \n",
      " 4   phone         1107 non-null   object \n",
      " 5   city          1716 non-null   object \n",
      " 6   state         1717 non-null   object \n",
      " 7   location/lat  1730 non-null   float64\n",
      " 8   location/lng  1730 non-null   float64\n",
      " 9   totalScore    1278 non-null   float64\n",
      " 10  rank          1730 non-null   int64  \n",
      " 11  imageUrl      1678 non-null   object \n",
      " 12  imagesCount   1676 non-null   float64\n",
      " 13  reviewsCount  1730 non-null   int64  \n",
      " 14  scrapedAt     1730 non-null   object \n",
      " 15  searchString  1730 non-null   object \n",
      "dtypes: float64(4), int64(2), object(10)\n",
      "memory usage: 216.4+ KB\n"
     ]
    }
   ],
   "source": [
    "# Información del DataFrame sececcionado a través del método .info() : \n",
    "# Número de filas y columnas\n",
    "# Nombres y tipos de datos de las columnas\n",
    "# Valores no nulos en cada columna\n",
    "# Uso de memoria\n",
    "df.info()"
   ]
  },
  {
   "cell_type": "code",
   "execution_count": null,
   "id": "ea35f9dc",
   "metadata": {},
   "outputs": [],
   "source": [
    "df['city'] = df['city'].fillna('Azul')\n",
    "df['state'] = df['state'].fillna('Provincia de Buenos Aires')"
   ]
  },
  {
   "cell_type": "code",
   "execution_count": null,
   "id": "cef168b5",
   "metadata": {},
   "outputs": [],
   "source": [
    "# Este código cuenta la frecuencia de cada registro en la columna 'state'\n",
    "df['state'].value_counts()"
   ]
  },
  {
   "cell_type": "code",
   "execution_count": null,
   "id": "65d8c1a0",
   "metadata": {},
   "outputs": [],
   "source": [
    "# Se reemplazan los datos de la columna 'state' que no son correctos\n",
    "df['state'] = df['state'].replace({\n",
    "    'San Juan': 'Provincia de Buenos Aires',\n",
    "    'La Pampa': 'Provincia de Buenos Aires'\n",
    "})"
   ]
  },
  {
   "cell_type": "code",
   "execution_count": null,
   "id": "2204d569",
   "metadata": {},
   "outputs": [],
   "source": [
    "# Cuenta cuántas veces aparece cada ciudad.\n",
    "df['city'].value_counts()"
   ]
  },
  {
   "cell_type": "code",
   "execution_count": null,
   "id": "918a6730",
   "metadata": {},
   "outputs": [],
   "source": [
    "# Se reemplazan los datos de la columna 'city' que no son correctos\n",
    "df['city'] = df['city'].replace({\n",
    "    'Buenos Aires': 'Azul',\n",
    "    'FRU' : 'Azul',\n",
    "    'FAD' : 'Azul',\n",
    "    'B7300GEU' : 'Azul',\n",
    "    'CJV' : 'Azul',\n",
    "    'GEV' : 'Azul',\n",
    "    'CJU' : 'Azul',\n",
    "    'FVW' : 'Azul',\n",
    "    'CKE' : 'Azul',\n",
    "    'ILF' : 'Azul',\n",
    "    'CKA' : 'Azul',\n",
    "    'Caleufú' : 'Azul'\n",
    "})"
   ]
  },
  {
   "cell_type": "code",
   "execution_count": null,
   "id": "757d6070",
   "metadata": {},
   "outputs": [],
   "source": [
    "# Se guarda el archivo principal de la ciudad\n",
    "df.to_csv('../CleanData/AzulMain.csv', index=False)"
   ]
  },
  {
   "cell_type": "code",
   "execution_count": null,
   "id": "67590d27",
   "metadata": {},
   "outputs": [],
   "source": [
    "# Búsqueda de los archivos .csv en el directorio\n",
    "glob.glob('../Datasets/*juarez*.csv')"
   ]
  },
  {
   "cell_type": "code",
   "execution_count": null,
   "id": "4a9051e2",
   "metadata": {},
   "outputs": [],
   "source": [
    "# Carga y concatena todos los archivos CSV que contengan 'juarez' en su nombre y reestablece el índice del DataFrame resultante.\n",
    "df = pd.concat(map(pd.read_csv, glob.glob('../Datasets/*juarez*.csv'))).reset_index(drop=True)"
   ]
  },
  {
   "cell_type": "code",
   "execution_count": null,
   "id": "99863164",
   "metadata": {},
   "outputs": [],
   "source": [
    "# Selección de columnas relevantes\n",
    "df = df[[\n",
    "        'title',\n",
    "        'categoryName',\n",
    "        'website',\n",
    "        'street',\n",
    "        'phone',\n",
    "        'city',\n",
    "        'state',\n",
    "        'location/lat', \n",
    "        'location/lng',\n",
    "        'totalScore',\n",
    "        'rank',\n",
    "        'imageUrl',\n",
    "        'imagesCount',       \n",
    "        'reviewsCount', \n",
    "        'scrapedAt',\n",
    "        'searchString']]\n",
    "df.head(5)"
   ]
  },
  {
   "cell_type": "code",
   "execution_count": null,
   "id": "dafce2ed",
   "metadata": {},
   "outputs": [],
   "source": [
    "df.info()"
   ]
  },
  {
   "cell_type": "code",
   "execution_count": null,
   "id": "17c0cfb8",
   "metadata": {},
   "outputs": [],
   "source": [
    "df['city'] = df['city'].fillna('Benito Juárez')\n",
    "df['state'] = df['state'].fillna('Provincia de Buenos Aires')"
   ]
  },
  {
   "cell_type": "code",
   "execution_count": null,
   "id": "26db5aa9",
   "metadata": {},
   "outputs": [],
   "source": [
    "# Cuenta y muestra la frecuencia de cada valor único en la columna 'state'.\n",
    "df['state'].value_counts()"
   ]
  },
  {
   "cell_type": "code",
   "execution_count": null,
   "id": "b60e7fa1",
   "metadata": {},
   "outputs": [],
   "source": [
    "# Se cuenta la frecuencia de los registros de la columna 'city'\n",
    "df['city'].value_counts()"
   ]
  },
  {
   "cell_type": "code",
   "execution_count": null,
   "id": "eb46c998",
   "metadata": {},
   "outputs": [],
   "source": [
    "df['city'] = df['city'].replace({\n",
    "    'Buenos Aires': 'Benito Juárez',\n",
    "    'Henderson' : 'Benito Juárez',\n",
    "    'BENITO JUAREZ' : 'Benito Juárez',\n",
    "    'BAB' : 'Benito Juárez',\n",
    "    'alberti' : 'Benito Juárez'\n",
    "})\n",
    "df['city'].value_counts()"
   ]
  },
  {
   "cell_type": "code",
   "execution_count": null,
   "id": "a7a3d38e",
   "metadata": {},
   "outputs": [],
   "source": [
    "# Se guarda el archivo principal de la ciudad\n",
    "df.to_csv('../CleanData/JuarezMain.csv', index=False)"
   ]
  },
  {
   "cell_type": "code",
   "execution_count": null,
   "id": "c6f32ba8",
   "metadata": {},
   "outputs": [],
   "source": [
    "# Búsqueda de los archivos .csv en el directorio\n",
    "glob.glob('../Datasets/*olavarria*.csv')"
   ]
  },
  {
   "cell_type": "code",
   "execution_count": null,
   "id": "92025fe5",
   "metadata": {},
   "outputs": [],
   "source": [
    "# Carga y concatena todos los archivos CSV que contengan 'olavarria' en su nombre.\n",
    "df = pd.concat(map(pd.read_csv, glob.glob('../Datasets/*olavarria*.csv'))).reset_index(drop=True)"
   ]
  },
  {
   "cell_type": "code",
   "execution_count": null,
   "id": "7816afbb",
   "metadata": {},
   "outputs": [],
   "source": [
    "# Selección de columnas relevantes\n",
    "df = df[[\n",
    "        'title',\n",
    "        'categoryName',\n",
    "        'website',\n",
    "        'street',\n",
    "        'phone',\n",
    "        'city',\n",
    "        'state',\n",
    "        'location/lat', \n",
    "        'location/lng',\n",
    "        'totalScore',\n",
    "        'rank',\n",
    "        'imageUrl',\n",
    "        'imagesCount',       \n",
    "        'reviewsCount', \n",
    "        'scrapedAt',\n",
    "        'searchString']]\n",
    "df.head(5)"
   ]
  },
  {
   "cell_type": "code",
   "execution_count": null,
   "id": "b26d27ca",
   "metadata": {},
   "outputs": [],
   "source": [
    "df.info()"
   ]
  },
  {
   "cell_type": "code",
   "execution_count": null,
   "id": "505acfb1",
   "metadata": {},
   "outputs": [],
   "source": [
    "df['city'] = df['city'].fillna('Olavarría')\n",
    "df['state'] = df['state'].fillna('Provincia de Buenos Aires')"
   ]
  },
  {
   "cell_type": "code",
   "execution_count": null,
   "id": "10be8ce0",
   "metadata": {},
   "outputs": [],
   "source": [
    "df['state'].value_counts()"
   ]
  },
  {
   "cell_type": "code",
   "execution_count": null,
   "id": "0ba3c6ce",
   "metadata": {},
   "outputs": [],
   "source": [
    "df['state'] = df['state'].replace({\n",
    "    'Ciudad Autónoma de Buenos Aires': 'Provincia de Buenos Aires',\n",
    "    'CABA': 'Provincia de Buenos Aires'\n",
    "})"
   ]
  },
  {
   "cell_type": "code",
   "execution_count": null,
   "id": "0694fa51",
   "metadata": {},
   "outputs": [],
   "source": [
    "df['city'].value_counts()"
   ]
  },
  {
   "cell_type": "code",
   "execution_count": null,
   "id": "01315329",
   "metadata": {},
   "outputs": [],
   "source": [
    "df['city'] = df['city'].replace({\n",
    "    'Gran Buenos Aires': 'Olavarría',\n",
    "    'DFE' : 'Olavarría',\n",
    "    'Buenos Aires' : 'Olavarría',\n",
    "    'KKJ' : 'Olavarría',\n",
    "    'KCI' : 'Olavarría',\n",
    "    'B7400LCX' : 'Olavarría',\n",
    "    'COO' : 'Olavarría',\n",
    "    'CVQ' : 'Olavarría',\n",
    "    'IDH' : 'Olavarría',\n",
    "    'Caseros' : 'Olavarría',\n",
    "    'DAS' : 'Olavarría',\n",
    "    'Colon' : 'Olavarría',\n",
    "    'Moreno' : 'Olavarría',\n",
    "    'CZY' : 'Olavarría',\n",
    "    'DJY' : 'Olavarría',\n",
    "    'JZB' : 'Olavarría',\n",
    "    'DRQ' : 'Olavarría',\n",
    "    'B7400JWP' : 'Olavarría',\n",
    "    'CUV' : 'Olavarría',\n",
    "    'CUG' : 'Olavarría',\n",
    "    'DSC' : 'Olavarría',\n",
    "    'KKM' : 'Olavarría',\n",
    "    'CRB' : 'Olavarría',\n",
    "    'CUC' : 'Olavarría',\n",
    "    'JUE' : 'Olavarría',\n",
    "    'DJQ' : 'Olavarría',\n",
    "    'DSN' : 'Olavarría',\n",
    "    'DRL' : 'Olavarría',\n",
    "    'CWP' : 'Olavarría',\n",
    "    'CUR' : 'Olavarría',\n",
    "    'LNM' : 'Olavarría',\n",
    "    'DTO' : 'Olavarría',\n",
    "    'LLD' : 'Olavarría',\n",
    "    'CABA' : 'Olavarría'\n",
    "})"
   ]
  },
  {
   "cell_type": "code",
   "execution_count": null,
   "id": "42312361",
   "metadata": {},
   "outputs": [],
   "source": [
    "# Exporta el DataFrame a .CSV sin incluir la columna del índice\n",
    "df.to_csv('../CleanData/OlavarriaMain.csv', index=False)"
   ]
  },
  {
   "cell_type": "code",
   "execution_count": null,
   "id": "e8d31698",
   "metadata": {},
   "outputs": [],
   "source": [
    "\n",
    "glob.glob('../Datasets/*rauch*.csv')"
   ]
  },
  {
   "cell_type": "code",
   "execution_count": null,
   "id": "31b4f339",
   "metadata": {},
   "outputs": [],
   "source": [
    "df = pd.concat(map(pd.read_csv, glob.glob('../Datasets/*rauch*.csv'))).reset_index(drop=True)"
   ]
  },
  {
   "cell_type": "code",
   "execution_count": null,
   "id": "a7e88dfb",
   "metadata": {},
   "outputs": [],
   "source": [
    "df = df[[\n",
    "        'title',\n",
    "        'categoryName',\n",
    "        'website',\n",
    "        'street',\n",
    "        'phone',\n",
    "        'city',\n",
    "        'state',\n",
    "        'location/lat', \n",
    "        'location/lng',\n",
    "        'totalScore',\n",
    "        'rank',\n",
    "        'imageUrl',\n",
    "        'imagesCount',       \n",
    "        'reviewsCount', \n",
    "        'scrapedAt',\n",
    "        'searchString']]\n",
    "df.head(5)"
   ]
  },
  {
   "cell_type": "code",
   "execution_count": null,
   "id": "c0646fe6",
   "metadata": {},
   "outputs": [],
   "source": [
    "df.info()"
   ]
  },
  {
   "cell_type": "code",
   "execution_count": null,
   "id": "df4224b7",
   "metadata": {},
   "outputs": [],
   "source": [
    "df['city'] = df['city'].fillna('Rauch')\n",
    "df['state'] = df['state'].fillna('Provincia de Buenos Aires')"
   ]
  },
  {
   "cell_type": "code",
   "execution_count": null,
   "id": "53bfd8b4",
   "metadata": {},
   "outputs": [],
   "source": [
    "\n",
    "df['state'] .value_counts()"
   ]
  },
  {
   "cell_type": "code",
   "execution_count": null,
   "id": "380499ba",
   "metadata": {},
   "outputs": [],
   "source": [
    "df['state'] = df['state'].replace({\n",
    "    'Buenos Aires Sur' : 'Provincia de Buenos Aires'    \n",
    "})"
   ]
  },
  {
   "cell_type": "code",
   "execution_count": null,
   "id": "b6c1d915",
   "metadata": {},
   "outputs": [],
   "source": [
    "df['city'].value_counts()"
   ]
  },
  {
   "cell_type": "code",
   "execution_count": null,
   "id": "7cff3dae",
   "metadata": {},
   "outputs": [],
   "source": [
    "df['city'] = df['city'].replace({\n",
    "    'Buenos Aires': 'Rauch',\n",
    "    'BPQ' : 'Rauch',\n",
    "    'ADB' : 'Rauch',\n",
    "    'ASJ' : 'Rauch',\n",
    "    'BPR' : 'Rauch',\n",
    "    'BBP' : 'Rauch',\n",
    "    'ACD' : 'Rauch',\n",
    "    'BPJ' : 'Rauch',\n",
    "    'AEX' : 'Rauch',\n",
    "    'BID' : 'Rauch',\n",
    "    'ACF' : 'Rauch',\n",
    "    'AQH' : 'Rauch',\n",
    "    'BPO' : 'Rauch',\n",
    "    'ATQ' : 'Rauch',\n",
    "    'AQJ' : 'Rauch',\n",
    "    'ABD' : 'Rauch',\n",
    "    'BQC' : 'Rauch',    \n",
    "    'AKG' : 'Rauch',\n",
    "    'BCB' : 'Rauch',\n",
    "    'BPP' : 'Rauch',\n",
    "    'BPK' : 'Rauch',\n",
    "    'BPI' : 'Rauch',\n",
    "    'AQE' : 'Rauch',\n",
    "    'BMT' : 'Rauch',\n",
    "    'AQF' : 'Rauch',\n",
    "    'AAI' : 'Rauch',\n",
    "    'BJF' : 'Rauch',\n",
    "    'AQB' : 'Rauch'\n",
    "})"
   ]
  },
  {
   "cell_type": "code",
   "execution_count": null,
   "id": "1ce638de",
   "metadata": {},
   "outputs": [],
   "source": [
    "#Exportación del DataFrame a un archivo CSV\n",
    "df.to_csv('../CleanData/RauchMain.csv', index=False)"
   ]
  },
  {
   "cell_type": "code",
   "execution_count": null,
   "id": "e6147c2c",
   "metadata": {},
   "outputs": [],
   "source": [
    "# Búsqueda de los archivos .csv en el directorio\n",
    "glob.glob('../Datasets/*tandil*.csv')"
   ]
  },
  {
   "cell_type": "code",
   "execution_count": null,
   "id": "ec2afd8a",
   "metadata": {},
   "outputs": [],
   "source": [
    "# Lectura y unión de archivos CSV\n",
    "df = pd.concat(map(pd.read_csv, glob.glob('../Datasets/*tandil*.csv'))).reset_index(drop=True)\n"
   ]
  },
  {
   "cell_type": "code",
   "execution_count": null,
   "id": "6d451a92",
   "metadata": {},
   "outputs": [],
   "source": [
    "df = df[[\n",
    "        'title',\n",
    "        'categoryName',\n",
    "        'website',\n",
    "        'street',\n",
    "        'phone',\n",
    "        'city',\n",
    "        'state',\n",
    "        'location/lat', \n",
    "        'location/lng',\n",
    "        'totalScore',\n",
    "        'rank',\n",
    "        'imageUrl',\n",
    "        'imagesCount',       \n",
    "        'reviewsCount', \n",
    "        'scrapedAt',\n",
    "        'searchString']]\n",
    "df.head(5)"
   ]
  },
  {
   "cell_type": "code",
   "execution_count": null,
   "id": "c39adebe",
   "metadata": {},
   "outputs": [],
   "source": [
    "df.info()"
   ]
  },
  {
   "cell_type": "code",
   "execution_count": null,
   "id": "e5609c3a",
   "metadata": {},
   "outputs": [],
   "source": [
    "df['city'] = df['city'].fillna('Tandil')\n",
    "df['state'] = df['state'].fillna('Provincia de Buenos Aires')"
   ]
  },
  {
   "cell_type": "code",
   "execution_count": null,
   "id": "e2ab8e41",
   "metadata": {},
   "outputs": [],
   "source": [
    "\n",
    "df['state'].value_counts()"
   ]
  },
  {
   "cell_type": "code",
   "execution_count": null,
   "id": "93241ec2",
   "metadata": {},
   "outputs": [],
   "source": [
    "df['state'] = df['state'].replace({\n",
    "    'Ciudad Autónoma de Buenos Aires': 'Provincia de Buenos Aires',\n",
    "    'de Buenos Aires': 'Provincia de Buenos Aires'\n",
    "})"
   ]
  },
  {
   "cell_type": "code",
   "execution_count": null,
   "id": "c383d353",
   "metadata": {},
   "outputs": [],
   "source": [
    "df['city'].value_counts()"
   ]
  },
  {
   "cell_type": "code",
   "execution_count": null,
   "id": "acbc0c31",
   "metadata": {},
   "outputs": [],
   "source": [
    "df['city'] = df['city'].replace({\n",
    "    'Gran Buenos Aires': 'Tandil',\n",
    "    'Buenos Aires': 'Tandil',\n",
    "    'HXG': 'Tandil',\n",
    "    'IRK': 'Tandil',\n",
    "    'BGA': 'Tandil',\n",
    "    'FTE': 'Tandil',\n",
    "    'GRS': 'Tandil',\n",
    "    'GZY': 'Tandil',\n",
    "    'GKP': 'Tandil',\n",
    "    'ATN': 'Tandil',\n",
    "    'BWH': 'Tandil',\n",
    "    'BKB': 'Tandil',\n",
    "    'AOS': 'Tandil',\n",
    "    'AQX': 'Tandil',\n",
    "    'AOX': 'Tandil',\n",
    "    'FSW': 'Tandil',\n",
    "    'IRL': 'Tandil',\n",
    "    'AHM': 'Tandil',\n",
    "    'AQO': 'Tandil',\n",
    "    'HEU': 'Tandil',\n",
    "    'BJD': 'Tandil',\n",
    "    'Gutiérrez': 'Tandil',\n",
    "    'AZR': 'Tandil',\n",
    "    'AZG': 'Tandil',\n",
    "    'EAC': 'Tandil',\n",
    "    'GKR': 'Tandil',\n",
    "    'GQQ': 'Tandil',\n",
    "    'AOP': 'Tandil',\n",
    "    'AOO': 'Tandil',\n",
    "    'AEK': 'Tandil',\n",
    "    'GVL': 'Tandil',\n",
    "    'GMM': 'Tandil',\n",
    "    'AZC': 'Tandil',\n",
    "    'AZD': 'Tandil',\n",
    "    'AOV': 'Tandil',\n",
    "    'Ciudad Autónoma de Buenos Aires': 'Tandil'\n",
    "})"
   ]
  },
  {
   "cell_type": "code",
   "execution_count": null,
   "id": "22061281",
   "metadata": {},
   "outputs": [],
   "source": [
    "#Exportación del DataFrame a un archivo CSV\n",
    "df.to_csv('../CleanData/TandilMain.csv', index=False)"
   ]
  },
  {
   "cell_type": "code",
   "execution_count": null,
   "id": "cfce6fe0",
   "metadata": {},
   "outputs": [],
   "source": [
    "# Búsqueda de los archivos .csv en el directorio\n",
    "glob.glob('../CleanData/*Main*.csv')"
   ]
  },
  {
   "cell_type": "code",
   "execution_count": null,
   "id": "47430193",
   "metadata": {},
   "outputs": [],
   "source": [
    "# Lectura y unión de archivos CSV\n",
    "df = pd.concat(map(pd.read_csv, glob.glob('../CleanData/*Main*.csv'))).reset_index(drop=True)"
   ]
  },
  {
   "cell_type": "code",
   "execution_count": null,
   "id": "a10d76d8",
   "metadata": {},
   "outputs": [],
   "source": [
    "# Información del DataFrame a través del método .info() : \n",
    "# Número de filas y columnas\n",
    "# Nombres y tipos de datos de las columnas\n",
    "# Valores no nulos en cada columna\n",
    "# Uso de memoria\n",
    "df.info()"
   ]
  },
  {
   "cell_type": "code",
   "execution_count": null,
   "id": "056c880a",
   "metadata": {},
   "outputs": [],
   "source": [
    "# Define qué strings deben ser tratados como nulos en las columnas seleccionadas.\n",
    "nulls = ['', ' ', 'N/A', 'nan', 'NaN', 'None']\n",
    "\n",
    "# Define las columnas a las que quieres aplicar este proceso.\n",
    "col = ['title', 'categoryName', 'website', 'street', 'phone', 'city', 'state', 'imageUrl']\n",
    "\n",
    "# Itera sobre cada columna y aplica la lógica.\n",
    "for col in col:\n",
    "    df.loc[:, col] = df[col].replace(nulls, np.nan) # Estandariza a np.nan\n",
    "    df.loc[:, col] = df[col].fillna('Incomplete') # Reemplaza nulos con 'incomplete'\n"
   ]
  },
  {
   "cell_type": "code",
   "execution_count": null,
   "id": "66f8148e",
   "metadata": {},
   "outputs": [],
   "source": [
    "\n",
    "\n",
    "# Define las columnas a las que se aplica este proceso.\n",
    "colnum = ['location/lat' ,'location/lng', 'totalScore', 'imagesCount', 'rank', 'reviewsCount']\n",
    "\n",
    "# Itera sobre cada columna y aplica la lógica.\n",
    "for colnum in colnum:\n",
    "   df.loc[:, colnum] = df[colnum].replace(nulls, np.nan) # Estandariza a np.nan\n",
    "   df.loc[:, colnum] = df[colnum].fillna(0) # Reemplaza nulos con 0"
   ]
  },
  {
   "cell_type": "code",
   "execution_count": null,
   "id": "25ef1aca",
   "metadata": {},
   "outputs": [],
   "source": [
    "df.isna().sum() "
   ]
  },
  {
   "cell_type": "code",
   "execution_count": null,
   "id": "5c4e2d42",
   "metadata": {},
   "outputs": [],
   "source": [
    "df.info()"
   ]
  },
  {
   "cell_type": "code",
   "execution_count": null,
   "id": "bb2b0a7e",
   "metadata": {},
   "outputs": [],
   "source": [
    "# Detecta y cuenta filas duplicadas basadas en título, ciudad, calle y coordenadas\n",
    "dup = df.duplicated(subset=['title','city','street','location/lat','location/lng']).sum()\n",
    "dup.sum()"
   ]
  },
  {
   "cell_type": "code",
   "execution_count": null,
   "id": "23457504",
   "metadata": {},
   "outputs": [],
   "source": [
    "# Quita duplicados según campos clave (título, ciudad, calle y coordenadas), reinicia el índice y \n",
    "# guarda una copia limpia del DataFrame.\n",
    "df = df.loc[~df.duplicated(subset=['title','city','street','location/lat','location/lng'])] \\\n",
    "    .reset_index(drop=True).copy()"
   ]
  },
  {
   "cell_type": "code",
   "execution_count": null,
   "id": "a5820919",
   "metadata": {},
   "outputs": [],
   "source": [
    "# Se modifica el tipo de dato de la columna 'scrapedAt' a datetime\n",
    "df['scrapedAt'] = pd.to_datetime(df['scrapedAt'], errors='coerce', utc=True)"
   ]
  },
  {
   "cell_type": "code",
   "execution_count": null,
   "id": "7759eff2",
   "metadata": {},
   "outputs": [],
   "source": [
    "# \"Convierte la columna 'scrapedAt' a tipo fecha, eliminando la información de la hora para facilitar análisis temporales.\"\n",
    "df['scrapedAt'] = pd.to_datetime(df['scrapedAt'].dt.date)"
   ]
  },
  {
   "cell_type": "code",
   "execution_count": null,
   "id": "fa2e4299",
   "metadata": {},
   "outputs": [],
   "source": [
    "df.dtypes"
   ]
  },
  {
   "cell_type": "code",
   "execution_count": null,
   "id": "b994a5ce",
   "metadata": {},
   "outputs": [],
   "source": [
    "# Verifica estructura, cuenta de filas y columnas, tipos y falta de valores tras limpieza de duplicados y modificación de tipo de dato\n",
    "df.info()"
   ]
  },
  {
   "cell_type": "code",
   "execution_count": null,
   "id": "0da8b038",
   "metadata": {},
   "outputs": [],
   "source": [
    "# Limpia y estandariza números internacionales (+54) removiendo dígito “9” extra antes del código local\n",
    "df['phone'] = df['phone'].astype(str).str.replace(r'\\+54\\s*9\\s*(\\d+)', r'+54 \\1', regex=True)\n",
    "df['phone']"
   ]
  },
  {
   "cell_type": "code",
   "execution_count": null,
   "id": "7ea4c693",
   "metadata": {},
   "outputs": [],
   "source": [
    "# Estándariza números móviles agregando ‘9’ después del +54 si falta, asegurando el formato internacional correcto.\n",
    "df['phone'] = df['phone'].str.replace(\n",
    "    r'^\\+54\\s*(?!9\\s*[\\d(])(.+)$', \n",
    "    r'+54 9 \\1',                   \n",
    "    regex=True\n",
    ")\n",
    "df['phone']"
   ]
  },
  {
   "cell_type": "code",
   "execution_count": null,
   "id": "f80f2022",
   "metadata": {},
   "outputs": [],
   "source": [
    "# Limpia los nombres de comercios eliminando comillas, asteriscos, signos de interrogación y emoticones.\n",
    "df['title'] = df['title'].str.replace('\"', '', regex=False) \\\n",
    "    .str.replace('*', '', regex=False) \\\n",
    "    .str.replace('?', '', regex=False) \\\n",
    "    .str.replace(\"'\", '', regex=False) \\\n",
    "    .str.replace(\"👬\", '', regex=False) \\\n",
    "    .str.replace(\"✨\", '', regex=False) \\\n",
    "    .str.replace(\"⚽️\", '', regex=False) \\\n",
    "    .str.replace(\"💖\", '', regex=False) \\\n",
    "    .str.replace(\"♓\", '', regex=False) \\\n",
    "    .str.replace(\"°\", '', regex=False) \\\n",
    "    .str.replace(\"❣️\", '', regex=False) \\\n",
    "    .str.replace(\"!\", '', regex=False) \\\n",
    "    .str.replace(\"🔥\", '', regex=False) \\\n",
    "    .str.replace(\"🪽\", '', regex=False)\t  \n",
    "df.head(5)"
   ]
  },
  {
   "cell_type": "code",
   "execution_count": null,
   "id": "b36f2e89",
   "metadata": {},
   "outputs": [],
   "source": [
    "# Estandariza title y searchString aplicando formato de título.\n",
    "df['title'] = df['title'].str.title()\n",
    "df['searchString'] = df['searchString'].str.title()\n",
    "df['categoryName'] = df['categoryName'].str.title()\n",
    "df[['title', 'searchString', 'categoryName']]"
   ]
  },
  {
   "cell_type": "code",
   "execution_count": null,
   "id": "54efce16",
   "metadata": {},
   "outputs": [],
   "source": [
    "# Elimina el prefijo '/url?q=' de las URLs en la columna 'website' y conserva solo la URL base.\n",
    "df['website'] = df['website'].str.replace(\n",
    "    r'^\\s*/url\\?q=(https?://.*)',\n",
    "    r'\\1',\n",
    "    regex=True\n",
    ")"
   ]
  },
  {
   "cell_type": "code",
   "execution_count": null,
   "id": "cdbd4f95",
   "metadata": {},
   "outputs": [],
   "source": [
    "df['website'].value_counts()"
   ]
  },
  {
   "cell_type": "code",
   "execution_count": null,
   "id": "c72129b3",
   "metadata": {},
   "outputs": [],
   "source": [
    "search = df['searchString'].unique().tolist()\n",
    "search"
   ]
  },
  {
   "cell_type": "code",
   "execution_count": null,
   "id": "8b0c2bd6",
   "metadata": {},
   "outputs": [],
   "source": [
    "# Se cuentan las categorias\n",
    "df['categoryName'].nunique()\n"
   ]
  },
  {
   "cell_type": "code",
   "execution_count": null,
   "id": "318048ea",
   "metadata": {},
   "outputs": [],
   "source": [
    "df['categoryName'].value_counts()"
   ]
  },
  {
   "cell_type": "code",
   "execution_count": null,
   "id": "4911a209",
   "metadata": {},
   "outputs": [],
   "source": [
    "df.to_csv('../CleanData/Regional.csv', index=False)"
   ]
  },
  {
   "cell_type": "markdown",
   "id": "10d231cb",
   "metadata": {},
   "source": [
    "## 📊 Exploratory Data Analysis (EDA)\n",
    "\n",
    "### ✅ Principales insights:\n",
    "\n",
    "- **25.29%** de los comercios tienen presencia web.\n",
    "- **Tandil** y **Olavarria** lideran en digitalización.\n",
    "- **Instagram 19.2%** y **Facebook 18.11** concentran la presencia en RRSS\n",
    "- Los comercios con sitio web tienen **mayor cantidad de reviews** en todas las ciudades.\n",
    "- El puntaje promedio se mantiene **alto y constante (4.0 - 4.4)**.\n",
    "- Categorías más comunes:\n",
    "  - \n",
    "  - \n",
    "  - \n",
    "  - \n",
    "\n",
    "---"
   ]
  },
  {
   "cell_type": "code",
   "execution_count": null,
   "id": "f828c69a",
   "metadata": {},
   "outputs": [],
   "source": [
    "# Carga del archivo CSV\n",
    "df = pd.read_csv('../CleanData/Regional.csv')"
   ]
  },
  {
   "cell_type": "code",
   "execution_count": null,
   "id": "ebcd4afa",
   "metadata": {},
   "outputs": [],
   "source": [
    "# Verificar la estructura dimensional del DataFrame para el análisis exploratorio\n",
    "df.shape"
   ]
  },
  {
   "cell_type": "code",
   "execution_count": null,
   "id": "645c34af",
   "metadata": {},
   "outputs": [],
   "source": [
    "# Análisis de tipos de datos para identificar variables numéricas y categóricas\n",
    "df.dtypes"
   ]
  },
  {
   "cell_type": "code",
   "execution_count": null,
   "id": "46cf2486",
   "metadata": {},
   "outputs": [],
   "source": [
    "# Convierte a formato datetime manejando valores inválidos\n",
    "df['scrapedAt'] = pd.to_datetime(df['scrapedAt'], errors='coerce', utc=True)\n",
    "# Extraer solo la fecha (eliminar información de hora)\n",
    "df['scrapedAt'].dt.date"
   ]
  },
  {
   "cell_type": "code",
   "execution_count": null,
   "id": "deea96ed",
   "metadata": {},
   "outputs": [],
   "source": [
    "# Resumen general del dataset: tipos, memoria y valores no nulos\n",
    "df.info()"
   ]
  },
  {
   "cell_type": "code",
   "execution_count": null,
   "id": "560f19e7",
   "metadata": {},
   "outputs": [],
   "source": [
    "# Visualizar las primeras 5 filas para entender la estructura\n",
    "df.head(5)"
   ]
  },
  {
   "cell_type": "code",
   "execution_count": null,
   "id": "a3592def",
   "metadata": {},
   "outputs": [],
   "source": [
    "# Verificar consistencia en los últimos registros\n",
    "df.tail(5)"
   ]
  },
  {
   "cell_type": "code",
   "execution_count": null,
   "id": "20cff9cf",
   "metadata": {},
   "outputs": [],
   "source": [
    "# Muestra aleatoria para revisar variabilidad de los datos\n",
    "df.sample(5)"
   ]
  },
  {
   "cell_type": "code",
   "execution_count": null,
   "id": "bda87129",
   "metadata": {},
   "outputs": [],
   "source": [
    "# Contar total de registros por ciudad\n",
    "total_city = df.groupby('city')['title'].count().sort_values(ascending=False)\n",
    "total_city"
   ]
  },
  {
   "cell_type": "code",
   "execution_count": null,
   "id": "16a19fd0",
   "metadata": {},
   "outputs": [],
   "source": [
    "# Contar total de registros por ciudad excluyendo 'incomplete'\n",
    "total_web = (df[~df['website'].str.contains('Incomplete', case=False, na=False)]\n",
    "            .groupby('city')['website'].count()\n",
    "            .sort_values(ascending=False))\n",
    "total_web"
   ]
  },
  {
   "cell_type": "code",
   "execution_count": null,
   "id": "01c3a39d",
   "metadata": {},
   "outputs": [],
   "source": [
    "webs = total_web.sum()\n",
    "webs"
   ]
  },
  {
   "cell_type": "code",
   "execution_count": null,
   "id": "86bb67b5",
   "metadata": {},
   "outputs": [],
   "source": [
    "# Análisis de calidad: datos faltantes agrupados por ciudad\n",
    "incomplete_city = (df[df['website'] == 'Incomplete']\n",
    "                .groupby('city')['website'].count()\n",
    "                .sort_values(ascending=False))\n",
    "incomplete_city"
   ]
  },
  {
   "cell_type": "code",
   "execution_count": null,
   "id": "34e7d5dc",
   "metadata": {},
   "outputs": [],
   "source": [
    "# Crear nuevo DataFrame filtrando registros completos\n",
    "# Excluye filas que contengan 'incomplete' en cualquiera de las columnas\n",
    "df_full_records = df[~(df == 'Incomplete').any(axis=1)].copy()\n",
    "# Resultado: DataFrame con registros que tienen datos completos en todas las columnas\n",
    "df_full_records.head(5)"
   ]
  },
  {
   "cell_type": "code",
   "execution_count": null,
   "id": "64f4eebf",
   "metadata": {},
   "outputs": [],
   "source": [
    "df_full_records['categoryName'].value_counts()"
   ]
  },
  {
   "cell_type": "code",
   "execution_count": null,
   "id": "4a67523e",
   "metadata": {},
   "outputs": [],
   "source": [
    "# Crear una máscara que identifique registros que contienen CUALQUIERA de esas palabras\n",
    "words = ['facebook', 'instagram', 'mercadolibre', 'mercadoshops', 'tiendanube', 'paginasamarillas', \n",
    "        'guia-dorada', 'gurugo', 'wa.me', 'sites.google.', 'pedidosya', 'region20']\n",
    "result = (pd.Series({word: df['website'].str.contains(word, case=False, na=False).sum() \n",
    "                for word in words})\n",
    "        .sort_values(ascending=False))\n",
    "\n",
    "result"
   ]
  },
  {
   "cell_type": "code",
   "execution_count": null,
   "id": "a22669ef",
   "metadata": {},
   "outputs": [],
   "source": [
    "result_df = pd.DataFrame({\n",
    "    'count': result,\n",
    "    'percentage': (result / webs * 100).round(2)\n",
    "})\n",
    "result_df"
   ]
  },
  {
   "cell_type": "code",
   "execution_count": null,
   "id": "5c0223ed",
   "metadata": {},
   "outputs": [],
   "source": [
    "words_2 = ['facebook', 'instagram', 'mercadolibre', 'mercadoshops', 'tiendanube', 'paginasamarillas', \n",
    "        'guia-dorada', 'gurugo', 'wa.me', 'sites.google.', 'region20', 'Incomplete']\n",
    "# Crear máscara combinada\n",
    "contains_word = df['website'].str.contains('|'.join(words_2), case=False, na=False)\n",
    "# Contar los que NO contienen ninguna de esas palabras\n",
    "Own_Website = (~contains_word).sum()\n",
    "Own_Website"
   ]
  },
  {
   "cell_type": "code",
   "execution_count": null,
   "id": "d0715042",
   "metadata": {},
   "outputs": [],
   "source": [
    "# Calcular métricas base por ciudad\n",
    "total_registros = df.groupby('city').size()\n",
    "registros_incomplete = df[df['website'].str.contains('Incomplete', case=False, na=False)].groupby('city').size()\n",
    "\n",
    "# Crear tabla resumen con métricas de calidad\n",
    "resumen = pd.DataFrame({\n",
    "    'total_registros': total_registros,\n",
    "    'Incomplete': registros_incomplete\n",
    "}).fillna(0)\n",
    "\n",
    "# Calcular métricas derivadas\n",
    "resumen['complete'] = resumen['total_registros'] - resumen['Incomplete']\n",
    "resumen['complete_pct'] = (resumen['complete'] / resumen['total_registros'] * 100).round(2)\n",
    "resumen['Incomplete_pct'] = (resumen['Incomplete'] / resumen['total_registros'] * 100).round(2)\n",
    "\n",
    "# Ordenar por total de registros\n",
    "resumen = resumen.sort_values('total_registros', ascending=False)\n",
    "resumen\n"
   ]
  },
  {
   "cell_type": "code",
   "execution_count": null,
   "id": "1d5ba383",
   "metadata": {},
   "outputs": [],
   "source": [
    "# Promedio general de presencia web\n",
    "avg_General = resumen['complete_pct'].mean().round(2)\n",
    "avg_General"
   ]
  },
  {
   "cell_type": "markdown",
   "id": "abb54278",
   "metadata": {},
   "source": [
    " 📊 **Visualizaciones**"
   ]
  },
  {
   "cell_type": "code",
   "execution_count": null,
   "id": "deaaa9fc",
   "metadata": {},
   "outputs": [],
   "source": [
    "\n",
    "fig, ax = plt.subplots(figsize=(10, 6))\n",
    "resumen[['complete_pct', 'incomplete_pct']].plot(\n",
    "    kind='bar', stacked=True, ax=ax, color=[\"#1D63FF\", \"#85abfc\"]\n",
    ")\n",
    "\n",
    "# Agregar los porcentajes en cada barra\n",
    "for container in ax.containers:\n",
    "    labels = [f'{w:.1f}%' if w > 0 else '' for w in container.datavalues]\n",
    "    ax.bar_label(container, labels=labels, label_type='center', color='black', fontsize=10)\n",
    "\n",
    "plt.ylabel('Porcentaje')\n",
    "plt.title('Presencia web por ciudad')\n",
    "plt.legend(['Con web', 'Sin web'])\n",
    "plt.xticks(rotation=0) \n",
    "plt.tight_layout()\n",
    "plt.show()"
   ]
  },
  {
   "cell_type": "code",
   "execution_count": null,
   "id": "367cf8e5",
   "metadata": {},
   "outputs": [],
   "source": [
    "# Visualización profesional de completitud de datos por ciudad\n",
    "fig, ax = plt.subplots(figsize=(12, 7))\n",
    "\n",
    "# Crear gráfico con colores profesionales y contraste mejorado\n",
    "resumen[['complete_pct', 'incomplete_pct']].plot(\n",
    "    kind='bar', \n",
    "    stacked=True, \n",
    "    ax=ax, \n",
    "    color=[\"#1D63FF\", \"#85abfc\"],\n",
    "    width=0.7,\n",
    "    edgecolor='none',\n",
    "    linewidth=0.8\n",
    ")\n",
    "# Etiquetas de porcentaje solo donde sean legibles\n",
    "for i, container in enumerate(ax.containers):\n",
    "    labels = [f'{w:.1f}%' if w > 5 else '' for w in container.datavalues]  # Solo mostrar si >5%\n",
    "    ax.bar_label(container, labels=labels, label_type='center', \n",
    "                color='black', fontweight='bold', fontsize=9)\n",
    "\n",
    "# Personalización\n",
    "ax.set_ylabel('Porcentaje (%)', fontsize=12, fontweight='bold')\n",
    "ax.set_title('Presencia Web por ciudad', fontsize=14, fontweight='bold', pad=20)\n",
    "ax.set_xlabel('Ciudades', fontsize=12, fontweight='bold')\n",
    "\n",
    "# Mejorar leyenda\n",
    "ax.legend(['Tiene Website', 'Datos Incompletos'], \n",
    "        loc='upper right', frameon=True, shadow=True, \n",
    "        fancybox=True, fontsize=10)\n",
    "# Rotar labels si hay muchas ciudades\n",
    "plt.xticks(rotation=45 if len(resumen) > 8 else 0, ha='right' if len(resumen) > 8 else 'center')\n",
    "# Personalizar ejes\n",
    "ax.set_ylim(0, 100)\n",
    "ax.set_yticks(range(0, 101, 20))\n",
    "ax.grid(axis='y', alpha=0.3, linestyle='--')\n",
    "ax.set_axisbelow(True)\n",
    "plt.tight_layout()\n",
    "plt.show()\n",
    "\n",
    "# Estadística complementaria\n",
    "print(f\"Promedio con Website: {resumen['complete_pct'].mean():.1f}%\")"
   ]
  },
  {
   "cell_type": "code",
   "execution_count": null,
   "id": "5e232dd3",
   "metadata": {},
   "outputs": [],
   "source": [
    "\n",
    "\n",
    "fig, ax = plt.subplots(figsize=(10, 6))\n",
    "resumen[['complete_pct', 'incomplete_pct']].plot(\n",
    "    kind='bar', stacked=True, ax=ax, color=['#4CAF50', '#F44336']\n",
    ")\n",
    "plt.ylabel('Porcentaje')\n",
    "plt.title('Presencia web por ciudad')\n",
    "plt.legend(['Con web', 'Sin web (incomplete)'])\n",
    "plt.tight_layout()\n",
    "plt.show()"
   ]
  },
  {
   "cell_type": "code",
   "execution_count": null,
   "id": "5b17d9b3",
   "metadata": {},
   "outputs": [],
   "source": [
    "avg_rating = df.groupby('city')['rank'].mean().sort_values(ascending=False)\n",
    "avg_rating.plot(kind='barh', title='Calificación promedio por ciudad')\n",
    "plt.xlabel('Calificación promedio')\n",
    "plt.show()\n"
   ]
  },
  {
   "cell_type": "markdown",
   "id": "71e3529d",
   "metadata": {},
   "source": [
    "\n",
    "# Añadir línea de referencia para 80% (umbral de calidad)\n",
    "ax.axhline(y=80, color='orange', linestyle=':', alpha=0.7, linewidth=2, \n",
    "           label='Umbral de Calidad (80%)')\n",
    "\n"
   ]
  },
  {
   "cell_type": "code",
   "execution_count": null,
   "id": "0a1b9419",
   "metadata": {},
   "outputs": [],
   "source": [
    "top_categories = df['categoryName'].value_counts().head(10)\n",
    "\n",
    "sns.barplot(x=top_categories.values, y=top_categories.index)\n",
    "plt.title('Top 10 categorías de negocios')\n",
    "plt.xlabel('Cantidad')\n",
    "plt.show()\n"
   ]
  },
  {
   "cell_type": "code",
   "execution_count": null,
   "id": "57a65f28",
   "metadata": {},
   "outputs": [],
   "source": [
    "\n"
   ]
  },
  {
   "cell_type": "markdown",
   "id": "5e5ad947",
   "metadata": {},
   "source": [
    "## Distribución de negocios por ciudad\n"
   ]
  },
  {
   "cell_type": "code",
   "execution_count": null,
   "id": "60d6c3ef",
   "metadata": {},
   "outputs": [],
   "source": [
    "city_counts = df['city'].value_counts()\n",
    "\n",
    "plt.figure(figsize=(8,5))\n",
    "barplot = sns.barplot(x=city_counts.index, y=city_counts.values)\n",
    "\n",
    "for index, value in enumerate(city_counts.values):\n",
    "    barplot.text(index, value, str(value), ha='center', va='bottom')\n",
    "# Configurar títulos y etiquetas\n",
    "plt.title('Cantidad de negocios por ciudad')\n",
    "plt.ylabel('Cantidad')\n",
    "plt.xlabel('Ciudad')\n",
    "plt.show()\n",
    "first_bar_color = barplot.patches[0].get_facecolor()\n",
    "print(f\"El color de la primera barra es: {first_bar_color}\")"
   ]
  },
  {
   "cell_type": "markdown",
   "id": "42f3fdba",
   "metadata": {},
   "source": [
    "## Principales categorías de negocios\n",
    "\n",
    "Se identifican las categorías de negocios más frecuentes en la región.\n"
   ]
  },
  {
   "cell_type": "code",
   "execution_count": null,
   "id": "1b221632",
   "metadata": {},
   "outputs": [],
   "source": [
    "top_categories = df['categoryName'].value_counts().head(10)\n",
    "\n",
    "sns.barplot(x=top_categories.values, y=top_categories.index)\n",
    "plt.title('Top 10 categorías de negocios')\n",
    "plt.xlabel('Cantidad')\n",
    "plt.show()\n"
   ]
  },
  {
   "cell_type": "markdown",
   "id": "790fdd81",
   "metadata": {},
   "source": [
    "## Análisis de calificaciones promedio por ciudad\n"
   ]
  },
  {
   "cell_type": "code",
   "execution_count": null,
   "id": "1e745985",
   "metadata": {},
   "outputs": [],
   "source": [
    "avg_rating = df.groupby('city')['rank'].mean().sort_values(ascending=False)\n",
    "avg_rating.plot(kind='barh', title='Calificación promedio por ciudad')\n",
    "plt.xlabel('Calificación promedio')\n",
    "plt.show()\n"
   ]
  },
  {
   "cell_type": "markdown",
   "id": "91d62d71",
   "metadata": {},
   "source": [
    "## Conclusiones\n",
    "\n",
    "- La ciudad X tiene la mayor cantidad de negocios registrados.\n",
    "- Las categorías más frecuentes son Restaurants, Grocery, etc.\n",
    "- Las calificaciones promedio muestran oportunidades de mejora en ciertas ciudades.\n",
    "\n",
    "Próximos pasos:\n",
    "- Profundizar en análisis de reviews.\n",
    "- Analizar correlaciones entre ubicación y puntuaciones.\n"
   ]
  },
  {
   "cell_type": "code",
   "execution_count": null,
   "id": "d6c8620f",
   "metadata": {},
   "outputs": [],
   "source": [
    "# Elegir una paleta armónica\n",
    "color_palette = px.colors.qualitative.Pastel\n",
    "\n",
    "fig = px.bar(\n",
    "    category_counts,\n",
    "    x='count',\n",
    "    y='website_category',\n",
    "    orientation='h',\n",
    "    color='website_category',\n",
    "    color_discrete_sequence=color_palette,\n",
    "    text='count'\n",
    ")\n",
    "\n",
    "fig.update_layout(\n",
    "    title='Distribución de Tipos de Presencia Online de Negocios Locales',\n",
    "    xaxis_title='Cantidad de Negocios',\n",
    "    yaxis_title='Tipo de Presencia Online',\n",
    "    showlegend=False,\n",
    "    plot_bgcolor='white',\n",
    "    font=dict(size=14)\n",
    ")\n",
    "\n",
    "fig.update_traces(\n",
    "    textposition='outside'\n",
    ")\n",
    "\n",
    "fig.show()\n"
   ]
  },
  {
   "cell_type": "code",
   "execution_count": null,
   "id": "45c02e1a",
   "metadata": {},
   "outputs": [],
   "source": [
    "import pandas as pd\n",
    "import plotly.express as px\n",
    "\n",
    "# Filtrar filas con website válido\n",
    "df_valid = df[~df['website'].isna() & (df['website'].str.strip() != '')]\n",
    "\n",
    "# Keywords\n",
    "keywords = [\n",
    "    \"facebook\",\n",
    "    \"mercadoshops\",\n",
    "    \"mercadolibre\",\n",
    "    \"tiendanube\",\n",
    "    \"wa.me\",\n",
    "    \"guia-dorada.com.ar\",\n",
    "    \"pedidosya.com.ar\",\n",
    "    \"region20\",\n",
    "    \"empretienda\",\n",
    "    \"gurugo\",\n",
    "    \"wixsite\",\n",
    "    \".gob\",\n",
    "    \".gov\",\n",
    "    \"tiendanegocio\",\n",
    "    \"sites.google.com\"\n",
    "]\n",
    "\n",
    "# Función para categorizar\n",
    "def categorize_website(site):\n",
    "    site_lower = str(site).lower()\n",
    "    for kw in keywords:\n",
    "        if kw in site_lower:\n",
    "            return kw\n",
    "    return 'ownDomain'\n",
    "\n",
    "# Aplicar categorización\n",
    "df_valid['website_category'] = df_valid['website'].apply(categorize_website)\n",
    "\n",
    "# Contar ocurrencias\n",
    "category_counts = df_valid['website_category'].value_counts().reset_index()\n",
    "category_counts.columns = ['website_category', 'count']\n",
    "category_counts = category_counts.sort_values(by='count', ascending=True)\n",
    "\n",
    "# Plotly\n",
    "color_palette = px.colors.qualitative.Pastel\n",
    "\n",
    "fig = px.bar(\n",
    "    category_counts,\n",
    "    x='count',\n",
    "    y='website_category',\n",
    "    orientation='h',\n",
    "    color='website_category',\n",
    "    color_discrete_sequence=color_palette,\n",
    "    text='count'\n",
    ")\n",
    "\n",
    "fig.update_layout(\n",
    "    title='Distribución de Tipos de Presencia Online de Negocios Locales',\n",
    "    xaxis_title='Cantidad de Negocios',\n",
    "    yaxis_title='Tipo de Presencia Online',\n",
    "    showlegend=False,\n",
    "    plot_bgcolor='white',\n",
    "    font=dict(size=14)\n",
    ")\n",
    "\n",
    "fig.update_traces(\n",
    "    textposition='outside'\n",
    ")\n",
    "\n",
    "fig.show()\n"
   ]
  },
  {
   "cell_type": "code",
   "execution_count": null,
   "id": "de1f8d1f",
   "metadata": {},
   "outputs": [],
   "source": [
    "# Agrupar por ciudad y categoría\n",
    "category_counts = (\n",
    "    df\n",
    "    .groupby(['city', 'categoryName'])\n",
    "    .size()\n",
    "    .reset_index(name='website_count')\n",
    ")\n",
    "category_counts = category_counts.sort_values(by='website_count', ascending=False)\n",
    "category_counts"
   ]
  },
  {
   "cell_type": "code",
   "execution_count": null,
   "id": "095c7586",
   "metadata": {},
   "outputs": [],
   "source": []
  },
  {
   "cell_type": "code",
   "execution_count": null,
   "id": "1ddf53aa",
   "metadata": {},
   "outputs": [],
   "source": []
  },
  {
   "cell_type": "markdown",
   "id": "850ba201",
   "metadata": {},
   "source": [
    "PASO 2 — Agrupar por ciudad y categoría\n",
    "Contamos cuántos websites hay en cada categoría dentro de cada ciudad.\n",
    "\n",
    "python\n",
    "Copiar\n",
    "Editar\n",
    "\n",
    "\n",
    "# Total de websites por ciudad\n",
    "total_by_city = (\n",
    "    city_category_counts\n",
    "    .groupby('city')['website_count']\n",
    "    .sum()\n",
    "    .reset_index(name='total_city')\n",
    ")\n",
    "\n",
    "# Merge para calcular el porcentaje\n",
    "city_category_counts = city_category_counts.merge(\n",
    "    total_by_city,\n",
    "    on='city',\n",
    "    how='left'\n",
    ")\n",
    "\n",
    "city_category_counts['percentage'] = (\n",
    "    city_category_counts['website_count'] / city_category_counts['total_city'] * 100\n",
    ").round(2)\n",
    "\n",
    "# Crear texto doble\n",
    "city_category_counts['text_label'] = (\n",
    "    \"N = \" + city_category_counts['website_count'].astype(str) +\n",
    "    \"<br>\" +\n",
    "    city_category_counts['percentage'].astype(str) + \" %\"\n",
    ")\n",
    "\n",
    "\n",
    "\n",
    "PASO 3 — Calcular % dentro de cada ciudad\n",
    "Queremos saber el porcentaje que cada categoría representa dentro de su ciudad.\n",
    "\n",
    "python\n",
    "Copiar\n",
    "Editar\n",
    "# Total de websites por ciudad\n",
    "total_by_city = (\n",
    "    city_category_counts\n",
    "    .groupby('city')['website_count']\n",
    "    .sum()\n",
    "    .reset_index(name='total_city')\n",
    ")\n",
    "\n",
    "# Merge para calcular el porcentaje\n",
    "city_category_counts = city_category_counts.merge(\n",
    "    total_by_city,\n",
    "    on='city',\n",
    "    how='left'\n",
    ")\n",
    "\n",
    "city_category_counts['percentage'] = (\n",
    "    city_category_counts['website_count'] / city_category_counts['total_city'] * 100\n",
    ").round(2)\n",
    "\n",
    "# Crear texto doble\n",
    "city_category_counts['text_label'] = (\n",
    "    \"N = \" + city_category_counts['website_count'].astype(str) +\n",
    "    \"<br>\" +\n",
    "    city_category_counts['percentage'].astype(str) + \" %\"\n",
    ")\n",
    "PASO 4 — Generar un gráfico por ciudad\n",
    "Ahora generamos un gráfico individual para cada ciudad.\n",
    "\n",
    "Ejemplo en código puro:\n",
    "\n",
    "python\n",
    "Copiar\n",
    "Editar\n",
    "import plotly.express as px\n",
    "\n",
    "cities = city_category_counts['city'].unique()\n",
    "\n",
    "for city in cities:\n",
    "    df_city = city_category_counts[city_category_counts['city'] == city]\n",
    "    \n",
    "    # Podés mostrar solo el top 10 de categorías\n",
    "    df_city_top = df_city.sort_values('website_count', ascending=False).head(10)\n",
    "    \n",
    "    fig = px.bar(\n",
    "        df_city_top.sort_values('website_count', ascending=True),\n",
    "        x='website_count',\n",
    "        y='categoryName',\n",
    "        orientation='h',\n",
    "        text='text_label',\n",
    "        color_discrete_sequence=px.colors.qualitative.Set3,\n",
    "        title=f\"Categorías con MÁS páginas web en {city}\",\n",
    "        hover_data={\n",
    "            'website_count': True,\n",
    "            'percentage': True,\n",
    "            'categoryName': False,\n",
    "            'text_label': False\n",
    "        },\n",
    "        labels={\n",
    "            'website_count': 'Cantidad de páginas web',\n",
    "            'categoryName': 'Categoría de Negocio'\n",
    "        },\n",
    "        height=500\n",
    "    )\n",
    "    \n",
    "    fig.update_layout(\n",
    "        plot_bgcolor=\"#FDF6F6\",\n",
    "        title={\n",
    "            'x': 0.5,\n",
    "            'xanchor': 'center',\n",
    "            'font': {\n",
    "                'family': 'Arial, sans-serif',\n",
    "                'size': 20,\n",
    "                'color': 'darkblue'\n",
    "            }\n",
    "        },\n",
    "        margin=dict(t=80, b=80, r=250),\n",
    "        legend=dict(\n",
    "            orientation='h',\n",
    "            yanchor='bottom',\n",
    "            y=-0.3,\n",
    "            xanchor='center',\n",
    "            x=0.5\n",
    "        )\n",
    "    )\n",
    "    \n",
    "    fig.update_traces(\n",
    "        textposition='inside',\n",
    "        insidetextanchor='middle'\n",
    "    )\n",
    "    \n",
    "    fig.show()\n",
    "\n",
    "\n",
    "    "
   ]
  },
  {
   "cell_type": "code",
   "execution_count": null,
   "id": "50bd1d15",
   "metadata": {},
   "outputs": [],
   "source": []
  }
 ],
 "metadata": {
  "kernelspec": {
   "display_name": "Python 3",
   "language": "python",
   "name": "python3"
  },
  "language_info": {
   "codemirror_mode": {
    "name": "ipython",
    "version": 3
   },
   "file_extension": ".py",
   "mimetype": "text/x-python",
   "name": "python",
   "nbconvert_exporter": "python",
   "pygments_lexer": "ipython3",
   "version": "3.13.7"
  }
 },
 "nbformat": 4,
 "nbformat_minor": 5
}
