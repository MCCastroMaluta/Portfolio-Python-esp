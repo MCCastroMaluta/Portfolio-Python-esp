{
 "cells": [
  {
   "cell_type": "markdown",
   "id": "b2c756ae",
   "metadata": {},
   "source": [
    "<div style=\"font-family: 'JetBrains Mono', monospace; font-size: 14px; color: #e2dbdbff; line-height: 1.6;\">\n",
    "\n",
    "## 📊 Exploratory Data Analysis (EDA)\n",
    "\n",
    "### ✅ Principales insights:\n",
    "\n",
    "- **25.29%** de los comercios tienen presencia web.\n",
    "- **Tandil** y **Olavarria** lideran en digitalización.\n",
    "- **Instagram 19.2%** y **Facebook 18.11** concentran la presencia en RRSS\n",
    "- Los comercios con sitio web tienen **mayor cantidad de reviews** en todas las ciudades.\n",
    "- El puntaje promedio se mantiene **alto y constante (4.0 - 4.4)**.\n",
    "- Categorías más comunes:\n",
    "  - \n",
    "  - \n",
    "  - \n",
    "  - \n",
    "\n",
    "---\n",
    "\n",
    "</div>"
   ]
  },
  {
   "cell_type": "code",
   "execution_count": 1,
   "id": "3d0d7487",
   "metadata": {},
   "outputs": [],
   "source": [
    "# Se importan las librerias necesarias para la manipulación y visualización de datos.\n",
    "import pandas as pd\n",
    "import os\n",
    "import numpy as np\n",
    "from glob import glob\n",
    "import glob\n",
    "import matplotlib.pyplot as plt\n",
    "import seaborn as sns\n",
    "\n",
    "# Configura pandas para mostrar todas las columnas del DataFrame al mostrarlo, sin recorte visual.\n",
    "pd.set_option('display.max_columns', None) "
   ]
  },
  {
   "cell_type": "code",
   "execution_count": 2,
   "id": "4cdeb340",
   "metadata": {},
   "outputs": [],
   "source": [
    "# Carga de datos desde archivo CSV\n",
    "df = pd.read_csv('../CleanData/Regional.csv')"
   ]
  },
  {
   "cell_type": "code",
   "execution_count": 3,
   "id": "2d47040a",
   "metadata": {},
   "outputs": [
    {
     "data": {
      "text/plain": [
       "(5859, 16)"
      ]
     },
     "execution_count": 3,
     "metadata": {},
     "output_type": "execute_result"
    }
   ],
   "source": [
    "# Obtenemos número de filas y columnas del DataFrame\n",
    "df.shape"
   ]
  },
  {
   "cell_type": "code",
   "execution_count": 4,
   "id": "f4331b09",
   "metadata": {},
   "outputs": [
    {
     "data": {
      "text/plain": [
       "93744"
      ]
     },
     "execution_count": 4,
     "metadata": {},
     "output_type": "execute_result"
    }
   ],
   "source": [
    "# Obtenemos el número de elementos en el DataFrame\n",
    "df.size"
   ]
  },
  {
   "cell_type": "code",
   "execution_count": 5,
   "id": "4b8f2179",
   "metadata": {},
   "outputs": [
    {
     "name": "stdout",
     "output_type": "stream",
     "text": [
      "<class 'pandas.core.frame.DataFrame'>\n",
      "RangeIndex: 5859 entries, 0 to 5858\n",
      "Data columns (total 16 columns):\n",
      " #   Column        Non-Null Count  Dtype  \n",
      "---  ------        --------------  -----  \n",
      " 0   title         5859 non-null   object \n",
      " 1   categoryName  5859 non-null   object \n",
      " 2   website       5859 non-null   object \n",
      " 3   street        5859 non-null   object \n",
      " 4   phone         5859 non-null   object \n",
      " 5   city          5859 non-null   object \n",
      " 6   state         5859 non-null   object \n",
      " 7   location/lat  5859 non-null   float64\n",
      " 8   location/lng  5859 non-null   float64\n",
      " 9   totalScore    5859 non-null   float64\n",
      " 10  rank          5859 non-null   int64  \n",
      " 11  imageUrl      5859 non-null   object \n",
      " 12  imagesCount   5859 non-null   float64\n",
      " 13  reviewsCount  5859 non-null   int64  \n",
      " 14  scrapedAt     5859 non-null   object \n",
      " 15  searchString  5859 non-null   object \n",
      "dtypes: float64(4), int64(2), object(10)\n",
      "memory usage: 732.5+ KB\n"
     ]
    }
   ],
   "source": [
    "# Información del DataFrame: \n",
    "# Número de filas y columnas, nombres y tipos de datos de las columnas,\n",
    "# valores no nulos en cada columna, uso de memoria\n",
    "df.info()"
   ]
  },
  {
   "cell_type": "code",
   "execution_count": 6,
   "id": "b3e9ef85",
   "metadata": {},
   "outputs": [
    {
     "data": {
      "application/vnd.microsoft.datawrangler.viewer.v0+json": {
       "columns": [
        {
         "name": "index",
         "rawType": "object",
         "type": "string"
        },
        {
         "name": "0",
         "rawType": "object",
         "type": "unknown"
        }
       ],
       "ref": "7cf36d46-0acd-4d80-8f8a-5981ccd5bbcb",
       "rows": [
        [
         "title",
         "object"
        ],
        [
         "categoryName",
         "object"
        ],
        [
         "website",
         "object"
        ],
        [
         "street",
         "object"
        ],
        [
         "phone",
         "object"
        ],
        [
         "city",
         "object"
        ],
        [
         "state",
         "object"
        ],
        [
         "location/lat",
         "float64"
        ],
        [
         "location/lng",
         "float64"
        ],
        [
         "totalScore",
         "float64"
        ],
        [
         "rank",
         "int64"
        ],
        [
         "imageUrl",
         "object"
        ],
        [
         "imagesCount",
         "float64"
        ],
        [
         "reviewsCount",
         "int64"
        ],
        [
         "scrapedAt",
         "object"
        ],
        [
         "searchString",
         "object"
        ]
       ],
       "shape": {
        "columns": 1,
        "rows": 16
       }
      },
      "text/plain": [
       "title            object\n",
       "categoryName     object\n",
       "website          object\n",
       "street           object\n",
       "phone            object\n",
       "city             object\n",
       "state            object\n",
       "location/lat    float64\n",
       "location/lng    float64\n",
       "totalScore      float64\n",
       "rank              int64\n",
       "imageUrl         object\n",
       "imagesCount     float64\n",
       "reviewsCount      int64\n",
       "scrapedAt        object\n",
       "searchString     object\n",
       "dtype: object"
      ]
     },
     "execution_count": 6,
     "metadata": {},
     "output_type": "execute_result"
    }
   ],
   "source": [
    "# Análisis de tipos de datos para identificar variables numéricas y categóricas\n",
    "df.dtypes"
   ]
  },
  {
   "cell_type": "code",
   "execution_count": 7,
   "id": "cc02580f",
   "metadata": {},
   "outputs": [
    {
     "data": {
      "application/vnd.microsoft.datawrangler.viewer.v0+json": {
       "columns": [
        {
         "name": "index",
         "rawType": "int64",
         "type": "integer"
        },
        {
         "name": "scrapedAt",
         "rawType": "datetime64[ns]",
         "type": "datetime"
        }
       ],
       "ref": "d9502088-3088-435a-ba9e-6292d520d1ea",
       "rows": [
        [
         "0",
         "2025-06-15 22:56:55"
        ],
        [
         "1",
         "2025-06-15 22:56:54"
        ],
        [
         "2",
         "2025-06-15 22:56:57"
        ],
        [
         "3",
         "2025-06-15 22:56:57"
        ],
        [
         "4",
         "2025-06-15 22:56:58"
        ],
        [
         "5",
         "2025-06-15 22:56:58"
        ],
        [
         "6",
         "2025-06-15 22:56:58"
        ],
        [
         "7",
         "2025-06-15 22:56:58"
        ],
        [
         "8",
         "2025-06-15 22:56:58"
        ],
        [
         "9",
         "2025-06-15 22:56:58"
        ],
        [
         "10",
         "2025-06-15 22:56:57"
        ],
        [
         "11",
         "2025-06-15 22:57:00"
        ],
        [
         "12",
         "2025-06-15 22:57:00"
        ],
        [
         "13",
         "2025-06-15 22:57:00"
        ],
        [
         "14",
         "2025-06-15 22:57:00"
        ],
        [
         "15",
         "2025-06-15 22:57:00"
        ],
        [
         "16",
         "2025-06-15 22:57:00"
        ],
        [
         "17",
         "2025-06-15 22:57:00"
        ],
        [
         "18",
         "2025-06-15 22:57:01"
        ],
        [
         "19",
         "2025-06-15 22:57:01"
        ],
        [
         "20",
         "2025-06-15 22:57:01"
        ],
        [
         "21",
         "2025-06-15 22:57:01"
        ],
        [
         "22",
         "2025-06-15 22:57:01"
        ],
        [
         "23",
         "2025-06-15 22:57:01"
        ],
        [
         "24",
         "2025-06-15 22:57:01"
        ],
        [
         "25",
         "2025-06-15 22:57:01"
        ],
        [
         "26",
         "2025-06-15 22:57:01"
        ],
        [
         "27",
         "2025-06-15 22:57:00"
        ],
        [
         "28",
         "2025-06-15 22:57:00"
        ],
        [
         "29",
         "2025-06-15 22:57:00"
        ],
        [
         "30",
         "2025-06-15 22:57:00"
        ],
        [
         "31",
         "2025-06-15 22:57:00"
        ],
        [
         "32",
         "2025-06-15 22:57:00"
        ],
        [
         "33",
         "2025-06-15 22:56:57"
        ],
        [
         "34",
         "2025-06-15 22:56:57"
        ],
        [
         "35",
         "2025-06-15 22:56:57"
        ],
        [
         "36",
         "2025-06-15 22:56:57"
        ],
        [
         "37",
         "2025-06-15 22:56:57"
        ],
        [
         "38",
         "2025-06-15 22:56:57"
        ],
        [
         "39",
         "2025-06-15 22:56:57"
        ],
        [
         "40",
         "2025-06-15 22:56:57"
        ],
        [
         "41",
         "2025-06-15 22:56:57"
        ],
        [
         "42",
         "2025-06-15 22:56:57"
        ],
        [
         "43",
         "2025-06-15 22:56:57"
        ],
        [
         "44",
         "2025-06-15 22:56:57"
        ],
        [
         "45",
         "2025-06-15 22:56:57"
        ],
        [
         "46",
         "2025-06-15 22:56:57"
        ],
        [
         "47",
         "2025-06-15 22:56:57"
        ],
        [
         "48",
         "2025-06-15 22:56:57"
        ],
        [
         "49",
         "2025-06-15 22:56:57"
        ]
       ],
       "shape": {
        "columns": 1,
        "rows": 5859
       }
      },
      "text/plain": [
       "0      2025-06-15 22:56:55\n",
       "1      2025-06-15 22:56:54\n",
       "2      2025-06-15 22:56:57\n",
       "3      2025-06-15 22:56:57\n",
       "4      2025-06-15 22:56:58\n",
       "               ...        \n",
       "5854   2025-07-30 15:45:05\n",
       "5855   2025-07-30 15:45:19\n",
       "5856   2025-07-30 15:45:19\n",
       "5857   2025-07-30 15:45:06\n",
       "5858   2025-07-30 15:45:04\n",
       "Name: scrapedAt, Length: 5859, dtype: datetime64[ns]"
      ]
     },
     "execution_count": 7,
     "metadata": {},
     "output_type": "execute_result"
    }
   ],
   "source": [
    "# Convertir fecha de scraping manteniendo formato datetime\n",
    "# Esto permite análisis temporales futuros (ej: comparar con scraping en 6 meses)\n",
    "df['scrapedAt'] = pd.to_datetime(\n",
    "    df['scrapedAt'], \n",
    "    errors='coerce',  # Maneja fechas inválidas sin romper el código\n",
    "    utc=True          # Estandariza zona horaria para comparaciones\n",
    ").dt.floor('s').dt.tz_localize(None)  # Elimina timezone para visualización limpia\n",
    "df['scrapedAt']"
   ]
  },
  {
   "cell_type": "code",
   "execution_count": 8,
   "id": "165a7743",
   "metadata": {},
   "outputs": [
    {
     "data": {
      "application/vnd.microsoft.datawrangler.viewer.v0+json": {
       "columns": [
        {
         "name": "index",
         "rawType": "int64",
         "type": "integer"
        },
        {
         "name": "title",
         "rawType": "object",
         "type": "string"
        },
        {
         "name": "categoryName",
         "rawType": "object",
         "type": "string"
        },
        {
         "name": "website",
         "rawType": "object",
         "type": "string"
        },
        {
         "name": "street",
         "rawType": "object",
         "type": "string"
        },
        {
         "name": "phone",
         "rawType": "object",
         "type": "string"
        },
        {
         "name": "city",
         "rawType": "object",
         "type": "string"
        },
        {
         "name": "state",
         "rawType": "object",
         "type": "string"
        },
        {
         "name": "location/lat",
         "rawType": "float64",
         "type": "float"
        },
        {
         "name": "location/lng",
         "rawType": "float64",
         "type": "float"
        },
        {
         "name": "totalScore",
         "rawType": "float64",
         "type": "float"
        },
        {
         "name": "rank",
         "rawType": "int64",
         "type": "integer"
        },
        {
         "name": "imageUrl",
         "rawType": "object",
         "type": "string"
        },
        {
         "name": "imagesCount",
         "rawType": "float64",
         "type": "float"
        },
        {
         "name": "reviewsCount",
         "rawType": "int64",
         "type": "integer"
        },
        {
         "name": "scrapedAt",
         "rawType": "datetime64[ns]",
         "type": "datetime"
        },
        {
         "name": "searchString",
         "rawType": "object",
         "type": "string"
        }
       ],
       "ref": "117a243f-7676-41fd-8633-1c73d118a1e6",
       "rows": [
        [
         "0",
         "Dti - Azul",
         "Soporte Y Servicios Informáticos",
         "Incomplete",
         "Av. Juan Domingo Perón 525",
         "+54 9 2281 42-7066",
         "Azul",
         "Provincia de Buenos Aires",
         "-36.7820062",
         "-59.8654974",
         "0.0",
         "22",
         "https://streetviewpixels-pa.googleapis.com/v1/thumbnail?panoid=zL2SLXDLlIyLOOkG7pxFlg&cb_client=search.gws-prod.gps&w=408&h=240&yaw=231.62384&pitch=0&thumbfov=100",
         "1.0",
         "0",
         "2025-06-15 22:56:55",
         "Tecnologia"
        ],
        [
         "1",
         "Tecno Computacion",
         "Tienda De Móviles",
         "http://www.tecnocomputacionazul.com/",
         "Lamadrid 33",
         "+54 9 2281 65-7938",
         "Azul",
         "Provincia de Buenos Aires",
         "-36.7649137",
         "-59.8624039",
         "4.6",
         "3",
         "https://lh3.googleusercontent.com/p/AF1QipP9GgrGu9iOG5xNOUsuEUj6fdq4j3xvaLptITLH=w408-h408-k-no",
         "12.0",
         "7",
         "2025-06-15 22:56:54",
         "Tecnologia"
        ],
        [
         "2",
         "Ingeniero Marcelo Edgardo Cornec",
         "Ingeniero",
         "Incomplete",
         "Av. Juan Domingo Perón 622",
         "+54 9 2281 42-6984",
         "Azul",
         "Provincia de Buenos Aires",
         "-36.7832779",
         "-59.8635941",
         "5.0",
         "20",
         "https://lh3.googleusercontent.com/p/AF1QipN3mw2facF8IFrTvwJ_gdFhsNWQrFQi4pazN5RN=w426-h240-k-no",
         "13.0",
         "3",
         "2025-06-15 22:56:57",
         "Comercio"
        ],
        [
         "3",
         "La Esquina",
         "Kiosco",
         "Incomplete",
         "7300, Gral. Paz 1500",
         "+54 9 2281 36-0736",
         "Azul",
         "Provincia de Buenos Aires",
         "-36.7980904",
         "-59.8535248",
         "3.7",
         "19",
         "https://lh3.googleusercontent.com/p/AF1QipP1o8LwpKf0khxVBfihAWLOI4K4X00X3SCtGAg=w408-h544-k-no",
         "1.0",
         "3",
         "2025-06-15 22:56:57",
         "Comercio"
        ],
        [
         "4",
         "Vidrieria 25 De Mayo De Jose Canalicchio",
         "Comercio",
         "Incomplete",
         "Guaminí 610",
         "+54 9 2281 53-7036",
         "Azul",
         "Provincia de Buenos Aires",
         "-36.7855521",
         "-59.8671447",
         "4.2",
         "40",
         "https://lh3.googleusercontent.com/p/AF1QipM1o-ulafI-mAMROrwDJeAv15XDqrWz-t4wzI86=w426-h240-k-no",
         "5.0",
         "9",
         "2025-06-15 22:56:58",
         "Comercio"
        ],
        [
         "5",
         "El Almacén",
         "Tienda De Ropa",
         "Incomplete",
         "Av. Mitre 901",
         "+54 9 2281 43-6001",
         "Azul",
         "Provincia de Buenos Aires",
         "-36.7820645",
         "-59.8535276",
         "4.1",
         "37",
         "https://lh3.googleusercontent.com/gps-cs-s/AC9h4nqJ1zIBol2hSMqViHOfQ4nImOXxIbkIgBdKGU_mDledq073-DS2ESZ6a9J8zJbFBVcYlP_NC7ylDTrU9a76gRU5qeBFyq79Kl8GzNNI_mskXAlESWWmTl8R-huNvIgRMaK2F812zQ=w408-h306-k-no",
         "2.0",
         "15",
         "2025-06-15 22:56:58",
         "Comercio"
        ],
        [
         "6",
         "Tus Sorrentinos",
         "Comercio",
         "Incomplete",
         "España 418",
         "+54 9 2281 56-4122",
         "Azul",
         "Provincia de Buenos Aires",
         "-36.7793544",
         "-59.853713",
         "0.0",
         "36",
         "https://lh3.googleusercontent.com/p/AF1QipPp_by7_7ex8dl9zbGenhIxYdoDgTEiYRtP-AWu=w408-h906-k-no",
         "22.0",
         "0",
         "2025-06-15 22:56:58",
         "Comercio"
        ],
        [
         "7",
         "Venden Y Permutas",
         "Tienda General",
         "Incomplete",
         "Gral. Rivas 787",
         "Incomplete",
         "Azul",
         "Provincia de Buenos Aires",
         "-36.7887673",
         "-59.8650307",
         "0.0",
         "34",
         "https://streetviewpixels-pa.googleapis.com/v1/thumbnail?panoid=S1kTFpHnfYoL20C_61-NkA&cb_client=search.gws-prod.gps&w=408&h=240&yaw=198.58519&pitch=0&thumbfov=100",
         "1.0",
         "0",
         "2025-06-15 22:56:58",
         "Comercio"
        ],
        [
         "8",
         "Minimercado La Esquina De Alejandro Y Silvina",
         "Comercio",
         "Incomplete",
         "España 1699",
         "Incomplete",
         "Azul",
         "Provincia de Buenos Aires",
         "-36.7964878",
         "-59.8737896",
         "4.3",
         "29",
         "https://lh3.googleusercontent.com/gps-cs-s/AC9h4nqf9tsq_AytWExGgJrpTk-L5SI1FmirJVvwRjC9ojTeSPOq6No9fkPU0XwnPnweLQIPGS1cYMnUkXjZSSbWHXJM-5agZX8IO8O6YdfxK7B9pWqmEzDTfcSIynJmCjEkKcpC9s8Hz9Ucyb5x=w408-h306-k-no",
         "20.0",
         "22",
         "2025-06-15 22:56:58",
         "Comercio"
        ],
        [
         "9",
         "Kiosco Pasaje Del Parque",
         "Comercio",
         "Incomplete",
         "Pje. 25 de Abril",
         "+54 9 2281 52-6194",
         "Azul",
         "Provincia de Buenos Aires",
         "-36.7818313",
         "-59.8750316",
         "5.0",
         "23",
         "https://lh3.googleusercontent.com/gps-cs-s/AC9h4nrTY3uDxVEBPRv2VqYKJaV-GoWN44PK80cq9eCCZxf0BdsC3IIWztwGi8v8yX136XorfRDmD_52j0ECvAdutl4_BLUUwCM-JpnySErvCbimv3ztqqXm4Km6u_xq8IvG-_Yx57VYEWNB1ZdW=w408-h725-k-no",
         "6.0",
         "1",
         "2025-06-15 22:56:58",
         "Comercio"
        ]
       ],
       "shape": {
        "columns": 16,
        "rows": 10
       }
      },
      "text/html": [
       "<div>\n",
       "<style scoped>\n",
       "    .dataframe tbody tr th:only-of-type {\n",
       "        vertical-align: middle;\n",
       "    }\n",
       "\n",
       "    .dataframe tbody tr th {\n",
       "        vertical-align: top;\n",
       "    }\n",
       "\n",
       "    .dataframe thead th {\n",
       "        text-align: right;\n",
       "    }\n",
       "</style>\n",
       "<table border=\"1\" class=\"dataframe\">\n",
       "  <thead>\n",
       "    <tr style=\"text-align: right;\">\n",
       "      <th></th>\n",
       "      <th>title</th>\n",
       "      <th>categoryName</th>\n",
       "      <th>website</th>\n",
       "      <th>street</th>\n",
       "      <th>phone</th>\n",
       "      <th>city</th>\n",
       "      <th>state</th>\n",
       "      <th>location/lat</th>\n",
       "      <th>location/lng</th>\n",
       "      <th>totalScore</th>\n",
       "      <th>rank</th>\n",
       "      <th>imageUrl</th>\n",
       "      <th>imagesCount</th>\n",
       "      <th>reviewsCount</th>\n",
       "      <th>scrapedAt</th>\n",
       "      <th>searchString</th>\n",
       "    </tr>\n",
       "  </thead>\n",
       "  <tbody>\n",
       "    <tr>\n",
       "      <th>0</th>\n",
       "      <td>Dti - Azul</td>\n",
       "      <td>Soporte Y Servicios Informáticos</td>\n",
       "      <td>Incomplete</td>\n",
       "      <td>Av. Juan Domingo Perón 525</td>\n",
       "      <td>+54 9 2281 42-7066</td>\n",
       "      <td>Azul</td>\n",
       "      <td>Provincia de Buenos Aires</td>\n",
       "      <td>-36.782006</td>\n",
       "      <td>-59.865497</td>\n",
       "      <td>0.0</td>\n",
       "      <td>22</td>\n",
       "      <td>https://streetviewpixels-pa.googleapis.com/v1/...</td>\n",
       "      <td>1.0</td>\n",
       "      <td>0</td>\n",
       "      <td>2025-06-15 22:56:55</td>\n",
       "      <td>Tecnologia</td>\n",
       "    </tr>\n",
       "    <tr>\n",
       "      <th>1</th>\n",
       "      <td>Tecno Computacion</td>\n",
       "      <td>Tienda De Móviles</td>\n",
       "      <td>http://www.tecnocomputacionazul.com/</td>\n",
       "      <td>Lamadrid 33</td>\n",
       "      <td>+54 9 2281 65-7938</td>\n",
       "      <td>Azul</td>\n",
       "      <td>Provincia de Buenos Aires</td>\n",
       "      <td>-36.764914</td>\n",
       "      <td>-59.862404</td>\n",
       "      <td>4.6</td>\n",
       "      <td>3</td>\n",
       "      <td>https://lh3.googleusercontent.com/p/AF1QipP9Gg...</td>\n",
       "      <td>12.0</td>\n",
       "      <td>7</td>\n",
       "      <td>2025-06-15 22:56:54</td>\n",
       "      <td>Tecnologia</td>\n",
       "    </tr>\n",
       "    <tr>\n",
       "      <th>2</th>\n",
       "      <td>Ingeniero Marcelo Edgardo Cornec</td>\n",
       "      <td>Ingeniero</td>\n",
       "      <td>Incomplete</td>\n",
       "      <td>Av. Juan Domingo Perón 622</td>\n",
       "      <td>+54 9 2281 42-6984</td>\n",
       "      <td>Azul</td>\n",
       "      <td>Provincia de Buenos Aires</td>\n",
       "      <td>-36.783278</td>\n",
       "      <td>-59.863594</td>\n",
       "      <td>5.0</td>\n",
       "      <td>20</td>\n",
       "      <td>https://lh3.googleusercontent.com/p/AF1QipN3mw...</td>\n",
       "      <td>13.0</td>\n",
       "      <td>3</td>\n",
       "      <td>2025-06-15 22:56:57</td>\n",
       "      <td>Comercio</td>\n",
       "    </tr>\n",
       "    <tr>\n",
       "      <th>3</th>\n",
       "      <td>La Esquina</td>\n",
       "      <td>Kiosco</td>\n",
       "      <td>Incomplete</td>\n",
       "      <td>7300, Gral. Paz 1500</td>\n",
       "      <td>+54 9 2281 36-0736</td>\n",
       "      <td>Azul</td>\n",
       "      <td>Provincia de Buenos Aires</td>\n",
       "      <td>-36.798090</td>\n",
       "      <td>-59.853525</td>\n",
       "      <td>3.7</td>\n",
       "      <td>19</td>\n",
       "      <td>https://lh3.googleusercontent.com/p/AF1QipP1o8...</td>\n",
       "      <td>1.0</td>\n",
       "      <td>3</td>\n",
       "      <td>2025-06-15 22:56:57</td>\n",
       "      <td>Comercio</td>\n",
       "    </tr>\n",
       "    <tr>\n",
       "      <th>4</th>\n",
       "      <td>Vidrieria 25 De Mayo De Jose Canalicchio</td>\n",
       "      <td>Comercio</td>\n",
       "      <td>Incomplete</td>\n",
       "      <td>Guaminí 610</td>\n",
       "      <td>+54 9 2281 53-7036</td>\n",
       "      <td>Azul</td>\n",
       "      <td>Provincia de Buenos Aires</td>\n",
       "      <td>-36.785552</td>\n",
       "      <td>-59.867145</td>\n",
       "      <td>4.2</td>\n",
       "      <td>40</td>\n",
       "      <td>https://lh3.googleusercontent.com/p/AF1QipM1o-...</td>\n",
       "      <td>5.0</td>\n",
       "      <td>9</td>\n",
       "      <td>2025-06-15 22:56:58</td>\n",
       "      <td>Comercio</td>\n",
       "    </tr>\n",
       "    <tr>\n",
       "      <th>5</th>\n",
       "      <td>El Almacén</td>\n",
       "      <td>Tienda De Ropa</td>\n",
       "      <td>Incomplete</td>\n",
       "      <td>Av. Mitre 901</td>\n",
       "      <td>+54 9 2281 43-6001</td>\n",
       "      <td>Azul</td>\n",
       "      <td>Provincia de Buenos Aires</td>\n",
       "      <td>-36.782064</td>\n",
       "      <td>-59.853528</td>\n",
       "      <td>4.1</td>\n",
       "      <td>37</td>\n",
       "      <td>https://lh3.googleusercontent.com/gps-cs-s/AC9...</td>\n",
       "      <td>2.0</td>\n",
       "      <td>15</td>\n",
       "      <td>2025-06-15 22:56:58</td>\n",
       "      <td>Comercio</td>\n",
       "    </tr>\n",
       "    <tr>\n",
       "      <th>6</th>\n",
       "      <td>Tus Sorrentinos</td>\n",
       "      <td>Comercio</td>\n",
       "      <td>Incomplete</td>\n",
       "      <td>España 418</td>\n",
       "      <td>+54 9 2281 56-4122</td>\n",
       "      <td>Azul</td>\n",
       "      <td>Provincia de Buenos Aires</td>\n",
       "      <td>-36.779354</td>\n",
       "      <td>-59.853713</td>\n",
       "      <td>0.0</td>\n",
       "      <td>36</td>\n",
       "      <td>https://lh3.googleusercontent.com/p/AF1QipPp_b...</td>\n",
       "      <td>22.0</td>\n",
       "      <td>0</td>\n",
       "      <td>2025-06-15 22:56:58</td>\n",
       "      <td>Comercio</td>\n",
       "    </tr>\n",
       "    <tr>\n",
       "      <th>7</th>\n",
       "      <td>Venden Y Permutas</td>\n",
       "      <td>Tienda General</td>\n",
       "      <td>Incomplete</td>\n",
       "      <td>Gral. Rivas 787</td>\n",
       "      <td>Incomplete</td>\n",
       "      <td>Azul</td>\n",
       "      <td>Provincia de Buenos Aires</td>\n",
       "      <td>-36.788767</td>\n",
       "      <td>-59.865031</td>\n",
       "      <td>0.0</td>\n",
       "      <td>34</td>\n",
       "      <td>https://streetviewpixels-pa.googleapis.com/v1/...</td>\n",
       "      <td>1.0</td>\n",
       "      <td>0</td>\n",
       "      <td>2025-06-15 22:56:58</td>\n",
       "      <td>Comercio</td>\n",
       "    </tr>\n",
       "    <tr>\n",
       "      <th>8</th>\n",
       "      <td>Minimercado La Esquina De Alejandro Y Silvina</td>\n",
       "      <td>Comercio</td>\n",
       "      <td>Incomplete</td>\n",
       "      <td>España 1699</td>\n",
       "      <td>Incomplete</td>\n",
       "      <td>Azul</td>\n",
       "      <td>Provincia de Buenos Aires</td>\n",
       "      <td>-36.796488</td>\n",
       "      <td>-59.873790</td>\n",
       "      <td>4.3</td>\n",
       "      <td>29</td>\n",
       "      <td>https://lh3.googleusercontent.com/gps-cs-s/AC9...</td>\n",
       "      <td>20.0</td>\n",
       "      <td>22</td>\n",
       "      <td>2025-06-15 22:56:58</td>\n",
       "      <td>Comercio</td>\n",
       "    </tr>\n",
       "    <tr>\n",
       "      <th>9</th>\n",
       "      <td>Kiosco Pasaje Del Parque</td>\n",
       "      <td>Comercio</td>\n",
       "      <td>Incomplete</td>\n",
       "      <td>Pje. 25 de Abril</td>\n",
       "      <td>+54 9 2281 52-6194</td>\n",
       "      <td>Azul</td>\n",
       "      <td>Provincia de Buenos Aires</td>\n",
       "      <td>-36.781831</td>\n",
       "      <td>-59.875032</td>\n",
       "      <td>5.0</td>\n",
       "      <td>23</td>\n",
       "      <td>https://lh3.googleusercontent.com/gps-cs-s/AC9...</td>\n",
       "      <td>6.0</td>\n",
       "      <td>1</td>\n",
       "      <td>2025-06-15 22:56:58</td>\n",
       "      <td>Comercio</td>\n",
       "    </tr>\n",
       "  </tbody>\n",
       "</table>\n",
       "</div>"
      ],
      "text/plain": [
       "                                           title  \\\n",
       "0                                     Dti - Azul   \n",
       "1                              Tecno Computacion   \n",
       "2               Ingeniero Marcelo Edgardo Cornec   \n",
       "3                                     La Esquina   \n",
       "4       Vidrieria 25 De Mayo De Jose Canalicchio   \n",
       "5                                     El Almacén   \n",
       "6                                Tus Sorrentinos   \n",
       "7                              Venden Y Permutas   \n",
       "8  Minimercado La Esquina De Alejandro Y Silvina   \n",
       "9                       Kiosco Pasaje Del Parque   \n",
       "\n",
       "                       categoryName                               website  \\\n",
       "0  Soporte Y Servicios Informáticos                            Incomplete   \n",
       "1                 Tienda De Móviles  http://www.tecnocomputacionazul.com/   \n",
       "2                         Ingeniero                            Incomplete   \n",
       "3                            Kiosco                            Incomplete   \n",
       "4                          Comercio                            Incomplete   \n",
       "5                    Tienda De Ropa                            Incomplete   \n",
       "6                          Comercio                            Incomplete   \n",
       "7                    Tienda General                            Incomplete   \n",
       "8                          Comercio                            Incomplete   \n",
       "9                          Comercio                            Incomplete   \n",
       "\n",
       "                       street               phone  city  \\\n",
       "0  Av. Juan Domingo Perón 525  +54 9 2281 42-7066  Azul   \n",
       "1                 Lamadrid 33  +54 9 2281 65-7938  Azul   \n",
       "2  Av. Juan Domingo Perón 622  +54 9 2281 42-6984  Azul   \n",
       "3        7300, Gral. Paz 1500  +54 9 2281 36-0736  Azul   \n",
       "4                 Guaminí 610  +54 9 2281 53-7036  Azul   \n",
       "5               Av. Mitre 901  +54 9 2281 43-6001  Azul   \n",
       "6                  España 418  +54 9 2281 56-4122  Azul   \n",
       "7             Gral. Rivas 787          Incomplete  Azul   \n",
       "8                 España 1699          Incomplete  Azul   \n",
       "9            Pje. 25 de Abril  +54 9 2281 52-6194  Azul   \n",
       "\n",
       "                       state  location/lat  location/lng  totalScore  rank  \\\n",
       "0  Provincia de Buenos Aires    -36.782006    -59.865497         0.0    22   \n",
       "1  Provincia de Buenos Aires    -36.764914    -59.862404         4.6     3   \n",
       "2  Provincia de Buenos Aires    -36.783278    -59.863594         5.0    20   \n",
       "3  Provincia de Buenos Aires    -36.798090    -59.853525         3.7    19   \n",
       "4  Provincia de Buenos Aires    -36.785552    -59.867145         4.2    40   \n",
       "5  Provincia de Buenos Aires    -36.782064    -59.853528         4.1    37   \n",
       "6  Provincia de Buenos Aires    -36.779354    -59.853713         0.0    36   \n",
       "7  Provincia de Buenos Aires    -36.788767    -59.865031         0.0    34   \n",
       "8  Provincia de Buenos Aires    -36.796488    -59.873790         4.3    29   \n",
       "9  Provincia de Buenos Aires    -36.781831    -59.875032         5.0    23   \n",
       "\n",
       "                                            imageUrl  imagesCount  \\\n",
       "0  https://streetviewpixels-pa.googleapis.com/v1/...          1.0   \n",
       "1  https://lh3.googleusercontent.com/p/AF1QipP9Gg...         12.0   \n",
       "2  https://lh3.googleusercontent.com/p/AF1QipN3mw...         13.0   \n",
       "3  https://lh3.googleusercontent.com/p/AF1QipP1o8...          1.0   \n",
       "4  https://lh3.googleusercontent.com/p/AF1QipM1o-...          5.0   \n",
       "5  https://lh3.googleusercontent.com/gps-cs-s/AC9...          2.0   \n",
       "6  https://lh3.googleusercontent.com/p/AF1QipPp_b...         22.0   \n",
       "7  https://streetviewpixels-pa.googleapis.com/v1/...          1.0   \n",
       "8  https://lh3.googleusercontent.com/gps-cs-s/AC9...         20.0   \n",
       "9  https://lh3.googleusercontent.com/gps-cs-s/AC9...          6.0   \n",
       "\n",
       "   reviewsCount           scrapedAt searchString  \n",
       "0             0 2025-06-15 22:56:55   Tecnologia  \n",
       "1             7 2025-06-15 22:56:54   Tecnologia  \n",
       "2             3 2025-06-15 22:56:57     Comercio  \n",
       "3             3 2025-06-15 22:56:57     Comercio  \n",
       "4             9 2025-06-15 22:56:58     Comercio  \n",
       "5            15 2025-06-15 22:56:58     Comercio  \n",
       "6             0 2025-06-15 22:56:58     Comercio  \n",
       "7             0 2025-06-15 22:56:58     Comercio  \n",
       "8            22 2025-06-15 22:56:58     Comercio  \n",
       "9             1 2025-06-15 22:56:58     Comercio  "
      ]
     },
     "execution_count": 8,
     "metadata": {},
     "output_type": "execute_result"
    }
   ],
   "source": [
    "# # Visualizar las primeras 10 filas para entender la estructura\n",
    "df.head(10)"
   ]
  },
  {
   "cell_type": "code",
   "execution_count": 9,
   "id": "2332fdd0",
   "metadata": {},
   "outputs": [
    {
     "data": {
      "application/vnd.microsoft.datawrangler.viewer.v0+json": {
       "columns": [
        {
         "name": "index",
         "rawType": "int64",
         "type": "integer"
        },
        {
         "name": "title",
         "rawType": "object",
         "type": "string"
        },
        {
         "name": "categoryName",
         "rawType": "object",
         "type": "string"
        },
        {
         "name": "website",
         "rawType": "object",
         "type": "string"
        },
        {
         "name": "street",
         "rawType": "object",
         "type": "string"
        },
        {
         "name": "phone",
         "rawType": "object",
         "type": "string"
        },
        {
         "name": "city",
         "rawType": "object",
         "type": "string"
        },
        {
         "name": "state",
         "rawType": "object",
         "type": "string"
        },
        {
         "name": "location/lat",
         "rawType": "float64",
         "type": "float"
        },
        {
         "name": "location/lng",
         "rawType": "float64",
         "type": "float"
        },
        {
         "name": "totalScore",
         "rawType": "float64",
         "type": "float"
        },
        {
         "name": "rank",
         "rawType": "int64",
         "type": "integer"
        },
        {
         "name": "imageUrl",
         "rawType": "object",
         "type": "string"
        },
        {
         "name": "imagesCount",
         "rawType": "float64",
         "type": "float"
        },
        {
         "name": "reviewsCount",
         "rawType": "int64",
         "type": "integer"
        },
        {
         "name": "scrapedAt",
         "rawType": "datetime64[ns]",
         "type": "datetime"
        },
        {
         "name": "searchString",
         "rawType": "object",
         "type": "string"
        }
       ],
       "ref": "5830ff2d-895a-4bbf-9ed4-3125d8bbcae2",
       "rows": [
        [
         "5849",
         "Mundo Peugeot - Repuestos Y Accesorios",
         "Tienda De Repuestos Para Automóviles",
         "Incomplete",
         "Gral. Rodríguez 1655",
         "+54 9 249 402-4966",
         "Tandil",
         "Provincia de Buenos Aires",
         "-37.3137463",
         "-59.1439878",
         "4.5",
         "75",
         "https://lh3.googleusercontent.com/p/AF1QipPA8V3z3nu3v95en7me-WKWla3MO1HsHUIh8Hi2=w408-h408-k-no",
         "11.0",
         "86",
         "2025-07-30 15:45:17",
         "Repuestos"
        ],
        [
         "5850",
         "Riders Repuestos",
         "Tienda De Repuestos Para Automóviles",
         "Incomplete",
         "Gral. Rodríguez 1495",
         "Incomplete",
         "Tandil",
         "Provincia de Buenos Aires",
         "-37.3161896",
         "-59.1427738",
         "0.0",
         "70",
         "https://streetviewpixels-pa.googleapis.com/v1/thumbnail?panoid=IkLlCsFgI0TI6p8PROI1wg&cb_client=search.gws-prod.gps&w=408&h=240&yaw=272.69937&pitch=0&thumbfov=100",
         "1.0",
         "0",
         "2025-07-30 15:45:17",
         "Repuestos"
        ],
        [
         "5851",
         "Santamarina Repuestos",
         "Tienda De Repuestos Para Automóviles",
         "Incomplete",
         "Av. Santamarina 36",
         "Incomplete",
         "Tandil",
         "Provincia de Buenos Aires",
         "-37.3310304",
         "-59.1268015",
         "0.0",
         "69",
         "https://streetviewpixels-pa.googleapis.com/v1/thumbnail?panoid=CouOChX2xFSfhWB8jtw4HQ&cb_client=search.gws-prod.gps&w=408&h=240&yaw=230.9067&pitch=0&thumbfov=100",
         "1.0",
         "0",
         "2025-07-30 15:45:17",
         "Repuestos"
        ],
        [
         "5852",
         "Repuestos Buzon",
         "Tienda De Repuestos Para Automóviles",
         "Incomplete",
         "Av. Balbín 1073",
         "+54 9 249 448-7106",
         "Tandil",
         "Provincia de Buenos Aires",
         "-37.3138487",
         "-59.1220814",
         "4.9",
         "66",
         "https://lh3.googleusercontent.com/gps-proxy/ALd4DhFIShJPEp_8LA2VCdhd1f49JhdHWDClE0HcmCO5XCBJjiRffUw6uLxBFp5LxEaIxOz29zVPlxgFalwDsyJZeKWujyCckcDNuD_6Sme7Fivil72-fFaRRCdH2G1YoP6vmRW_cnLM1aks7fiMwPE5NwopiUqTDveZpg2N09qje6PioeKSeLqSDGABfv7sH08HXrwcOBM=w408-h306-k-no",
         "2.0",
         "49",
         "2025-07-30 15:45:17",
         "Repuestos"
        ],
        [
         "5853",
         "Kain Repuestos Gas Y Agua",
         "Tienda De Artículos Relacionados Con El Gas",
         "Incomplete",
         "Leandro Alem 1217",
         "+54 9 249 425-1165",
         "Tandil",
         "Provincia de Buenos Aires",
         "-37.3178107",
         "-59.1381201",
         "4.8",
         "68",
         "https://lh3.googleusercontent.com/p/AF1QipNt9jw67BsSDAuQ9PtiX6SdIKTQA6Aobm3ACpa3=w408-h542-k-no",
         "65.0",
         "5",
         "2025-07-30 15:45:17",
         "Repuestos"
        ],
        [
         "5854",
         "Arkansas Muebles",
         "Tienda De Muebles",
         "http://arkansastandil.mitiendanube.com/",
         "Av. Marconi 1498",
         "+54 9 249 464-3311",
         "Tandil",
         "Provincia de Buenos Aires",
         "-37.3175719",
         "-59.1256882",
         "5.0",
         "79",
         "https://lh3.googleusercontent.com/gps-proxy/ALd4DhE1EbgcrMM7_msEKZ5Fs4WQdrdgiI950eTOUaZ6wp8u9HNkIFZjqTJMMOmUxmPC1rwq7of0HLqBCqCfpiVDTkNL_xaBen-u1bl_BhCzySL2f-oEY27OdKLzuFXpFaqzqc_KtUAjn-EpNScOF1n8LjfAbIzD27e9TUExPpHCMV9bzXMw7phjOKLoywNb1tYUSKjVUg=w408-h306-k-no",
         "3.0",
         "1",
         "2025-07-30 15:45:05",
         "Electrodomesticos"
        ],
        [
         "5855",
         "Pilchas Mb",
         "Tienda De Ropa De Hombre",
         "Incomplete",
         "San Martín 915",
         "+54 9 223 555-9393",
         "Tandil",
         "Provincia de Buenos Aires",
         "-37.3246989",
         "-59.1320305",
         "5.0",
         "78",
         "https://lh3.googleusercontent.com/gps-cs-s/AC9h4non8uQP_sqcqowOu_UsOqxgV0SYhiPMiy8CLWiITFzTjfeqRyEvV0bwxJA46ejqnVe_K4i2fu3HYvqiip0jrLJTGeXMhzQOqzUACcv913IRE1rFxu3Qp7sXosd1H3xoE5WM0n3eZQfvtpjf=w408-h544-k-no",
         "6.0",
         "9",
         "2025-07-30 15:45:19",
         "Ropa"
        ],
        [
         "5856",
         "Rodriggi",
         "Tienda De Ropa De Hombre",
         "Incomplete",
         "9 de Julio 445",
         "+54 9 249 457-5285",
         "Tandil",
         "Provincia de Buenos Aires",
         "-37.3277961",
         "-59.1338221",
         "4.9",
         "80",
         "https://lh3.googleusercontent.com/p/AF1QipPNSwjqO-BcGWZ_QFWc4MR_7a0o8wZy3S1BjG54=w408-h272-k-no",
         "6.0",
         "23",
         "2025-07-30 15:45:19",
         "Ropa"
        ],
        [
         "5857",
         "Lg Service",
         "Servicio De Reparación De Electrodomésticos",
         "Incomplete",
         "Saavedra 778",
         "+54 9 249 438-8237",
         "Tandil",
         "Provincia de Buenos Aires",
         "-37.3182553",
         "-59.121669",
         "4.7",
         "84",
         "https://streetviewpixels-pa.googleapis.com/v1/thumbnail?panoid=w8F2RrnwTIVnJD4m2ClR_Q&cb_client=search.gws-prod.gps&w=408&h=240&yaw=255.47885&pitch=0&thumbfov=100",
         "1.0",
         "3",
         "2025-07-30 15:45:06",
         "Electrodomesticos"
        ],
        [
         "5858",
         "Friototal",
         "Distribuidor De Acero",
         "http://www.friototal.com.ar/",
         "Av. del Valle 1258",
         "+54 9 249 469-8239",
         "Tandil",
         "Provincia de Buenos Aires",
         "-37.3092976",
         "-59.1345556",
         "3.7",
         "60",
         "https://lh3.googleusercontent.com/gps-cs-s/AC9h4nrY6dCcXjno432CvCOQjpVB1uui0qruYbu1hwIZ9zCq_uIbqnlbWlMGFcmKVIPH_OtBeioELjwT2aCv0NjcR8GnMqs9hQt__70e2fvlxQY2zTEhsB8tGw2PXg77qTN7BxzMP-qDTA=w408-h544-k-no",
         "17.0",
         "3",
         "2025-07-30 15:45:04",
         "Electrodomesticos"
        ]
       ],
       "shape": {
        "columns": 16,
        "rows": 10
       }
      },
      "text/html": [
       "<div>\n",
       "<style scoped>\n",
       "    .dataframe tbody tr th:only-of-type {\n",
       "        vertical-align: middle;\n",
       "    }\n",
       "\n",
       "    .dataframe tbody tr th {\n",
       "        vertical-align: top;\n",
       "    }\n",
       "\n",
       "    .dataframe thead th {\n",
       "        text-align: right;\n",
       "    }\n",
       "</style>\n",
       "<table border=\"1\" class=\"dataframe\">\n",
       "  <thead>\n",
       "    <tr style=\"text-align: right;\">\n",
       "      <th></th>\n",
       "      <th>title</th>\n",
       "      <th>categoryName</th>\n",
       "      <th>website</th>\n",
       "      <th>street</th>\n",
       "      <th>phone</th>\n",
       "      <th>city</th>\n",
       "      <th>state</th>\n",
       "      <th>location/lat</th>\n",
       "      <th>location/lng</th>\n",
       "      <th>totalScore</th>\n",
       "      <th>rank</th>\n",
       "      <th>imageUrl</th>\n",
       "      <th>imagesCount</th>\n",
       "      <th>reviewsCount</th>\n",
       "      <th>scrapedAt</th>\n",
       "      <th>searchString</th>\n",
       "    </tr>\n",
       "  </thead>\n",
       "  <tbody>\n",
       "    <tr>\n",
       "      <th>5849</th>\n",
       "      <td>Mundo Peugeot - Repuestos Y Accesorios</td>\n",
       "      <td>Tienda De Repuestos Para Automóviles</td>\n",
       "      <td>Incomplete</td>\n",
       "      <td>Gral. Rodríguez 1655</td>\n",
       "      <td>+54 9 249 402-4966</td>\n",
       "      <td>Tandil</td>\n",
       "      <td>Provincia de Buenos Aires</td>\n",
       "      <td>-37.313746</td>\n",
       "      <td>-59.143988</td>\n",
       "      <td>4.5</td>\n",
       "      <td>75</td>\n",
       "      <td>https://lh3.googleusercontent.com/p/AF1QipPA8V...</td>\n",
       "      <td>11.0</td>\n",
       "      <td>86</td>\n",
       "      <td>2025-07-30 15:45:17</td>\n",
       "      <td>Repuestos</td>\n",
       "    </tr>\n",
       "    <tr>\n",
       "      <th>5850</th>\n",
       "      <td>Riders Repuestos</td>\n",
       "      <td>Tienda De Repuestos Para Automóviles</td>\n",
       "      <td>Incomplete</td>\n",
       "      <td>Gral. Rodríguez 1495</td>\n",
       "      <td>Incomplete</td>\n",
       "      <td>Tandil</td>\n",
       "      <td>Provincia de Buenos Aires</td>\n",
       "      <td>-37.316190</td>\n",
       "      <td>-59.142774</td>\n",
       "      <td>0.0</td>\n",
       "      <td>70</td>\n",
       "      <td>https://streetviewpixels-pa.googleapis.com/v1/...</td>\n",
       "      <td>1.0</td>\n",
       "      <td>0</td>\n",
       "      <td>2025-07-30 15:45:17</td>\n",
       "      <td>Repuestos</td>\n",
       "    </tr>\n",
       "    <tr>\n",
       "      <th>5851</th>\n",
       "      <td>Santamarina Repuestos</td>\n",
       "      <td>Tienda De Repuestos Para Automóviles</td>\n",
       "      <td>Incomplete</td>\n",
       "      <td>Av. Santamarina 36</td>\n",
       "      <td>Incomplete</td>\n",
       "      <td>Tandil</td>\n",
       "      <td>Provincia de Buenos Aires</td>\n",
       "      <td>-37.331030</td>\n",
       "      <td>-59.126801</td>\n",
       "      <td>0.0</td>\n",
       "      <td>69</td>\n",
       "      <td>https://streetviewpixels-pa.googleapis.com/v1/...</td>\n",
       "      <td>1.0</td>\n",
       "      <td>0</td>\n",
       "      <td>2025-07-30 15:45:17</td>\n",
       "      <td>Repuestos</td>\n",
       "    </tr>\n",
       "    <tr>\n",
       "      <th>5852</th>\n",
       "      <td>Repuestos Buzon</td>\n",
       "      <td>Tienda De Repuestos Para Automóviles</td>\n",
       "      <td>Incomplete</td>\n",
       "      <td>Av. Balbín 1073</td>\n",
       "      <td>+54 9 249 448-7106</td>\n",
       "      <td>Tandil</td>\n",
       "      <td>Provincia de Buenos Aires</td>\n",
       "      <td>-37.313849</td>\n",
       "      <td>-59.122081</td>\n",
       "      <td>4.9</td>\n",
       "      <td>66</td>\n",
       "      <td>https://lh3.googleusercontent.com/gps-proxy/AL...</td>\n",
       "      <td>2.0</td>\n",
       "      <td>49</td>\n",
       "      <td>2025-07-30 15:45:17</td>\n",
       "      <td>Repuestos</td>\n",
       "    </tr>\n",
       "    <tr>\n",
       "      <th>5853</th>\n",
       "      <td>Kain Repuestos Gas Y Agua</td>\n",
       "      <td>Tienda De Artículos Relacionados Con El Gas</td>\n",
       "      <td>Incomplete</td>\n",
       "      <td>Leandro Alem 1217</td>\n",
       "      <td>+54 9 249 425-1165</td>\n",
       "      <td>Tandil</td>\n",
       "      <td>Provincia de Buenos Aires</td>\n",
       "      <td>-37.317811</td>\n",
       "      <td>-59.138120</td>\n",
       "      <td>4.8</td>\n",
       "      <td>68</td>\n",
       "      <td>https://lh3.googleusercontent.com/p/AF1QipNt9j...</td>\n",
       "      <td>65.0</td>\n",
       "      <td>5</td>\n",
       "      <td>2025-07-30 15:45:17</td>\n",
       "      <td>Repuestos</td>\n",
       "    </tr>\n",
       "    <tr>\n",
       "      <th>5854</th>\n",
       "      <td>Arkansas Muebles</td>\n",
       "      <td>Tienda De Muebles</td>\n",
       "      <td>http://arkansastandil.mitiendanube.com/</td>\n",
       "      <td>Av. Marconi 1498</td>\n",
       "      <td>+54 9 249 464-3311</td>\n",
       "      <td>Tandil</td>\n",
       "      <td>Provincia de Buenos Aires</td>\n",
       "      <td>-37.317572</td>\n",
       "      <td>-59.125688</td>\n",
       "      <td>5.0</td>\n",
       "      <td>79</td>\n",
       "      <td>https://lh3.googleusercontent.com/gps-proxy/AL...</td>\n",
       "      <td>3.0</td>\n",
       "      <td>1</td>\n",
       "      <td>2025-07-30 15:45:05</td>\n",
       "      <td>Electrodomesticos</td>\n",
       "    </tr>\n",
       "    <tr>\n",
       "      <th>5855</th>\n",
       "      <td>Pilchas Mb</td>\n",
       "      <td>Tienda De Ropa De Hombre</td>\n",
       "      <td>Incomplete</td>\n",
       "      <td>San Martín 915</td>\n",
       "      <td>+54 9 223 555-9393</td>\n",
       "      <td>Tandil</td>\n",
       "      <td>Provincia de Buenos Aires</td>\n",
       "      <td>-37.324699</td>\n",
       "      <td>-59.132030</td>\n",
       "      <td>5.0</td>\n",
       "      <td>78</td>\n",
       "      <td>https://lh3.googleusercontent.com/gps-cs-s/AC9...</td>\n",
       "      <td>6.0</td>\n",
       "      <td>9</td>\n",
       "      <td>2025-07-30 15:45:19</td>\n",
       "      <td>Ropa</td>\n",
       "    </tr>\n",
       "    <tr>\n",
       "      <th>5856</th>\n",
       "      <td>Rodriggi</td>\n",
       "      <td>Tienda De Ropa De Hombre</td>\n",
       "      <td>Incomplete</td>\n",
       "      <td>9 de Julio 445</td>\n",
       "      <td>+54 9 249 457-5285</td>\n",
       "      <td>Tandil</td>\n",
       "      <td>Provincia de Buenos Aires</td>\n",
       "      <td>-37.327796</td>\n",
       "      <td>-59.133822</td>\n",
       "      <td>4.9</td>\n",
       "      <td>80</td>\n",
       "      <td>https://lh3.googleusercontent.com/p/AF1QipPNSw...</td>\n",
       "      <td>6.0</td>\n",
       "      <td>23</td>\n",
       "      <td>2025-07-30 15:45:19</td>\n",
       "      <td>Ropa</td>\n",
       "    </tr>\n",
       "    <tr>\n",
       "      <th>5857</th>\n",
       "      <td>Lg Service</td>\n",
       "      <td>Servicio De Reparación De Electrodomésticos</td>\n",
       "      <td>Incomplete</td>\n",
       "      <td>Saavedra 778</td>\n",
       "      <td>+54 9 249 438-8237</td>\n",
       "      <td>Tandil</td>\n",
       "      <td>Provincia de Buenos Aires</td>\n",
       "      <td>-37.318255</td>\n",
       "      <td>-59.121669</td>\n",
       "      <td>4.7</td>\n",
       "      <td>84</td>\n",
       "      <td>https://streetviewpixels-pa.googleapis.com/v1/...</td>\n",
       "      <td>1.0</td>\n",
       "      <td>3</td>\n",
       "      <td>2025-07-30 15:45:06</td>\n",
       "      <td>Electrodomesticos</td>\n",
       "    </tr>\n",
       "    <tr>\n",
       "      <th>5858</th>\n",
       "      <td>Friototal</td>\n",
       "      <td>Distribuidor De Acero</td>\n",
       "      <td>http://www.friototal.com.ar/</td>\n",
       "      <td>Av. del Valle 1258</td>\n",
       "      <td>+54 9 249 469-8239</td>\n",
       "      <td>Tandil</td>\n",
       "      <td>Provincia de Buenos Aires</td>\n",
       "      <td>-37.309298</td>\n",
       "      <td>-59.134556</td>\n",
       "      <td>3.7</td>\n",
       "      <td>60</td>\n",
       "      <td>https://lh3.googleusercontent.com/gps-cs-s/AC9...</td>\n",
       "      <td>17.0</td>\n",
       "      <td>3</td>\n",
       "      <td>2025-07-30 15:45:04</td>\n",
       "      <td>Electrodomesticos</td>\n",
       "    </tr>\n",
       "  </tbody>\n",
       "</table>\n",
       "</div>"
      ],
      "text/plain": [
       "                                       title  \\\n",
       "5849  Mundo Peugeot - Repuestos Y Accesorios   \n",
       "5850                        Riders Repuestos   \n",
       "5851                   Santamarina Repuestos   \n",
       "5852                         Repuestos Buzon   \n",
       "5853               Kain Repuestos Gas Y Agua   \n",
       "5854                        Arkansas Muebles   \n",
       "5855                              Pilchas Mb   \n",
       "5856                                Rodriggi   \n",
       "5857                              Lg Service   \n",
       "5858                               Friototal   \n",
       "\n",
       "                                     categoryName  \\\n",
       "5849         Tienda De Repuestos Para Automóviles   \n",
       "5850         Tienda De Repuestos Para Automóviles   \n",
       "5851         Tienda De Repuestos Para Automóviles   \n",
       "5852         Tienda De Repuestos Para Automóviles   \n",
       "5853  Tienda De Artículos Relacionados Con El Gas   \n",
       "5854                            Tienda De Muebles   \n",
       "5855                     Tienda De Ropa De Hombre   \n",
       "5856                     Tienda De Ropa De Hombre   \n",
       "5857  Servicio De Reparación De Electrodomésticos   \n",
       "5858                        Distribuidor De Acero   \n",
       "\n",
       "                                      website                street  \\\n",
       "5849                               Incomplete  Gral. Rodríguez 1655   \n",
       "5850                               Incomplete  Gral. Rodríguez 1495   \n",
       "5851                               Incomplete    Av. Santamarina 36   \n",
       "5852                               Incomplete       Av. Balbín 1073   \n",
       "5853                               Incomplete     Leandro Alem 1217   \n",
       "5854  http://arkansastandil.mitiendanube.com/      Av. Marconi 1498   \n",
       "5855                               Incomplete        San Martín 915   \n",
       "5856                               Incomplete        9 de Julio 445   \n",
       "5857                               Incomplete          Saavedra 778   \n",
       "5858             http://www.friototal.com.ar/    Av. del Valle 1258   \n",
       "\n",
       "                   phone    city                      state  location/lat  \\\n",
       "5849  +54 9 249 402-4966  Tandil  Provincia de Buenos Aires    -37.313746   \n",
       "5850          Incomplete  Tandil  Provincia de Buenos Aires    -37.316190   \n",
       "5851          Incomplete  Tandil  Provincia de Buenos Aires    -37.331030   \n",
       "5852  +54 9 249 448-7106  Tandil  Provincia de Buenos Aires    -37.313849   \n",
       "5853  +54 9 249 425-1165  Tandil  Provincia de Buenos Aires    -37.317811   \n",
       "5854  +54 9 249 464-3311  Tandil  Provincia de Buenos Aires    -37.317572   \n",
       "5855  +54 9 223 555-9393  Tandil  Provincia de Buenos Aires    -37.324699   \n",
       "5856  +54 9 249 457-5285  Tandil  Provincia de Buenos Aires    -37.327796   \n",
       "5857  +54 9 249 438-8237  Tandil  Provincia de Buenos Aires    -37.318255   \n",
       "5858  +54 9 249 469-8239  Tandil  Provincia de Buenos Aires    -37.309298   \n",
       "\n",
       "      location/lng  totalScore  rank  \\\n",
       "5849    -59.143988         4.5    75   \n",
       "5850    -59.142774         0.0    70   \n",
       "5851    -59.126801         0.0    69   \n",
       "5852    -59.122081         4.9    66   \n",
       "5853    -59.138120         4.8    68   \n",
       "5854    -59.125688         5.0    79   \n",
       "5855    -59.132030         5.0    78   \n",
       "5856    -59.133822         4.9    80   \n",
       "5857    -59.121669         4.7    84   \n",
       "5858    -59.134556         3.7    60   \n",
       "\n",
       "                                               imageUrl  imagesCount  \\\n",
       "5849  https://lh3.googleusercontent.com/p/AF1QipPA8V...         11.0   \n",
       "5850  https://streetviewpixels-pa.googleapis.com/v1/...          1.0   \n",
       "5851  https://streetviewpixels-pa.googleapis.com/v1/...          1.0   \n",
       "5852  https://lh3.googleusercontent.com/gps-proxy/AL...          2.0   \n",
       "5853  https://lh3.googleusercontent.com/p/AF1QipNt9j...         65.0   \n",
       "5854  https://lh3.googleusercontent.com/gps-proxy/AL...          3.0   \n",
       "5855  https://lh3.googleusercontent.com/gps-cs-s/AC9...          6.0   \n",
       "5856  https://lh3.googleusercontent.com/p/AF1QipPNSw...          6.0   \n",
       "5857  https://streetviewpixels-pa.googleapis.com/v1/...          1.0   \n",
       "5858  https://lh3.googleusercontent.com/gps-cs-s/AC9...         17.0   \n",
       "\n",
       "      reviewsCount           scrapedAt       searchString  \n",
       "5849            86 2025-07-30 15:45:17          Repuestos  \n",
       "5850             0 2025-07-30 15:45:17          Repuestos  \n",
       "5851             0 2025-07-30 15:45:17          Repuestos  \n",
       "5852            49 2025-07-30 15:45:17          Repuestos  \n",
       "5853             5 2025-07-30 15:45:17          Repuestos  \n",
       "5854             1 2025-07-30 15:45:05  Electrodomesticos  \n",
       "5855             9 2025-07-30 15:45:19               Ropa  \n",
       "5856            23 2025-07-30 15:45:19               Ropa  \n",
       "5857             3 2025-07-30 15:45:06  Electrodomesticos  \n",
       "5858             3 2025-07-30 15:45:04  Electrodomesticos  "
      ]
     },
     "execution_count": 9,
     "metadata": {},
     "output_type": "execute_result"
    }
   ],
   "source": [
    "# Visualización de las últimas filas del DataFrame\n",
    "df.tail(10)"
   ]
  },
  {
   "cell_type": "code",
   "execution_count": 10,
   "id": "c8ec38ba",
   "metadata": {},
   "outputs": [
    {
     "data": {
      "application/vnd.microsoft.datawrangler.viewer.v0+json": {
       "columns": [
        {
         "name": "index",
         "rawType": "int64",
         "type": "integer"
        },
        {
         "name": "title",
         "rawType": "object",
         "type": "string"
        },
        {
         "name": "categoryName",
         "rawType": "object",
         "type": "string"
        },
        {
         "name": "website",
         "rawType": "object",
         "type": "string"
        },
        {
         "name": "street",
         "rawType": "object",
         "type": "string"
        },
        {
         "name": "phone",
         "rawType": "object",
         "type": "string"
        },
        {
         "name": "city",
         "rawType": "object",
         "type": "string"
        },
        {
         "name": "state",
         "rawType": "object",
         "type": "string"
        },
        {
         "name": "location/lat",
         "rawType": "float64",
         "type": "float"
        },
        {
         "name": "location/lng",
         "rawType": "float64",
         "type": "float"
        },
        {
         "name": "totalScore",
         "rawType": "float64",
         "type": "float"
        },
        {
         "name": "rank",
         "rawType": "int64",
         "type": "integer"
        },
        {
         "name": "imageUrl",
         "rawType": "object",
         "type": "string"
        },
        {
         "name": "imagesCount",
         "rawType": "float64",
         "type": "float"
        },
        {
         "name": "reviewsCount",
         "rawType": "int64",
         "type": "integer"
        },
        {
         "name": "scrapedAt",
         "rawType": "datetime64[ns]",
         "type": "datetime"
        },
        {
         "name": "searchString",
         "rawType": "object",
         "type": "string"
        }
       ],
       "ref": "99c0c2b3-4bfa-4aa6-b752-c010807b6a3e",
       "rows": [
        [
         "2162",
         "Mirame Y Vestite",
         "Tienda De Ropa De Mujer",
         "Incomplete",
         "Rivadavia 3112",
         "+54 9 2284 41-3715",
         "Olavarría",
         "Provincia de Buenos Aires",
         "-36.8918131",
         "-60.3196437",
         "4.2",
         "83",
         "https://lh3.googleusercontent.com/gps-proxy/ALd4DhEo7SczGRu_8oySNQhSaIyHC2Ogu_hbZEvZvg4jaleAnP6kG-QWLEeG3ECVfqTHQRbtUGvVWJ_8NSpOlLZ3SaT65iVNsdF0FiuYM_uRplzwIjUGO8Yacmtqf2cPZ2xyWzlWJG6O6VGemAWwHhNgFQGH9qmgMzPLwVbKuAddyx4sxaXUgWMuneMvCHYZtNYEOM5oFeQ=w408-h306-k-no",
         "2.0",
         "15",
         "2025-06-11 18:14:10",
         "Tienda"
        ],
        [
         "2445",
         "Infracom Coopelectric",
         "Proveedor De Servicios De Internet",
         "http://infracomcoopelectric.com.ar/",
         "Belgrano 2800",
         "+54 9 2284 41-9990",
         "Olavarría",
         "Provincia de Buenos Aires",
         "-36.893397",
         "-60.3215419",
         "2.4",
         "9",
         "https://lh3.googleusercontent.com/p/AF1QipNSaBCqDLK2U3ImZL8R9atD3uJFFoSkXy-mbdF_=w426-h240-k-no",
         "14.0",
         "131",
         "2025-06-15 23:33:13",
         "Telefonia"
        ],
        [
         "3558",
         "Mixer Electronicos",
         "Tienda De Accesorios Para Móviles",
         "Incomplete",
         "Darragueira 2216",
         "+54 9 249 436-1450",
         "Tandil",
         "Provincia de Buenos Aires",
         "-37.2989166",
         "-59.1259842",
         "4.2",
         "76",
         "https://lh3.googleusercontent.com/p/AF1QipMPS4M5zp5CXTWjDJEPDM0UlqzUOJIJVIv94Sr0=w408-h544-k-no",
         "6.0",
         "6",
         "2025-05-04 16:08:19",
         "Comercio"
        ],
        [
         "2871",
         "Cr Automotores",
         "Concesionario De Camiones",
         "http://crautomotorescom.wordpress.com/",
         "Av. del Valle 4467",
         "+54 9 2284 41-9044",
         "Olavarría",
         "Provincia de Buenos Aires",
         "-36.908977",
         "-60.3133911",
         "4.8",
         "8",
         "https://lh3.googleusercontent.com/p/AF1QipN70YexOpwVkVs7beiuJw6oh0kiOi8bVs06ElsD=w408-h306-k-no",
         "22.0",
         "15",
         "2025-07-30 14:43:09",
         "Vehiculos"
        ],
        [
         "1518",
         "Juarez Cars",
         "Concesionario De Automóviles",
         "Incomplete",
         "Av. Pres. Juan Domingo Perón",
         "Incomplete",
         "Benito Juárez",
         "Provincia de Buenos Aires",
         "-37.6794107",
         "-59.7997973",
         "0.0",
         "131",
         "https://streetviewpixels-pa.googleapis.com/v1/thumbnail?panoid=Cqpv1fwH6D3TL6Q5eucYJA&cb_client=search.gws-prod.gps&w=408&h=240&yaw=214.77074&pitch=0&thumbfov=100",
         "1.0",
         "0",
         "2025-05-29 00:54:20",
         "Tienda"
        ],
        [
         "1222",
         "Panaderia Las Delicias",
         "Panadería",
         "Incomplete",
         "Moreno 570",
         "+54 9 2281 42-2730",
         "Azul",
         "Provincia de Buenos Aires",
         "-36.7782477",
         "-59.8605835",
         "4.6",
         "41",
         "https://lh3.googleusercontent.com/gps-cs-s/AC9h4nqYew9cxOVz0cdknhO_KSFtO_CZNbJT-Xe_uuVBrG-qCZ_oKSzpK2fg24EZIiAsyK-S6zQNNeWNpM5OafgJbSuqQt2Qo6f1kMEjxitLltI11o45EPapUPpEmX1cRWrcK21VTUDC=w435-h240-k-no",
         "15.0",
         "265",
         "2025-07-30 14:54:08",
         "Comercio"
        ],
        [
         "4089",
         "Electricidad Sudeste",
         "Tienda De Materiales Para La Construcción",
         "Incomplete",
         "Av. Falucho 1223",
         "Incomplete",
         "Tandil",
         "Provincia de Buenos Aires",
         "-37.3208515",
         "-59.1068356",
         "0.0",
         "16",
         "https://streetviewpixels-pa.googleapis.com/v1/thumbnail?panoid=AKMfZhAA0Hi2cowF9OS9iA&cb_client=search.gws-prod.gps&w=408&h=240&yaw=115.382835&pitch=0&thumbfov=100",
         "1.0",
         "0",
         "2025-05-28 23:35:29",
         "Electronica"
        ],
        [
         "3442",
         "Taller Mecanico Penedo",
         "Taller De Automóviles",
         "Incomplete",
         "RP30 1400",
         "+54 9 249 434-5802",
         "Rauch",
         "Provincia de Buenos Aires",
         "-36.7635152",
         "-59.0890122",
         "0.0",
         "30",
         "https://lh3.googleusercontent.com/gps-cs-s/AC9h4nrTLtDJnsOt3fTH_mEv89zMjY3PD7cFqKZVJv8YM_oi9RYb1tSrtWEtaOBeALWmZUODaq303vAGtDAxUV3N4phSEsinHnYjAi5nLc1K7A-5GZezqzBwVROxwwQeLoINulteIdWv=w408-h816-k-no",
         "7.0",
         "0",
         "2025-07-30 15:10:35",
         "Vehiculos"
        ],
        [
         "4379",
         "Alberto Camus",
         "Diseñador De Sitios Web",
         "Incomplete",
         "Incomplete",
         "Incomplete",
         "Tandil",
         "Provincia de Buenos Aires",
         "-37.3195228",
         "-59.1427021",
         "0.0",
         "19",
         "https://lh3.googleusercontent.com/p/AF1QipNxPrNT3kNlDG6E5QJTeVHFQ2NPIA-HiUTtAZC5=w408-h272-k-no",
         "18.0",
         "0",
         "2025-05-29 00:15:25",
         "Web"
        ],
        [
         "3955",
         "Pintureria Wolpe",
         "Tienda De Pinturas",
         "Incomplete",
         "Incomplete",
         "Incomplete",
         "Tandil",
         "Provincia de Buenos Aires",
         "-37.3233362",
         "-59.1399798",
         "0.0",
         "90",
         "https://streetviewpixels-pa.googleapis.com/v1/thumbnail?panoid=whpj0BGPQU6Sw1_qRpPwwQ&cb_client=search.gws-prod.gps&w=408&h=240&yaw=77.84589&pitch=0&thumbfov=100",
         "1.0",
         "0",
         "2025-05-04 16:08:52",
         "Comercio"
        ]
       ],
       "shape": {
        "columns": 16,
        "rows": 10
       }
      },
      "text/html": [
       "<div>\n",
       "<style scoped>\n",
       "    .dataframe tbody tr th:only-of-type {\n",
       "        vertical-align: middle;\n",
       "    }\n",
       "\n",
       "    .dataframe tbody tr th {\n",
       "        vertical-align: top;\n",
       "    }\n",
       "\n",
       "    .dataframe thead th {\n",
       "        text-align: right;\n",
       "    }\n",
       "</style>\n",
       "<table border=\"1\" class=\"dataframe\">\n",
       "  <thead>\n",
       "    <tr style=\"text-align: right;\">\n",
       "      <th></th>\n",
       "      <th>title</th>\n",
       "      <th>categoryName</th>\n",
       "      <th>website</th>\n",
       "      <th>street</th>\n",
       "      <th>phone</th>\n",
       "      <th>city</th>\n",
       "      <th>state</th>\n",
       "      <th>location/lat</th>\n",
       "      <th>location/lng</th>\n",
       "      <th>totalScore</th>\n",
       "      <th>rank</th>\n",
       "      <th>imageUrl</th>\n",
       "      <th>imagesCount</th>\n",
       "      <th>reviewsCount</th>\n",
       "      <th>scrapedAt</th>\n",
       "      <th>searchString</th>\n",
       "    </tr>\n",
       "  </thead>\n",
       "  <tbody>\n",
       "    <tr>\n",
       "      <th>2162</th>\n",
       "      <td>Mirame Y Vestite</td>\n",
       "      <td>Tienda De Ropa De Mujer</td>\n",
       "      <td>Incomplete</td>\n",
       "      <td>Rivadavia 3112</td>\n",
       "      <td>+54 9 2284 41-3715</td>\n",
       "      <td>Olavarría</td>\n",
       "      <td>Provincia de Buenos Aires</td>\n",
       "      <td>-36.891813</td>\n",
       "      <td>-60.319644</td>\n",
       "      <td>4.2</td>\n",
       "      <td>83</td>\n",
       "      <td>https://lh3.googleusercontent.com/gps-proxy/AL...</td>\n",
       "      <td>2.0</td>\n",
       "      <td>15</td>\n",
       "      <td>2025-06-11 18:14:10</td>\n",
       "      <td>Tienda</td>\n",
       "    </tr>\n",
       "    <tr>\n",
       "      <th>2445</th>\n",
       "      <td>Infracom Coopelectric</td>\n",
       "      <td>Proveedor De Servicios De Internet</td>\n",
       "      <td>http://infracomcoopelectric.com.ar/</td>\n",
       "      <td>Belgrano 2800</td>\n",
       "      <td>+54 9 2284 41-9990</td>\n",
       "      <td>Olavarría</td>\n",
       "      <td>Provincia de Buenos Aires</td>\n",
       "      <td>-36.893397</td>\n",
       "      <td>-60.321542</td>\n",
       "      <td>2.4</td>\n",
       "      <td>9</td>\n",
       "      <td>https://lh3.googleusercontent.com/p/AF1QipNSaB...</td>\n",
       "      <td>14.0</td>\n",
       "      <td>131</td>\n",
       "      <td>2025-06-15 23:33:13</td>\n",
       "      <td>Telefonia</td>\n",
       "    </tr>\n",
       "    <tr>\n",
       "      <th>3558</th>\n",
       "      <td>Mixer Electronicos</td>\n",
       "      <td>Tienda De Accesorios Para Móviles</td>\n",
       "      <td>Incomplete</td>\n",
       "      <td>Darragueira 2216</td>\n",
       "      <td>+54 9 249 436-1450</td>\n",
       "      <td>Tandil</td>\n",
       "      <td>Provincia de Buenos Aires</td>\n",
       "      <td>-37.298917</td>\n",
       "      <td>-59.125984</td>\n",
       "      <td>4.2</td>\n",
       "      <td>76</td>\n",
       "      <td>https://lh3.googleusercontent.com/p/AF1QipMPS4...</td>\n",
       "      <td>6.0</td>\n",
       "      <td>6</td>\n",
       "      <td>2025-05-04 16:08:19</td>\n",
       "      <td>Comercio</td>\n",
       "    </tr>\n",
       "    <tr>\n",
       "      <th>2871</th>\n",
       "      <td>Cr Automotores</td>\n",
       "      <td>Concesionario De Camiones</td>\n",
       "      <td>http://crautomotorescom.wordpress.com/</td>\n",
       "      <td>Av. del Valle 4467</td>\n",
       "      <td>+54 9 2284 41-9044</td>\n",
       "      <td>Olavarría</td>\n",
       "      <td>Provincia de Buenos Aires</td>\n",
       "      <td>-36.908977</td>\n",
       "      <td>-60.313391</td>\n",
       "      <td>4.8</td>\n",
       "      <td>8</td>\n",
       "      <td>https://lh3.googleusercontent.com/p/AF1QipN70Y...</td>\n",
       "      <td>22.0</td>\n",
       "      <td>15</td>\n",
       "      <td>2025-07-30 14:43:09</td>\n",
       "      <td>Vehiculos</td>\n",
       "    </tr>\n",
       "    <tr>\n",
       "      <th>1518</th>\n",
       "      <td>Juarez Cars</td>\n",
       "      <td>Concesionario De Automóviles</td>\n",
       "      <td>Incomplete</td>\n",
       "      <td>Av. Pres. Juan Domingo Perón</td>\n",
       "      <td>Incomplete</td>\n",
       "      <td>Benito Juárez</td>\n",
       "      <td>Provincia de Buenos Aires</td>\n",
       "      <td>-37.679411</td>\n",
       "      <td>-59.799797</td>\n",
       "      <td>0.0</td>\n",
       "      <td>131</td>\n",
       "      <td>https://streetviewpixels-pa.googleapis.com/v1/...</td>\n",
       "      <td>1.0</td>\n",
       "      <td>0</td>\n",
       "      <td>2025-05-29 00:54:20</td>\n",
       "      <td>Tienda</td>\n",
       "    </tr>\n",
       "    <tr>\n",
       "      <th>1222</th>\n",
       "      <td>Panaderia Las Delicias</td>\n",
       "      <td>Panadería</td>\n",
       "      <td>Incomplete</td>\n",
       "      <td>Moreno 570</td>\n",
       "      <td>+54 9 2281 42-2730</td>\n",
       "      <td>Azul</td>\n",
       "      <td>Provincia de Buenos Aires</td>\n",
       "      <td>-36.778248</td>\n",
       "      <td>-59.860583</td>\n",
       "      <td>4.6</td>\n",
       "      <td>41</td>\n",
       "      <td>https://lh3.googleusercontent.com/gps-cs-s/AC9...</td>\n",
       "      <td>15.0</td>\n",
       "      <td>265</td>\n",
       "      <td>2025-07-30 14:54:08</td>\n",
       "      <td>Comercio</td>\n",
       "    </tr>\n",
       "    <tr>\n",
       "      <th>4089</th>\n",
       "      <td>Electricidad Sudeste</td>\n",
       "      <td>Tienda De Materiales Para La Construcción</td>\n",
       "      <td>Incomplete</td>\n",
       "      <td>Av. Falucho 1223</td>\n",
       "      <td>Incomplete</td>\n",
       "      <td>Tandil</td>\n",
       "      <td>Provincia de Buenos Aires</td>\n",
       "      <td>-37.320852</td>\n",
       "      <td>-59.106836</td>\n",
       "      <td>0.0</td>\n",
       "      <td>16</td>\n",
       "      <td>https://streetviewpixels-pa.googleapis.com/v1/...</td>\n",
       "      <td>1.0</td>\n",
       "      <td>0</td>\n",
       "      <td>2025-05-28 23:35:29</td>\n",
       "      <td>Electronica</td>\n",
       "    </tr>\n",
       "    <tr>\n",
       "      <th>3442</th>\n",
       "      <td>Taller Mecanico Penedo</td>\n",
       "      <td>Taller De Automóviles</td>\n",
       "      <td>Incomplete</td>\n",
       "      <td>RP30 1400</td>\n",
       "      <td>+54 9 249 434-5802</td>\n",
       "      <td>Rauch</td>\n",
       "      <td>Provincia de Buenos Aires</td>\n",
       "      <td>-36.763515</td>\n",
       "      <td>-59.089012</td>\n",
       "      <td>0.0</td>\n",
       "      <td>30</td>\n",
       "      <td>https://lh3.googleusercontent.com/gps-cs-s/AC9...</td>\n",
       "      <td>7.0</td>\n",
       "      <td>0</td>\n",
       "      <td>2025-07-30 15:10:35</td>\n",
       "      <td>Vehiculos</td>\n",
       "    </tr>\n",
       "    <tr>\n",
       "      <th>4379</th>\n",
       "      <td>Alberto Camus</td>\n",
       "      <td>Diseñador De Sitios Web</td>\n",
       "      <td>Incomplete</td>\n",
       "      <td>Incomplete</td>\n",
       "      <td>Incomplete</td>\n",
       "      <td>Tandil</td>\n",
       "      <td>Provincia de Buenos Aires</td>\n",
       "      <td>-37.319523</td>\n",
       "      <td>-59.142702</td>\n",
       "      <td>0.0</td>\n",
       "      <td>19</td>\n",
       "      <td>https://lh3.googleusercontent.com/p/AF1QipNxPr...</td>\n",
       "      <td>18.0</td>\n",
       "      <td>0</td>\n",
       "      <td>2025-05-29 00:15:25</td>\n",
       "      <td>Web</td>\n",
       "    </tr>\n",
       "    <tr>\n",
       "      <th>3955</th>\n",
       "      <td>Pintureria Wolpe</td>\n",
       "      <td>Tienda De Pinturas</td>\n",
       "      <td>Incomplete</td>\n",
       "      <td>Incomplete</td>\n",
       "      <td>Incomplete</td>\n",
       "      <td>Tandil</td>\n",
       "      <td>Provincia de Buenos Aires</td>\n",
       "      <td>-37.323336</td>\n",
       "      <td>-59.139980</td>\n",
       "      <td>0.0</td>\n",
       "      <td>90</td>\n",
       "      <td>https://streetviewpixels-pa.googleapis.com/v1/...</td>\n",
       "      <td>1.0</td>\n",
       "      <td>0</td>\n",
       "      <td>2025-05-04 16:08:52</td>\n",
       "      <td>Comercio</td>\n",
       "    </tr>\n",
       "  </tbody>\n",
       "</table>\n",
       "</div>"
      ],
      "text/plain": [
       "                       title                               categoryName  \\\n",
       "2162        Mirame Y Vestite                    Tienda De Ropa De Mujer   \n",
       "2445   Infracom Coopelectric         Proveedor De Servicios De Internet   \n",
       "3558      Mixer Electronicos          Tienda De Accesorios Para Móviles   \n",
       "2871          Cr Automotores                  Concesionario De Camiones   \n",
       "1518             Juarez Cars               Concesionario De Automóviles   \n",
       "1222  Panaderia Las Delicias                                  Panadería   \n",
       "4089    Electricidad Sudeste  Tienda De Materiales Para La Construcción   \n",
       "3442  Taller Mecanico Penedo                      Taller De Automóviles   \n",
       "4379           Alberto Camus                    Diseñador De Sitios Web   \n",
       "3955        Pintureria Wolpe                         Tienda De Pinturas   \n",
       "\n",
       "                                     website                        street  \\\n",
       "2162                              Incomplete                Rivadavia 3112   \n",
       "2445     http://infracomcoopelectric.com.ar/                 Belgrano 2800   \n",
       "3558                              Incomplete              Darragueira 2216   \n",
       "2871  http://crautomotorescom.wordpress.com/            Av. del Valle 4467   \n",
       "1518                              Incomplete  Av. Pres. Juan Domingo Perón   \n",
       "1222                              Incomplete                    Moreno 570   \n",
       "4089                              Incomplete              Av. Falucho 1223   \n",
       "3442                              Incomplete                     RP30 1400   \n",
       "4379                              Incomplete                    Incomplete   \n",
       "3955                              Incomplete                    Incomplete   \n",
       "\n",
       "                   phone           city                      state  \\\n",
       "2162  +54 9 2284 41-3715      Olavarría  Provincia de Buenos Aires   \n",
       "2445  +54 9 2284 41-9990      Olavarría  Provincia de Buenos Aires   \n",
       "3558  +54 9 249 436-1450         Tandil  Provincia de Buenos Aires   \n",
       "2871  +54 9 2284 41-9044      Olavarría  Provincia de Buenos Aires   \n",
       "1518          Incomplete  Benito Juárez  Provincia de Buenos Aires   \n",
       "1222  +54 9 2281 42-2730           Azul  Provincia de Buenos Aires   \n",
       "4089          Incomplete         Tandil  Provincia de Buenos Aires   \n",
       "3442  +54 9 249 434-5802          Rauch  Provincia de Buenos Aires   \n",
       "4379          Incomplete         Tandil  Provincia de Buenos Aires   \n",
       "3955          Incomplete         Tandil  Provincia de Buenos Aires   \n",
       "\n",
       "      location/lat  location/lng  totalScore  rank  \\\n",
       "2162    -36.891813    -60.319644         4.2    83   \n",
       "2445    -36.893397    -60.321542         2.4     9   \n",
       "3558    -37.298917    -59.125984         4.2    76   \n",
       "2871    -36.908977    -60.313391         4.8     8   \n",
       "1518    -37.679411    -59.799797         0.0   131   \n",
       "1222    -36.778248    -59.860583         4.6    41   \n",
       "4089    -37.320852    -59.106836         0.0    16   \n",
       "3442    -36.763515    -59.089012         0.0    30   \n",
       "4379    -37.319523    -59.142702         0.0    19   \n",
       "3955    -37.323336    -59.139980         0.0    90   \n",
       "\n",
       "                                               imageUrl  imagesCount  \\\n",
       "2162  https://lh3.googleusercontent.com/gps-proxy/AL...          2.0   \n",
       "2445  https://lh3.googleusercontent.com/p/AF1QipNSaB...         14.0   \n",
       "3558  https://lh3.googleusercontent.com/p/AF1QipMPS4...          6.0   \n",
       "2871  https://lh3.googleusercontent.com/p/AF1QipN70Y...         22.0   \n",
       "1518  https://streetviewpixels-pa.googleapis.com/v1/...          1.0   \n",
       "1222  https://lh3.googleusercontent.com/gps-cs-s/AC9...         15.0   \n",
       "4089  https://streetviewpixels-pa.googleapis.com/v1/...          1.0   \n",
       "3442  https://lh3.googleusercontent.com/gps-cs-s/AC9...          7.0   \n",
       "4379  https://lh3.googleusercontent.com/p/AF1QipNxPr...         18.0   \n",
       "3955  https://streetviewpixels-pa.googleapis.com/v1/...          1.0   \n",
       "\n",
       "      reviewsCount           scrapedAt searchString  \n",
       "2162            15 2025-06-11 18:14:10       Tienda  \n",
       "2445           131 2025-06-15 23:33:13    Telefonia  \n",
       "3558             6 2025-05-04 16:08:19     Comercio  \n",
       "2871            15 2025-07-30 14:43:09    Vehiculos  \n",
       "1518             0 2025-05-29 00:54:20       Tienda  \n",
       "1222           265 2025-07-30 14:54:08     Comercio  \n",
       "4089             0 2025-05-28 23:35:29  Electronica  \n",
       "3442             0 2025-07-30 15:10:35    Vehiculos  \n",
       "4379             0 2025-05-29 00:15:25          Web  \n",
       "3955             0 2025-05-04 16:08:52     Comercio  "
      ]
     },
     "execution_count": 10,
     "metadata": {},
     "output_type": "execute_result"
    }
   ],
   "source": [
    "# Muestra aleatoria de 10 filas del DataFrame para una inspección rápida\n",
    "df.sample(10)"
   ]
  },
  {
   "cell_type": "code",
   "execution_count": 11,
   "id": "cc1a7129",
   "metadata": {},
   "outputs": [
    {
     "name": "stdout",
     "output_type": "stream",
     "text": [
      "Total de registros por ciudad:\n",
      "city\n",
      "Tandil           2409\n",
      "Olavarría        1494\n",
      "Azul             1274\n",
      "Benito Juárez     351\n",
      "Rauch             331\n",
      "Name: title, dtype: int64\n"
     ]
    }
   ],
   "source": [
    "# Contar total de registros por ciudad\n",
    "t_business = df.groupby('city')['title'].count().sort_values(ascending=False)\n",
    "t_business\n",
    "print(f\"Total de registros por ciudad:\\n{t_business}\")"
   ]
  },
  {
   "cell_type": "code",
   "execution_count": 12,
   "id": "8a7e97b3",
   "metadata": {},
   "outputs": [
    {
     "name": "stdout",
     "output_type": "stream",
     "text": [
      "El total regional de comercios es: 5859\n"
     ]
    }
   ],
   "source": [
    "business = t_business.sum().sum()  # Total regional de comercios\n",
    "business\n",
    "print(f\"El total regional de comercios es: {business}\")"
   ]
  },
  {
   "cell_type": "code",
   "execution_count": 13,
   "id": "363ac05b",
   "metadata": {},
   "outputs": [
    {
     "name": "stdout",
     "output_type": "stream",
     "text": [
      "Total de registros por ciudad (excluyendo registros incompletos):\n",
      "city\n",
      "Tandil           849\n",
      "Olavarría        497\n",
      "Azul             282\n",
      "Benito Juárez     62\n",
      "Rauch             60\n",
      "Name: website, dtype: int64\n"
     ]
    }
   ],
   "source": [
    "\n",
    "# Contar total de registros por ciudad excluyendo 'incomplete'\n",
    "total_web = (df[~df['website'].str.contains('Incomplete', case=False, na=False)]\n",
    "            .groupby('city')['website'].count()\n",
    "            .sort_values(ascending=False))\n",
    "total_web\n",
    "print(f\"Total de registros por ciudad (excluyendo registros incompletos):\\n{total_web}\")"
   ]
  },
  {
   "cell_type": "code",
   "execution_count": 14,
   "id": "f85737a6",
   "metadata": {},
   "outputs": [
    {
     "name": "stdout",
     "output_type": "stream",
     "text": [
      "El total regional de registros digitales es: 1750\n"
     ]
    }
   ],
   "source": [
    "webs = total_web.sum().sum()\n",
    "print(f\"El total regional de registros digitales es: {webs}\")"
   ]
  },
  {
   "cell_type": "code",
   "execution_count": 15,
   "id": "fbee300b",
   "metadata": {},
   "outputs": [
    {
     "data": {
      "application/vnd.microsoft.datawrangler.viewer.v0+json": {
       "columns": [
        {
         "name": "city",
         "rawType": "object",
         "type": "string"
        },
        {
         "name": "website",
         "rawType": "int64",
         "type": "integer"
        }
       ],
       "ref": "f32fb3f1-6c20-4ad2-a276-7630e1b3937d",
       "rows": [
        [
         "Tandil",
         "1560"
        ],
        [
         "Olavarría",
         "997"
        ],
        [
         "Azul",
         "992"
        ],
        [
         "Benito Juárez",
         "289"
        ],
        [
         "Rauch",
         "271"
        ]
       ],
       "shape": {
        "columns": 1,
        "rows": 5
       }
      },
      "text/plain": [
       "city\n",
       "Tandil           1560\n",
       "Olavarría         997\n",
       "Azul              992\n",
       "Benito Juárez     289\n",
       "Rauch             271\n",
       "Name: website, dtype: int64"
      ]
     },
     "execution_count": 15,
     "metadata": {},
     "output_type": "execute_result"
    }
   ],
   "source": [
    "# Análisis de calidad: datos faltantes agrupados por ciudad\n",
    "incomplete_city = (df[df['website'] == 'Incomplete']\n",
    "                .groupby('city')['website'].count()\n",
    "                .sort_values(ascending=False))\n",
    "incomplete_city"
   ]
  },
  {
   "cell_type": "code",
   "execution_count": 16,
   "id": "a111fa78",
   "metadata": {},
   "outputs": [
    {
     "data": {
      "application/vnd.microsoft.datawrangler.viewer.v0+json": {
       "columns": [
        {
         "name": "index",
         "rawType": "int64",
         "type": "integer"
        },
        {
         "name": "title",
         "rawType": "object",
         "type": "string"
        },
        {
         "name": "categoryName",
         "rawType": "object",
         "type": "string"
        },
        {
         "name": "website",
         "rawType": "object",
         "type": "string"
        },
        {
         "name": "street",
         "rawType": "object",
         "type": "string"
        },
        {
         "name": "phone",
         "rawType": "object",
         "type": "string"
        },
        {
         "name": "city",
         "rawType": "object",
         "type": "string"
        },
        {
         "name": "state",
         "rawType": "object",
         "type": "string"
        },
        {
         "name": "location/lat",
         "rawType": "float64",
         "type": "float"
        },
        {
         "name": "location/lng",
         "rawType": "float64",
         "type": "float"
        },
        {
         "name": "totalScore",
         "rawType": "float64",
         "type": "float"
        },
        {
         "name": "rank",
         "rawType": "int64",
         "type": "integer"
        },
        {
         "name": "imageUrl",
         "rawType": "object",
         "type": "string"
        },
        {
         "name": "imagesCount",
         "rawType": "float64",
         "type": "float"
        },
        {
         "name": "reviewsCount",
         "rawType": "int64",
         "type": "integer"
        },
        {
         "name": "scrapedAt",
         "rawType": "datetime64[ns]",
         "type": "datetime"
        },
        {
         "name": "searchString",
         "rawType": "object",
         "type": "string"
        }
       ],
       "ref": "306e3546-d837-46ad-96d7-ea4e4fa22981",
       "rows": [
        [
         "1",
         "Tecno Computacion",
         "Tienda De Móviles",
         "http://www.tecnocomputacionazul.com/",
         "Lamadrid 33",
         "+54 9 2281 65-7938",
         "Azul",
         "Provincia de Buenos Aires",
         "-36.7649137",
         "-59.8624039",
         "4.6",
         "3",
         "https://lh3.googleusercontent.com/p/AF1QipP9GgrGu9iOG5xNOUsuEUj6fdq4j3xvaLptITLH=w408-h408-k-no",
         "12.0",
         "7",
         "2025-06-15 22:56:54",
         "Tecnologia"
        ],
        [
         "17",
         "Stilton Almacén",
         "Tienda De Alimentación",
         "http://instagram.com/stiltonalmacen",
         "Moreno 850",
         "+54 9 2281 66-6262",
         "Azul",
         "Provincia de Buenos Aires",
         "-36.7818689",
         "-59.8649548",
         "4.5",
         "54",
         "https://lh3.googleusercontent.com/p/AF1QipOsq_B4qfSE_a1vZPEXCp-DZRoobdy6fYkofOsC=w427-h240-k-no",
         "18.0",
         "23",
         "2025-06-15 22:57:00",
         "Comercio"
        ],
        [
         "37",
         "Campos Del Centro Srl",
         "Comercio",
         "https://www.instagram.com/camposdelcentrosrl/",
         "C. 61 535",
         "+54 9 2281 50-1288",
         "Azul",
         "Provincia de Buenos Aires",
         "-36.7921744",
         "-59.8413099",
         "4.4",
         "13",
         "https://lh3.googleusercontent.com/p/AF1QipN00H7ZU7M72VrqrWe46YTWFDnjldiT-qYTtYNH=w426-h240-k-no",
         "9.0",
         "8",
         "2025-06-15 22:56:57",
         "Comercio"
        ],
        [
         "43",
         "Drugstore Center Azul",
         "Kiosco",
         "https://instagram.com/drugstore_center_azul?igshid=h8b7x73qzzsw",
         "Av.Mitre 401 Av 25 de Mayo esq Tandil Av Caneva 534 H.Irigoyen esq Moreno, Av. 25 de Mayo 1326",
         "+54 9 2281 51-1652",
         "Azul",
         "Provincia de Buenos Aires",
         "-36.7788745",
         "-59.8610032",
         "4.7",
         "7",
         "https://lh3.googleusercontent.com/p/AF1QipOFa3z10f5yZqEu_c6gX1UJ_gKt5M6fBLU3Od_r=w408-h271-k-no",
         "3.0",
         "42",
         "2025-06-15 22:56:57",
         "Comercio"
        ],
        [
         "45",
         "Suttò Piedras Y Aromas",
         "Comercio",
         "https://instagram.com/sutto.artesanias?igshid=MzRlODBiNWFlZA==",
         "Rauch 959",
         "+54 9 2281 56-7256",
         "Azul",
         "Provincia de Buenos Aires",
         "-36.7863139",
         "-59.8632744",
         "5.0",
         "5",
         "https://lh3.googleusercontent.com/p/AF1QipO03jpDH7tmFyg0VeiPalAF1OhMM5FKLrmAMn4O=w408-h324-k-no",
         "14.0",
         "94",
         "2025-06-15 22:56:57",
         "Comercio"
        ]
       ],
       "shape": {
        "columns": 16,
        "rows": 5
       }
      },
      "text/html": [
       "<div>\n",
       "<style scoped>\n",
       "    .dataframe tbody tr th:only-of-type {\n",
       "        vertical-align: middle;\n",
       "    }\n",
       "\n",
       "    .dataframe tbody tr th {\n",
       "        vertical-align: top;\n",
       "    }\n",
       "\n",
       "    .dataframe thead th {\n",
       "        text-align: right;\n",
       "    }\n",
       "</style>\n",
       "<table border=\"1\" class=\"dataframe\">\n",
       "  <thead>\n",
       "    <tr style=\"text-align: right;\">\n",
       "      <th></th>\n",
       "      <th>title</th>\n",
       "      <th>categoryName</th>\n",
       "      <th>website</th>\n",
       "      <th>street</th>\n",
       "      <th>phone</th>\n",
       "      <th>city</th>\n",
       "      <th>state</th>\n",
       "      <th>location/lat</th>\n",
       "      <th>location/lng</th>\n",
       "      <th>totalScore</th>\n",
       "      <th>rank</th>\n",
       "      <th>imageUrl</th>\n",
       "      <th>imagesCount</th>\n",
       "      <th>reviewsCount</th>\n",
       "      <th>scrapedAt</th>\n",
       "      <th>searchString</th>\n",
       "    </tr>\n",
       "  </thead>\n",
       "  <tbody>\n",
       "    <tr>\n",
       "      <th>1</th>\n",
       "      <td>Tecno Computacion</td>\n",
       "      <td>Tienda De Móviles</td>\n",
       "      <td>http://www.tecnocomputacionazul.com/</td>\n",
       "      <td>Lamadrid 33</td>\n",
       "      <td>+54 9 2281 65-7938</td>\n",
       "      <td>Azul</td>\n",
       "      <td>Provincia de Buenos Aires</td>\n",
       "      <td>-36.764914</td>\n",
       "      <td>-59.862404</td>\n",
       "      <td>4.6</td>\n",
       "      <td>3</td>\n",
       "      <td>https://lh3.googleusercontent.com/p/AF1QipP9Gg...</td>\n",
       "      <td>12.0</td>\n",
       "      <td>7</td>\n",
       "      <td>2025-06-15 22:56:54</td>\n",
       "      <td>Tecnologia</td>\n",
       "    </tr>\n",
       "    <tr>\n",
       "      <th>17</th>\n",
       "      <td>Stilton Almacén</td>\n",
       "      <td>Tienda De Alimentación</td>\n",
       "      <td>http://instagram.com/stiltonalmacen</td>\n",
       "      <td>Moreno 850</td>\n",
       "      <td>+54 9 2281 66-6262</td>\n",
       "      <td>Azul</td>\n",
       "      <td>Provincia de Buenos Aires</td>\n",
       "      <td>-36.781869</td>\n",
       "      <td>-59.864955</td>\n",
       "      <td>4.5</td>\n",
       "      <td>54</td>\n",
       "      <td>https://lh3.googleusercontent.com/p/AF1QipOsq_...</td>\n",
       "      <td>18.0</td>\n",
       "      <td>23</td>\n",
       "      <td>2025-06-15 22:57:00</td>\n",
       "      <td>Comercio</td>\n",
       "    </tr>\n",
       "    <tr>\n",
       "      <th>37</th>\n",
       "      <td>Campos Del Centro Srl</td>\n",
       "      <td>Comercio</td>\n",
       "      <td>https://www.instagram.com/camposdelcentrosrl/</td>\n",
       "      <td>C. 61 535</td>\n",
       "      <td>+54 9 2281 50-1288</td>\n",
       "      <td>Azul</td>\n",
       "      <td>Provincia de Buenos Aires</td>\n",
       "      <td>-36.792174</td>\n",
       "      <td>-59.841310</td>\n",
       "      <td>4.4</td>\n",
       "      <td>13</td>\n",
       "      <td>https://lh3.googleusercontent.com/p/AF1QipN00H...</td>\n",
       "      <td>9.0</td>\n",
       "      <td>8</td>\n",
       "      <td>2025-06-15 22:56:57</td>\n",
       "      <td>Comercio</td>\n",
       "    </tr>\n",
       "    <tr>\n",
       "      <th>43</th>\n",
       "      <td>Drugstore Center Azul</td>\n",
       "      <td>Kiosco</td>\n",
       "      <td>https://instagram.com/drugstore_center_azul?ig...</td>\n",
       "      <td>Av.Mitre 401 Av 25 de Mayo esq Tandil Av Canev...</td>\n",
       "      <td>+54 9 2281 51-1652</td>\n",
       "      <td>Azul</td>\n",
       "      <td>Provincia de Buenos Aires</td>\n",
       "      <td>-36.778875</td>\n",
       "      <td>-59.861003</td>\n",
       "      <td>4.7</td>\n",
       "      <td>7</td>\n",
       "      <td>https://lh3.googleusercontent.com/p/AF1QipOFa3...</td>\n",
       "      <td>3.0</td>\n",
       "      <td>42</td>\n",
       "      <td>2025-06-15 22:56:57</td>\n",
       "      <td>Comercio</td>\n",
       "    </tr>\n",
       "    <tr>\n",
       "      <th>45</th>\n",
       "      <td>Suttò Piedras Y Aromas</td>\n",
       "      <td>Comercio</td>\n",
       "      <td>https://instagram.com/sutto.artesanias?igshid=...</td>\n",
       "      <td>Rauch 959</td>\n",
       "      <td>+54 9 2281 56-7256</td>\n",
       "      <td>Azul</td>\n",
       "      <td>Provincia de Buenos Aires</td>\n",
       "      <td>-36.786314</td>\n",
       "      <td>-59.863274</td>\n",
       "      <td>5.0</td>\n",
       "      <td>5</td>\n",
       "      <td>https://lh3.googleusercontent.com/p/AF1QipO03j...</td>\n",
       "      <td>14.0</td>\n",
       "      <td>94</td>\n",
       "      <td>2025-06-15 22:56:57</td>\n",
       "      <td>Comercio</td>\n",
       "    </tr>\n",
       "  </tbody>\n",
       "</table>\n",
       "</div>"
      ],
      "text/plain": [
       "                     title            categoryName  \\\n",
       "1        Tecno Computacion       Tienda De Móviles   \n",
       "17         Stilton Almacén  Tienda De Alimentación   \n",
       "37   Campos Del Centro Srl                Comercio   \n",
       "43   Drugstore Center Azul                  Kiosco   \n",
       "45  Suttò Piedras Y Aromas                Comercio   \n",
       "\n",
       "                                              website  \\\n",
       "1                http://www.tecnocomputacionazul.com/   \n",
       "17                http://instagram.com/stiltonalmacen   \n",
       "37      https://www.instagram.com/camposdelcentrosrl/   \n",
       "43  https://instagram.com/drugstore_center_azul?ig...   \n",
       "45  https://instagram.com/sutto.artesanias?igshid=...   \n",
       "\n",
       "                                               street               phone  \\\n",
       "1                                         Lamadrid 33  +54 9 2281 65-7938   \n",
       "17                                         Moreno 850  +54 9 2281 66-6262   \n",
       "37                                          C. 61 535  +54 9 2281 50-1288   \n",
       "43  Av.Mitre 401 Av 25 de Mayo esq Tandil Av Canev...  +54 9 2281 51-1652   \n",
       "45                                          Rauch 959  +54 9 2281 56-7256   \n",
       "\n",
       "    city                      state  location/lat  location/lng  totalScore  \\\n",
       "1   Azul  Provincia de Buenos Aires    -36.764914    -59.862404         4.6   \n",
       "17  Azul  Provincia de Buenos Aires    -36.781869    -59.864955         4.5   \n",
       "37  Azul  Provincia de Buenos Aires    -36.792174    -59.841310         4.4   \n",
       "43  Azul  Provincia de Buenos Aires    -36.778875    -59.861003         4.7   \n",
       "45  Azul  Provincia de Buenos Aires    -36.786314    -59.863274         5.0   \n",
       "\n",
       "    rank                                           imageUrl  imagesCount  \\\n",
       "1      3  https://lh3.googleusercontent.com/p/AF1QipP9Gg...         12.0   \n",
       "17    54  https://lh3.googleusercontent.com/p/AF1QipOsq_...         18.0   \n",
       "37    13  https://lh3.googleusercontent.com/p/AF1QipN00H...          9.0   \n",
       "43     7  https://lh3.googleusercontent.com/p/AF1QipOFa3...          3.0   \n",
       "45     5  https://lh3.googleusercontent.com/p/AF1QipO03j...         14.0   \n",
       "\n",
       "    reviewsCount           scrapedAt searchString  \n",
       "1              7 2025-06-15 22:56:54   Tecnologia  \n",
       "17            23 2025-06-15 22:57:00     Comercio  \n",
       "37             8 2025-06-15 22:56:57     Comercio  \n",
       "43            42 2025-06-15 22:56:57     Comercio  \n",
       "45            94 2025-06-15 22:56:57     Comercio  "
      ]
     },
     "execution_count": 16,
     "metadata": {},
     "output_type": "execute_result"
    }
   ],
   "source": [
    "# Crear nuevo DataFrame filtrando registros completos\n",
    "# Excluye filas que contengan 'incomplete' en cualquiera de las columnas\n",
    "df_full_records = df[~(df == 'Incomplete').any(axis=1)].copy()\n",
    "# Resultado: DataFrame con registros que tienen datos completos en todas las columnas\n",
    "df_full_records.head(5)"
   ]
  },
  {
   "cell_type": "code",
   "execution_count": 17,
   "id": "31cc5261",
   "metadata": {},
   "outputs": [
    {
     "data": {
      "application/vnd.microsoft.datawrangler.viewer.v0+json": {
       "columns": [
        {
         "name": "categoryName",
         "rawType": "object",
         "type": "string"
        },
        {
         "name": "count",
         "rawType": "int64",
         "type": "integer"
        }
       ],
       "ref": "697e3fbc-5187-40f4-bf03-eaad85f56663",
       "rows": [
        [
         "Tienda De Ropa",
         "105"
        ],
        [
         "Agencia Inmobiliaria",
         "84"
        ],
        [
         "Tienda De Materiales Para La Construcción",
         "52"
        ],
        [
         "Comercio",
         "49"
        ],
        [
         "Tienda De Repuestos Para Automóviles",
         "42"
        ],
        [
         "Tienda De Ropa De Mujer",
         "30"
        ],
        [
         "Tienda De Artículos Para El Hogar",
         "30"
        ],
        [
         "Concesionario De Automóviles",
         "23"
        ],
        [
         "Tienda De Informática",
         "23"
        ],
        [
         "Tienda De Muebles",
         "21"
        ],
        [
         "Tienda De Pinturas",
         "19"
        ],
        [
         "Gasolinera",
         "18"
        ],
        [
         "Tienda De Alimentación",
         "18"
        ],
        [
         "Taller Mecánico",
         "17"
        ],
        [
         "Empresa Constructora",
         "17"
        ],
        [
         "Heladería",
         "16"
        ],
        [
         "Taller De Reparación De Automóviles",
         "16"
        ],
        [
         "Supermercado",
         "16"
        ],
        [
         "Quesería",
         "16"
        ],
        [
         "Tienda De Ropa De Deportes",
         "16"
        ],
        [
         "Tienda De Ropa Infantil",
         "16"
        ],
        [
         "Tienda De Electrodomésticos",
         "15"
        ],
        [
         "Servicio De Cambio De Aceite",
         "15"
        ],
        [
         "Ferretería",
         "14"
        ],
        [
         "Farmacia",
         "13"
        ],
        [
         "Agentes Inmobiliarios",
         "12"
        ],
        [
         "Tienda De Móviles",
         "11"
        ],
        [
         "Librería",
         "11"
        ],
        [
         "Tienda De Electrónica",
         "11"
        ],
        [
         "Proveedor De Materiales De Construcción",
         "11"
        ],
        [
         "Tienda De Regalos",
         "11"
        ],
        [
         "Tienda De Ropa De Hombre",
         "10"
        ],
        [
         "Tienda De Neumáticos",
         "10"
        ],
        [
         "Tienda De Ropa Para Bebés",
         "10"
        ],
        [
         "Juguetería",
         "10"
        ],
        [
         "Tienda De Herramientas",
         "10"
        ],
        [
         "Tienda De Alimentos Naturales",
         "9"
        ],
        [
         "Colchonería",
         "9"
        ],
        [
         "Club Deportivo",
         "9"
        ],
        [
         "Diseñador De Sitios Web",
         "9"
        ],
        [
         "Oficinas De Empresa",
         "9"
        ],
        [
         "Empresa De Software",
         "8"
        ],
        [
         "Tienda De Alimentos Para Animales",
         "8"
        ],
        [
         "Taller De Maquinaria",
         "8"
        ],
        [
         "Establecimiento De Venta De Madera",
         "7"
        ],
        [
         "Concesionario De Motos",
         "7"
        ],
        [
         "Zapatería",
         "7"
        ],
        [
         "Soporte Y Servicios Informáticos",
         "7"
        ],
        [
         "Tienda De Cubertería",
         "7"
        ],
        [
         "Tienda De Fotografía",
         "7"
        ]
       ],
       "shape": {
        "columns": 1,
        "rows": 352
       }
      },
      "text/plain": [
       "categoryName\n",
       "Tienda De Ropa                               105\n",
       "Agencia Inmobiliaria                          84\n",
       "Tienda De Materiales Para La Construcción     52\n",
       "Comercio                                      49\n",
       "Tienda De Repuestos Para Automóviles          42\n",
       "                                            ... \n",
       "Equipos Para Panaderías                        1\n",
       "Chatarrería                                    1\n",
       "Contratista De Materiales Para Suelos          1\n",
       "Residencia De Ancianos                         1\n",
       "Contratista                                    1\n",
       "Name: count, Length: 352, dtype: int64"
      ]
     },
     "execution_count": 17,
     "metadata": {},
     "output_type": "execute_result"
    }
   ],
   "source": [
    "df_full_records['categoryName'].value_counts()"
   ]
  },
  {
   "cell_type": "code",
   "execution_count": 18,
   "id": "fef82e53",
   "metadata": {},
   "outputs": [
    {
     "name": "stdout",
     "output_type": "stream",
     "text": [
      "De los 1750 registros digitales totales, los que tienen dominio propio son 941\n"
     ]
    }
   ],
   "source": [
    "word = ['facebook', 'instagram', 'mercadolibre', 'mercadoshops', 'tiendanube', 'paginasamarillas', \n",
    "        'guia-dorada', 'gurugo', 'wa.me', 'sites.google.', 'region20', 'Incomplete']\n",
    "# Crear máscara combinada\n",
    "contains_word = df['website'].str.contains('|'.join(word), case=False, na=False)\n",
    "# Contar los que NO contienen ninguna de esas palabras\n",
    "dominio_Propio = (~contains_word).sum()\n",
    "dominio_Propio\n",
    "print(f\"De los {webs} registros digitales totales, los que tienen dominio propio son {dominio_Propio}\")"
   ]
  },
  {
   "cell_type": "code",
   "execution_count": 19,
   "id": "766ca0aa",
   "metadata": {},
   "outputs": [
    {
     "data": {
      "application/vnd.microsoft.datawrangler.viewer.v0+json": {
       "columns": [
        {
         "name": "index",
         "rawType": "object",
         "type": "string"
        },
        {
         "name": "0",
         "rawType": "int64",
         "type": "integer"
        }
       ],
       "ref": "aba5f039-2559-448d-9903-52d1b15b7d5e",
       "rows": [
        [
         "instagram",
         "336"
        ],
        [
         "facebook",
         "317"
        ],
        [
         "guia-dorada",
         "68"
        ],
        [
         "tiendanube",
         "36"
        ],
        [
         "wa.me",
         "15"
        ],
        [
         "sites.google.",
         "13"
        ],
        [
         "gurugo",
         "8"
        ],
        [
         "mercadoshops",
         "8"
        ],
        [
         "region20",
         "5"
        ],
        [
         "mercadolibre",
         "3"
        ],
        [
         "paginasamarillas",
         "2"
        ],
        [
         "pedidosya",
         "1"
        ]
       ],
       "shape": {
        "columns": 1,
        "rows": 12
       }
      },
      "text/plain": [
       "instagram           336\n",
       "facebook            317\n",
       "guia-dorada          68\n",
       "tiendanube           36\n",
       "wa.me                15\n",
       "sites.google.        13\n",
       "gurugo                8\n",
       "mercadoshops          8\n",
       "region20              5\n",
       "mercadolibre          3\n",
       "paginasamarillas      2\n",
       "pedidosya             1\n",
       "dtype: int64"
      ]
     },
     "execution_count": 19,
     "metadata": {},
     "output_type": "execute_result"
    }
   ],
   "source": [
    "# Identifica las plataformas digitales más utilizadas por los negocios\n",
    "words = ['facebook', 'instagram', 'mercadolibre', 'mercadoshops', 'tiendanube', 'paginasamarillas', \n",
    "        'guia-dorada', 'gurugo', 'wa.me', 'sites.google.', 'pedidosya', 'region20']\n",
    "# Se cuenta cuántos negocios utilizan cada plataforma en sus URLs de website\n",
    "# El método str.contains() busca cada palabra en la columna 'website' (ignorando mayúsculas/minúsculas)\n",
    "# Los resultados se ordenan de mayor a menor para identificar las plataformas más populares\n",
    "result = (pd.Series({word: df['website'].str.contains(word, case=False, na=False).sum() \n",
    "                for word in words})\n",
    "        .sort_values(ascending=False))\n",
    "\n",
    "result"
   ]
  },
  {
   "cell_type": "code",
   "execution_count": 20,
   "id": "27d1aa55",
   "metadata": {},
   "outputs": [
    {
     "data": {
      "application/vnd.microsoft.datawrangler.viewer.v0+json": {
       "columns": [
        {
         "name": "index",
         "rawType": "object",
         "type": "string"
        },
        {
         "name": "count",
         "rawType": "float64",
         "type": "float"
        },
        {
         "name": "percentage",
         "rawType": "float64",
         "type": "float"
        }
       ],
       "ref": "c0b6d582-6b35-4d6e-ae42-0d4fc9070437",
       "rows": [
        [
         "dominio_Propio",
         "941.0",
         "53.77"
        ],
        [
         "instagram",
         "336.0",
         "19.2"
        ],
        [
         "facebook",
         "317.0",
         "18.11"
        ],
        [
         "guia-dorada",
         "68.0",
         "3.89"
        ],
        [
         "tiendanube",
         "36.0",
         "2.06"
        ],
        [
         "wa.me",
         "15.0",
         "0.86"
        ],
        [
         "sites.google.",
         "13.0",
         "0.74"
        ],
        [
         "mercadoshops",
         "8.0",
         "0.46"
        ],
        [
         "gurugo",
         "8.0",
         "0.46"
        ],
        [
         "region20",
         "5.0",
         "0.29"
        ],
        [
         "mercadolibre",
         "3.0",
         "0.17"
        ],
        [
         "paginasamarillas",
         "2.0",
         "0.11"
        ],
        [
         "pedidosya",
         "1.0",
         "0.06"
        ]
       ],
       "shape": {
        "columns": 2,
        "rows": 13
       }
      },
      "text/html": [
       "<div>\n",
       "<style scoped>\n",
       "    .dataframe tbody tr th:only-of-type {\n",
       "        vertical-align: middle;\n",
       "    }\n",
       "\n",
       "    .dataframe tbody tr th {\n",
       "        vertical-align: top;\n",
       "    }\n",
       "\n",
       "    .dataframe thead th {\n",
       "        text-align: right;\n",
       "    }\n",
       "</style>\n",
       "<table border=\"1\" class=\"dataframe\">\n",
       "  <thead>\n",
       "    <tr style=\"text-align: right;\">\n",
       "      <th></th>\n",
       "      <th>count</th>\n",
       "      <th>percentage</th>\n",
       "    </tr>\n",
       "  </thead>\n",
       "  <tbody>\n",
       "    <tr>\n",
       "      <th>dominio_Propio</th>\n",
       "      <td>941.0</td>\n",
       "      <td>53.77</td>\n",
       "    </tr>\n",
       "    <tr>\n",
       "      <th>instagram</th>\n",
       "      <td>336.0</td>\n",
       "      <td>19.20</td>\n",
       "    </tr>\n",
       "    <tr>\n",
       "      <th>facebook</th>\n",
       "      <td>317.0</td>\n",
       "      <td>18.11</td>\n",
       "    </tr>\n",
       "    <tr>\n",
       "      <th>guia-dorada</th>\n",
       "      <td>68.0</td>\n",
       "      <td>3.89</td>\n",
       "    </tr>\n",
       "    <tr>\n",
       "      <th>tiendanube</th>\n",
       "      <td>36.0</td>\n",
       "      <td>2.06</td>\n",
       "    </tr>\n",
       "    <tr>\n",
       "      <th>wa.me</th>\n",
       "      <td>15.0</td>\n",
       "      <td>0.86</td>\n",
       "    </tr>\n",
       "    <tr>\n",
       "      <th>sites.google.</th>\n",
       "      <td>13.0</td>\n",
       "      <td>0.74</td>\n",
       "    </tr>\n",
       "    <tr>\n",
       "      <th>mercadoshops</th>\n",
       "      <td>8.0</td>\n",
       "      <td>0.46</td>\n",
       "    </tr>\n",
       "    <tr>\n",
       "      <th>gurugo</th>\n",
       "      <td>8.0</td>\n",
       "      <td>0.46</td>\n",
       "    </tr>\n",
       "    <tr>\n",
       "      <th>region20</th>\n",
       "      <td>5.0</td>\n",
       "      <td>0.29</td>\n",
       "    </tr>\n",
       "    <tr>\n",
       "      <th>mercadolibre</th>\n",
       "      <td>3.0</td>\n",
       "      <td>0.17</td>\n",
       "    </tr>\n",
       "    <tr>\n",
       "      <th>paginasamarillas</th>\n",
       "      <td>2.0</td>\n",
       "      <td>0.11</td>\n",
       "    </tr>\n",
       "    <tr>\n",
       "      <th>pedidosya</th>\n",
       "      <td>1.0</td>\n",
       "      <td>0.06</td>\n",
       "    </tr>\n",
       "  </tbody>\n",
       "</table>\n",
       "</div>"
      ],
      "text/plain": [
       "                  count  percentage\n",
       "dominio_Propio    941.0       53.77\n",
       "instagram         336.0       19.20\n",
       "facebook          317.0       18.11\n",
       "guia-dorada        68.0        3.89\n",
       "tiendanube         36.0        2.06\n",
       "wa.me              15.0        0.86\n",
       "sites.google.      13.0        0.74\n",
       "mercadoshops        8.0        0.46\n",
       "gurugo              8.0        0.46\n",
       "region20            5.0        0.29\n",
       "mercadolibre        3.0        0.17\n",
       "paginasamarillas    2.0        0.11\n",
       "pedidosya           1.0        0.06"
      ]
     },
     "execution_count": 20,
     "metadata": {},
     "output_type": "execute_result"
    }
   ],
   "source": [
    "# 1. Armar la tabla base con las plataformas detectadas\n",
    "result_df = pd.DataFrame({\n",
    "    'count': result,\n",
    "    'percentage': (result / webs * 100).round(2)\n",
    "})\n",
    "\n",
    "# 2. Agregar fila de own_Domain\n",
    "result_df.loc[\"dominio_Propio\"] = [dominio_Propio, round((dominio_Propio / webs) * 100, 2)]\n",
    "\n",
    "# 3. Reordenar por count descendente (para que own_Domain no quede al final desordenado)\n",
    "result_df = result_df.sort_values(\"count\", ascending=False)\n",
    "\n",
    "result_df\n"
   ]
  },
  {
   "cell_type": "code",
   "execution_count": 21,
   "id": "c4e8af06",
   "metadata": {},
   "outputs": [
    {
     "data": {
      "application/vnd.microsoft.datawrangler.viewer.v0+json": {
       "columns": [
        {
         "name": "index",
         "rawType": "object",
         "type": "string"
        },
        {
         "name": "count",
         "rawType": "int64",
         "type": "integer"
        },
        {
         "name": "percentage",
         "rawType": "float64",
         "type": "float"
        }
       ],
       "ref": "17e0d09c-9daf-4011-b598-e548f520a084",
       "rows": [
        [
         "Dominio propio",
         "941",
         "53.77"
        ],
        [
         "Instagram",
         "336",
         "19.2"
        ],
        [
         "Facebook",
         "317",
         "18.11"
        ],
        [
         "Guía Dorada",
         "68",
         "3.89"
        ],
        [
         "TiendaNube",
         "36",
         "2.06"
        ],
        [
         "WhatsApp",
         "15",
         "0.86"
        ],
        [
         "Google Sites",
         "13",
         "0.74"
        ],
        [
         "Gurugo",
         "8",
         "0.46"
        ],
        [
         "MercadoShops",
         "8",
         "0.46"
        ],
        [
         "Región20",
         "5",
         "0.29"
        ],
        [
         "Mercado Libre",
         "3",
         "0.17"
        ],
        [
         "Páginas Amarillas",
         "2",
         "0.11"
        ],
        [
         "PedidosYa",
         "1",
         "0.06"
        ]
       ],
       "shape": {
        "columns": 2,
        "rows": 13
       }
      },
      "text/html": [
       "<div>\n",
       "<style scoped>\n",
       "    .dataframe tbody tr th:only-of-type {\n",
       "        vertical-align: middle;\n",
       "    }\n",
       "\n",
       "    .dataframe tbody tr th {\n",
       "        vertical-align: top;\n",
       "    }\n",
       "\n",
       "    .dataframe thead th {\n",
       "        text-align: right;\n",
       "    }\n",
       "</style>\n",
       "<table border=\"1\" class=\"dataframe\">\n",
       "  <thead>\n",
       "    <tr style=\"text-align: right;\">\n",
       "      <th></th>\n",
       "      <th>count</th>\n",
       "      <th>percentage</th>\n",
       "    </tr>\n",
       "  </thead>\n",
       "  <tbody>\n",
       "    <tr>\n",
       "      <th>Dominio propio</th>\n",
       "      <td>941</td>\n",
       "      <td>53.77</td>\n",
       "    </tr>\n",
       "    <tr>\n",
       "      <th>Instagram</th>\n",
       "      <td>336</td>\n",
       "      <td>19.20</td>\n",
       "    </tr>\n",
       "    <tr>\n",
       "      <th>Facebook</th>\n",
       "      <td>317</td>\n",
       "      <td>18.11</td>\n",
       "    </tr>\n",
       "    <tr>\n",
       "      <th>Guía Dorada</th>\n",
       "      <td>68</td>\n",
       "      <td>3.89</td>\n",
       "    </tr>\n",
       "    <tr>\n",
       "      <th>TiendaNube</th>\n",
       "      <td>36</td>\n",
       "      <td>2.06</td>\n",
       "    </tr>\n",
       "    <tr>\n",
       "      <th>WhatsApp</th>\n",
       "      <td>15</td>\n",
       "      <td>0.86</td>\n",
       "    </tr>\n",
       "    <tr>\n",
       "      <th>Google Sites</th>\n",
       "      <td>13</td>\n",
       "      <td>0.74</td>\n",
       "    </tr>\n",
       "    <tr>\n",
       "      <th>Gurugo</th>\n",
       "      <td>8</td>\n",
       "      <td>0.46</td>\n",
       "    </tr>\n",
       "    <tr>\n",
       "      <th>MercadoShops</th>\n",
       "      <td>8</td>\n",
       "      <td>0.46</td>\n",
       "    </tr>\n",
       "    <tr>\n",
       "      <th>Región20</th>\n",
       "      <td>5</td>\n",
       "      <td>0.29</td>\n",
       "    </tr>\n",
       "    <tr>\n",
       "      <th>Mercado Libre</th>\n",
       "      <td>3</td>\n",
       "      <td>0.17</td>\n",
       "    </tr>\n",
       "    <tr>\n",
       "      <th>Páginas Amarillas</th>\n",
       "      <td>2</td>\n",
       "      <td>0.11</td>\n",
       "    </tr>\n",
       "    <tr>\n",
       "      <th>PedidosYa</th>\n",
       "      <td>1</td>\n",
       "      <td>0.06</td>\n",
       "    </tr>\n",
       "  </tbody>\n",
       "</table>\n",
       "</div>"
      ],
      "text/plain": [
       "                   count  percentage\n",
       "Dominio propio       941       53.77\n",
       "Instagram            336       19.20\n",
       "Facebook             317       18.11\n",
       "Guía Dorada           68        3.89\n",
       "TiendaNube            36        2.06\n",
       "WhatsApp              15        0.86\n",
       "Google Sites          13        0.74\n",
       "Gurugo                 8        0.46\n",
       "MercadoShops           8        0.46\n",
       "Región20               5        0.29\n",
       "Mercado Libre          3        0.17\n",
       "Páginas Amarillas      2        0.11\n",
       "PedidosYa              1        0.06"
      ]
     },
     "execution_count": 21,
     "metadata": {},
     "output_type": "execute_result"
    }
   ],
   "source": [
    "# Diccionario: palabra a buscar\n",
    "words_dict = {\n",
    "    'facebook': 'Facebook',\n",
    "    'instagram': 'Instagram',\n",
    "    'mercadolibre': 'Mercado Libre',\n",
    "    'mercadoshops': 'MercadoShops',\n",
    "    'tiendanube': 'TiendaNube',\n",
    "    'paginasamarillas': 'Páginas Amarillas',\n",
    "    'guia-dorada': 'Guía Dorada',\n",
    "    'gurugo': 'Gurugo',\n",
    "    'wa.me': 'WhatsApp',\n",
    "    'sites.google.': 'Google Sites',\n",
    "    'pedidosya': 'PedidosYa',\n",
    "    'region20': 'Región20'\n",
    "}\n",
    "# Conteo por cada palabra\n",
    "result = pd.Series({\n",
    "    label: df['website'].str.contains(word, case=False, na=False).sum()\n",
    "    for word, label in words_dict.items()\n",
    "})\n",
    "\n",
    "# Agregar dominios propios\n",
    "result[\"Dominio propio\"] = dominio_Propio\n",
    "\n",
    "# Tabla final con porcentajes\n",
    "result_df = pd.DataFrame({\n",
    "    \"count\": result,\n",
    "    \"percentage\": (result / webs * 100).round(2)\n",
    "}).sort_values(\"count\", ascending=False)\n",
    "result_df"
   ]
  },
  {
   "cell_type": "code",
   "execution_count": 22,
   "id": "c8dc259b",
   "metadata": {},
   "outputs": [
    {
     "name": "stdout",
     "output_type": "stream",
     "text": [
      "📋 RESUMEN DEL ANÁLISIS\n",
      "🔹 Total de categorías: 13\n",
      "🔹 Categorías mostradas (con cantidades mayores a 10): 7\n",
      "🔹 Rango de valores mostrados: 13 - 941 negocios\n",
      "🔹 Categoría líder: Dominio propio (941 negocios)\n",
      "🔹 Total negocios digitalizados analizados: 1726\n"
     ]
    },
    {
     "data": {
      "image/png": "[encoded data removed]",
      "text/plain": [
       "<Figure size 1200x700 with 1 Axes>"
      ]
     },
     "metadata": {},
     "output_type": "display_data"
    }
   ],
   "source": [
    "# Filtrado de datos para análisis enfocado\n",
    "# Solo categorías con más de 10 negocios para mayor relevancia estadística\n",
    "result_df_filtered = result_df[result_df[\"count\"] > 10]\n",
    "\n",
    "# Resumen del dataset filtrado\n",
    "print(\"📋 RESUMEN DEL ANÁLISIS\")\n",
    "print(f\"🔹 Total de categorías: {len(result_df)}\")\n",
    "print(f\"🔹 Categorías mostradas (con cantidades mayores a 10): {len(result_df_filtered)}\")\n",
    "print(f\"🔹 Rango de valores mostrados: {result_df_filtered['count'].min()} - {result_df_filtered['count'].max()} negocios\")\n",
    "print(f\"🔹 Categoría líder: {result_df_filtered.index[0]} ({result_df_filtered['count'].iloc[0]} negocios)\")\n",
    "print(f\"🔹 Total negocios digitalizados analizados: {result_df_filtered['count'].sum()}\")\n",
    "\n",
    "# Configuración del gráfico\n",
    "fig, ax = plt.subplots(figsize=(12, 7), facecolor='white')\n",
    "color_principal = '#2E86AB'  # Color corporativo azul\n",
    "\n",
    "# Crea gráfico de barras horizontales\n",
    "# Formato horizontal facilita la lectura de nombres largos de categorías\n",
    "bars = ax.barh(\n",
    "    result_df_filtered.index,          # Categorías en eje Y\n",
    "    result_df_filtered[\"count\"],       # Valores en eje X\n",
    "    color=color_principal,              \n",
    "    edgecolor='white',                 # Bordes blancos para separación visual\n",
    "    linewidth=2,                        \n",
    "    alpha=0.85,                        # Transparencia para suavidad\n",
    "    height=0.6                         # Altura optimizada para legibilidad\n",
    ")\n",
    "\n",
    "# Títulos informativos con jerarquía visual\n",
    "ax.text(0.5, 1.08, 'Análisis de Presencia Digital por Categoría Comercial', \n",
    "        transform=ax.transAxes,      \n",
    "        fontsize=12, \n",
    "        ha='center',                  \n",
    "        va='bottom',                   \n",
    "        fontweight='bold',\n",
    "        alpha=0.8)\n",
    "\n",
    "# Subtítulo descriptivo de las plataformas incluidas\n",
    "ax.text(0.5, 1.04, 'Sitios Web • Marketplaces • E-commerce • Redes Sociales • Directorios Digitales', \n",
    "        transform=ax.transAxes,      \n",
    "        fontsize=10, \n",
    "        ha='center',                  \n",
    "        va='bottom',                   \n",
    "        alpha=0.7,\n",
    "        style='italic')       \n",
    "\n",
    "# Etiquetas de valores en cada barra\n",
    "# Con fondo contrastante para mejor legibilidad\n",
    "for bar in bars:\n",
    "    width = bar.get_width()             \n",
    "    \n",
    "    ax.annotate(f'{int(width)}',        # Mostrar valor entero\n",
    "                xy=(width, bar.get_y() + bar.get_height()/2), \n",
    "                xytext=(5, 0),          # Offset de 5px desde el final de la barra\n",
    "                textcoords=\"offset points\",\n",
    "                ha='left',\n",
    "                va='center', \n",
    "                fontweight='bold',\n",
    "                fontsize=10,\n",
    "                color='white',          # Texto blanco sobre fondo oscuro\n",
    "                bbox=dict(              # Fondo redondeado para destacar\n",
    "                    boxstyle=\"round,pad=0.2\",\n",
    "                    facecolor='black', \n",
    "                    alpha=0.6\n",
    "                ))\n",
    "\n",
    "# Personalización de ejes con etiquetas descriptivas\n",
    "ax.set_xlabel(\"Cantidad de Negocios\", \n",
    "            fontsize=14, \n",
    "            fontweight='bold', \n",
    "            labelpad=15)             \n",
    "\n",
    "ax.set_ylabel(\"Plataformas\", \n",
    "            fontsize=14, \n",
    "            fontweight='bold', \n",
    "            labelpad=15)\n",
    "\n",
    "# Grid horizontal para facilitar lectura de valores\n",
    "ax.xaxis.grid(True,                     \n",
    "            linestyle='--',             # Líneas punteadas discretas\n",
    "            alpha=0.9,\n",
    "            color=\"#646363\",          # Gris medio para contraste\n",
    "            linewidth=1)\n",
    "ax.set_axisbelow(True)                  # Grid por debajo de los datos\n",
    "\n",
    "# Limpieza visual eliminando bordes innecesarios\n",
    "ax.spines['top'].set_visible(False)     # Sin borde superior\n",
    "ax.spines['right'].set_visible(False)   # Sin borde derecho\n",
    "ax.spines['left'].set_linewidth(1)      \n",
    "ax.spines['bottom'].set_linewidth(1) \n",
    "\n",
    "# Mejora apariencia de etiquetas de ejes\n",
    "ax.tick_params(axis='both',\n",
    "            which='major',\n",
    "            labelsize=10,              # Tamaño legible\n",
    "            colors='#2C3E50')        # Color corporativo consistente\n",
    "\n",
    "plt.tight_layout()  # Ajuste automático de espaciado\n",
    "plt.show()"
   ]
  },
  {
   "cell_type": "code",
   "execution_count": 23,
   "id": "b5638660",
   "metadata": {},
   "outputs": [
    {
     "data": {
      "application/vnd.microsoft.datawrangler.viewer.v0+json": {
       "columns": [
        {
         "name": "city",
         "rawType": "object",
         "type": "string"
        },
        {
         "name": "total_registros",
         "rawType": "int64",
         "type": "integer"
        },
        {
         "name": "Incomplete",
         "rawType": "int64",
         "type": "integer"
        },
        {
         "name": "complete",
         "rawType": "int64",
         "type": "integer"
        },
        {
         "name": "complete_pct",
         "rawType": "float64",
         "type": "float"
        },
        {
         "name": "Incomplete_pct",
         "rawType": "float64",
         "type": "float"
        }
       ],
       "ref": "bb5148e1-719d-43db-b766-1f7ab3a70c08",
       "rows": [
        [
         "Tandil",
         "2409",
         "1560",
         "849",
         "35.24",
         "64.76"
        ],
        [
         "Olavarría",
         "1494",
         "997",
         "497",
         "33.27",
         "66.73"
        ],
        [
         "Azul",
         "1274",
         "992",
         "282",
         "22.14",
         "77.86"
        ],
        [
         "Benito Juárez",
         "351",
         "289",
         "62",
         "17.66",
         "82.34"
        ],
        [
         "Rauch",
         "331",
         "271",
         "60",
         "18.13",
         "81.87"
        ]
       ],
       "shape": {
        "columns": 5,
        "rows": 5
       }
      },
      "text/html": [
       "<div>\n",
       "<style scoped>\n",
       "    .dataframe tbody tr th:only-of-type {\n",
       "        vertical-align: middle;\n",
       "    }\n",
       "\n",
       "    .dataframe tbody tr th {\n",
       "        vertical-align: top;\n",
       "    }\n",
       "\n",
       "    .dataframe thead th {\n",
       "        text-align: right;\n",
       "    }\n",
       "</style>\n",
       "<table border=\"1\" class=\"dataframe\">\n",
       "  <thead>\n",
       "    <tr style=\"text-align: right;\">\n",
       "      <th></th>\n",
       "      <th>total_registros</th>\n",
       "      <th>Incomplete</th>\n",
       "      <th>complete</th>\n",
       "      <th>complete_pct</th>\n",
       "      <th>Incomplete_pct</th>\n",
       "    </tr>\n",
       "    <tr>\n",
       "      <th>city</th>\n",
       "      <th></th>\n",
       "      <th></th>\n",
       "      <th></th>\n",
       "      <th></th>\n",
       "      <th></th>\n",
       "    </tr>\n",
       "  </thead>\n",
       "  <tbody>\n",
       "    <tr>\n",
       "      <th>Tandil</th>\n",
       "      <td>2409</td>\n",
       "      <td>1560</td>\n",
       "      <td>849</td>\n",
       "      <td>35.24</td>\n",
       "      <td>64.76</td>\n",
       "    </tr>\n",
       "    <tr>\n",
       "      <th>Olavarría</th>\n",
       "      <td>1494</td>\n",
       "      <td>997</td>\n",
       "      <td>497</td>\n",
       "      <td>33.27</td>\n",
       "      <td>66.73</td>\n",
       "    </tr>\n",
       "    <tr>\n",
       "      <th>Azul</th>\n",
       "      <td>1274</td>\n",
       "      <td>992</td>\n",
       "      <td>282</td>\n",
       "      <td>22.14</td>\n",
       "      <td>77.86</td>\n",
       "    </tr>\n",
       "    <tr>\n",
       "      <th>Benito Juárez</th>\n",
       "      <td>351</td>\n",
       "      <td>289</td>\n",
       "      <td>62</td>\n",
       "      <td>17.66</td>\n",
       "      <td>82.34</td>\n",
       "    </tr>\n",
       "    <tr>\n",
       "      <th>Rauch</th>\n",
       "      <td>331</td>\n",
       "      <td>271</td>\n",
       "      <td>60</td>\n",
       "      <td>18.13</td>\n",
       "      <td>81.87</td>\n",
       "    </tr>\n",
       "  </tbody>\n",
       "</table>\n",
       "</div>"
      ],
      "text/plain": [
       "               total_registros  Incomplete  complete  complete_pct  \\\n",
       "city                                                                 \n",
       "Tandil                    2409        1560       849         35.24   \n",
       "Olavarría                 1494         997       497         33.27   \n",
       "Azul                      1274         992       282         22.14   \n",
       "Benito Juárez              351         289        62         17.66   \n",
       "Rauch                      331         271        60         18.13   \n",
       "\n",
       "               Incomplete_pct  \n",
       "city                           \n",
       "Tandil                  64.76  \n",
       "Olavarría               66.73  \n",
       "Azul                    77.86  \n",
       "Benito Juárez           82.34  \n",
       "Rauch                   81.87  "
      ]
     },
     "execution_count": 23,
     "metadata": {},
     "output_type": "execute_result"
    }
   ],
   "source": [
    "# Calcular métricas base por ciudad\n",
    "total_registros = df.groupby('city').size()\n",
    "registros_incomplete = df[df['website'].str.contains('Incomplete', case=False, na=False)].groupby('city').size()\n",
    "\n",
    "# Crear tabla resumen\n",
    "resumen = pd.DataFrame({\n",
    "    'total_registros': total_registros,\n",
    "    'Incomplete': registros_incomplete\n",
    "}).fillna(0)\n",
    "\n",
    "# Calcular métricas derivadas\n",
    "resumen['complete'] = resumen['total_registros'] - resumen['Incomplete']\n",
    "resumen['complete_pct'] = (resumen['complete'] / resumen['total_registros'] * 100).round(2)\n",
    "resumen['Incomplete_pct'] = (resumen['Incomplete'] / resumen['total_registros'] * 100).round(2)\n",
    "\n",
    "# Ordenar por total de registros\n",
    "resumen = resumen.sort_values('total_registros', ascending=False)\n",
    "resumen"
   ]
  },
  {
   "cell_type": "code",
   "execution_count": 24,
   "id": "cb2c2774",
   "metadata": {},
   "outputs": [
    {
     "name": "stdout",
     "output_type": "stream",
     "text": [
      "Promedio general de presencia web: 25.29%\n"
     ]
    }
   ],
   "source": [
    "# Promedio general de presencia web\n",
    "avg_General = resumen['complete_pct'].mean().round(2)\n",
    "print(f\"Promedio general de presencia web: {avg_General}%\")"
   ]
  },
  {
   "cell_type": "code",
   "execution_count": 25,
   "id": "e742051e",
   "metadata": {},
   "outputs": [
    {
     "data": {
      "image/png": "[encoded data removed]",
      "text/plain": [
       "<Figure size 1200x700 with 1 Axes>"
      ]
     },
     "metadata": {},
     "output_type": "display_data"
    }
   ],
   "source": [
    "fig, ax = plt.subplots(figsize=(12, 7), facecolor='white')\n",
    "\n",
    "colors = ['#2E86AB', \"#85abfc\"] \n",
    "\n",
    "bars = resumen[['complete_pct', 'Incomplete_pct']].plot(\n",
    "    kind='bar', \n",
    "    stacked=True, \n",
    "    ax=ax, \n",
    "    color=colors,\n",
    "    width=0.6,\n",
    "    edgecolor='white',\n",
    "    linewidth=2,\n",
    "    alpha=0.85\n",
    ")\n",
    "\n",
    "fig.suptitle('Distribución de Presencia Web por Ciudad', \n",
    "            fontsize=20, fontweight='bold', y=0.96)\n",
    "\n",
    "ax.text(0.5, 1.04, 'Porcentaje de negocios', \n",
    "        transform=ax.transAxes, fontsize=12, \n",
    "        ha='center', va='bottom', alpha=0.7)\n",
    "\n",
    "# Etiquetas de porcentaje mejoradas\n",
    "for i, container in enumerate(ax.containers):\n",
    "    labels = [f'{w:.1f}%' if w > 5 else '' for w in container.datavalues]\n",
    "    ax.bar_label(container, labels=labels, label_type='center', \n",
    "                color='white', fontweight='bold', fontsize=10,\n",
    "                bbox=dict(boxstyle=\"round,pad=0.2\", facecolor='black', alpha=0.6))\n",
    "\n",
    "ax.set_ylabel('Porcentaje (%)', fontsize=14, fontweight='bold', labelpad=15)\n",
    "ax.set_xlabel('Ciudades', fontsize=14, fontweight='bold', labelpad=15)\n",
    "\n",
    "ax.yaxis.grid(True, linestyle='--', alpha=0.7, color='#E8E8E8', linewidth=1)\n",
    "ax.set_axisbelow(True)\n",
    "\n",
    "ax.legend(['Tiene Website', 'Datos Incompletos'], \n",
    "        loc='upper right', frameon=True, shadow=True, \n",
    "        fancybox=True, fontsize=11, \n",
    "        facecolor='white', edgecolor='#2C3E50', framealpha=0.9)\n",
    "\n",
    "ax.set_ylim(0, 100)\n",
    "ax.set_yticks(range(0, 101, 20))\n",
    "\n",
    "\n",
    "plt.xticks(\n",
    "    rotation=45 if len(resumen) > 8 else 0, \n",
    "    ha='right' if len(resumen) > 8 else 'center',\n",
    "    fontweight='bold', fontsize=10, color='#2C3E50'\n",
    ")\n",
    "\n",
    "# Limpiar bordes \n",
    "ax.spines['top'].set_visible(False)\n",
    "ax.spines['right'].set_visible(False)\n",
    "ax.spines['left'].set_linewidth(1)\n",
    "ax.spines['bottom'].set_linewidth(1)\n",
    "\n",
    "# Mejorar los ticks\n",
    "ax.tick_params(axis='both', which='major', labelsize=10, colors='#2C3E50')\n",
    "\n",
    "plt.tight_layout()\n",
    "plt.show()"
   ]
  },
  {
   "cell_type": "code",
   "execution_count": 26,
   "id": "e7c5ea49",
   "metadata": {},
   "outputs": [
    {
     "data": {
      "application/vnd.microsoft.datawrangler.viewer.v0+json": {
       "columns": [
        {
         "name": "index",
         "rawType": "int64",
         "type": "integer"
        },
        {
         "name": "categoryName",
         "rawType": "object",
         "type": "string"
        },
        {
         "name": "website_count",
         "rawType": "int64",
         "type": "integer"
        }
       ],
       "ref": "9d8e65d8-7873-4360-86a1-32fb49330f52",
       "rows": [
        [
         "573",
         "Tienda De Ropa",
         "465"
        ],
        [
         "444",
         "Tienda De Alimentación",
         "366"
        ],
        [
         "90",
         "Comercio",
         "334"
        ],
        [
         "14",
         "Agencia Inmobiliaria",
         "180"
        ],
        [
         "230",
         "Incomplete",
         "142"
        ],
        [
         "570",
         "Tienda De Repuestos Para Automóviles",
         "141"
        ],
        [
         "427",
         "Taller De Reparación De Automóviles",
         "141"
        ],
        [
         "578",
         "Tienda De Ropa De Mujer",
         "115"
        ],
        [
         "538",
         "Tienda De Materiales Para La Construcción",
         "103"
        ],
        [
         "40",
         "Carnicería",
         "101"
        ],
        [
         "468",
         "Tienda De Artículos Para El Hogar",
         "99"
        ],
        [
         "413",
         "Supermercado",
         "93"
        ],
        [
         "276",
         "Panadería",
         "90"
        ],
        [
         "102",
         "Concesionario De Automóviles",
         "83"
        ],
        [
         "433",
         "Taller Mecánico",
         "81"
        ],
        [
         "543",
         "Tienda De Muebles",
         "67"
        ],
        [
         "84",
         "Club Deportivo",
         "66"
        ],
        [
         "155",
         "Empresa Constructora",
         "66"
        ],
        [
         "199",
         "Ferretería",
         "60"
        ],
        [
         "203",
         "Frutería",
         "59"
        ],
        [
         "245",
         "Kiosco",
         "57"
        ],
        [
         "606",
         "Tienda General",
         "53"
        ],
        [
         "197",
         "Farmacia",
         "48"
        ],
        [
         "559",
         "Tienda De Pinturas",
         "47"
        ],
        [
         "527",
         "Tienda De Informática",
         "45"
        ],
        [
         "567",
         "Tienda De Regalos",
         "45"
        ],
        [
         "248",
         "Librería",
         "43"
        ],
        [
         "585",
         "Tienda De Ropa Infantil",
         "38"
        ],
        [
         "511",
         "Tienda De Electrónica",
         "35"
        ],
        [
         "220",
         "Heladería",
         "35"
        ],
        [
         "549",
         "Tienda De Móviles",
         "34"
        ],
        [
         "550",
         "Tienda De Neumáticos",
         "33"
        ],
        [
         "417",
         "Taller De Automóviles",
         "33"
        ],
        [
         "577",
         "Tienda De Ropa De Hombre",
         "31"
        ],
        [
         "587",
         "Tienda De Ropa Para Bebés",
         "31"
        ],
        [
         "525",
         "Tienda De Herramientas",
         "29"
        ],
        [
         "15",
         "Agentes Inmobiliarios",
         "29"
        ],
        [
         "611",
         "Urbanización",
         "28"
        ],
        [
         "532",
         "Tienda De Lencería",
         "28"
        ],
        [
         "37",
         "Cafetería",
         "28"
        ],
        [
         "445",
         "Tienda De Alimentos Naturales",
         "26"
        ],
        [
         "619",
         "Zapatería",
         "26"
        ],
        [
         "148",
         "Diseñador De Sitios Web",
         "26"
        ],
        [
         "575",
         "Tienda De Ropa De Deportes",
         "26"
        ],
        [
         "312",
         "Proveedor De Materiales De Construcción",
         "24"
        ],
        [
         "349",
         "Servicio De Cambio De Aceite",
         "22"
        ],
        [
         "182",
         "Establecimiento De Venta De Madera",
         "22"
        ],
        [
         "214",
         "Gasolinera",
         "22"
        ],
        [
         "447",
         "Tienda De Alimentos Para Animales",
         "21"
        ],
        [
         "154",
         "Electricista",
         "20"
        ]
       ],
       "shape": {
        "columns": 2,
        "rows": 621
       }
      },
      "text/html": [
       "<div>\n",
       "<style scoped>\n",
       "    .dataframe tbody tr th:only-of-type {\n",
       "        vertical-align: middle;\n",
       "    }\n",
       "\n",
       "    .dataframe tbody tr th {\n",
       "        vertical-align: top;\n",
       "    }\n",
       "\n",
       "    .dataframe thead th {\n",
       "        text-align: right;\n",
       "    }\n",
       "</style>\n",
       "<table border=\"1\" class=\"dataframe\">\n",
       "  <thead>\n",
       "    <tr style=\"text-align: right;\">\n",
       "      <th></th>\n",
       "      <th>categoryName</th>\n",
       "      <th>website_count</th>\n",
       "    </tr>\n",
       "  </thead>\n",
       "  <tbody>\n",
       "    <tr>\n",
       "      <th>573</th>\n",
       "      <td>Tienda De Ropa</td>\n",
       "      <td>465</td>\n",
       "    </tr>\n",
       "    <tr>\n",
       "      <th>444</th>\n",
       "      <td>Tienda De Alimentación</td>\n",
       "      <td>366</td>\n",
       "    </tr>\n",
       "    <tr>\n",
       "      <th>90</th>\n",
       "      <td>Comercio</td>\n",
       "      <td>334</td>\n",
       "    </tr>\n",
       "    <tr>\n",
       "      <th>14</th>\n",
       "      <td>Agencia Inmobiliaria</td>\n",
       "      <td>180</td>\n",
       "    </tr>\n",
       "    <tr>\n",
       "      <th>230</th>\n",
       "      <td>Incomplete</td>\n",
       "      <td>142</td>\n",
       "    </tr>\n",
       "    <tr>\n",
       "      <th>...</th>\n",
       "      <td>...</td>\n",
       "      <td>...</td>\n",
       "    </tr>\n",
       "    <tr>\n",
       "      <th>7</th>\n",
       "      <td>Agencia De Publicidad</td>\n",
       "      <td>1</td>\n",
       "    </tr>\n",
       "    <tr>\n",
       "      <th>617</th>\n",
       "      <td>Wood Supplier</td>\n",
       "      <td>1</td>\n",
       "    </tr>\n",
       "    <tr>\n",
       "      <th>618</th>\n",
       "      <td>Zapatero</td>\n",
       "      <td>1</td>\n",
       "    </tr>\n",
       "    <tr>\n",
       "      <th>3</th>\n",
       "      <td>Agencia De Alquiler De Grúas</td>\n",
       "      <td>1</td>\n",
       "    </tr>\n",
       "    <tr>\n",
       "      <th>2</th>\n",
       "      <td>Agencia De Alquiler De Cabañas</td>\n",
       "      <td>1</td>\n",
       "    </tr>\n",
       "  </tbody>\n",
       "</table>\n",
       "<p>621 rows × 2 columns</p>\n",
       "</div>"
      ],
      "text/plain": [
       "                       categoryName  website_count\n",
       "573                  Tienda De Ropa            465\n",
       "444          Tienda De Alimentación            366\n",
       "90                         Comercio            334\n",
       "14             Agencia Inmobiliaria            180\n",
       "230                      Incomplete            142\n",
       "..                              ...            ...\n",
       "7             Agencia De Publicidad              1\n",
       "617                   Wood Supplier              1\n",
       "618                        Zapatero              1\n",
       "3      Agencia De Alquiler De Grúas              1\n",
       "2    Agencia De Alquiler De Cabañas              1\n",
       "\n",
       "[621 rows x 2 columns]"
      ]
     },
     "execution_count": 26,
     "metadata": {},
     "output_type": "execute_result"
    }
   ],
   "source": [
    "# Agrupar por ciudad y categoría\n",
    "category_counts = (\n",
    "    df\n",
    "    .groupby(['categoryName'])\n",
    "    .size()\n",
    "    .reset_index(name='website_count')\n",
    ")\n",
    "category_counts = category_counts.sort_values(by='website_count', ascending=False)\n",
    "category_counts"
   ]
  },
  {
   "cell_type": "code",
   "execution_count": 27,
   "id": "a91972f6",
   "metadata": {},
   "outputs": [
    {
     "data": {
      "application/vnd.microsoft.datawrangler.viewer.v0+json": {
       "columns": [
        {
         "name": "totalScore",
         "rawType": "float64",
         "type": "float"
        },
        {
         "name": "count",
         "rawType": "int64",
         "type": "integer"
        }
       ],
       "ref": "dbcb60d6-54a0-4fbf-93cb-5686c536f639",
       "rows": [
        [
         "0.0",
         "1397"
        ],
        [
         "5.0",
         "1205"
        ],
        [
         "4.5",
         "424"
        ],
        [
         "4.7",
         "400"
        ],
        [
         "4.6",
         "400"
        ],
        [
         "4.8",
         "374"
        ],
        [
         "4.4",
         "315"
        ],
        [
         "4.3",
         "267"
        ],
        [
         "4.9",
         "215"
        ],
        [
         "4.0",
         "198"
        ],
        [
         "4.2",
         "149"
        ],
        [
         "4.1",
         "115"
        ],
        [
         "3.0",
         "70"
        ],
        [
         "3.8",
         "61"
        ],
        [
         "3.7",
         "57"
        ],
        [
         "1.0",
         "38"
        ],
        [
         "3.9",
         "38"
        ],
        [
         "3.5",
         "25"
        ],
        [
         "2.0",
         "21"
        ],
        [
         "3.6",
         "20"
        ],
        [
         "3.3",
         "18"
        ],
        [
         "3.4",
         "13"
        ],
        [
         "2.3",
         "11"
        ],
        [
         "2.5",
         "5"
        ],
        [
         "3.1",
         "4"
        ],
        [
         "2.7",
         "3"
        ],
        [
         "1.9",
         "2"
        ],
        [
         "3.2",
         "2"
        ],
        [
         "1.8",
         "2"
        ],
        [
         "2.9",
         "2"
        ],
        [
         "2.8",
         "2"
        ],
        [
         "1.5",
         "1"
        ],
        [
         "2.4",
         "1"
        ],
        [
         "1.3",
         "1"
        ],
        [
         "1.7",
         "1"
        ],
        [
         "2.6",
         "1"
        ],
        [
         "2.1",
         "1"
        ]
       ],
       "shape": {
        "columns": 1,
        "rows": 37
       }
      },
      "text/plain": [
       "totalScore\n",
       "0.0    1397\n",
       "5.0    1205\n",
       "4.5     424\n",
       "4.7     400\n",
       "4.6     400\n",
       "4.8     374\n",
       "4.4     315\n",
       "4.3     267\n",
       "4.9     215\n",
       "4.0     198\n",
       "4.2     149\n",
       "4.1     115\n",
       "3.0      70\n",
       "3.8      61\n",
       "3.7      57\n",
       "1.0      38\n",
       "3.9      38\n",
       "3.5      25\n",
       "2.0      21\n",
       "3.6      20\n",
       "3.3      18\n",
       "3.4      13\n",
       "2.3      11\n",
       "2.5       5\n",
       "3.1       4\n",
       "2.7       3\n",
       "1.9       2\n",
       "3.2       2\n",
       "1.8       2\n",
       "2.9       2\n",
       "2.8       2\n",
       "1.5       1\n",
       "2.4       1\n",
       "1.3       1\n",
       "1.7       1\n",
       "2.6       1\n",
       "2.1       1\n",
       "Name: count, dtype: int64"
      ]
     },
     "execution_count": 27,
     "metadata": {},
     "output_type": "execute_result"
    }
   ],
   "source": [
    "# Muestra cuántas veces aparece cada puntaje total en el dataset, ordenado descendentemente\n",
    "df['totalScore'].value_counts().sort_values(ascending=False)"
   ]
  },
  {
   "cell_type": "code",
   "execution_count": null,
   "id": "19ac1557",
   "metadata": {},
   "outputs": [],
   "source": []
  },
  {
   "cell_type": "code",
   "execution_count": null,
   "id": "e7b405ee",
   "metadata": {},
   "outputs": [],
   "source": []
  },
  {
   "cell_type": "code",
   "execution_count": null,
   "id": "7d37d09f",
   "metadata": {},
   "outputs": [],
   "source": []
  },
  {
   "cell_type": "code",
   "execution_count": null,
   "id": "41715703",
   "metadata": {},
   "outputs": [],
   "source": []
  }
 ],
 "metadata": {
  "kernelspec": {
   "display_name": "Python 3",
   "language": "python",
   "name": "python3"
  },
  "language_info": {
   "codemirror_mode": {
    "name": "ipython",
    "version": 3
   },
   "file_extension": ".py",
   "mimetype": "text/x-python",
   "name": "python",
   "nbconvert_exporter": "python",
   "pygments_lexer": "ipython3",
   "version": "3.13.7"
  }
 },
 "nbformat": 4,
 "nbformat_minor": 5
}
