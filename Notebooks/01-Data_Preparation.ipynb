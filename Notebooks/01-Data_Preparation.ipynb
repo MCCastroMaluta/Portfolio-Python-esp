{
 "cells": [
  {
   "cell_type": "markdown",
   "id": "cafe4ed2",
   "metadata": {},
   "source": [
    "<div style=\"font-family: 'JetBrains Mono', monospace; font-size: 14px; color: #e2dbdbff; line-height: 1.6;\">\n",
    "\n",
    "## 1. 🚀 Introducción y Contexto\n",
    "\n",
    "### 🛠️ La Historia que Motivó este Análisis\n",
    "\n",
    "Era un día cualquiera en **Tandil** cuando mi bordeadora STIHL FSE60 decidió rendirse. Necesitaba un repuesto específico y, como cualquier persona del siglo XXI, mi primer instinto fue buscarlo **online**.\n",
    "\n",
    "🔍 **Google:** Nada en la ciudad  \n",
    "🛒 **MercadoLibre:** ¡Disponible! Pero a **350 km** y con 2 días de espera\n",
    "\n",
    "Decidí intentar la búsqueda física. Después de **un día completo** recorriendo comercios...\n",
    "\n",
    "💡 **¡EUREKA!** Un comercio finalmente sabía dónde conseguirlo. Estaba a **10 cuadras de casa**.\n",
    "\n",
    "#### 🤔 La Pregunta que Cambió Todo\n",
    "\n",
    "> **\"Si este comercio lo tenía, ¿por qué no apareció en mis búsquedas online?\"**\n",
    "\n",
    "---\n",
    "\n",
    "### 🎯 Objetivos del Análisis\n",
    "\n",
    "**🔍 Objetivo Principal:** Analizar el estado de la digitalización comercial en 5 ciudades del centro de la Provincia de Buenos Aires.\n",
    "\n",
    "**📊 Preguntas de Investigación:**\n",
    "- ¿Qué porcentaje de comercios tiene **datos completos** en Google Maps?\n",
    "- ¿Cuántos tienen **sitio web** o **redes sociales** registradas?\n",
    "- ¿El **tamaño de la ciudad** influye en la digitalización?\n",
    "- ¿Los comercios digitalizados tienen **mejor engagement**?\n",
    "\n",
    "**💡 Meta:** Transformar una experiencia personal en insights útiles para comerciantes locales.\n",
    "\n",
    "</div>"
   ]
  },
  {
   "cell_type": "markdown",
   "id": "5ff0f830",
   "metadata": {},
   "source": [
    "<div style=\"font-family: 'JetBrains Mono', monospace; font-size: 14px; color: #e2dbdbff; line-height: 1.6;\">\n",
    "\n",
    "### 2. 🔧 Preparación de Datos\n",
    "\n",
    "📊 Importación y Limpieza\n",
    "\n",
    "**🔄 Procesamiento:** Carga de múltiples archivos CSV por ciudad, selección de columnas relevantes y corrección de valores erróneos.\n",
    "\n",
    "**🔗 Consolidación:** Concatenación de datasets individuales en archivo único 'Regional' con estandarización de teléfonos, tratamiento de missing values y eliminación de duplicados.\n",
    "\n",
    "**🧹 Normalización:** Limpieza de nombres comerciales (comillas, asteriscos, emoticones) y estandarización de formato.\n",
    "\n",
    "</div>"
   ]
  },
  {
   "cell_type": "code",
   "execution_count": 90,
   "id": "06b3f050",
   "metadata": {},
   "outputs": [],
   "source": [
    "# Se importan las librerías para la carga y manipulación de los datos.\n",
    "# pandas: manejo y limpieza de datos\n",
    "# numpy: operaciones numéricas\n",
    "# glob, os: manipulación de archivos y carpetas\n",
    "\n",
    "import pandas as pd\n",
    "import os\n",
    "import numpy as np\n",
    "from glob import glob\n",
    "import glob\n",
    "import matplotlib.pyplot as plt\n",
    "import seaborn as sns\n",
    "\n",
    "# Configura pandas para mostrar todas las columnas del DataFrame, sin recorte visual.\n",
    "pd.set_option('display.max_columns', None) \n"
   ]
  },
  {
   "cell_type": "code",
   "execution_count": 91,
   "id": "17206384",
   "metadata": {},
   "outputs": [
    {
     "data": {
      "text/plain": [
       "['../Datasets\\\\azul_dataset_crawler-google-places_2025-06-15_22-59-32-816.csv',\n",
       " '../Datasets\\\\azul_dataset_crawler-google-places_2025-07-30_14-54-37-400.csv',\n",
       " '../Datasets\\\\azul_dataset_google-maps-extractor_2025-05-19_00-03-31-957.csv']"
      ]
     },
     "execution_count": 91,
     "metadata": {},
     "output_type": "execute_result"
    }
   ],
   "source": [
    "# Búsqueda de los archivos .csv en el directorio\n",
    "glob.glob('../Datasets/*azul*.csv')"
   ]
  },
  {
   "cell_type": "code",
   "execution_count": 92,
   "id": "090b6aef",
   "metadata": {},
   "outputs": [
    {
     "data": {
      "text/plain": [
       "Index(['additionalInfo/Accesibilidad/0/Entrada accesible para personas en silla de ruedas',\n",
       "       'additionalInfo/Accesibilidad/0/Espacio accesible para personas en silla de ruedas',\n",
       "       'additionalInfo/Accesibilidad/0/Estacionamiento accesible para personas en silla de ruedas',\n",
       "       'additionalInfo/Accesibilidad/1/Bucle magnético de asistencia',\n",
       "       'additionalInfo/Accesibilidad/1/Espacio accesible para personas en silla de ruedas',\n",
       "       'additionalInfo/Accesibilidad/1/Estacionamiento accesible para personas en silla de ruedas',\n",
       "       'additionalInfo/Accesibilidad/1/Sanitarios accesibles para personas en silla de ruedas',\n",
       "       'additionalInfo/Accesibilidad/2/Bucle magnético de asistencia',\n",
       "       'additionalInfo/Accesibilidad/2/Sanitarios accesibles para personas en silla de ruedas',\n",
       "       'additionalInfo/Ambiente/0/A la moda',\n",
       "       ...\n",
       "       'plusCode',\n",
       "       'additionalInfo/Accesibilidad/3/Sanitarios accesibles para personas en silla de ruedas',\n",
       "       'additionalInfo/Estacionamiento/0',\n",
       "       'additionalInfo/Opciones del local/3/Postres',\n",
       "       'additionalInfo/Opciones del local/4/Espacio con asientos',\n",
       "       'additionalInfo/Popular por/1/Almuerzo',\n",
       "       'additionalInfo/Popular por/2/Cena en solitario',\n",
       "       'additionalInfo/Popular por/3/Un buen lugar para trabajar con una laptop',\n",
       "       'additionalInfo/Qué ofrece/2/Comidas durante la madrugada',\n",
       "       'locatedIn'],\n",
       "      dtype='object', length=555)"
      ]
     },
     "execution_count": 92,
     "metadata": {},
     "output_type": "execute_result"
    }
   ],
   "source": [
    "# Lectura de todos los archivos CSV de la carpeta y se combinan en un único DataFrame con 'pd.concat()' \n",
    "# y se reestablece el índice con 'reset_index(drop=True)'.\n",
    "# Se listan las columnas del DataFrame resultante.\n",
    "df = pd.concat(map(pd.read_csv, glob.glob('../Datasets/*azul*.csv'))).reset_index(drop=True)\n",
    "df.columns"
   ]
  },
  {
   "cell_type": "code",
   "execution_count": 93,
   "id": "48d6b069",
   "metadata": {},
   "outputs": [
    {
     "data": {
      "application/vnd.microsoft.datawrangler.viewer.v0+json": {
       "columns": [
        {
         "name": "index",
         "rawType": "int64",
         "type": "integer"
        },
        {
         "name": "title",
         "rawType": "object",
         "type": "string"
        },
        {
         "name": "categoryName",
         "rawType": "object",
         "type": "string"
        },
        {
         "name": "website",
         "rawType": "object",
         "type": "unknown"
        },
        {
         "name": "street",
         "rawType": "object",
         "type": "string"
        },
        {
         "name": "phone",
         "rawType": "object",
         "type": "string"
        },
        {
         "name": "city",
         "rawType": "object",
         "type": "string"
        },
        {
         "name": "state",
         "rawType": "object",
         "type": "string"
        },
        {
         "name": "location/lat",
         "rawType": "float64",
         "type": "float"
        },
        {
         "name": "location/lng",
         "rawType": "float64",
         "type": "float"
        },
        {
         "name": "totalScore",
         "rawType": "float64",
         "type": "float"
        },
        {
         "name": "rank",
         "rawType": "int64",
         "type": "integer"
        },
        {
         "name": "imageUrl",
         "rawType": "object",
         "type": "string"
        },
        {
         "name": "imagesCount",
         "rawType": "float64",
         "type": "float"
        },
        {
         "name": "reviewsCount",
         "rawType": "int64",
         "type": "integer"
        },
        {
         "name": "scrapedAt",
         "rawType": "object",
         "type": "string"
        },
        {
         "name": "searchString",
         "rawType": "object",
         "type": "string"
        }
       ],
       "ref": "5fe3ceec-1b5d-453f-aff0-93b3fcd6b543",
       "rows": [
        [
         "0",
         "DTI - Azul",
         "Soporte y servicios informáticos",
         null,
         "Av. Juan Domingo Perón 525",
         "+54 2281 42-7066",
         "Azul",
         "Provincia de Buenos Aires",
         "-36.7820062",
         "-59.8654974",
         null,
         "22",
         "https://streetviewpixels-pa.googleapis.com/v1/thumbnail?panoid=zL2SLXDLlIyLOOkG7pxFlg&cb_client=search.gws-prod.gps&w=408&h=240&yaw=231.62384&pitch=0&thumbfov=100",
         "1.0",
         "0",
         "2025-06-15T22:56:55.477Z",
         "tecnologia"
        ],
        [
         "1",
         "TECNO COMPUTACION",
         "Tienda de móviles",
         "http://www.tecnocomputacionazul.com/",
         "Lamadrid 33",
         "+54 2281 65-7938",
         "Azul",
         "Provincia de Buenos Aires",
         "-36.7649137",
         "-59.8624039",
         "4.6",
         "3",
         "https://lh3.googleusercontent.com/p/AF1QipP9GgrGu9iOG5xNOUsuEUj6fdq4j3xvaLptITLH=w408-h408-k-no",
         "12.0",
         "7",
         "2025-06-15T22:56:54.474Z",
         "tecnologia"
        ],
        [
         "2",
         "Ingeniero Marcelo Edgardo Cornec",
         "Ingeniero",
         null,
         "Av. Juan Domingo Perón 622",
         "+54 2281 42-6984",
         "Azul",
         "Provincia de Buenos Aires",
         "-36.7832779",
         "-59.8635941",
         "5.0",
         "20",
         "https://lh3.googleusercontent.com/p/AF1QipN3mw2facF8IFrTvwJ_gdFhsNWQrFQi4pazN5RN=w426-h240-k-no",
         "13.0",
         "3",
         "2025-06-15T22:56:57.478Z",
         "comercio"
        ],
        [
         "3",
         "La esquina",
         "Kiosco",
         null,
         "7300, Gral. Paz 1500",
         "+54 2281 36-0736",
         "Azul",
         "Provincia de Buenos Aires",
         "-36.7980904",
         "-59.8535248",
         "3.7",
         "19",
         "https://lh3.googleusercontent.com/p/AF1QipP1o8LwpKf0khxVBfihAWLOI4K4X00X3SCtGAg=w408-h544-k-no",
         "1.0",
         "3",
         "2025-06-15T22:56:57.478Z",
         "comercio"
        ],
        [
         "4",
         "Vidrieria 25 de Mayo de Jose Canalicchio",
         "Comercio",
         null,
         "Guaminí 610",
         "+54 2281 53-7036",
         "Azul",
         "Provincia de Buenos Aires",
         "-36.7855521",
         "-59.8671447",
         "4.2",
         "40",
         "https://lh3.googleusercontent.com/p/AF1QipM1o-ulafI-mAMROrwDJeAv15XDqrWz-t4wzI86=w426-h240-k-no",
         "5.0",
         "9",
         "2025-06-15T22:56:58.824Z",
         "comercio"
        ]
       ],
       "shape": {
        "columns": 16,
        "rows": 5
       }
      },
      "text/html": [
       "<div>\n",
       "<style scoped>\n",
       "    .dataframe tbody tr th:only-of-type {\n",
       "        vertical-align: middle;\n",
       "    }\n",
       "\n",
       "    .dataframe tbody tr th {\n",
       "        vertical-align: top;\n",
       "    }\n",
       "\n",
       "    .dataframe thead th {\n",
       "        text-align: right;\n",
       "    }\n",
       "</style>\n",
       "<table border=\"1\" class=\"dataframe\">\n",
       "  <thead>\n",
       "    <tr style=\"text-align: right;\">\n",
       "      <th></th>\n",
       "      <th>title</th>\n",
       "      <th>categoryName</th>\n",
       "      <th>website</th>\n",
       "      <th>street</th>\n",
       "      <th>phone</th>\n",
       "      <th>city</th>\n",
       "      <th>state</th>\n",
       "      <th>location/lat</th>\n",
       "      <th>location/lng</th>\n",
       "      <th>totalScore</th>\n",
       "      <th>rank</th>\n",
       "      <th>imageUrl</th>\n",
       "      <th>imagesCount</th>\n",
       "      <th>reviewsCount</th>\n",
       "      <th>scrapedAt</th>\n",
       "      <th>searchString</th>\n",
       "    </tr>\n",
       "  </thead>\n",
       "  <tbody>\n",
       "    <tr>\n",
       "      <th>0</th>\n",
       "      <td>DTI - Azul</td>\n",
       "      <td>Soporte y servicios informáticos</td>\n",
       "      <td>NaN</td>\n",
       "      <td>Av. Juan Domingo Perón 525</td>\n",
       "      <td>+54 2281 42-7066</td>\n",
       "      <td>Azul</td>\n",
       "      <td>Provincia de Buenos Aires</td>\n",
       "      <td>-36.782006</td>\n",
       "      <td>-59.865497</td>\n",
       "      <td>NaN</td>\n",
       "      <td>22</td>\n",
       "      <td>https://streetviewpixels-pa.googleapis.com/v1/...</td>\n",
       "      <td>1.0</td>\n",
       "      <td>0</td>\n",
       "      <td>2025-06-15T22:56:55.477Z</td>\n",
       "      <td>tecnologia</td>\n",
       "    </tr>\n",
       "    <tr>\n",
       "      <th>1</th>\n",
       "      <td>TECNO COMPUTACION</td>\n",
       "      <td>Tienda de móviles</td>\n",
       "      <td>http://www.tecnocomputacionazul.com/</td>\n",
       "      <td>Lamadrid 33</td>\n",
       "      <td>+54 2281 65-7938</td>\n",
       "      <td>Azul</td>\n",
       "      <td>Provincia de Buenos Aires</td>\n",
       "      <td>-36.764914</td>\n",
       "      <td>-59.862404</td>\n",
       "      <td>4.6</td>\n",
       "      <td>3</td>\n",
       "      <td>https://lh3.googleusercontent.com/p/AF1QipP9Gg...</td>\n",
       "      <td>12.0</td>\n",
       "      <td>7</td>\n",
       "      <td>2025-06-15T22:56:54.474Z</td>\n",
       "      <td>tecnologia</td>\n",
       "    </tr>\n",
       "    <tr>\n",
       "      <th>2</th>\n",
       "      <td>Ingeniero Marcelo Edgardo Cornec</td>\n",
       "      <td>Ingeniero</td>\n",
       "      <td>NaN</td>\n",
       "      <td>Av. Juan Domingo Perón 622</td>\n",
       "      <td>+54 2281 42-6984</td>\n",
       "      <td>Azul</td>\n",
       "      <td>Provincia de Buenos Aires</td>\n",
       "      <td>-36.783278</td>\n",
       "      <td>-59.863594</td>\n",
       "      <td>5.0</td>\n",
       "      <td>20</td>\n",
       "      <td>https://lh3.googleusercontent.com/p/AF1QipN3mw...</td>\n",
       "      <td>13.0</td>\n",
       "      <td>3</td>\n",
       "      <td>2025-06-15T22:56:57.478Z</td>\n",
       "      <td>comercio</td>\n",
       "    </tr>\n",
       "    <tr>\n",
       "      <th>3</th>\n",
       "      <td>La esquina</td>\n",
       "      <td>Kiosco</td>\n",
       "      <td>NaN</td>\n",
       "      <td>7300, Gral. Paz 1500</td>\n",
       "      <td>+54 2281 36-0736</td>\n",
       "      <td>Azul</td>\n",
       "      <td>Provincia de Buenos Aires</td>\n",
       "      <td>-36.798090</td>\n",
       "      <td>-59.853525</td>\n",
       "      <td>3.7</td>\n",
       "      <td>19</td>\n",
       "      <td>https://lh3.googleusercontent.com/p/AF1QipP1o8...</td>\n",
       "      <td>1.0</td>\n",
       "      <td>3</td>\n",
       "      <td>2025-06-15T22:56:57.478Z</td>\n",
       "      <td>comercio</td>\n",
       "    </tr>\n",
       "    <tr>\n",
       "      <th>4</th>\n",
       "      <td>Vidrieria 25 de Mayo de Jose Canalicchio</td>\n",
       "      <td>Comercio</td>\n",
       "      <td>NaN</td>\n",
       "      <td>Guaminí 610</td>\n",
       "      <td>+54 2281 53-7036</td>\n",
       "      <td>Azul</td>\n",
       "      <td>Provincia de Buenos Aires</td>\n",
       "      <td>-36.785552</td>\n",
       "      <td>-59.867145</td>\n",
       "      <td>4.2</td>\n",
       "      <td>40</td>\n",
       "      <td>https://lh3.googleusercontent.com/p/AF1QipM1o-...</td>\n",
       "      <td>5.0</td>\n",
       "      <td>9</td>\n",
       "      <td>2025-06-15T22:56:58.824Z</td>\n",
       "      <td>comercio</td>\n",
       "    </tr>\n",
       "  </tbody>\n",
       "</table>\n",
       "</div>"
      ],
      "text/plain": [
       "                                      title                      categoryName  \\\n",
       "0                                DTI - Azul  Soporte y servicios informáticos   \n",
       "1                         TECNO COMPUTACION                 Tienda de móviles   \n",
       "2          Ingeniero Marcelo Edgardo Cornec                         Ingeniero   \n",
       "3                                La esquina                            Kiosco   \n",
       "4  Vidrieria 25 de Mayo de Jose Canalicchio                          Comercio   \n",
       "\n",
       "                                website                      street  \\\n",
       "0                                   NaN  Av. Juan Domingo Perón 525   \n",
       "1  http://www.tecnocomputacionazul.com/                 Lamadrid 33   \n",
       "2                                   NaN  Av. Juan Domingo Perón 622   \n",
       "3                                   NaN        7300, Gral. Paz 1500   \n",
       "4                                   NaN                 Guaminí 610   \n",
       "\n",
       "              phone  city                      state  location/lat  \\\n",
       "0  +54 2281 42-7066  Azul  Provincia de Buenos Aires    -36.782006   \n",
       "1  +54 2281 65-7938  Azul  Provincia de Buenos Aires    -36.764914   \n",
       "2  +54 2281 42-6984  Azul  Provincia de Buenos Aires    -36.783278   \n",
       "3  +54 2281 36-0736  Azul  Provincia de Buenos Aires    -36.798090   \n",
       "4  +54 2281 53-7036  Azul  Provincia de Buenos Aires    -36.785552   \n",
       "\n",
       "   location/lng  totalScore  rank  \\\n",
       "0    -59.865497         NaN    22   \n",
       "1    -59.862404         4.6     3   \n",
       "2    -59.863594         5.0    20   \n",
       "3    -59.853525         3.7    19   \n",
       "4    -59.867145         4.2    40   \n",
       "\n",
       "                                            imageUrl  imagesCount  \\\n",
       "0  https://streetviewpixels-pa.googleapis.com/v1/...          1.0   \n",
       "1  https://lh3.googleusercontent.com/p/AF1QipP9Gg...         12.0   \n",
       "2  https://lh3.googleusercontent.com/p/AF1QipN3mw...         13.0   \n",
       "3  https://lh3.googleusercontent.com/p/AF1QipP1o8...          1.0   \n",
       "4  https://lh3.googleusercontent.com/p/AF1QipM1o-...          5.0   \n",
       "\n",
       "   reviewsCount                 scrapedAt searchString  \n",
       "0             0  2025-06-15T22:56:55.477Z   tecnologia  \n",
       "1             7  2025-06-15T22:56:54.474Z   tecnologia  \n",
       "2             3  2025-06-15T22:56:57.478Z     comercio  \n",
       "3             3  2025-06-15T22:56:57.478Z     comercio  \n",
       "4             9  2025-06-15T22:56:58.824Z     comercio  "
      ]
     },
     "execution_count": 93,
     "metadata": {},
     "output_type": "execute_result"
    }
   ],
   "source": [
    "# Selección de columnas relevantes\n",
    "df = df[[\n",
    "        'title',\n",
    "        'categoryName',\n",
    "        'website',\n",
    "        'street',\n",
    "        'phone',\n",
    "        'city',\n",
    "        'state',\n",
    "        'location/lat', \n",
    "        'location/lng',\n",
    "        'totalScore',\n",
    "        'rank',\n",
    "        'imageUrl',\n",
    "        'imagesCount',       \n",
    "        'reviewsCount', \n",
    "        'scrapedAt',\n",
    "        'searchString']]\n",
    "df.head(5)"
   ]
  },
  {
   "cell_type": "code",
   "execution_count": 94,
   "id": "5f22fe99",
   "metadata": {},
   "outputs": [
    {
     "name": "stdout",
     "output_type": "stream",
     "text": [
      "<class 'pandas.core.frame.DataFrame'>\n",
      "RangeIndex: 1730 entries, 0 to 1729\n",
      "Data columns (total 16 columns):\n",
      " #   Column        Non-Null Count  Dtype  \n",
      "---  ------        --------------  -----  \n",
      " 0   title         1730 non-null   object \n",
      " 1   categoryName  1699 non-null   object \n",
      " 2   website       377 non-null    object \n",
      " 3   street        1584 non-null   object \n",
      " 4   phone         1107 non-null   object \n",
      " 5   city          1716 non-null   object \n",
      " 6   state         1717 non-null   object \n",
      " 7   location/lat  1730 non-null   float64\n",
      " 8   location/lng  1730 non-null   float64\n",
      " 9   totalScore    1278 non-null   float64\n",
      " 10  rank          1730 non-null   int64  \n",
      " 11  imageUrl      1678 non-null   object \n",
      " 12  imagesCount   1676 non-null   float64\n",
      " 13  reviewsCount  1730 non-null   int64  \n",
      " 14  scrapedAt     1730 non-null   object \n",
      " 15  searchString  1730 non-null   object \n",
      "dtypes: float64(4), int64(2), object(10)\n",
      "memory usage: 216.4+ KB\n"
     ]
    }
   ],
   "source": [
    "# Información del DataFrame seleccionado a través del método .info() : \n",
    "# Número de filas y columnas\n",
    "# Nombres y tipos de datos de las columnas\n",
    "# Valores no nulos en cada columna\n",
    "# Uso de memoria\n",
    "df.info()"
   ]
  },
  {
   "cell_type": "code",
   "execution_count": 95,
   "id": "ea35f9dc",
   "metadata": {},
   "outputs": [],
   "source": [
    "# Rellenar valores faltantes en la columna 'city' con valor 'Azul'\n",
    "df['city'] = df['city'].fillna('Azul')"
   ]
  },
  {
   "cell_type": "code",
   "execution_count": 96,
   "id": "2204d569",
   "metadata": {},
   "outputs": [
    {
     "data": {
      "application/vnd.microsoft.datawrangler.viewer.v0+json": {
       "columns": [
        {
         "name": "city",
         "rawType": "object",
         "type": "string"
        },
        {
         "name": "count",
         "rawType": "int64",
         "type": "integer"
        }
       ],
       "ref": "cce66acb-297f-4e9c-aec4-6bb4d9b7e952",
       "rows": [
        [
         "Azul",
         "1698"
        ],
        [
         "Buenos Aires",
         "11"
        ],
        [
         "CJV",
         "3"
        ],
        [
         "B7300GEU",
         "3"
        ],
        [
         "GEV",
         "3"
        ],
        [
         "FAD",
         "2"
        ],
        [
         "CKA",
         "2"
        ],
        [
         "CJU",
         "2"
        ],
        [
         "FRU",
         "2"
        ],
        [
         "ILF",
         "1"
        ],
        [
         "CKE",
         "1"
        ],
        [
         "FVW",
         "1"
        ],
        [
         "Caleufú",
         "1"
        ]
       ],
       "shape": {
        "columns": 1,
        "rows": 13
       }
      },
      "text/plain": [
       "city\n",
       "Azul            1698\n",
       "Buenos Aires      11\n",
       "CJV                3\n",
       "B7300GEU           3\n",
       "GEV                3\n",
       "FAD                2\n",
       "CKA                2\n",
       "CJU                2\n",
       "FRU                2\n",
       "ILF                1\n",
       "CKE                1\n",
       "FVW                1\n",
       "Caleufú            1\n",
       "Name: count, dtype: int64"
      ]
     },
     "execution_count": 96,
     "metadata": {},
     "output_type": "execute_result"
    }
   ],
   "source": [
    "# Cuenta cuántas veces aparece cada registro de ciudad.\n",
    "df['city'].value_counts()"
   ]
  },
  {
   "cell_type": "code",
   "execution_count": 97,
   "id": "918a6730",
   "metadata": {},
   "outputs": [],
   "source": [
    "# Se reemplazan los datos de la columna 'city' que no son correctos\n",
    "df['city'] = df['city'].replace({\n",
    "    'Buenos Aires': 'Azul',\n",
    "    'FRU' : 'Azul',\n",
    "    'FAD' : 'Azul',\n",
    "    'B7300GEU' : 'Azul',\n",
    "    'CJV' : 'Azul',\n",
    "    'GEV' : 'Azul',\n",
    "    'CJU' : 'Azul',\n",
    "    'FVW' : 'Azul',\n",
    "    'CKE' : 'Azul',\n",
    "    'ILF' : 'Azul',\n",
    "    'CKA' : 'Azul',\n",
    "    'Caleufú' : 'Azul'\n",
    "})"
   ]
  },
  {
   "cell_type": "code",
   "execution_count": 98,
   "id": "757d6070",
   "metadata": {},
   "outputs": [],
   "source": [
    "# Se guarda el archivo principal de la ciudad\n",
    "df.to_csv('../CleanData/AzulMain.csv', index=False)"
   ]
  },
  {
   "cell_type": "code",
   "execution_count": 99,
   "id": "67590d27",
   "metadata": {},
   "outputs": [
    {
     "data": {
      "text/plain": [
       "[]"
      ]
     },
     "execution_count": 99,
     "metadata": {},
     "output_type": "execute_result"
    }
   ],
   "source": [
    "# Búsqueda de los archivos .csv en el directorio\n",
    "glob.glob('../Python_es/Datasets/*juarez*.csv')"
   ]
  },
  {
   "cell_type": "code",
   "execution_count": 100,
   "id": "4a9051e2",
   "metadata": {},
   "outputs": [],
   "source": [
    "# Se carga y concatenan todos los archivos CSV que contengan 'juarez' en su nombre y reestablece el índice del DataFrame resultante.\n",
    "df = pd.concat(map(pd.read_csv, glob.glob('../Datasets/*juarez*.csv'))).reset_index(drop=True)"
   ]
  },
  {
   "cell_type": "code",
   "execution_count": 101,
   "id": "99863164",
   "metadata": {},
   "outputs": [
    {
     "data": {
      "application/vnd.microsoft.datawrangler.viewer.v0+json": {
       "columns": [
        {
         "name": "index",
         "rawType": "int64",
         "type": "integer"
        },
        {
         "name": "title",
         "rawType": "object",
         "type": "string"
        },
        {
         "name": "categoryName",
         "rawType": "object",
         "type": "string"
        },
        {
         "name": "website",
         "rawType": "object",
         "type": "unknown"
        },
        {
         "name": "street",
         "rawType": "object",
         "type": "string"
        },
        {
         "name": "phone",
         "rawType": "object",
         "type": "unknown"
        },
        {
         "name": "city",
         "rawType": "object",
         "type": "string"
        },
        {
         "name": "state",
         "rawType": "object",
         "type": "string"
        },
        {
         "name": "location/lat",
         "rawType": "float64",
         "type": "float"
        },
        {
         "name": "location/lng",
         "rawType": "float64",
         "type": "float"
        },
        {
         "name": "totalScore",
         "rawType": "float64",
         "type": "float"
        },
        {
         "name": "rank",
         "rawType": "int64",
         "type": "integer"
        },
        {
         "name": "imageUrl",
         "rawType": "object",
         "type": "string"
        },
        {
         "name": "imagesCount",
         "rawType": "float64",
         "type": "float"
        },
        {
         "name": "reviewsCount",
         "rawType": "int64",
         "type": "integer"
        },
        {
         "name": "scrapedAt",
         "rawType": "object",
         "type": "string"
        },
        {
         "name": "searchString",
         "rawType": "object",
         "type": "string"
        }
       ],
       "ref": "c4b4a657-3833-44c9-b8f3-8f156ca241e7",
       "rows": [
        [
         "0",
         "Serantes Accesorios",
         "Tienda de repuestos de automóviles usados",
         null,
         "Av. Muñiz 49",
         "+54 2281 46-6108",
         "Benito Juárez",
         "Provincia de Buenos Aires",
         "-37.6784356",
         "-59.8006522",
         "4.6",
         "1",
         "https://lh3.googleusercontent.com/gps-cs-s/AC9h4npFTY2xN7TX1mODcm1EARYECZaqbfbY-3MI3RytpUHJF6loC7IhbiCUyElFUMxd5J2Zv26k3KmHA_VO3m1Z5aqzhSjudFP-uvmO7tKx86kJewoiAZCARMCYs8GbwdYI4mvmd4ug=w408-h306-k-no",
         "2.0",
         "66",
         "2025-05-29T00:53:21.747Z",
         "repuestos"
        ],
        [
         "1",
         "Carlos REYNOSO REPUESTOS AGRICOLAS",
         "Tienda de repuestos para coches de carreras",
         null,
         "Av. Muñiz 251-299",
         null,
         "Benito Juárez",
         "Provincia de Buenos Aires",
         "-37.6823028",
         "-59.8057421",
         "4.9",
         "2",
         "https://streetviewpixels-pa.googleapis.com/v1/thumbnail?panoid=vp4kjEzYM-JH0c__-_D-dA&cb_client=search.gws-prod.gps&w=408&h=240&yaw=298.29306&pitch=0&thumbfov=100",
         "1.0",
         "11",
         "2025-05-29T00:53:21.748Z",
         "repuestos"
        ],
        [
         "2",
         "Repuestos lo de migue",
         "Tienda de accesorios para automóviles",
         null,
         "San Juan 126",
         "+54 2281 53-2680",
         "Benito Juárez",
         "Provincia de Buenos Aires",
         "-37.6724408",
         "-59.8003032",
         "4.6",
         "3",
         "https://lh3.googleusercontent.com/gps-cs-s/AC9h4nrmz7jUNtgpfd0XGzY_UpYU0zb5ZOBcjNqDzodXm_DB4MzITIRQTPiXmfV3FzCxIfHPD2j8QmPHvaeYhANUQzZ_j7cJWhhI1AxfE44tDHay621L3b_LG1JRk06vl_jtBROqlJrI=w408-h544-k-no",
         "4.0",
         "17",
         "2025-05-29T00:53:21.748Z",
         "repuestos"
        ],
        [
         "3",
         "Repuestos Perco",
         "Tienda de repuestos de automóviles usados",
         null,
         "Av. Urquiza 41",
         "+54 2281 53-2090",
         "Benito Juárez",
         "Provincia de Buenos Aires",
         "-37.6728965",
         "-59.8036928",
         "4.6",
         "4",
         "https://streetviewpixels-pa.googleapis.com/v1/thumbnail?panoid=1nnz39CMBIbhdYJccqcPDA&cb_client=search.gws-prod.gps&w=408&h=240&yaw=123.82189&pitch=0&thumbfov=100",
         "1.0",
         "5",
         "2025-05-29T00:53:21.749Z",
         "repuestos"
        ],
        [
         "4",
         "Acoplados Juarez - Repuestos acoplados y semirremolques",
         "Proveedor de repuestos de carrocería de automóviles",
         "https://www.guia-dorada.com.ar/guia/aviso-repuestos-para-acoplados-y-semirremolques-en-benito-juarez-buenos-aires-25514.html",
         "Ruta Provincial 86, Suipacha y",
         "+54 9 249 463-4600",
         "Benito Juárez",
         "Provincia de Buenos Aires",
         "-37.6794468",
         "-59.8186845",
         "5.0",
         "5",
         "https://lh3.googleusercontent.com/gps-cs-s/AC9h4npaK6-Hl_4TBoLBYjTt-RzoZVffvbidNfVAy103iXGp12VL5G7xN41q9i92BhMNXQ6VOnN8WFe0kbaN5htSLeJpemiqPC_GDiygeXUm1ec0Ku8gksQls7JzALgwhitvJ345LY_b=w408-h306-k-no",
         "26.0",
         "2",
         "2025-05-29T00:53:21.749Z",
         "repuestos"
        ]
       ],
       "shape": {
        "columns": 16,
        "rows": 5
       }
      },
      "text/html": [
       "<div>\n",
       "<style scoped>\n",
       "    .dataframe tbody tr th:only-of-type {\n",
       "        vertical-align: middle;\n",
       "    }\n",
       "\n",
       "    .dataframe tbody tr th {\n",
       "        vertical-align: top;\n",
       "    }\n",
       "\n",
       "    .dataframe thead th {\n",
       "        text-align: right;\n",
       "    }\n",
       "</style>\n",
       "<table border=\"1\" class=\"dataframe\">\n",
       "  <thead>\n",
       "    <tr style=\"text-align: right;\">\n",
       "      <th></th>\n",
       "      <th>title</th>\n",
       "      <th>categoryName</th>\n",
       "      <th>website</th>\n",
       "      <th>street</th>\n",
       "      <th>phone</th>\n",
       "      <th>city</th>\n",
       "      <th>state</th>\n",
       "      <th>location/lat</th>\n",
       "      <th>location/lng</th>\n",
       "      <th>totalScore</th>\n",
       "      <th>rank</th>\n",
       "      <th>imageUrl</th>\n",
       "      <th>imagesCount</th>\n",
       "      <th>reviewsCount</th>\n",
       "      <th>scrapedAt</th>\n",
       "      <th>searchString</th>\n",
       "    </tr>\n",
       "  </thead>\n",
       "  <tbody>\n",
       "    <tr>\n",
       "      <th>0</th>\n",
       "      <td>Serantes Accesorios</td>\n",
       "      <td>Tienda de repuestos de automóviles usados</td>\n",
       "      <td>NaN</td>\n",
       "      <td>Av. Muñiz 49</td>\n",
       "      <td>+54 2281 46-6108</td>\n",
       "      <td>Benito Juárez</td>\n",
       "      <td>Provincia de Buenos Aires</td>\n",
       "      <td>-37.678436</td>\n",
       "      <td>-59.800652</td>\n",
       "      <td>4.6</td>\n",
       "      <td>1</td>\n",
       "      <td>https://lh3.googleusercontent.com/gps-cs-s/AC9...</td>\n",
       "      <td>2.0</td>\n",
       "      <td>66</td>\n",
       "      <td>2025-05-29T00:53:21.747Z</td>\n",
       "      <td>repuestos</td>\n",
       "    </tr>\n",
       "    <tr>\n",
       "      <th>1</th>\n",
       "      <td>Carlos REYNOSO REPUESTOS AGRICOLAS</td>\n",
       "      <td>Tienda de repuestos para coches de carreras</td>\n",
       "      <td>NaN</td>\n",
       "      <td>Av. Muñiz 251-299</td>\n",
       "      <td>NaN</td>\n",
       "      <td>Benito Juárez</td>\n",
       "      <td>Provincia de Buenos Aires</td>\n",
       "      <td>-37.682303</td>\n",
       "      <td>-59.805742</td>\n",
       "      <td>4.9</td>\n",
       "      <td>2</td>\n",
       "      <td>https://streetviewpixels-pa.googleapis.com/v1/...</td>\n",
       "      <td>1.0</td>\n",
       "      <td>11</td>\n",
       "      <td>2025-05-29T00:53:21.748Z</td>\n",
       "      <td>repuestos</td>\n",
       "    </tr>\n",
       "    <tr>\n",
       "      <th>2</th>\n",
       "      <td>Repuestos lo de migue</td>\n",
       "      <td>Tienda de accesorios para automóviles</td>\n",
       "      <td>NaN</td>\n",
       "      <td>San Juan 126</td>\n",
       "      <td>+54 2281 53-2680</td>\n",
       "      <td>Benito Juárez</td>\n",
       "      <td>Provincia de Buenos Aires</td>\n",
       "      <td>-37.672441</td>\n",
       "      <td>-59.800303</td>\n",
       "      <td>4.6</td>\n",
       "      <td>3</td>\n",
       "      <td>https://lh3.googleusercontent.com/gps-cs-s/AC9...</td>\n",
       "      <td>4.0</td>\n",
       "      <td>17</td>\n",
       "      <td>2025-05-29T00:53:21.748Z</td>\n",
       "      <td>repuestos</td>\n",
       "    </tr>\n",
       "    <tr>\n",
       "      <th>3</th>\n",
       "      <td>Repuestos Perco</td>\n",
       "      <td>Tienda de repuestos de automóviles usados</td>\n",
       "      <td>NaN</td>\n",
       "      <td>Av. Urquiza 41</td>\n",
       "      <td>+54 2281 53-2090</td>\n",
       "      <td>Benito Juárez</td>\n",
       "      <td>Provincia de Buenos Aires</td>\n",
       "      <td>-37.672897</td>\n",
       "      <td>-59.803693</td>\n",
       "      <td>4.6</td>\n",
       "      <td>4</td>\n",
       "      <td>https://streetviewpixels-pa.googleapis.com/v1/...</td>\n",
       "      <td>1.0</td>\n",
       "      <td>5</td>\n",
       "      <td>2025-05-29T00:53:21.749Z</td>\n",
       "      <td>repuestos</td>\n",
       "    </tr>\n",
       "    <tr>\n",
       "      <th>4</th>\n",
       "      <td>Acoplados Juarez - Repuestos acoplados y semir...</td>\n",
       "      <td>Proveedor de repuestos de carrocería de automó...</td>\n",
       "      <td>https://www.guia-dorada.com.ar/guia/aviso-repu...</td>\n",
       "      <td>Ruta Provincial 86, Suipacha y</td>\n",
       "      <td>+54 9 249 463-4600</td>\n",
       "      <td>Benito Juárez</td>\n",
       "      <td>Provincia de Buenos Aires</td>\n",
       "      <td>-37.679447</td>\n",
       "      <td>-59.818685</td>\n",
       "      <td>5.0</td>\n",
       "      <td>5</td>\n",
       "      <td>https://lh3.googleusercontent.com/gps-cs-s/AC9...</td>\n",
       "      <td>26.0</td>\n",
       "      <td>2</td>\n",
       "      <td>2025-05-29T00:53:21.749Z</td>\n",
       "      <td>repuestos</td>\n",
       "    </tr>\n",
       "  </tbody>\n",
       "</table>\n",
       "</div>"
      ],
      "text/plain": [
       "                                               title  \\\n",
       "0                                Serantes Accesorios   \n",
       "1                 Carlos REYNOSO REPUESTOS AGRICOLAS   \n",
       "2                              Repuestos lo de migue   \n",
       "3                                    Repuestos Perco   \n",
       "4  Acoplados Juarez - Repuestos acoplados y semir...   \n",
       "\n",
       "                                        categoryName  \\\n",
       "0          Tienda de repuestos de automóviles usados   \n",
       "1        Tienda de repuestos para coches de carreras   \n",
       "2              Tienda de accesorios para automóviles   \n",
       "3          Tienda de repuestos de automóviles usados   \n",
       "4  Proveedor de repuestos de carrocería de automó...   \n",
       "\n",
       "                                             website  \\\n",
       "0                                                NaN   \n",
       "1                                                NaN   \n",
       "2                                                NaN   \n",
       "3                                                NaN   \n",
       "4  https://www.guia-dorada.com.ar/guia/aviso-repu...   \n",
       "\n",
       "                           street               phone           city  \\\n",
       "0                    Av. Muñiz 49    +54 2281 46-6108  Benito Juárez   \n",
       "1               Av. Muñiz 251-299                 NaN  Benito Juárez   \n",
       "2                    San Juan 126    +54 2281 53-2680  Benito Juárez   \n",
       "3                  Av. Urquiza 41    +54 2281 53-2090  Benito Juárez   \n",
       "4  Ruta Provincial 86, Suipacha y  +54 9 249 463-4600  Benito Juárez   \n",
       "\n",
       "                       state  location/lat  location/lng  totalScore  rank  \\\n",
       "0  Provincia de Buenos Aires    -37.678436    -59.800652         4.6     1   \n",
       "1  Provincia de Buenos Aires    -37.682303    -59.805742         4.9     2   \n",
       "2  Provincia de Buenos Aires    -37.672441    -59.800303         4.6     3   \n",
       "3  Provincia de Buenos Aires    -37.672897    -59.803693         4.6     4   \n",
       "4  Provincia de Buenos Aires    -37.679447    -59.818685         5.0     5   \n",
       "\n",
       "                                            imageUrl  imagesCount  \\\n",
       "0  https://lh3.googleusercontent.com/gps-cs-s/AC9...          2.0   \n",
       "1  https://streetviewpixels-pa.googleapis.com/v1/...          1.0   \n",
       "2  https://lh3.googleusercontent.com/gps-cs-s/AC9...          4.0   \n",
       "3  https://streetviewpixels-pa.googleapis.com/v1/...          1.0   \n",
       "4  https://lh3.googleusercontent.com/gps-cs-s/AC9...         26.0   \n",
       "\n",
       "   reviewsCount                 scrapedAt searchString  \n",
       "0            66  2025-05-29T00:53:21.747Z    repuestos  \n",
       "1            11  2025-05-29T00:53:21.748Z    repuestos  \n",
       "2            17  2025-05-29T00:53:21.748Z    repuestos  \n",
       "3             5  2025-05-29T00:53:21.749Z    repuestos  \n",
       "4             2  2025-05-29T00:53:21.749Z    repuestos  "
      ]
     },
     "execution_count": 101,
     "metadata": {},
     "output_type": "execute_result"
    }
   ],
   "source": [
    "df = df[[\n",
    "        'title',\n",
    "        'categoryName',\n",
    "        'website',\n",
    "        'street',\n",
    "        'phone',\n",
    "        'city',\n",
    "        'state',\n",
    "        'location/lat', \n",
    "        'location/lng',\n",
    "        'totalScore',\n",
    "        'rank',\n",
    "        'imageUrl',\n",
    "        'imagesCount',       \n",
    "        'reviewsCount', \n",
    "        'scrapedAt',\n",
    "        'searchString']]\n",
    "df.head(5)"
   ]
  },
  {
   "cell_type": "code",
   "execution_count": 102,
   "id": "dafce2ed",
   "metadata": {},
   "outputs": [
    {
     "name": "stdout",
     "output_type": "stream",
     "text": [
      "<class 'pandas.core.frame.DataFrame'>\n",
      "RangeIndex: 704 entries, 0 to 703\n",
      "Data columns (total 16 columns):\n",
      " #   Column        Non-Null Count  Dtype  \n",
      "---  ------        --------------  -----  \n",
      " 0   title         704 non-null    object \n",
      " 1   categoryName  686 non-null    object \n",
      " 2   website       125 non-null    object \n",
      " 3   street        655 non-null    object \n",
      " 4   phone         430 non-null    object \n",
      " 5   city          701 non-null    object \n",
      " 6   state         701 non-null    object \n",
      " 7   location/lat  704 non-null    float64\n",
      " 8   location/lng  704 non-null    float64\n",
      " 9   totalScore    451 non-null    float64\n",
      " 10  rank          704 non-null    int64  \n",
      " 11  imageUrl      681 non-null    object \n",
      " 12  imagesCount   681 non-null    float64\n",
      " 13  reviewsCount  704 non-null    int64  \n",
      " 14  scrapedAt     704 non-null    object \n",
      " 15  searchString  704 non-null    object \n",
      "dtypes: float64(4), int64(2), object(10)\n",
      "memory usage: 88.1+ KB\n"
     ]
    }
   ],
   "source": [
    "df.info()"
   ]
  },
  {
   "cell_type": "code",
   "execution_count": 103,
   "id": "17c0cfb8",
   "metadata": {},
   "outputs": [],
   "source": [
    "# Rellenar valores faltantes en la columna 'city'\n",
    "df['city'] = df['city'].fillna('Benito Juárez')"
   ]
  },
  {
   "cell_type": "code",
   "execution_count": 104,
   "id": "b60e7fa1",
   "metadata": {},
   "outputs": [
    {
     "data": {
      "application/vnd.microsoft.datawrangler.viewer.v0+json": {
       "columns": [
        {
         "name": "city",
         "rawType": "object",
         "type": "string"
        },
        {
         "name": "count",
         "rawType": "int64",
         "type": "integer"
        }
       ],
       "ref": "b5703dbd-bd02-4ba0-af21-24920f72bfb8",
       "rows": [
        [
         "Benito Juárez",
         "690"
        ],
        [
         "Buenos Aires",
         "6"
        ],
        [
         "Henderson",
         "3"
        ],
        [
         "alberti",
         "2"
        ],
        [
         "BENITO JUAREZ",
         "2"
        ],
        [
         "BAB",
         "1"
        ]
       ],
       "shape": {
        "columns": 1,
        "rows": 6
       }
      },
      "text/plain": [
       "city\n",
       "Benito Juárez    690\n",
       "Buenos Aires       6\n",
       "Henderson          3\n",
       "alberti            2\n",
       "BENITO JUAREZ      2\n",
       "BAB                1\n",
       "Name: count, dtype: int64"
      ]
     },
     "execution_count": 104,
     "metadata": {},
     "output_type": "execute_result"
    }
   ],
   "source": [
    "# Se cuenta la frecuencia de los registros de la columna 'city'\n",
    "df['city'].value_counts()"
   ]
  },
  {
   "cell_type": "code",
   "execution_count": 105,
   "id": "eb46c998",
   "metadata": {},
   "outputs": [
    {
     "data": {
      "application/vnd.microsoft.datawrangler.viewer.v0+json": {
       "columns": [
        {
         "name": "city",
         "rawType": "object",
         "type": "string"
        },
        {
         "name": "count",
         "rawType": "int64",
         "type": "integer"
        }
       ],
       "ref": "d8faf879-91e1-46ac-8b76-5c75ef059ddb",
       "rows": [
        [
         "Benito Juárez",
         "704"
        ]
       ],
       "shape": {
        "columns": 1,
        "rows": 1
       }
      },
      "text/plain": [
       "city\n",
       "Benito Juárez    704\n",
       "Name: count, dtype: int64"
      ]
     },
     "execution_count": 105,
     "metadata": {},
     "output_type": "execute_result"
    }
   ],
   "source": [
    "df['city'] = df['city'].replace({\n",
    "    'Buenos Aires': 'Benito Juárez',\n",
    "    'Henderson' : 'Benito Juárez',\n",
    "    'BENITO JUAREZ' : 'Benito Juárez',\n",
    "    'BAB' : 'Benito Juárez',\n",
    "    'alberti' : 'Benito Juárez'\n",
    "})\n",
    "df['city'].value_counts()"
   ]
  },
  {
   "cell_type": "code",
   "execution_count": 106,
   "id": "a7a3d38e",
   "metadata": {},
   "outputs": [],
   "source": [
    "# Se guarda el archivo principal de la ciudad\n",
    "df.to_csv('../CleanData/JuarezMain.csv', index=False)"
   ]
  },
  {
   "cell_type": "code",
   "execution_count": 107,
   "id": "c6f32ba8",
   "metadata": {},
   "outputs": [
    {
     "data": {
      "text/plain": [
       "['../Datasets\\\\olavarria_dataset_crawler-google-places_2025-05-29_00-56-36-905.csv',\n",
       " '../Datasets\\\\olavarria_dataset_crawler-google-places_2025-06-11_18-14-26-674.csv',\n",
       " '../Datasets\\\\olavarria_dataset_crawler-google-places_2025-06-15_23-35-08-815.csv',\n",
       " '../Datasets\\\\olavarria_dataset_crawler-google-places_2025-07-30_14-43-37-977.csv']"
      ]
     },
     "execution_count": 107,
     "metadata": {},
     "output_type": "execute_result"
    }
   ],
   "source": [
    "# Búsqueda de los archivos .csv en el directorio\n",
    "glob.glob('../Datasets/*olavarria*.csv')"
   ]
  },
  {
   "cell_type": "code",
   "execution_count": 108,
   "id": "92025fe5",
   "metadata": {},
   "outputs": [],
   "source": [
    "# Carga y concatena todos los archivos CSV que contengan 'olavarria' en su nombre.\n",
    "df = pd.concat(map(pd.read_csv, glob.glob('../Datasets/*olavarria*.csv'))).reset_index(drop=True)"
   ]
  },
  {
   "cell_type": "code",
   "execution_count": 109,
   "id": "7816afbb",
   "metadata": {},
   "outputs": [
    {
     "data": {
      "application/vnd.microsoft.datawrangler.viewer.v0+json": {
       "columns": [
        {
         "name": "index",
         "rawType": "int64",
         "type": "integer"
        },
        {
         "name": "title",
         "rawType": "object",
         "type": "string"
        },
        {
         "name": "categoryName",
         "rawType": "object",
         "type": "string"
        },
        {
         "name": "website",
         "rawType": "object",
         "type": "unknown"
        },
        {
         "name": "street",
         "rawType": "object",
         "type": "string"
        },
        {
         "name": "phone",
         "rawType": "object",
         "type": "unknown"
        },
        {
         "name": "city",
         "rawType": "object",
         "type": "string"
        },
        {
         "name": "state",
         "rawType": "object",
         "type": "string"
        },
        {
         "name": "location/lat",
         "rawType": "float64",
         "type": "float"
        },
        {
         "name": "location/lng",
         "rawType": "float64",
         "type": "float"
        },
        {
         "name": "totalScore",
         "rawType": "float64",
         "type": "float"
        },
        {
         "name": "rank",
         "rawType": "int64",
         "type": "integer"
        },
        {
         "name": "imageUrl",
         "rawType": "object",
         "type": "string"
        },
        {
         "name": "imagesCount",
         "rawType": "float64",
         "type": "float"
        },
        {
         "name": "reviewsCount",
         "rawType": "int64",
         "type": "integer"
        },
        {
         "name": "scrapedAt",
         "rawType": "object",
         "type": "string"
        },
        {
         "name": "searchString",
         "rawType": "object",
         "type": "string"
        }
       ],
       "ref": "aecad64e-e0a4-4546-b397-9b36f98227e6",
       "rows": [
        [
         "0",
         "Polirrubros La Silvia",
         "Kiosco",
         null,
         "Av. Ituzaingó 1317",
         null,
         "Olavarría",
         "Provincia de Buenos Aires",
         "-36.8954659",
         "-60.3450999",
         "4.8",
         "1",
         "https://lh3.googleusercontent.com/gps-cs-s/AC9h4nq8xvTgpbctG-9Ttr7o6i3CaKGMd4LM3Rf_NeHHFpLH0kQDvF_TCj5158sCZrdffbfsuK_P33Z2HuFPW5INdrX9Zu-hhdpWF96MJtmK75hX0m65UDNF3aQJ6Ht82xu2G3j6i16-=w426-h240-k-no",
         "16.0",
         "27",
         "2025-05-29T00:56:12.806Z",
         "comercio"
        ],
        [
         "1",
         "Distribuidora Katy",
         "Comercio",
         null,
         "Pelegrino, Av. Ituzaingó e",
         "+54 2284 71-1461",
         "Olavarría",
         "Provincia de Buenos Aires",
         "-36.8904483",
         "-60.3381332",
         null,
         "2",
         "https://lh3.googleusercontent.com/p/AF1QipOckQKK6l6UC0Bscvd7bj3ooNV633aGRAkIiRqK=w408-h906-k-no",
         "20.0",
         "0",
         "2025-05-29T00:56:12.808Z",
         "comercio"
        ],
        [
         "2",
         "Mercadito Gaby-Fer",
         "Comercio",
         null,
         "Collinet 2595",
         "+54 2284 41-7540",
         "Olavarría",
         "Provincia de Buenos Aires",
         "-36.9009979",
         "-60.3351212",
         "5.0",
         "3",
         "https://lh3.googleusercontent.com/gps-cs-s/AC9h4nppJD_PwNOaY7KKxhxikJTrD07KEEWqgTzPGRUBj7NZCys094LG5SU9yJY5xYWIN11rj-R_GLbKFxKdfVoPeHlgy7XxMGPO78FAq3H6Nhff1pLpAApavrAbNNrp79Jvb2hufqmkXw=w408-h725-k-no",
         "3.0",
         "4",
         "2025-05-29T00:56:12.808Z",
         "comercio"
        ],
        [
         "3",
         "Dulcemente",
         "Tienda de alimentación",
         null,
         "Independencia 1700-1600",
         "+54 2284 69-7125",
         "Olavarría",
         "Provincia de Buenos Aires",
         "-36.8954927",
         "-60.3396999",
         "5.0",
         "4",
         "https://lh3.googleusercontent.com/gps-cs-s/AC9h4nrEJfRYx5qddAWVtHrsB_7KuVGCPgsZ2MiY9ZhSQmxWzUc0Dz_uEBfnJ-io_C2tccptzXYLASuVhxy4iKzr6ZIiWmOWQmGUd_1P77AhqX8KhdOyLDvtLxIr9IZki6VnwzJgWowY=w408-h408-k-no",
         "2.0",
         "2",
         "2025-05-29T00:56:12.808Z",
         "comercio"
        ],
        [
         "4",
         "104 Polirrubro",
         "Tienda de alimentación",
         null,
         "Azopardo 1598",
         "+54 2284 42-1670",
         "Olavarría",
         "Provincia de Buenos Aires",
         "-36.8930219",
         "-60.341844",
         "3.8",
         "5",
         "https://lh3.googleusercontent.com/gps-cs-s/AC9h4noqABoiN4MPRoW99qJulH_GSLhr0kfkd7lB3KAXZVzr1XPhv4CyM-R3pnrORN4RPYau1dEZdFmm1xNBcVW95pjnxdSyCgCpfAU4hTcYkdqyK1U1HT6GCNI3_uoG0jNTM3kKbCiEEA=w408-h544-k-no",
         "18.0",
         "4",
         "2025-05-29T00:56:12.808Z",
         "comercio"
        ]
       ],
       "shape": {
        "columns": 16,
        "rows": 5
       }
      },
      "text/html": [
       "<div>\n",
       "<style scoped>\n",
       "    .dataframe tbody tr th:only-of-type {\n",
       "        vertical-align: middle;\n",
       "    }\n",
       "\n",
       "    .dataframe tbody tr th {\n",
       "        vertical-align: top;\n",
       "    }\n",
       "\n",
       "    .dataframe thead th {\n",
       "        text-align: right;\n",
       "    }\n",
       "</style>\n",
       "<table border=\"1\" class=\"dataframe\">\n",
       "  <thead>\n",
       "    <tr style=\"text-align: right;\">\n",
       "      <th></th>\n",
       "      <th>title</th>\n",
       "      <th>categoryName</th>\n",
       "      <th>website</th>\n",
       "      <th>street</th>\n",
       "      <th>phone</th>\n",
       "      <th>city</th>\n",
       "      <th>state</th>\n",
       "      <th>location/lat</th>\n",
       "      <th>location/lng</th>\n",
       "      <th>totalScore</th>\n",
       "      <th>rank</th>\n",
       "      <th>imageUrl</th>\n",
       "      <th>imagesCount</th>\n",
       "      <th>reviewsCount</th>\n",
       "      <th>scrapedAt</th>\n",
       "      <th>searchString</th>\n",
       "    </tr>\n",
       "  </thead>\n",
       "  <tbody>\n",
       "    <tr>\n",
       "      <th>0</th>\n",
       "      <td>Polirrubros La Silvia</td>\n",
       "      <td>Kiosco</td>\n",
       "      <td>NaN</td>\n",
       "      <td>Av. Ituzaingó 1317</td>\n",
       "      <td>NaN</td>\n",
       "      <td>Olavarría</td>\n",
       "      <td>Provincia de Buenos Aires</td>\n",
       "      <td>-36.895466</td>\n",
       "      <td>-60.345100</td>\n",
       "      <td>4.8</td>\n",
       "      <td>1</td>\n",
       "      <td>https://lh3.googleusercontent.com/gps-cs-s/AC9...</td>\n",
       "      <td>16.0</td>\n",
       "      <td>27</td>\n",
       "      <td>2025-05-29T00:56:12.806Z</td>\n",
       "      <td>comercio</td>\n",
       "    </tr>\n",
       "    <tr>\n",
       "      <th>1</th>\n",
       "      <td>Distribuidora Katy</td>\n",
       "      <td>Comercio</td>\n",
       "      <td>NaN</td>\n",
       "      <td>Pelegrino, Av. Ituzaingó e</td>\n",
       "      <td>+54 2284 71-1461</td>\n",
       "      <td>Olavarría</td>\n",
       "      <td>Provincia de Buenos Aires</td>\n",
       "      <td>-36.890448</td>\n",
       "      <td>-60.338133</td>\n",
       "      <td>NaN</td>\n",
       "      <td>2</td>\n",
       "      <td>https://lh3.googleusercontent.com/p/AF1QipOckQ...</td>\n",
       "      <td>20.0</td>\n",
       "      <td>0</td>\n",
       "      <td>2025-05-29T00:56:12.808Z</td>\n",
       "      <td>comercio</td>\n",
       "    </tr>\n",
       "    <tr>\n",
       "      <th>2</th>\n",
       "      <td>Mercadito Gaby-Fer</td>\n",
       "      <td>Comercio</td>\n",
       "      <td>NaN</td>\n",
       "      <td>Collinet 2595</td>\n",
       "      <td>+54 2284 41-7540</td>\n",
       "      <td>Olavarría</td>\n",
       "      <td>Provincia de Buenos Aires</td>\n",
       "      <td>-36.900998</td>\n",
       "      <td>-60.335121</td>\n",
       "      <td>5.0</td>\n",
       "      <td>3</td>\n",
       "      <td>https://lh3.googleusercontent.com/gps-cs-s/AC9...</td>\n",
       "      <td>3.0</td>\n",
       "      <td>4</td>\n",
       "      <td>2025-05-29T00:56:12.808Z</td>\n",
       "      <td>comercio</td>\n",
       "    </tr>\n",
       "    <tr>\n",
       "      <th>3</th>\n",
       "      <td>Dulcemente</td>\n",
       "      <td>Tienda de alimentación</td>\n",
       "      <td>NaN</td>\n",
       "      <td>Independencia 1700-1600</td>\n",
       "      <td>+54 2284 69-7125</td>\n",
       "      <td>Olavarría</td>\n",
       "      <td>Provincia de Buenos Aires</td>\n",
       "      <td>-36.895493</td>\n",
       "      <td>-60.339700</td>\n",
       "      <td>5.0</td>\n",
       "      <td>4</td>\n",
       "      <td>https://lh3.googleusercontent.com/gps-cs-s/AC9...</td>\n",
       "      <td>2.0</td>\n",
       "      <td>2</td>\n",
       "      <td>2025-05-29T00:56:12.808Z</td>\n",
       "      <td>comercio</td>\n",
       "    </tr>\n",
       "    <tr>\n",
       "      <th>4</th>\n",
       "      <td>104 Polirrubro</td>\n",
       "      <td>Tienda de alimentación</td>\n",
       "      <td>NaN</td>\n",
       "      <td>Azopardo 1598</td>\n",
       "      <td>+54 2284 42-1670</td>\n",
       "      <td>Olavarría</td>\n",
       "      <td>Provincia de Buenos Aires</td>\n",
       "      <td>-36.893022</td>\n",
       "      <td>-60.341844</td>\n",
       "      <td>3.8</td>\n",
       "      <td>5</td>\n",
       "      <td>https://lh3.googleusercontent.com/gps-cs-s/AC9...</td>\n",
       "      <td>18.0</td>\n",
       "      <td>4</td>\n",
       "      <td>2025-05-29T00:56:12.808Z</td>\n",
       "      <td>comercio</td>\n",
       "    </tr>\n",
       "  </tbody>\n",
       "</table>\n",
       "</div>"
      ],
      "text/plain": [
       "                   title            categoryName website  \\\n",
       "0  Polirrubros La Silvia                  Kiosco     NaN   \n",
       "1     Distribuidora Katy                Comercio     NaN   \n",
       "2     Mercadito Gaby-Fer                Comercio     NaN   \n",
       "3             Dulcemente  Tienda de alimentación     NaN   \n",
       "4         104 Polirrubro  Tienda de alimentación     NaN   \n",
       "\n",
       "                       street             phone       city  \\\n",
       "0          Av. Ituzaingó 1317               NaN  Olavarría   \n",
       "1  Pelegrino, Av. Ituzaingó e  +54 2284 71-1461  Olavarría   \n",
       "2               Collinet 2595  +54 2284 41-7540  Olavarría   \n",
       "3     Independencia 1700-1600  +54 2284 69-7125  Olavarría   \n",
       "4               Azopardo 1598  +54 2284 42-1670  Olavarría   \n",
       "\n",
       "                       state  location/lat  location/lng  totalScore  rank  \\\n",
       "0  Provincia de Buenos Aires    -36.895466    -60.345100         4.8     1   \n",
       "1  Provincia de Buenos Aires    -36.890448    -60.338133         NaN     2   \n",
       "2  Provincia de Buenos Aires    -36.900998    -60.335121         5.0     3   \n",
       "3  Provincia de Buenos Aires    -36.895493    -60.339700         5.0     4   \n",
       "4  Provincia de Buenos Aires    -36.893022    -60.341844         3.8     5   \n",
       "\n",
       "                                            imageUrl  imagesCount  \\\n",
       "0  https://lh3.googleusercontent.com/gps-cs-s/AC9...         16.0   \n",
       "1  https://lh3.googleusercontent.com/p/AF1QipOckQ...         20.0   \n",
       "2  https://lh3.googleusercontent.com/gps-cs-s/AC9...          3.0   \n",
       "3  https://lh3.googleusercontent.com/gps-cs-s/AC9...          2.0   \n",
       "4  https://lh3.googleusercontent.com/gps-cs-s/AC9...         18.0   \n",
       "\n",
       "   reviewsCount                 scrapedAt searchString  \n",
       "0            27  2025-05-29T00:56:12.806Z     comercio  \n",
       "1             0  2025-05-29T00:56:12.808Z     comercio  \n",
       "2             4  2025-05-29T00:56:12.808Z     comercio  \n",
       "3             2  2025-05-29T00:56:12.808Z     comercio  \n",
       "4             4  2025-05-29T00:56:12.808Z     comercio  "
      ]
     },
     "execution_count": 109,
     "metadata": {},
     "output_type": "execute_result"
    }
   ],
   "source": [
    "# Selección de columnas relevantes\n",
    "df = df[[\n",
    "        'title',\n",
    "        'categoryName',\n",
    "        'website',\n",
    "        'street',\n",
    "        'phone',\n",
    "        'city',\n",
    "        'state',\n",
    "        'location/lat', \n",
    "        'location/lng',\n",
    "        'totalScore',\n",
    "        'rank',\n",
    "        'imageUrl',\n",
    "        'imagesCount',       \n",
    "        'reviewsCount', \n",
    "        'scrapedAt',\n",
    "        'searchString']]\n",
    "df.head(5)"
   ]
  },
  {
   "cell_type": "code",
   "execution_count": 110,
   "id": "b26d27ca",
   "metadata": {},
   "outputs": [
    {
     "name": "stdout",
     "output_type": "stream",
     "text": [
      "<class 'pandas.core.frame.DataFrame'>\n",
      "RangeIndex: 2341 entries, 0 to 2340\n",
      "Data columns (total 16 columns):\n",
      " #   Column        Non-Null Count  Dtype  \n",
      "---  ------        --------------  -----  \n",
      " 0   title         2341 non-null   object \n",
      " 1   categoryName  2293 non-null   object \n",
      " 2   website       774 non-null    object \n",
      " 3   street        2253 non-null   object \n",
      " 4   phone         1797 non-null   object \n",
      " 5   city          2335 non-null   object \n",
      " 6   state         2335 non-null   object \n",
      " 7   location/lat  2341 non-null   float64\n",
      " 8   location/lng  2341 non-null   float64\n",
      " 9   totalScore    1867 non-null   float64\n",
      " 10  rank          2341 non-null   int64  \n",
      " 11  imageUrl      2289 non-null   object \n",
      " 12  imagesCount   2289 non-null   float64\n",
      " 13  reviewsCount  2341 non-null   int64  \n",
      " 14  scrapedAt     2341 non-null   object \n",
      " 15  searchString  2341 non-null   object \n",
      "dtypes: float64(4), int64(2), object(10)\n",
      "memory usage: 292.8+ KB\n"
     ]
    }
   ],
   "source": [
    "df.info()"
   ]
  },
  {
   "cell_type": "code",
   "execution_count": 111,
   "id": "505acfb1",
   "metadata": {},
   "outputs": [],
   "source": [
    "# Rellenar valores faltantes en la columna 'city'\n",
    "df['city'] = df['city'].fillna('Olavarría')"
   ]
  },
  {
   "cell_type": "markdown",
   "id": "be6dd920",
   "metadata": {},
   "source": [
    "<style>\n",
    ".rendered_html {\n",
    "    font-family: 'Comic Sans MS', cursive !important;\n",
    "    font-size: 18px !important;\n",
    "    color: red !important;\n",
    "}\n",
    "</style>"
   ]
  },
  {
   "cell_type": "code",
   "execution_count": 112,
   "id": "0694fa51",
   "metadata": {},
   "outputs": [
    {
     "data": {
      "application/vnd.microsoft.datawrangler.viewer.v0+json": {
       "columns": [
        {
         "name": "city",
         "rawType": "object",
         "type": "string"
        },
        {
         "name": "count",
         "rawType": "int64",
         "type": "integer"
        }
       ],
       "ref": "ce8ac565-2ca2-4e62-bfa5-bbd8ad6216d8",
       "rows": [
        [
         "Olavarría",
         "2225"
        ],
        [
         "Gran Buenos Aires",
         "57"
        ],
        [
         "DFE",
         "4"
        ],
        [
         "KKJ",
         "4"
        ],
        [
         "Buenos Aires",
         "4"
        ],
        [
         "IDH",
         "3"
        ],
        [
         "KCI",
         "3"
        ],
        [
         "COO",
         "3"
        ],
        [
         "CVQ",
         "3"
        ],
        [
         "B7400LCX",
         "3"
        ],
        [
         "CZY",
         "2"
        ],
        [
         "JZB",
         "2"
        ],
        [
         "Caseros",
         "2"
        ],
        [
         "Moreno",
         "2"
        ],
        [
         "Colon",
         "2"
        ],
        [
         "DAS",
         "2"
        ],
        [
         "DJY",
         "2"
        ],
        [
         "LLD",
         "1"
        ],
        [
         "CUV",
         "1"
        ],
        [
         "B7400JWP",
         "1"
        ],
        [
         "CABA",
         "1"
        ],
        [
         "DTO",
         "1"
        ],
        [
         "LNM",
         "1"
        ],
        [
         "CUR",
         "1"
        ],
        [
         "CWP",
         "1"
        ],
        [
         "JUE",
         "1"
        ],
        [
         "DRL",
         "1"
        ],
        [
         "DSN",
         "1"
        ],
        [
         "DJQ",
         "1"
        ],
        [
         "DRQ",
         "1"
        ],
        [
         "CUC",
         "1"
        ],
        [
         "CRB",
         "1"
        ],
        [
         "KKM",
         "1"
        ],
        [
         "DSC",
         "1"
        ],
        [
         "CUG",
         "1"
        ]
       ],
       "shape": {
        "columns": 1,
        "rows": 35
       }
      },
      "text/plain": [
       "city\n",
       "Olavarría            2225\n",
       "Gran Buenos Aires      57\n",
       "DFE                     4\n",
       "KKJ                     4\n",
       "Buenos Aires            4\n",
       "IDH                     3\n",
       "KCI                     3\n",
       "COO                     3\n",
       "CVQ                     3\n",
       "B7400LCX                3\n",
       "CZY                     2\n",
       "JZB                     2\n",
       "Caseros                 2\n",
       "Moreno                  2\n",
       "Colon                   2\n",
       "DAS                     2\n",
       "DJY                     2\n",
       "LLD                     1\n",
       "CUV                     1\n",
       "B7400JWP                1\n",
       "CABA                    1\n",
       "DTO                     1\n",
       "LNM                     1\n",
       "CUR                     1\n",
       "CWP                     1\n",
       "JUE                     1\n",
       "DRL                     1\n",
       "DSN                     1\n",
       "DJQ                     1\n",
       "DRQ                     1\n",
       "CUC                     1\n",
       "CRB                     1\n",
       "KKM                     1\n",
       "DSC                     1\n",
       "CUG                     1\n",
       "Name: count, dtype: int64"
      ]
     },
     "execution_count": 112,
     "metadata": {},
     "output_type": "execute_result"
    }
   ],
   "source": [
    "df['city'].value_counts()"
   ]
  },
  {
   "cell_type": "code",
   "execution_count": 113,
   "id": "01315329",
   "metadata": {},
   "outputs": [],
   "source": [
    "df['city'] = df['city'].replace({\n",
    "    'Gran Buenos Aires': 'Olavarría',\n",
    "    'DFE' : 'Olavarría',\n",
    "    'Buenos Aires' : 'Olavarría',\n",
    "    'KKJ' : 'Olavarría',\n",
    "    'KCI' : 'Olavarría',\n",
    "    'B7400LCX' : 'Olavarría',\n",
    "    'COO' : 'Olavarría',\n",
    "    'CVQ' : 'Olavarría',\n",
    "    'IDH' : 'Olavarría',\n",
    "    'Caseros' : 'Olavarría',\n",
    "    'DAS' : 'Olavarría',\n",
    "    'Colon' : 'Olavarría',\n",
    "    'Moreno' : 'Olavarría',\n",
    "    'CZY' : 'Olavarría',\n",
    "    'DJY' : 'Olavarría',\n",
    "    'JZB' : 'Olavarría',\n",
    "    'DRQ' : 'Olavarría',\n",
    "    'B7400JWP' : 'Olavarría',\n",
    "    'CUV' : 'Olavarría',\n",
    "    'CUG' : 'Olavarría',\n",
    "    'DSC' : 'Olavarría',\n",
    "    'KKM' : 'Olavarría',\n",
    "    'CRB' : 'Olavarría',\n",
    "    'CUC' : 'Olavarría',\n",
    "    'JUE' : 'Olavarría',\n",
    "    'DJQ' : 'Olavarría',\n",
    "    'DSN' : 'Olavarría',\n",
    "    'DRL' : 'Olavarría',\n",
    "    'CWP' : 'Olavarría',\n",
    "    'CUR' : 'Olavarría',\n",
    "    'LNM' : 'Olavarría',\n",
    "    'DTO' : 'Olavarría',\n",
    "    'LLD' : 'Olavarría',\n",
    "    'CABA' : 'Olavarría'\n",
    "})"
   ]
  },
  {
   "cell_type": "code",
   "execution_count": 114,
   "id": "42312361",
   "metadata": {},
   "outputs": [],
   "source": [
    "# Exporta el DataFrame a .CSV sin incluir la columna del índice\n",
    "df.to_csv('../CleanData/OlavarriaMain.csv', index=False)"
   ]
  },
  {
   "cell_type": "code",
   "execution_count": 115,
   "id": "e8d31698",
   "metadata": {},
   "outputs": [
    {
     "data": {
      "text/plain": [
       "['../Datasets\\\\rauch_ dataset_crawler-google-places_2025-05-29_00-49-55-809.csv',\n",
       " '../Datasets\\\\rauch_dataset_crawler-google-places_2025-06-15_22-41-11-472.csv',\n",
       " '../Datasets\\\\rauch_dataset_crawler-google-places_2025-07-30_15-11-01-826.csv',\n",
       " '../Datasets\\\\rauch_dataset_google-maps-extractor_2025-05-19_00-06-21-606.csv']"
      ]
     },
     "execution_count": 115,
     "metadata": {},
     "output_type": "execute_result"
    }
   ],
   "source": [
    "\n",
    "glob.glob('../Datasets/*rauch*.csv')"
   ]
  },
  {
   "cell_type": "code",
   "execution_count": 116,
   "id": "31b4f339",
   "metadata": {},
   "outputs": [],
   "source": [
    "df = pd.concat(map(pd.read_csv, glob.glob('../Datasets/*rauch*.csv'))).reset_index(drop=True)"
   ]
  },
  {
   "cell_type": "code",
   "execution_count": 117,
   "id": "a7e88dfb",
   "metadata": {},
   "outputs": [
    {
     "data": {
      "application/vnd.microsoft.datawrangler.viewer.v0+json": {
       "columns": [
        {
         "name": "index",
         "rawType": "int64",
         "type": "integer"
        },
        {
         "name": "title",
         "rawType": "object",
         "type": "string"
        },
        {
         "name": "categoryName",
         "rawType": "object",
         "type": "string"
        },
        {
         "name": "website",
         "rawType": "object",
         "type": "unknown"
        },
        {
         "name": "street",
         "rawType": "object",
         "type": "string"
        },
        {
         "name": "phone",
         "rawType": "object",
         "type": "unknown"
        },
        {
         "name": "city",
         "rawType": "object",
         "type": "string"
        },
        {
         "name": "state",
         "rawType": "object",
         "type": "string"
        },
        {
         "name": "location/lat",
         "rawType": "float64",
         "type": "float"
        },
        {
         "name": "location/lng",
         "rawType": "float64",
         "type": "float"
        },
        {
         "name": "totalScore",
         "rawType": "float64",
         "type": "float"
        },
        {
         "name": "rank",
         "rawType": "int64",
         "type": "integer"
        },
        {
         "name": "imageUrl",
         "rawType": "object",
         "type": "string"
        },
        {
         "name": "imagesCount",
         "rawType": "float64",
         "type": "float"
        },
        {
         "name": "reviewsCount",
         "rawType": "int64",
         "type": "integer"
        },
        {
         "name": "scrapedAt",
         "rawType": "object",
         "type": "string"
        },
        {
         "name": "searchString",
         "rawType": "object",
         "type": "string"
        }
       ],
       "ref": "3806f1fe-1b8b-4593-93bc-62845c5c4da5",
       "rows": [
        [
         "0",
         "Del Valle inyeccion electronica",
         "Taller de reparación de automóviles",
         null,
         "Aristóbulo del Valle, Aveleyra &",
         "+54 249 434-0861",
         "Rauch",
         "Provincia de Buenos Aires",
         "-36.7732979",
         "-59.0914586",
         "5.0",
         "1",
         "https://streetviewpixels-pa.googleapis.com/v1/thumbnail?panoid=3Wc1KYykIOdgSbV5Il4bPQ&cb_client=search.gws-prod.gps&w=408&h=240&yaw=118.05518&pitch=0&thumbfov=100",
         "1.0",
         "1",
         "2025-05-29T00:48:32.392Z",
         "electronica"
        ],
        [
         "1",
         "Electro 440 - Accesorios y Reparación",
         "Tienda de electrónica",
         "https://www.facebook.com/todoenremotos",
         "Letamendi 596",
         "+54 9 249 427-7096",
         "Rauch",
         "Provincia de Buenos Aires",
         "-36.7760935",
         "-59.0880719",
         "5.0",
         "2",
         "https://lh3.googleusercontent.com/gps-cs-s/AC9h4no1JR9FZkuvuzi8osn3QxaCqMVveohCuzlE0Z7Uzphchi1lA5PFLqKWbVGRXiuQtVHFDx9sld7gVjP6VjYdSCiZifbblN6Pf38ig1oxoCTrAwXlOwCxIkSrBsm90IuX-NTChRF-=w408-h290-k-no",
         "35.0",
         "5",
         "2025-05-29T00:48:32.394Z",
         "electronica"
        ],
        [
         "2",
         "Dangerous Sonido e Iluminación",
         "Tienda de equipos de sonido",
         null,
         "BNK, Saavedra 507",
         "+54 249 453-3029",
         "Rauch",
         "Provincia de Buenos Aires",
         "-36.7729746",
         "-59.0936486",
         "5.0",
         "3",
         "https://lh3.googleusercontent.com/gps-cs-s/AC9h4noKe9hxMjzz-JQuAMUhwsVnwiHcoq9zI4TM5VP0eJzAzIfWErj9xiVBVqIyQSskcxppKes2u1rhyYo4n4dRB-B8Dq9QTbJoGVeZz7THiw1Aj1Bmmc87KO7x07yYdmXnJcuoWAum=w408-h544-k-no",
         "28.0",
         "3",
         "2025-05-29T00:48:32.394Z",
         "electronica"
        ],
        [
         "3",
         "Jona PC",
         "Servicio de informática",
         "https://www.facebook.com/profile.php?id=100069057800875",
         "Dardo Rocha 850",
         null,
         "Rauch",
         "Provincia de Buenos Aires",
         "-36.7616494",
         "-59.0928231",
         "5.0",
         "4",
         "https://lh3.googleusercontent.com/p/AF1QipPcWbbtNlrx8MwBx4KROQ8X_kqLu2dtpVg87XqI=w408-h544-k-no",
         "13.0",
         "11",
         "2025-05-29T00:48:32.394Z",
         "electronica"
        ],
        [
         "4",
         "Super PC Rauch",
         "Tienda de informática",
         null,
         "Balcarce 1001",
         "+54 249 435-8292",
         "Rauch",
         "Provincia de Buenos Aires",
         "-36.7682494",
         "-59.0901479",
         null,
         "5",
         "https://streetviewpixels-pa.googleapis.com/v1/thumbnail?panoid=_xL4LKB-EG5hev3nw6bfgw&cb_client=search.gws-prod.gps&w=408&h=240&yaw=309.61942&pitch=0&thumbfov=100",
         "1.0",
         "0",
         "2025-05-29T00:48:32.395Z",
         "electronica"
        ]
       ],
       "shape": {
        "columns": 16,
        "rows": 5
       }
      },
      "text/html": [
       "<div>\n",
       "<style scoped>\n",
       "    .dataframe tbody tr th:only-of-type {\n",
       "        vertical-align: middle;\n",
       "    }\n",
       "\n",
       "    .dataframe tbody tr th {\n",
       "        vertical-align: top;\n",
       "    }\n",
       "\n",
       "    .dataframe thead th {\n",
       "        text-align: right;\n",
       "    }\n",
       "</style>\n",
       "<table border=\"1\" class=\"dataframe\">\n",
       "  <thead>\n",
       "    <tr style=\"text-align: right;\">\n",
       "      <th></th>\n",
       "      <th>title</th>\n",
       "      <th>categoryName</th>\n",
       "      <th>website</th>\n",
       "      <th>street</th>\n",
       "      <th>phone</th>\n",
       "      <th>city</th>\n",
       "      <th>state</th>\n",
       "      <th>location/lat</th>\n",
       "      <th>location/lng</th>\n",
       "      <th>totalScore</th>\n",
       "      <th>rank</th>\n",
       "      <th>imageUrl</th>\n",
       "      <th>imagesCount</th>\n",
       "      <th>reviewsCount</th>\n",
       "      <th>scrapedAt</th>\n",
       "      <th>searchString</th>\n",
       "    </tr>\n",
       "  </thead>\n",
       "  <tbody>\n",
       "    <tr>\n",
       "      <th>0</th>\n",
       "      <td>Del Valle inyeccion electronica</td>\n",
       "      <td>Taller de reparación de automóviles</td>\n",
       "      <td>NaN</td>\n",
       "      <td>Aristóbulo del Valle, Aveleyra &amp;</td>\n",
       "      <td>+54 249 434-0861</td>\n",
       "      <td>Rauch</td>\n",
       "      <td>Provincia de Buenos Aires</td>\n",
       "      <td>-36.773298</td>\n",
       "      <td>-59.091459</td>\n",
       "      <td>5.0</td>\n",
       "      <td>1</td>\n",
       "      <td>https://streetviewpixels-pa.googleapis.com/v1/...</td>\n",
       "      <td>1.0</td>\n",
       "      <td>1</td>\n",
       "      <td>2025-05-29T00:48:32.392Z</td>\n",
       "      <td>electronica</td>\n",
       "    </tr>\n",
       "    <tr>\n",
       "      <th>1</th>\n",
       "      <td>Electro 440 - Accesorios y Reparación</td>\n",
       "      <td>Tienda de electrónica</td>\n",
       "      <td>https://www.facebook.com/todoenremotos</td>\n",
       "      <td>Letamendi 596</td>\n",
       "      <td>+54 9 249 427-7096</td>\n",
       "      <td>Rauch</td>\n",
       "      <td>Provincia de Buenos Aires</td>\n",
       "      <td>-36.776094</td>\n",
       "      <td>-59.088072</td>\n",
       "      <td>5.0</td>\n",
       "      <td>2</td>\n",
       "      <td>https://lh3.googleusercontent.com/gps-cs-s/AC9...</td>\n",
       "      <td>35.0</td>\n",
       "      <td>5</td>\n",
       "      <td>2025-05-29T00:48:32.394Z</td>\n",
       "      <td>electronica</td>\n",
       "    </tr>\n",
       "    <tr>\n",
       "      <th>2</th>\n",
       "      <td>Dangerous Sonido e Iluminación</td>\n",
       "      <td>Tienda de equipos de sonido</td>\n",
       "      <td>NaN</td>\n",
       "      <td>BNK, Saavedra 507</td>\n",
       "      <td>+54 249 453-3029</td>\n",
       "      <td>Rauch</td>\n",
       "      <td>Provincia de Buenos Aires</td>\n",
       "      <td>-36.772975</td>\n",
       "      <td>-59.093649</td>\n",
       "      <td>5.0</td>\n",
       "      <td>3</td>\n",
       "      <td>https://lh3.googleusercontent.com/gps-cs-s/AC9...</td>\n",
       "      <td>28.0</td>\n",
       "      <td>3</td>\n",
       "      <td>2025-05-29T00:48:32.394Z</td>\n",
       "      <td>electronica</td>\n",
       "    </tr>\n",
       "    <tr>\n",
       "      <th>3</th>\n",
       "      <td>Jona PC</td>\n",
       "      <td>Servicio de informática</td>\n",
       "      <td>https://www.facebook.com/profile.php?id=100069...</td>\n",
       "      <td>Dardo Rocha 850</td>\n",
       "      <td>NaN</td>\n",
       "      <td>Rauch</td>\n",
       "      <td>Provincia de Buenos Aires</td>\n",
       "      <td>-36.761649</td>\n",
       "      <td>-59.092823</td>\n",
       "      <td>5.0</td>\n",
       "      <td>4</td>\n",
       "      <td>https://lh3.googleusercontent.com/p/AF1QipPcWb...</td>\n",
       "      <td>13.0</td>\n",
       "      <td>11</td>\n",
       "      <td>2025-05-29T00:48:32.394Z</td>\n",
       "      <td>electronica</td>\n",
       "    </tr>\n",
       "    <tr>\n",
       "      <th>4</th>\n",
       "      <td>Super PC Rauch</td>\n",
       "      <td>Tienda de informática</td>\n",
       "      <td>NaN</td>\n",
       "      <td>Balcarce 1001</td>\n",
       "      <td>+54 249 435-8292</td>\n",
       "      <td>Rauch</td>\n",
       "      <td>Provincia de Buenos Aires</td>\n",
       "      <td>-36.768249</td>\n",
       "      <td>-59.090148</td>\n",
       "      <td>NaN</td>\n",
       "      <td>5</td>\n",
       "      <td>https://streetviewpixels-pa.googleapis.com/v1/...</td>\n",
       "      <td>1.0</td>\n",
       "      <td>0</td>\n",
       "      <td>2025-05-29T00:48:32.395Z</td>\n",
       "      <td>electronica</td>\n",
       "    </tr>\n",
       "  </tbody>\n",
       "</table>\n",
       "</div>"
      ],
      "text/plain": [
       "                                   title                         categoryName  \\\n",
       "0        Del Valle inyeccion electronica  Taller de reparación de automóviles   \n",
       "1  Electro 440 - Accesorios y Reparación                Tienda de electrónica   \n",
       "2         Dangerous Sonido e Iluminación          Tienda de equipos de sonido   \n",
       "3                                Jona PC              Servicio de informática   \n",
       "4                         Super PC Rauch                Tienda de informática   \n",
       "\n",
       "                                             website  \\\n",
       "0                                                NaN   \n",
       "1             https://www.facebook.com/todoenremotos   \n",
       "2                                                NaN   \n",
       "3  https://www.facebook.com/profile.php?id=100069...   \n",
       "4                                                NaN   \n",
       "\n",
       "                             street               phone   city  \\\n",
       "0  Aristóbulo del Valle, Aveleyra &    +54 249 434-0861  Rauch   \n",
       "1                     Letamendi 596  +54 9 249 427-7096  Rauch   \n",
       "2                 BNK, Saavedra 507    +54 249 453-3029  Rauch   \n",
       "3                   Dardo Rocha 850                 NaN  Rauch   \n",
       "4                     Balcarce 1001    +54 249 435-8292  Rauch   \n",
       "\n",
       "                       state  location/lat  location/lng  totalScore  rank  \\\n",
       "0  Provincia de Buenos Aires    -36.773298    -59.091459         5.0     1   \n",
       "1  Provincia de Buenos Aires    -36.776094    -59.088072         5.0     2   \n",
       "2  Provincia de Buenos Aires    -36.772975    -59.093649         5.0     3   \n",
       "3  Provincia de Buenos Aires    -36.761649    -59.092823         5.0     4   \n",
       "4  Provincia de Buenos Aires    -36.768249    -59.090148         NaN     5   \n",
       "\n",
       "                                            imageUrl  imagesCount  \\\n",
       "0  https://streetviewpixels-pa.googleapis.com/v1/...          1.0   \n",
       "1  https://lh3.googleusercontent.com/gps-cs-s/AC9...         35.0   \n",
       "2  https://lh3.googleusercontent.com/gps-cs-s/AC9...         28.0   \n",
       "3  https://lh3.googleusercontent.com/p/AF1QipPcWb...         13.0   \n",
       "4  https://streetviewpixels-pa.googleapis.com/v1/...          1.0   \n",
       "\n",
       "   reviewsCount                 scrapedAt searchString  \n",
       "0             1  2025-05-29T00:48:32.392Z  electronica  \n",
       "1             5  2025-05-29T00:48:32.394Z  electronica  \n",
       "2             3  2025-05-29T00:48:32.394Z  electronica  \n",
       "3            11  2025-05-29T00:48:32.394Z  electronica  \n",
       "4             0  2025-05-29T00:48:32.395Z  electronica  "
      ]
     },
     "execution_count": 117,
     "metadata": {},
     "output_type": "execute_result"
    }
   ],
   "source": [
    "df = df[[\n",
    "        'title',\n",
    "        'categoryName',\n",
    "        'website',\n",
    "        'street',\n",
    "        'phone',\n",
    "        'city',\n",
    "        'state',\n",
    "        'location/lat', \n",
    "        'location/lng',\n",
    "        'totalScore',\n",
    "        'rank',\n",
    "        'imageUrl',\n",
    "        'imagesCount',       \n",
    "        'reviewsCount', \n",
    "        'scrapedAt',\n",
    "        'searchString']]\n",
    "df.head(5)"
   ]
  },
  {
   "cell_type": "code",
   "execution_count": 118,
   "id": "c0646fe6",
   "metadata": {},
   "outputs": [
    {
     "name": "stdout",
     "output_type": "stream",
     "text": [
      "<class 'pandas.core.frame.DataFrame'>\n",
      "RangeIndex: 826 entries, 0 to 825\n",
      "Data columns (total 16 columns):\n",
      " #   Column        Non-Null Count  Dtype  \n",
      "---  ------        --------------  -----  \n",
      " 0   title         826 non-null    object \n",
      " 1   categoryName  806 non-null    object \n",
      " 2   website       147 non-null    object \n",
      " 3   street        746 non-null    object \n",
      " 4   phone         455 non-null    object \n",
      " 5   city          820 non-null    object \n",
      " 6   state         821 non-null    object \n",
      " 7   location/lat  826 non-null    float64\n",
      " 8   location/lng  826 non-null    float64\n",
      " 9   totalScore    527 non-null    float64\n",
      " 10  rank          826 non-null    int64  \n",
      " 11  imageUrl      802 non-null    object \n",
      " 12  imagesCount   802 non-null    float64\n",
      " 13  reviewsCount  826 non-null    int64  \n",
      " 14  scrapedAt     826 non-null    object \n",
      " 15  searchString  826 non-null    object \n",
      "dtypes: float64(4), int64(2), object(10)\n",
      "memory usage: 103.4+ KB\n"
     ]
    }
   ],
   "source": [
    "df.info()"
   ]
  },
  {
   "cell_type": "code",
   "execution_count": 119,
   "id": "df4224b7",
   "metadata": {},
   "outputs": [],
   "source": [
    "df['city'] = df['city'].fillna('Rauch')"
   ]
  },
  {
   "cell_type": "code",
   "execution_count": 120,
   "id": "b6c1d915",
   "metadata": {},
   "outputs": [
    {
     "data": {
      "application/vnd.microsoft.datawrangler.viewer.v0+json": {
       "columns": [
        {
         "name": "city",
         "rawType": "object",
         "type": "string"
        },
        {
         "name": "count",
         "rawType": "int64",
         "type": "integer"
        }
       ],
       "ref": "e2bae2df-42ac-49d3-ba44-7cf6a4807a53",
       "rows": [
        [
         "Rauch",
         "722"
        ],
        [
         "BPQ",
         "24"
        ],
        [
         "Buenos Aires",
         "6"
        ],
        [
         "ADB",
         "6"
        ],
        [
         "BPJ",
         "4"
        ],
        [
         "AEX",
         "4"
        ],
        [
         "BPR",
         "4"
        ],
        [
         "BBP",
         "4"
        ],
        [
         "ACD",
         "4"
        ],
        [
         "BID",
         "4"
        ],
        [
         "AQH",
         "4"
        ],
        [
         "ACF",
         "4"
        ],
        [
         "ASJ",
         "4"
        ],
        [
         "ABD",
         "3"
        ],
        [
         "AQJ",
         "3"
        ],
        [
         "ATQ",
         "3"
        ],
        [
         "BPO",
         "3"
        ],
        [
         "AKG",
         "3"
        ],
        [
         "BQC",
         "3"
        ],
        [
         "BPI",
         "2"
        ],
        [
         "BPP",
         "2"
        ],
        [
         "BPK",
         "2"
        ],
        [
         "BCB",
         "2"
        ],
        [
         "AQE",
         "1"
        ],
        [
         "BMT",
         "1"
        ],
        [
         "AQF",
         "1"
        ],
        [
         "AAI",
         "1"
        ],
        [
         "BJF",
         "1"
        ],
        [
         "AQB",
         "1"
        ]
       ],
       "shape": {
        "columns": 1,
        "rows": 29
       }
      },
      "text/plain": [
       "city\n",
       "Rauch           722\n",
       "BPQ              24\n",
       "Buenos Aires      6\n",
       "ADB               6\n",
       "BPJ               4\n",
       "AEX               4\n",
       "BPR               4\n",
       "BBP               4\n",
       "ACD               4\n",
       "BID               4\n",
       "AQH               4\n",
       "ACF               4\n",
       "ASJ               4\n",
       "ABD               3\n",
       "AQJ               3\n",
       "ATQ               3\n",
       "BPO               3\n",
       "AKG               3\n",
       "BQC               3\n",
       "BPI               2\n",
       "BPP               2\n",
       "BPK               2\n",
       "BCB               2\n",
       "AQE               1\n",
       "BMT               1\n",
       "AQF               1\n",
       "AAI               1\n",
       "BJF               1\n",
       "AQB               1\n",
       "Name: count, dtype: int64"
      ]
     },
     "execution_count": 120,
     "metadata": {},
     "output_type": "execute_result"
    }
   ],
   "source": [
    "df['city'].value_counts()"
   ]
  },
  {
   "cell_type": "code",
   "execution_count": 121,
   "id": "7cff3dae",
   "metadata": {},
   "outputs": [],
   "source": [
    "df['city'] = df['city'].replace({\n",
    "    'Buenos Aires': 'Rauch',\n",
    "    'BPQ' : 'Rauch',\n",
    "    'ADB' : 'Rauch',\n",
    "    'ASJ' : 'Rauch',\n",
    "    'BPR' : 'Rauch',\n",
    "    'BBP' : 'Rauch',\n",
    "    'ACD' : 'Rauch',\n",
    "    'BPJ' : 'Rauch',\n",
    "    'AEX' : 'Rauch',\n",
    "    'BID' : 'Rauch',\n",
    "    'ACF' : 'Rauch',\n",
    "    'AQH' : 'Rauch',\n",
    "    'BPO' : 'Rauch',\n",
    "    'ATQ' : 'Rauch',\n",
    "    'AQJ' : 'Rauch',\n",
    "    'ABD' : 'Rauch',\n",
    "    'BQC' : 'Rauch',    \n",
    "    'AKG' : 'Rauch',\n",
    "    'BCB' : 'Rauch',\n",
    "    'BPP' : 'Rauch',\n",
    "    'BPK' : 'Rauch',\n",
    "    'BPI' : 'Rauch',\n",
    "    'AQE' : 'Rauch',\n",
    "    'BMT' : 'Rauch',\n",
    "    'AQF' : 'Rauch',\n",
    "    'AAI' : 'Rauch',\n",
    "    'BJF' : 'Rauch',\n",
    "    'AQB' : 'Rauch'\n",
    "})"
   ]
  },
  {
   "cell_type": "code",
   "execution_count": 122,
   "id": "1ce638de",
   "metadata": {},
   "outputs": [],
   "source": [
    "#Exportación del DataFrame a un archivo CSV\n",
    "df.to_csv('../CleanData/RauchMain.csv', index=False)"
   ]
  },
  {
   "cell_type": "code",
   "execution_count": 123,
   "id": "e6147c2c",
   "metadata": {},
   "outputs": [
    {
     "data": {
      "text/plain": [
       "['../Datasets\\\\tandil _dataset_google-maps-extractor_2025-05-04_16-09-01-070.csv',\n",
       " '../Datasets\\\\tandil_dataset_crawler-google-places_2025-05-28_23-37-49-506.csv',\n",
       " '../Datasets\\\\tandil_dataset_crawler-google-places_2025-05-28_23-44-51-919.csv',\n",
       " '../Datasets\\\\tandil_dataset_crawler-google-places_2025-05-29_00-18-14-608.csv',\n",
       " '../Datasets\\\\tandil_dataset_crawler-google-places_2025-06-11_18-03-13-154.csv',\n",
       " '../Datasets\\\\tandil_dataset_crawler-google-places_2025-06-15_23-39-41-132.csv',\n",
       " '../Datasets\\\\tandil_dataset_crawler-google-places_2025-07-30_15-45-22-219.csv']"
      ]
     },
     "execution_count": 123,
     "metadata": {},
     "output_type": "execute_result"
    }
   ],
   "source": [
    "glob.glob('../Datasets/*tandil*.csv')"
   ]
  },
  {
   "cell_type": "code",
   "execution_count": 124,
   "id": "ec2afd8a",
   "metadata": {},
   "outputs": [],
   "source": [
    "df = pd.concat(map(pd.read_csv, glob.glob('../Datasets/*tandil*.csv'))).reset_index(drop=True)\n"
   ]
  },
  {
   "cell_type": "code",
   "execution_count": 125,
   "id": "6d451a92",
   "metadata": {},
   "outputs": [
    {
     "data": {
      "application/vnd.microsoft.datawrangler.viewer.v0+json": {
       "columns": [
        {
         "name": "index",
         "rawType": "int64",
         "type": "integer"
        },
        {
         "name": "title",
         "rawType": "object",
         "type": "string"
        },
        {
         "name": "categoryName",
         "rawType": "object",
         "type": "string"
        },
        {
         "name": "website",
         "rawType": "object",
         "type": "unknown"
        },
        {
         "name": "street",
         "rawType": "object",
         "type": "string"
        },
        {
         "name": "phone",
         "rawType": "object",
         "type": "unknown"
        },
        {
         "name": "city",
         "rawType": "object",
         "type": "string"
        },
        {
         "name": "state",
         "rawType": "object",
         "type": "string"
        },
        {
         "name": "location/lat",
         "rawType": "float64",
         "type": "float"
        },
        {
         "name": "location/lng",
         "rawType": "float64",
         "type": "float"
        },
        {
         "name": "totalScore",
         "rawType": "float64",
         "type": "float"
        },
        {
         "name": "rank",
         "rawType": "int64",
         "type": "integer"
        },
        {
         "name": "imageUrl",
         "rawType": "object",
         "type": "string"
        },
        {
         "name": "imagesCount",
         "rawType": "float64",
         "type": "float"
        },
        {
         "name": "reviewsCount",
         "rawType": "int64",
         "type": "integer"
        },
        {
         "name": "scrapedAt",
         "rawType": "object",
         "type": "string"
        },
        {
         "name": "searchString",
         "rawType": "object",
         "type": "string"
        }
       ],
       "ref": "37c09daa-f88b-4ca1-bf69-2fd98588e0a4",
       "rows": [
        [
         "0",
         "EL BAQUEANO TANDIL",
         "Tienda de delicatessen",
         "http://www.elbaqueanotandil.com/",
         "1381, Tasende",
         null,
         "Tandil",
         "Provincia de Buenos Aires",
         "-37.3509083",
         "-59.170069",
         "4.8",
         "8",
         "https://lh3.googleusercontent.com/p/AF1QipP2-lzPSQGfKEB-nGTcYc5gwwOznhVxwuD5N-0=w426-h240-k-no",
         "686.0",
         "1408",
         "2025-05-04T16:08:15.927Z",
         "Comercio"
        ],
        [
         "1",
         "Alquimia Artesanías",
         "Tienda de artesanías",
         "https://www.facebook.com/alquimia.artesanias.tandil",
         "Icalma y Tasende Acceso Cerro El Centinela",
         null,
         "Tandil",
         "Provincia de Buenos Aires",
         "-37.3558333",
         "-59.1722222",
         "4.5",
         "9",
         "https://lh3.googleusercontent.com/p/AF1QipPXrhqd3el5t1Zy0kCGrI5036hQgo1Z10Ir06kG=w408-h272-k-no",
         "40.0",
         "43",
         "2025-05-04T16:08:15.927Z",
         "Comercio"
        ],
        [
         "2",
         "mercado Jorge",
         "Tienda de alimentación",
         null,
         "Sandino 468",
         "+54 249 444-3579",
         "Tandil",
         "Provincia de Buenos Aires",
         "-37.3380404",
         "-59.1261145",
         "4.5",
         "10",
         "https://streetviewpixels-pa.googleapis.com/v1/thumbnail?panoid=rSGMGo-ywHkDXrBdaTN2LA&cb_client=search.gws-prod.gps&w=408&h=240&yaw=68.29262&pitch=0&thumbfov=100",
         "1.0",
         "13",
         "2025-05-04T16:08:15.927Z",
         "Comercio"
        ],
        [
         "3",
         "Vale la Pena \"Almacén\"",
         "Tienda de alimentación",
         null,
         "Av. Estrada 468",
         null,
         "Tandil",
         "Provincia de Buenos Aires",
         "-37.3394896",
         "-59.1475034",
         "4.6",
         "11",
         "https://lh3.googleusercontent.com/p/AF1QipPz_6LEDOJTTtU3hOwsqUuvrlQsWxjiDEQfJiBZ=w408-h725-k-no",
         "3.0",
         "17",
         "2025-05-04T16:08:15.927Z",
         "Comercio"
        ],
        [
         "4",
         "Sec Tandil - Sociedad Emp de Comercio Tandil",
         "Sindicato",
         "http://www.sectandil.org.ar/",
         "San Martín 785",
         null,
         "Tandil",
         "Provincia de Buenos Aires",
         "-37.3254577",
         "-59.1340935",
         "1.0",
         "12",
         "https://streetviewpixels-pa.googleapis.com/v1/thumbnail?panoid=maz7Q6vXfTynCdzhY6x9WQ&cb_client=search.gws-prod.gps&w=408&h=240&yaw=149.7049&pitch=0&thumbfov=100",
         "1.0",
         "2",
         "2025-05-04T16:08:15.927Z",
         "Comercio"
        ]
       ],
       "shape": {
        "columns": 16,
        "rows": 5
       }
      },
      "text/html": [
       "<div>\n",
       "<style scoped>\n",
       "    .dataframe tbody tr th:only-of-type {\n",
       "        vertical-align: middle;\n",
       "    }\n",
       "\n",
       "    .dataframe tbody tr th {\n",
       "        vertical-align: top;\n",
       "    }\n",
       "\n",
       "    .dataframe thead th {\n",
       "        text-align: right;\n",
       "    }\n",
       "</style>\n",
       "<table border=\"1\" class=\"dataframe\">\n",
       "  <thead>\n",
       "    <tr style=\"text-align: right;\">\n",
       "      <th></th>\n",
       "      <th>title</th>\n",
       "      <th>categoryName</th>\n",
       "      <th>website</th>\n",
       "      <th>street</th>\n",
       "      <th>phone</th>\n",
       "      <th>city</th>\n",
       "      <th>state</th>\n",
       "      <th>location/lat</th>\n",
       "      <th>location/lng</th>\n",
       "      <th>totalScore</th>\n",
       "      <th>rank</th>\n",
       "      <th>imageUrl</th>\n",
       "      <th>imagesCount</th>\n",
       "      <th>reviewsCount</th>\n",
       "      <th>scrapedAt</th>\n",
       "      <th>searchString</th>\n",
       "    </tr>\n",
       "  </thead>\n",
       "  <tbody>\n",
       "    <tr>\n",
       "      <th>0</th>\n",
       "      <td>EL BAQUEANO TANDIL</td>\n",
       "      <td>Tienda de delicatessen</td>\n",
       "      <td>http://www.elbaqueanotandil.com/</td>\n",
       "      <td>1381, Tasende</td>\n",
       "      <td>NaN</td>\n",
       "      <td>Tandil</td>\n",
       "      <td>Provincia de Buenos Aires</td>\n",
       "      <td>-37.350908</td>\n",
       "      <td>-59.170069</td>\n",
       "      <td>4.8</td>\n",
       "      <td>8</td>\n",
       "      <td>https://lh3.googleusercontent.com/p/AF1QipP2-l...</td>\n",
       "      <td>686.0</td>\n",
       "      <td>1408</td>\n",
       "      <td>2025-05-04T16:08:15.927Z</td>\n",
       "      <td>Comercio</td>\n",
       "    </tr>\n",
       "    <tr>\n",
       "      <th>1</th>\n",
       "      <td>Alquimia Artesanías</td>\n",
       "      <td>Tienda de artesanías</td>\n",
       "      <td>https://www.facebook.com/alquimia.artesanias.t...</td>\n",
       "      <td>Icalma y Tasende Acceso Cerro El Centinela</td>\n",
       "      <td>NaN</td>\n",
       "      <td>Tandil</td>\n",
       "      <td>Provincia de Buenos Aires</td>\n",
       "      <td>-37.355833</td>\n",
       "      <td>-59.172222</td>\n",
       "      <td>4.5</td>\n",
       "      <td>9</td>\n",
       "      <td>https://lh3.googleusercontent.com/p/AF1QipPXrh...</td>\n",
       "      <td>40.0</td>\n",
       "      <td>43</td>\n",
       "      <td>2025-05-04T16:08:15.927Z</td>\n",
       "      <td>Comercio</td>\n",
       "    </tr>\n",
       "    <tr>\n",
       "      <th>2</th>\n",
       "      <td>mercado Jorge</td>\n",
       "      <td>Tienda de alimentación</td>\n",
       "      <td>NaN</td>\n",
       "      <td>Sandino 468</td>\n",
       "      <td>+54 249 444-3579</td>\n",
       "      <td>Tandil</td>\n",
       "      <td>Provincia de Buenos Aires</td>\n",
       "      <td>-37.338040</td>\n",
       "      <td>-59.126114</td>\n",
       "      <td>4.5</td>\n",
       "      <td>10</td>\n",
       "      <td>https://streetviewpixels-pa.googleapis.com/v1/...</td>\n",
       "      <td>1.0</td>\n",
       "      <td>13</td>\n",
       "      <td>2025-05-04T16:08:15.927Z</td>\n",
       "      <td>Comercio</td>\n",
       "    </tr>\n",
       "    <tr>\n",
       "      <th>3</th>\n",
       "      <td>Vale la Pena \"Almacén\"</td>\n",
       "      <td>Tienda de alimentación</td>\n",
       "      <td>NaN</td>\n",
       "      <td>Av. Estrada 468</td>\n",
       "      <td>NaN</td>\n",
       "      <td>Tandil</td>\n",
       "      <td>Provincia de Buenos Aires</td>\n",
       "      <td>-37.339490</td>\n",
       "      <td>-59.147503</td>\n",
       "      <td>4.6</td>\n",
       "      <td>11</td>\n",
       "      <td>https://lh3.googleusercontent.com/p/AF1QipPz_6...</td>\n",
       "      <td>3.0</td>\n",
       "      <td>17</td>\n",
       "      <td>2025-05-04T16:08:15.927Z</td>\n",
       "      <td>Comercio</td>\n",
       "    </tr>\n",
       "    <tr>\n",
       "      <th>4</th>\n",
       "      <td>Sec Tandil - Sociedad Emp de Comercio Tandil</td>\n",
       "      <td>Sindicato</td>\n",
       "      <td>http://www.sectandil.org.ar/</td>\n",
       "      <td>San Martín 785</td>\n",
       "      <td>NaN</td>\n",
       "      <td>Tandil</td>\n",
       "      <td>Provincia de Buenos Aires</td>\n",
       "      <td>-37.325458</td>\n",
       "      <td>-59.134093</td>\n",
       "      <td>1.0</td>\n",
       "      <td>12</td>\n",
       "      <td>https://streetviewpixels-pa.googleapis.com/v1/...</td>\n",
       "      <td>1.0</td>\n",
       "      <td>2</td>\n",
       "      <td>2025-05-04T16:08:15.927Z</td>\n",
       "      <td>Comercio</td>\n",
       "    </tr>\n",
       "  </tbody>\n",
       "</table>\n",
       "</div>"
      ],
      "text/plain": [
       "                                          title            categoryName  \\\n",
       "0                            EL BAQUEANO TANDIL  Tienda de delicatessen   \n",
       "1                           Alquimia Artesanías    Tienda de artesanías   \n",
       "2                                 mercado Jorge  Tienda de alimentación   \n",
       "3                        Vale la Pena \"Almacén\"  Tienda de alimentación   \n",
       "4  Sec Tandil - Sociedad Emp de Comercio Tandil               Sindicato   \n",
       "\n",
       "                                             website  \\\n",
       "0                   http://www.elbaqueanotandil.com/   \n",
       "1  https://www.facebook.com/alquimia.artesanias.t...   \n",
       "2                                                NaN   \n",
       "3                                                NaN   \n",
       "4                       http://www.sectandil.org.ar/   \n",
       "\n",
       "                                       street             phone    city  \\\n",
       "0                               1381, Tasende               NaN  Tandil   \n",
       "1  Icalma y Tasende Acceso Cerro El Centinela               NaN  Tandil   \n",
       "2                                 Sandino 468  +54 249 444-3579  Tandil   \n",
       "3                             Av. Estrada 468               NaN  Tandil   \n",
       "4                              San Martín 785               NaN  Tandil   \n",
       "\n",
       "                       state  location/lat  location/lng  totalScore  rank  \\\n",
       "0  Provincia de Buenos Aires    -37.350908    -59.170069         4.8     8   \n",
       "1  Provincia de Buenos Aires    -37.355833    -59.172222         4.5     9   \n",
       "2  Provincia de Buenos Aires    -37.338040    -59.126114         4.5    10   \n",
       "3  Provincia de Buenos Aires    -37.339490    -59.147503         4.6    11   \n",
       "4  Provincia de Buenos Aires    -37.325458    -59.134093         1.0    12   \n",
       "\n",
       "                                            imageUrl  imagesCount  \\\n",
       "0  https://lh3.googleusercontent.com/p/AF1QipP2-l...        686.0   \n",
       "1  https://lh3.googleusercontent.com/p/AF1QipPXrh...         40.0   \n",
       "2  https://streetviewpixels-pa.googleapis.com/v1/...          1.0   \n",
       "3  https://lh3.googleusercontent.com/p/AF1QipPz_6...          3.0   \n",
       "4  https://streetviewpixels-pa.googleapis.com/v1/...          1.0   \n",
       "\n",
       "   reviewsCount                 scrapedAt searchString  \n",
       "0          1408  2025-05-04T16:08:15.927Z     Comercio  \n",
       "1            43  2025-05-04T16:08:15.927Z     Comercio  \n",
       "2            13  2025-05-04T16:08:15.927Z     Comercio  \n",
       "3            17  2025-05-04T16:08:15.927Z     Comercio  \n",
       "4             2  2025-05-04T16:08:15.927Z     Comercio  "
      ]
     },
     "execution_count": 125,
     "metadata": {},
     "output_type": "execute_result"
    }
   ],
   "source": [
    "df = df[[\n",
    "        'title',\n",
    "        'categoryName',\n",
    "        'website',\n",
    "        'street',\n",
    "        'phone',\n",
    "        'city',\n",
    "        'state',\n",
    "        'location/lat', \n",
    "        'location/lng',\n",
    "        'totalScore',\n",
    "        'rank',\n",
    "        'imageUrl',\n",
    "        'imagesCount',       \n",
    "        'reviewsCount', \n",
    "        'scrapedAt',\n",
    "        'searchString']]\n",
    "df.head(5)"
   ]
  },
  {
   "cell_type": "code",
   "execution_count": 126,
   "id": "c39adebe",
   "metadata": {},
   "outputs": [
    {
     "name": "stdout",
     "output_type": "stream",
     "text": [
      "<class 'pandas.core.frame.DataFrame'>\n",
      "RangeIndex: 3577 entries, 0 to 3576\n",
      "Data columns (total 16 columns):\n",
      " #   Column        Non-Null Count  Dtype  \n",
      "---  ------        --------------  -----  \n",
      " 0   title         3577 non-null   object \n",
      " 1   categoryName  3498 non-null   object \n",
      " 2   website       1360 non-null   object \n",
      " 3   street        3450 non-null   object \n",
      " 4   phone         2746 non-null   object \n",
      " 5   city          3543 non-null   object \n",
      " 6   state         3555 non-null   object \n",
      " 7   location/lat  3577 non-null   float64\n",
      " 8   location/lng  3577 non-null   float64\n",
      " 9   totalScore    2966 non-null   float64\n",
      " 10  rank          3577 non-null   int64  \n",
      " 11  imageUrl      3486 non-null   object \n",
      " 12  imagesCount   3485 non-null   float64\n",
      " 13  reviewsCount  3577 non-null   int64  \n",
      " 14  scrapedAt     3577 non-null   object \n",
      " 15  searchString  3577 non-null   object \n",
      "dtypes: float64(4), int64(2), object(10)\n",
      "memory usage: 447.3+ KB\n"
     ]
    }
   ],
   "source": [
    "df.info()"
   ]
  },
  {
   "cell_type": "code",
   "execution_count": 127,
   "id": "e5609c3a",
   "metadata": {},
   "outputs": [],
   "source": [
    "df['city'] = df['city'].fillna('Tandil')"
   ]
  },
  {
   "cell_type": "code",
   "execution_count": 128,
   "id": "c383d353",
   "metadata": {},
   "outputs": [
    {
     "data": {
      "application/vnd.microsoft.datawrangler.viewer.v0+json": {
       "columns": [
        {
         "name": "city",
         "rawType": "object",
         "type": "string"
        },
        {
         "name": "count",
         "rawType": "int64",
         "type": "integer"
        }
       ],
       "ref": "ae66cbb3-33cc-4ee7-b42b-d6ca72e8df09",
       "rows": [
        [
         "Tandil",
         "3486"
        ],
        [
         "Gran Buenos Aires",
         "21"
        ],
        [
         "Buenos Aires",
         "11"
        ],
        [
         "FTE",
         "4"
        ],
        [
         "IRK",
         "4"
        ],
        [
         "BGA",
         "4"
        ],
        [
         "HXG",
         "4"
        ],
        [
         "GRS",
         "3"
        ],
        [
         "GZY",
         "3"
        ],
        [
         "GKP",
         "3"
        ],
        [
         "ATN",
         "2"
        ],
        [
         "IRL",
         "2"
        ],
        [
         "BKB",
         "2"
        ],
        [
         "AOX",
         "2"
        ],
        [
         "FSW",
         "2"
        ],
        [
         "AOS",
         "2"
        ],
        [
         "AQX",
         "2"
        ],
        [
         "Ciudad Autónoma de Buenos Aires",
         "1"
        ],
        [
         "Gutiérrez",
         "1"
        ],
        [
         "AZG",
         "1"
        ],
        [
         "BJD",
         "1"
        ],
        [
         "GMM",
         "1"
        ],
        [
         "AZC",
         "1"
        ],
        [
         "AZD",
         "1"
        ],
        [
         "AOV",
         "1"
        ],
        [
         "BWH",
         "1"
        ],
        [
         "AOP",
         "1"
        ],
        [
         "GVL",
         "1"
        ],
        [
         "AEK",
         "1"
        ],
        [
         "GKR",
         "1"
        ],
        [
         "GQQ",
         "1"
        ],
        [
         "AOO",
         "1"
        ],
        [
         "AZR",
         "1"
        ],
        [
         "AHM",
         "1"
        ],
        [
         "EAC",
         "1"
        ],
        [
         "AQO",
         "1"
        ],
        [
         "HEU",
         "1"
        ]
       ],
       "shape": {
        "columns": 1,
        "rows": 37
       }
      },
      "text/plain": [
       "city\n",
       "Tandil                             3486\n",
       "Gran Buenos Aires                    21\n",
       "Buenos Aires                         11\n",
       "FTE                                   4\n",
       "IRK                                   4\n",
       "BGA                                   4\n",
       "HXG                                   4\n",
       "GRS                                   3\n",
       "GZY                                   3\n",
       "GKP                                   3\n",
       "ATN                                   2\n",
       "IRL                                   2\n",
       "BKB                                   2\n",
       "AOX                                   2\n",
       "FSW                                   2\n",
       "AOS                                   2\n",
       "AQX                                   2\n",
       "Ciudad Autónoma de Buenos Aires       1\n",
       "Gutiérrez                             1\n",
       "AZG                                   1\n",
       "BJD                                   1\n",
       "GMM                                   1\n",
       "AZC                                   1\n",
       "AZD                                   1\n",
       "AOV                                   1\n",
       "BWH                                   1\n",
       "AOP                                   1\n",
       "GVL                                   1\n",
       "AEK                                   1\n",
       "GKR                                   1\n",
       "GQQ                                   1\n",
       "AOO                                   1\n",
       "AZR                                   1\n",
       "AHM                                   1\n",
       "EAC                                   1\n",
       "AQO                                   1\n",
       "HEU                                   1\n",
       "Name: count, dtype: int64"
      ]
     },
     "execution_count": 128,
     "metadata": {},
     "output_type": "execute_result"
    }
   ],
   "source": [
    "df['city'].value_counts()"
   ]
  },
  {
   "cell_type": "code",
   "execution_count": 129,
   "id": "acbc0c31",
   "metadata": {},
   "outputs": [],
   "source": [
    "df['city'] = df['city'].replace({\n",
    "    'Gran Buenos Aires': 'Tandil',\n",
    "    'Buenos Aires': 'Tandil',\n",
    "    'HXG': 'Tandil',\n",
    "    'IRK': 'Tandil',\n",
    "    'BGA': 'Tandil',\n",
    "    'FTE': 'Tandil',\n",
    "    'GRS': 'Tandil',\n",
    "    'GZY': 'Tandil',\n",
    "    'GKP': 'Tandil',\n",
    "    'ATN': 'Tandil',\n",
    "    'BWH': 'Tandil',\n",
    "    'BKB': 'Tandil',\n",
    "    'AOS': 'Tandil',\n",
    "    'AQX': 'Tandil',\n",
    "    'AOX': 'Tandil',\n",
    "    'FSW': 'Tandil',\n",
    "    'IRL': 'Tandil',\n",
    "    'AHM': 'Tandil',\n",
    "    'AQO': 'Tandil',\n",
    "    'HEU': 'Tandil',\n",
    "    'BJD': 'Tandil',\n",
    "    'Gutiérrez': 'Tandil',\n",
    "    'AZR': 'Tandil',\n",
    "    'AZG': 'Tandil',\n",
    "    'EAC': 'Tandil',\n",
    "    'GKR': 'Tandil',\n",
    "    'GQQ': 'Tandil',\n",
    "    'AOP': 'Tandil',\n",
    "    'AOO': 'Tandil',\n",
    "    'AEK': 'Tandil',\n",
    "    'GVL': 'Tandil',\n",
    "    'GMM': 'Tandil',\n",
    "    'AZC': 'Tandil',\n",
    "    'AZD': 'Tandil',\n",
    "    'AOV': 'Tandil',\n",
    "    'Ciudad Autónoma de Buenos Aires': 'Tandil'\n",
    "})"
   ]
  },
  {
   "cell_type": "code",
   "execution_count": 130,
   "id": "22061281",
   "metadata": {},
   "outputs": [],
   "source": [
    "#Exportación del DataFrame a un archivo CSV\n",
    "df.to_csv('../CleanData/TandilMain.csv', index=False)"
   ]
  },
  {
   "cell_type": "code",
   "execution_count": 131,
   "id": "cfce6fe0",
   "metadata": {},
   "outputs": [
    {
     "data": {
      "text/plain": [
       "['../CleanData\\\\AzulMain.csv',\n",
       " '../CleanData\\\\JuarezMain.csv',\n",
       " '../CleanData\\\\OlavarriaMain.csv',\n",
       " '../CleanData\\\\RauchMain.csv',\n",
       " '../CleanData\\\\TandilMain.csv']"
      ]
     },
     "execution_count": 131,
     "metadata": {},
     "output_type": "execute_result"
    }
   ],
   "source": [
    "# Búsqueda de los archivos .csv en el directorio\n",
    "glob.glob('../CleanData/*Main*.csv')"
   ]
  },
  {
   "cell_type": "code",
   "execution_count": 132,
   "id": "47430193",
   "metadata": {},
   "outputs": [],
   "source": [
    "# Lectura y unión de archivos CSV\n",
    "df = pd.concat(map(pd.read_csv, glob.glob('../CleanData/*Main*.csv'))).reset_index(drop=True)"
   ]
  },
  {
   "cell_type": "code",
   "execution_count": 133,
   "id": "a10d76d8",
   "metadata": {},
   "outputs": [
    {
     "name": "stdout",
     "output_type": "stream",
     "text": [
      "<class 'pandas.core.frame.DataFrame'>\n",
      "RangeIndex: 9178 entries, 0 to 9177\n",
      "Data columns (total 16 columns):\n",
      " #   Column        Non-Null Count  Dtype  \n",
      "---  ------        --------------  -----  \n",
      " 0   title         9178 non-null   object \n",
      " 1   categoryName  8982 non-null   object \n",
      " 2   website       2783 non-null   object \n",
      " 3   street        8688 non-null   object \n",
      " 4   phone         6535 non-null   object \n",
      " 5   city          9178 non-null   object \n",
      " 6   state         9129 non-null   object \n",
      " 7   location/lat  9178 non-null   float64\n",
      " 8   location/lng  9178 non-null   float64\n",
      " 9   totalScore    7089 non-null   float64\n",
      " 10  rank          9178 non-null   int64  \n",
      " 11  imageUrl      8936 non-null   object \n",
      " 12  imagesCount   8933 non-null   float64\n",
      " 13  reviewsCount  9178 non-null   int64  \n",
      " 14  scrapedAt     9178 non-null   object \n",
      " 15  searchString  9178 non-null   object \n",
      "dtypes: float64(4), int64(2), object(10)\n",
      "memory usage: 1.1+ MB\n"
     ]
    }
   ],
   "source": [
    "# Información del DataFrame a través del método .info() : \n",
    "# Número de filas y columnas\n",
    "# Nombres y tipos de datos de las columnas\n",
    "# Valores no nulos en cada columna\n",
    "# Uso de memoria\n",
    "df.info()"
   ]
  },
  {
   "cell_type": "code",
   "execution_count": 134,
   "id": "1c7ef56e",
   "metadata": {},
   "outputs": [],
   "source": [
    "# Se verifica si hay valores nulos en la columna 'state'\n",
    "df['state'] = df['state'].fillna('Provincia de Buenos Aires')"
   ]
  },
  {
   "cell_type": "code",
   "execution_count": 135,
   "id": "a40a9fe1",
   "metadata": {},
   "outputs": [
    {
     "data": {
      "application/vnd.microsoft.datawrangler.viewer.v0+json": {
       "columns": [
        {
         "name": "state",
         "rawType": "object",
         "type": "string"
        },
        {
         "name": "count",
         "rawType": "int64",
         "type": "integer"
        }
       ],
       "ref": "a2c09650-63ec-4d5d-a95c-8f4788cc09fb",
       "rows": [
        [
         "Provincia de Buenos Aires",
         "9163"
        ],
        [
         "Ciudad Autónoma de Buenos Aires",
         "6"
        ],
        [
         "Buenos Aires Sur",
         "4"
        ],
        [
         "de Buenos Aires",
         "2"
        ],
        [
         "San Juan",
         "1"
        ],
        [
         "La Pampa",
         "1"
        ],
        [
         "CABA",
         "1"
        ]
       ],
       "shape": {
        "columns": 1,
        "rows": 7
       }
      },
      "text/plain": [
       "state\n",
       "Provincia de Buenos Aires          9163\n",
       "Ciudad Autónoma de Buenos Aires       6\n",
       "Buenos Aires Sur                      4\n",
       "de Buenos Aires                       2\n",
       "San Juan                              1\n",
       "La Pampa                              1\n",
       "CABA                                  1\n",
       "Name: count, dtype: int64"
      ]
     },
     "execution_count": 135,
     "metadata": {},
     "output_type": "execute_result"
    }
   ],
   "source": [
    "# Este código cuenta la frecuencia de cada registro en la columna 'state'\n",
    "df['state'].value_counts()"
   ]
  },
  {
   "cell_type": "code",
   "execution_count": 136,
   "id": "59a9d88e",
   "metadata": {},
   "outputs": [],
   "source": [
    "# Se reemplazan los datos de la columna 'state' que no son correctos\n",
    "df['state'] = df['state'].replace({\n",
    "    'San Juan': 'Provincia de Buenos Aires',\n",
    "    'La Pampa': 'Provincia de Buenos Aires',\n",
    "    'Ciudad Autónoma de Buenos Aires': 'Provincia de Buenos Aires',\n",
    "    'de Buenos Aires': 'Provincia de Buenos Aires',\n",
    "    'Ciudad Autónoma de Buenos Aires': 'Provincia de Buenos Aires',\n",
    "    'CABA': 'Provincia de Buenos Aires',\n",
    "    'Buenos Aires Sur' : 'Provincia de Buenos Aires' \n",
    "})\n"
   ]
  },
  {
   "cell_type": "code",
   "execution_count": 137,
   "id": "056c880a",
   "metadata": {},
   "outputs": [],
   "source": [
    "# Define qué strings deben ser tratados como nulos en las columnas seleccionadas.\n",
    "nulls = ['', ' ', 'N/A', 'nan', 'NaN', 'None']\n",
    "# Define las columnas a las que quieres aplicar este proceso.\n",
    "col = ['title', 'categoryName', 'website', 'street', 'phone', 'city', 'state', 'imageUrl']\n",
    "# Itera sobre cada columna y aplica la lógica.\n",
    "for col in col:\n",
    "    df.loc[:, col] = df[col].replace(nulls, np.nan) # Estandariza a np.nan\n",
    "    df.loc[:, col] = df[col].fillna('Incomplete') # Reemplaza nulos con 'Incomplete'\n"
   ]
  },
  {
   "cell_type": "code",
   "execution_count": 138,
   "id": "66f8148e",
   "metadata": {},
   "outputs": [],
   "source": [
    "# Define las columnas a las que se aplica este proceso.\n",
    "colnum = ['location/lat' ,'location/lng', 'totalScore', 'imagesCount', 'rank', 'reviewsCount']\n",
    "# Itera sobre cada columna y aplica la lógica.\n",
    "for colnum in colnum:\n",
    "    df.loc[:, colnum] = df[colnum].replace(nulls, np.nan) # Estandariza a np.nan\n",
    "    df.loc[:, colnum] = df[colnum].fillna(0) # Reemplaza nulos con 0"
   ]
  },
  {
   "cell_type": "code",
   "execution_count": 139,
   "id": "25ef1aca",
   "metadata": {},
   "outputs": [
    {
     "data": {
      "application/vnd.microsoft.datawrangler.viewer.v0+json": {
       "columns": [
        {
         "name": "index",
         "rawType": "object",
         "type": "string"
        },
        {
         "name": "0",
         "rawType": "int64",
         "type": "integer"
        }
       ],
       "ref": "fa8e0c3e-6324-40d3-8b61-0fd2a19bba62",
       "rows": [
        [
         "title",
         "0"
        ],
        [
         "categoryName",
         "0"
        ],
        [
         "website",
         "0"
        ],
        [
         "street",
         "0"
        ],
        [
         "phone",
         "0"
        ],
        [
         "city",
         "0"
        ],
        [
         "state",
         "0"
        ],
        [
         "location/lat",
         "0"
        ],
        [
         "location/lng",
         "0"
        ],
        [
         "totalScore",
         "0"
        ],
        [
         "rank",
         "0"
        ],
        [
         "imageUrl",
         "0"
        ],
        [
         "imagesCount",
         "0"
        ],
        [
         "reviewsCount",
         "0"
        ],
        [
         "scrapedAt",
         "0"
        ],
        [
         "searchString",
         "0"
        ]
       ],
       "shape": {
        "columns": 1,
        "rows": 16
       }
      },
      "text/plain": [
       "title           0\n",
       "categoryName    0\n",
       "website         0\n",
       "street          0\n",
       "phone           0\n",
       "city            0\n",
       "state           0\n",
       "location/lat    0\n",
       "location/lng    0\n",
       "totalScore      0\n",
       "rank            0\n",
       "imageUrl        0\n",
       "imagesCount     0\n",
       "reviewsCount    0\n",
       "scrapedAt       0\n",
       "searchString    0\n",
       "dtype: int64"
      ]
     },
     "execution_count": 139,
     "metadata": {},
     "output_type": "execute_result"
    }
   ],
   "source": [
    "# Verifica si hay valores nulos en el DataFrame.\n",
    "df.isna().sum()"
   ]
  },
  {
   "cell_type": "code",
   "execution_count": 140,
   "id": "5c4e2d42",
   "metadata": {},
   "outputs": [
    {
     "name": "stdout",
     "output_type": "stream",
     "text": [
      "<class 'pandas.core.frame.DataFrame'>\n",
      "RangeIndex: 9178 entries, 0 to 9177\n",
      "Data columns (total 16 columns):\n",
      " #   Column        Non-Null Count  Dtype  \n",
      "---  ------        --------------  -----  \n",
      " 0   title         9178 non-null   object \n",
      " 1   categoryName  9178 non-null   object \n",
      " 2   website       9178 non-null   object \n",
      " 3   street        9178 non-null   object \n",
      " 4   phone         9178 non-null   object \n",
      " 5   city          9178 non-null   object \n",
      " 6   state         9178 non-null   object \n",
      " 7   location/lat  9178 non-null   float64\n",
      " 8   location/lng  9178 non-null   float64\n",
      " 9   totalScore    9178 non-null   float64\n",
      " 10  rank          9178 non-null   int64  \n",
      " 11  imageUrl      9178 non-null   object \n",
      " 12  imagesCount   9178 non-null   float64\n",
      " 13  reviewsCount  9178 non-null   int64  \n",
      " 14  scrapedAt     9178 non-null   object \n",
      " 15  searchString  9178 non-null   object \n",
      "dtypes: float64(4), int64(2), object(10)\n",
      "memory usage: 1.1+ MB\n"
     ]
    }
   ],
   "source": [
    "df.info()"
   ]
  },
  {
   "cell_type": "code",
   "execution_count": 141,
   "id": "bb2b0a7e",
   "metadata": {},
   "outputs": [
    {
     "name": "stdout",
     "output_type": "stream",
     "text": [
      "Hay 3319 filas duplicadas en el DataFrame.\n"
     ]
    }
   ],
   "source": [
    "# Detecta y cuenta filas duplicadas basadas en título, ciudad, calle y coordenadas\n",
    "dup = df.duplicated(subset=['title','city','street','location/lat','location/lng']).sum()\n",
    "dup.sum()\n",
    "print(f\"Hay {dup} filas duplicadas en el DataFrame.\")"
   ]
  },
  {
   "cell_type": "code",
   "execution_count": 142,
   "id": "23457504",
   "metadata": {},
   "outputs": [],
   "source": [
    "# Quita duplicados según campos clave (título, ciudad, calle y coordenadas), reinicia el índice y \n",
    "# guarda una copia limpia del DataFrame.\n",
    "df = df.loc[~df.duplicated(subset=['title','city','street','location/lat','location/lng'])] \\\n",
    "    .reset_index(drop=True).copy()"
   ]
  },
  {
   "cell_type": "code",
   "execution_count": 144,
   "id": "b994a5ce",
   "metadata": {},
   "outputs": [
    {
     "name": "stdout",
     "output_type": "stream",
     "text": [
      "<class 'pandas.core.frame.DataFrame'>\n",
      "RangeIndex: 5859 entries, 0 to 5858\n",
      "Data columns (total 16 columns):\n",
      " #   Column        Non-Null Count  Dtype  \n",
      "---  ------        --------------  -----  \n",
      " 0   title         5859 non-null   object \n",
      " 1   categoryName  5859 non-null   object \n",
      " 2   website       5859 non-null   object \n",
      " 3   street        5859 non-null   object \n",
      " 4   phone         5859 non-null   object \n",
      " 5   city          5859 non-null   object \n",
      " 6   state         5859 non-null   object \n",
      " 7   location/lat  5859 non-null   float64\n",
      " 8   location/lng  5859 non-null   float64\n",
      " 9   totalScore    5859 non-null   float64\n",
      " 10  rank          5859 non-null   int64  \n",
      " 11  imageUrl      5859 non-null   object \n",
      " 12  imagesCount   5859 non-null   float64\n",
      " 13  reviewsCount  5859 non-null   int64  \n",
      " 14  scrapedAt     5859 non-null   object \n",
      " 15  searchString  5859 non-null   object \n",
      "dtypes: float64(4), int64(2), object(10)\n",
      "memory usage: 732.5+ KB\n"
     ]
    }
   ],
   "source": [
    "# Verifica estructura, cuenta de filas y columnas, tipos y valores faltantes\n",
    "# tras limpieza de duplicados y modificación de tipo de dato\n",
    "df.info()"
   ]
  },
  {
   "cell_type": "code",
   "execution_count": 145,
   "id": "0da8b038",
   "metadata": {},
   "outputs": [
    {
     "data": {
      "application/vnd.microsoft.datawrangler.viewer.v0+json": {
       "columns": [
        {
         "name": "index",
         "rawType": "int64",
         "type": "integer"
        },
        {
         "name": "phone",
         "rawType": "object",
         "type": "string"
        }
       ],
       "ref": "f68e4299-b2df-4969-afe6-9854e1cf8595",
       "rows": [
        [
         "0",
         "+54 2281 42-7066"
        ],
        [
         "1",
         "+54 2281 65-7938"
        ],
        [
         "2",
         "+54 2281 42-6984"
        ],
        [
         "3",
         "+54 2281 36-0736"
        ],
        [
         "4",
         "+54 2281 53-7036"
        ],
        [
         "5",
         "+54 2281 43-6001"
        ],
        [
         "6",
         "+54 2281 56-4122"
        ],
        [
         "7",
         "Incomplete"
        ],
        [
         "8",
         "Incomplete"
        ],
        [
         "9",
         "+54 2281 52-6194"
        ],
        [
         "10",
         "+54 2281 42-4153"
        ],
        [
         "11",
         "Incomplete"
        ],
        [
         "12",
         "+54 2281 42-5648"
        ],
        [
         "13",
         "Incomplete"
        ],
        [
         "14",
         "+54 2281 52-6868"
        ],
        [
         "15",
         "Incomplete"
        ],
        [
         "16",
         "+54 2901 48-2993"
        ],
        [
         "17",
         "+54 2281 66-6262"
        ],
        [
         "18",
         "Incomplete"
        ],
        [
         "19",
         "Incomplete"
        ],
        [
         "20",
         "Incomplete"
        ],
        [
         "21",
         "Incomplete"
        ],
        [
         "22",
         "+54 2281 55-0723"
        ],
        [
         "23",
         "Incomplete"
        ],
        [
         "24",
         "+54 2281 42-4066"
        ],
        [
         "25",
         "Incomplete"
        ],
        [
         "26",
         "Incomplete"
        ],
        [
         "27",
         "Incomplete"
        ],
        [
         "28",
         "+54 2281 42-6234"
        ],
        [
         "29",
         "Incomplete"
        ],
        [
         "30",
         "+54 2281 31-0205"
        ],
        [
         "31",
         "Incomplete"
        ],
        [
         "32",
         "Incomplete"
        ],
        [
         "33",
         "Incomplete"
        ],
        [
         "34",
         "Incomplete"
        ],
        [
         "35",
         "Incomplete"
        ],
        [
         "36",
         "Incomplete"
        ],
        [
         "37",
         "+54 2281 50-1288"
        ],
        [
         "38",
         "+54 2281 56-7613"
        ],
        [
         "39",
         "Incomplete"
        ],
        [
         "40",
         "+54 2281 42-2388"
        ],
        [
         "41",
         "+54 2281 43-4710"
        ],
        [
         "42",
         "+54 2281 43-3066"
        ],
        [
         "43",
         "+54 2281 51-1652"
        ],
        [
         "44",
         "+54 221 592-7482"
        ],
        [
         "45",
         "+54 2281 56-7256"
        ],
        [
         "46",
         "+54 2281 42-8084"
        ],
        [
         "47",
         "+54 2281 50-9728"
        ],
        [
         "48",
         "Incomplete"
        ],
        [
         "49",
         "+54 2281 43-0338"
        ]
       ],
       "shape": {
        "columns": 1,
        "rows": 5859
       }
      },
      "text/plain": [
       "0       +54 2281 42-7066\n",
       "1       +54 2281 65-7938\n",
       "2       +54 2281 42-6984\n",
       "3       +54 2281 36-0736\n",
       "4       +54 2281 53-7036\n",
       "              ...       \n",
       "5854    +54 249 464-3311\n",
       "5855    +54 223 555-9393\n",
       "5856    +54 249 457-5285\n",
       "5857    +54 249 438-8237\n",
       "5858    +54 249 469-8239\n",
       "Name: phone, Length: 5859, dtype: object"
      ]
     },
     "execution_count": 145,
     "metadata": {},
     "output_type": "execute_result"
    }
   ],
   "source": [
    "# Limpia y estandariza números internacionales (+54) removiendo dígito “9” extra antes del código local\n",
    "df['phone'] = df['phone'].astype(str).str.replace(r'\\+54\\s*9\\s*(\\d+)', r'+54 \\1', regex=True)\n",
    "df['phone']"
   ]
  },
  {
   "cell_type": "code",
   "execution_count": 146,
   "id": "7ea4c693",
   "metadata": {},
   "outputs": [
    {
     "data": {
      "application/vnd.microsoft.datawrangler.viewer.v0+json": {
       "columns": [
        {
         "name": "index",
         "rawType": "int64",
         "type": "integer"
        },
        {
         "name": "phone",
         "rawType": "object",
         "type": "string"
        }
       ],
       "ref": "4e94ed95-b7c7-4e18-8d08-9febd70b73fb",
       "rows": [
        [
         "0",
         "+54 9 2281 42-7066"
        ],
        [
         "1",
         "+54 9 2281 65-7938"
        ],
        [
         "2",
         "+54 9 2281 42-6984"
        ],
        [
         "3",
         "+54 9 2281 36-0736"
        ],
        [
         "4",
         "+54 9 2281 53-7036"
        ],
        [
         "5",
         "+54 9 2281 43-6001"
        ],
        [
         "6",
         "+54 9 2281 56-4122"
        ],
        [
         "7",
         "Incomplete"
        ],
        [
         "8",
         "Incomplete"
        ],
        [
         "9",
         "+54 9 2281 52-6194"
        ],
        [
         "10",
         "+54 9 2281 42-4153"
        ],
        [
         "11",
         "Incomplete"
        ],
        [
         "12",
         "+54 9 2281 42-5648"
        ],
        [
         "13",
         "Incomplete"
        ],
        [
         "14",
         "+54 9 2281 52-6868"
        ],
        [
         "15",
         "Incomplete"
        ],
        [
         "16",
         "+54 9 2901 48-2993"
        ],
        [
         "17",
         "+54 9 2281 66-6262"
        ],
        [
         "18",
         "Incomplete"
        ],
        [
         "19",
         "Incomplete"
        ],
        [
         "20",
         "Incomplete"
        ],
        [
         "21",
         "Incomplete"
        ],
        [
         "22",
         "+54 9 2281 55-0723"
        ],
        [
         "23",
         "Incomplete"
        ],
        [
         "24",
         "+54 9 2281 42-4066"
        ],
        [
         "25",
         "Incomplete"
        ],
        [
         "26",
         "Incomplete"
        ],
        [
         "27",
         "Incomplete"
        ],
        [
         "28",
         "+54 9 2281 42-6234"
        ],
        [
         "29",
         "Incomplete"
        ],
        [
         "30",
         "+54 9 2281 31-0205"
        ],
        [
         "31",
         "Incomplete"
        ],
        [
         "32",
         "Incomplete"
        ],
        [
         "33",
         "Incomplete"
        ],
        [
         "34",
         "Incomplete"
        ],
        [
         "35",
         "Incomplete"
        ],
        [
         "36",
         "Incomplete"
        ],
        [
         "37",
         "+54 9 2281 50-1288"
        ],
        [
         "38",
         "+54 9 2281 56-7613"
        ],
        [
         "39",
         "Incomplete"
        ],
        [
         "40",
         "+54 9 2281 42-2388"
        ],
        [
         "41",
         "+54 9 2281 43-4710"
        ],
        [
         "42",
         "+54 9 2281 43-3066"
        ],
        [
         "43",
         "+54 9 2281 51-1652"
        ],
        [
         "44",
         "+54 9 221 592-7482"
        ],
        [
         "45",
         "+54 9 2281 56-7256"
        ],
        [
         "46",
         "+54 9 2281 42-8084"
        ],
        [
         "47",
         "+54 9 2281 50-9728"
        ],
        [
         "48",
         "Incomplete"
        ],
        [
         "49",
         "+54 9 2281 43-0338"
        ]
       ],
       "shape": {
        "columns": 1,
        "rows": 5859
       }
      },
      "text/plain": [
       "0       +54 9 2281 42-7066\n",
       "1       +54 9 2281 65-7938\n",
       "2       +54 9 2281 42-6984\n",
       "3       +54 9 2281 36-0736\n",
       "4       +54 9 2281 53-7036\n",
       "               ...        \n",
       "5854    +54 9 249 464-3311\n",
       "5855    +54 9 223 555-9393\n",
       "5856    +54 9 249 457-5285\n",
       "5857    +54 9 249 438-8237\n",
       "5858    +54 9 249 469-8239\n",
       "Name: phone, Length: 5859, dtype: object"
      ]
     },
     "execution_count": 146,
     "metadata": {},
     "output_type": "execute_result"
    }
   ],
   "source": [
    "# Estándariza números telefónicos agregando ‘9’ después del +54 si falta, asegurando el formato internacional correcto.\n",
    "df['phone'] = df['phone'].str.replace(\n",
    "    r'^\\+54\\s*(?!9\\s*[\\d(])(.+)$', \n",
    "    r'+54 9 \\1',                   \n",
    "    regex=True\n",
    ")\n",
    "df['phone']"
   ]
  },
  {
   "cell_type": "code",
   "execution_count": 147,
   "id": "f80f2022",
   "metadata": {},
   "outputs": [
    {
     "data": {
      "application/vnd.microsoft.datawrangler.viewer.v0+json": {
       "columns": [
        {
         "name": "index",
         "rawType": "int64",
         "type": "integer"
        },
        {
         "name": "title",
         "rawType": "object",
         "type": "string"
        },
        {
         "name": "categoryName",
         "rawType": "object",
         "type": "string"
        },
        {
         "name": "website",
         "rawType": "object",
         "type": "string"
        },
        {
         "name": "street",
         "rawType": "object",
         "type": "string"
        },
        {
         "name": "phone",
         "rawType": "object",
         "type": "string"
        },
        {
         "name": "city",
         "rawType": "object",
         "type": "string"
        },
        {
         "name": "state",
         "rawType": "object",
         "type": "string"
        },
        {
         "name": "location/lat",
         "rawType": "float64",
         "type": "float"
        },
        {
         "name": "location/lng",
         "rawType": "float64",
         "type": "float"
        },
        {
         "name": "totalScore",
         "rawType": "float64",
         "type": "float"
        },
        {
         "name": "rank",
         "rawType": "int64",
         "type": "integer"
        },
        {
         "name": "imageUrl",
         "rawType": "object",
         "type": "string"
        },
        {
         "name": "imagesCount",
         "rawType": "float64",
         "type": "float"
        },
        {
         "name": "reviewsCount",
         "rawType": "int64",
         "type": "integer"
        },
        {
         "name": "scrapedAt",
         "rawType": "object",
         "type": "string"
        },
        {
         "name": "searchString",
         "rawType": "object",
         "type": "string"
        }
       ],
       "ref": "d3b2c134-5766-4610-8355-2b35b4063edd",
       "rows": [
        [
         "0",
         "DTI - Azul",
         "Soporte y servicios informáticos",
         "Incomplete",
         "Av. Juan Domingo Perón 525",
         "+54 9 2281 42-7066",
         "Azul",
         "Provincia de Buenos Aires",
         "-36.7820062",
         "-59.8654974",
         "0.0",
         "22",
         "https://streetviewpixels-pa.googleapis.com/v1/thumbnail?panoid=zL2SLXDLlIyLOOkG7pxFlg&cb_client=search.gws-prod.gps&w=408&h=240&yaw=231.62384&pitch=0&thumbfov=100",
         "1.0",
         "0",
         "2025-06-15T22:56:55.477Z",
         "tecnologia"
        ],
        [
         "1",
         "TECNO COMPUTACION",
         "Tienda de móviles",
         "http://www.tecnocomputacionazul.com/",
         "Lamadrid 33",
         "+54 9 2281 65-7938",
         "Azul",
         "Provincia de Buenos Aires",
         "-36.7649137",
         "-59.8624039",
         "4.6",
         "3",
         "https://lh3.googleusercontent.com/p/AF1QipP9GgrGu9iOG5xNOUsuEUj6fdq4j3xvaLptITLH=w408-h408-k-no",
         "12.0",
         "7",
         "2025-06-15T22:56:54.474Z",
         "tecnologia"
        ],
        [
         "2",
         "Ingeniero Marcelo Edgardo Cornec",
         "Ingeniero",
         "Incomplete",
         "Av. Juan Domingo Perón 622",
         "+54 9 2281 42-6984",
         "Azul",
         "Provincia de Buenos Aires",
         "-36.7832779",
         "-59.8635941",
         "5.0",
         "20",
         "https://lh3.googleusercontent.com/p/AF1QipN3mw2facF8IFrTvwJ_gdFhsNWQrFQi4pazN5RN=w426-h240-k-no",
         "13.0",
         "3",
         "2025-06-15T22:56:57.478Z",
         "comercio"
        ],
        [
         "3",
         "La esquina",
         "Kiosco",
         "Incomplete",
         "7300, Gral. Paz 1500",
         "+54 9 2281 36-0736",
         "Azul",
         "Provincia de Buenos Aires",
         "-36.7980904",
         "-59.8535248",
         "3.7",
         "19",
         "https://lh3.googleusercontent.com/p/AF1QipP1o8LwpKf0khxVBfihAWLOI4K4X00X3SCtGAg=w408-h544-k-no",
         "1.0",
         "3",
         "2025-06-15T22:56:57.478Z",
         "comercio"
        ],
        [
         "4",
         "Vidrieria 25 de Mayo de Jose Canalicchio",
         "Comercio",
         "Incomplete",
         "Guaminí 610",
         "+54 9 2281 53-7036",
         "Azul",
         "Provincia de Buenos Aires",
         "-36.7855521",
         "-59.8671447",
         "4.2",
         "40",
         "https://lh3.googleusercontent.com/p/AF1QipM1o-ulafI-mAMROrwDJeAv15XDqrWz-t4wzI86=w426-h240-k-no",
         "5.0",
         "9",
         "2025-06-15T22:56:58.824Z",
         "comercio"
        ]
       ],
       "shape": {
        "columns": 16,
        "rows": 5
       }
      },
      "text/html": [
       "<div>\n",
       "<style scoped>\n",
       "    .dataframe tbody tr th:only-of-type {\n",
       "        vertical-align: middle;\n",
       "    }\n",
       "\n",
       "    .dataframe tbody tr th {\n",
       "        vertical-align: top;\n",
       "    }\n",
       "\n",
       "    .dataframe thead th {\n",
       "        text-align: right;\n",
       "    }\n",
       "</style>\n",
       "<table border=\"1\" class=\"dataframe\">\n",
       "  <thead>\n",
       "    <tr style=\"text-align: right;\">\n",
       "      <th></th>\n",
       "      <th>title</th>\n",
       "      <th>categoryName</th>\n",
       "      <th>website</th>\n",
       "      <th>street</th>\n",
       "      <th>phone</th>\n",
       "      <th>city</th>\n",
       "      <th>state</th>\n",
       "      <th>location/lat</th>\n",
       "      <th>location/lng</th>\n",
       "      <th>totalScore</th>\n",
       "      <th>rank</th>\n",
       "      <th>imageUrl</th>\n",
       "      <th>imagesCount</th>\n",
       "      <th>reviewsCount</th>\n",
       "      <th>scrapedAt</th>\n",
       "      <th>searchString</th>\n",
       "    </tr>\n",
       "  </thead>\n",
       "  <tbody>\n",
       "    <tr>\n",
       "      <th>0</th>\n",
       "      <td>DTI - Azul</td>\n",
       "      <td>Soporte y servicios informáticos</td>\n",
       "      <td>Incomplete</td>\n",
       "      <td>Av. Juan Domingo Perón 525</td>\n",
       "      <td>+54 9 2281 42-7066</td>\n",
       "      <td>Azul</td>\n",
       "      <td>Provincia de Buenos Aires</td>\n",
       "      <td>-36.782006</td>\n",
       "      <td>-59.865497</td>\n",
       "      <td>0.0</td>\n",
       "      <td>22</td>\n",
       "      <td>https://streetviewpixels-pa.googleapis.com/v1/...</td>\n",
       "      <td>1.0</td>\n",
       "      <td>0</td>\n",
       "      <td>2025-06-15T22:56:55.477Z</td>\n",
       "      <td>tecnologia</td>\n",
       "    </tr>\n",
       "    <tr>\n",
       "      <th>1</th>\n",
       "      <td>TECNO COMPUTACION</td>\n",
       "      <td>Tienda de móviles</td>\n",
       "      <td>http://www.tecnocomputacionazul.com/</td>\n",
       "      <td>Lamadrid 33</td>\n",
       "      <td>+54 9 2281 65-7938</td>\n",
       "      <td>Azul</td>\n",
       "      <td>Provincia de Buenos Aires</td>\n",
       "      <td>-36.764914</td>\n",
       "      <td>-59.862404</td>\n",
       "      <td>4.6</td>\n",
       "      <td>3</td>\n",
       "      <td>https://lh3.googleusercontent.com/p/AF1QipP9Gg...</td>\n",
       "      <td>12.0</td>\n",
       "      <td>7</td>\n",
       "      <td>2025-06-15T22:56:54.474Z</td>\n",
       "      <td>tecnologia</td>\n",
       "    </tr>\n",
       "    <tr>\n",
       "      <th>2</th>\n",
       "      <td>Ingeniero Marcelo Edgardo Cornec</td>\n",
       "      <td>Ingeniero</td>\n",
       "      <td>Incomplete</td>\n",
       "      <td>Av. Juan Domingo Perón 622</td>\n",
       "      <td>+54 9 2281 42-6984</td>\n",
       "      <td>Azul</td>\n",
       "      <td>Provincia de Buenos Aires</td>\n",
       "      <td>-36.783278</td>\n",
       "      <td>-59.863594</td>\n",
       "      <td>5.0</td>\n",
       "      <td>20</td>\n",
       "      <td>https://lh3.googleusercontent.com/p/AF1QipN3mw...</td>\n",
       "      <td>13.0</td>\n",
       "      <td>3</td>\n",
       "      <td>2025-06-15T22:56:57.478Z</td>\n",
       "      <td>comercio</td>\n",
       "    </tr>\n",
       "    <tr>\n",
       "      <th>3</th>\n",
       "      <td>La esquina</td>\n",
       "      <td>Kiosco</td>\n",
       "      <td>Incomplete</td>\n",
       "      <td>7300, Gral. Paz 1500</td>\n",
       "      <td>+54 9 2281 36-0736</td>\n",
       "      <td>Azul</td>\n",
       "      <td>Provincia de Buenos Aires</td>\n",
       "      <td>-36.798090</td>\n",
       "      <td>-59.853525</td>\n",
       "      <td>3.7</td>\n",
       "      <td>19</td>\n",
       "      <td>https://lh3.googleusercontent.com/p/AF1QipP1o8...</td>\n",
       "      <td>1.0</td>\n",
       "      <td>3</td>\n",
       "      <td>2025-06-15T22:56:57.478Z</td>\n",
       "      <td>comercio</td>\n",
       "    </tr>\n",
       "    <tr>\n",
       "      <th>4</th>\n",
       "      <td>Vidrieria 25 de Mayo de Jose Canalicchio</td>\n",
       "      <td>Comercio</td>\n",
       "      <td>Incomplete</td>\n",
       "      <td>Guaminí 610</td>\n",
       "      <td>+54 9 2281 53-7036</td>\n",
       "      <td>Azul</td>\n",
       "      <td>Provincia de Buenos Aires</td>\n",
       "      <td>-36.785552</td>\n",
       "      <td>-59.867145</td>\n",
       "      <td>4.2</td>\n",
       "      <td>40</td>\n",
       "      <td>https://lh3.googleusercontent.com/p/AF1QipM1o-...</td>\n",
       "      <td>5.0</td>\n",
       "      <td>9</td>\n",
       "      <td>2025-06-15T22:56:58.824Z</td>\n",
       "      <td>comercio</td>\n",
       "    </tr>\n",
       "  </tbody>\n",
       "</table>\n",
       "</div>"
      ],
      "text/plain": [
       "                                      title                      categoryName  \\\n",
       "0                                DTI - Azul  Soporte y servicios informáticos   \n",
       "1                         TECNO COMPUTACION                 Tienda de móviles   \n",
       "2          Ingeniero Marcelo Edgardo Cornec                         Ingeniero   \n",
       "3                                La esquina                            Kiosco   \n",
       "4  Vidrieria 25 de Mayo de Jose Canalicchio                          Comercio   \n",
       "\n",
       "                                website                      street  \\\n",
       "0                            Incomplete  Av. Juan Domingo Perón 525   \n",
       "1  http://www.tecnocomputacionazul.com/                 Lamadrid 33   \n",
       "2                            Incomplete  Av. Juan Domingo Perón 622   \n",
       "3                            Incomplete        7300, Gral. Paz 1500   \n",
       "4                            Incomplete                 Guaminí 610   \n",
       "\n",
       "                phone  city                      state  location/lat  \\\n",
       "0  +54 9 2281 42-7066  Azul  Provincia de Buenos Aires    -36.782006   \n",
       "1  +54 9 2281 65-7938  Azul  Provincia de Buenos Aires    -36.764914   \n",
       "2  +54 9 2281 42-6984  Azul  Provincia de Buenos Aires    -36.783278   \n",
       "3  +54 9 2281 36-0736  Azul  Provincia de Buenos Aires    -36.798090   \n",
       "4  +54 9 2281 53-7036  Azul  Provincia de Buenos Aires    -36.785552   \n",
       "\n",
       "   location/lng  totalScore  rank  \\\n",
       "0    -59.865497         0.0    22   \n",
       "1    -59.862404         4.6     3   \n",
       "2    -59.863594         5.0    20   \n",
       "3    -59.853525         3.7    19   \n",
       "4    -59.867145         4.2    40   \n",
       "\n",
       "                                            imageUrl  imagesCount  \\\n",
       "0  https://streetviewpixels-pa.googleapis.com/v1/...          1.0   \n",
       "1  https://lh3.googleusercontent.com/p/AF1QipP9Gg...         12.0   \n",
       "2  https://lh3.googleusercontent.com/p/AF1QipN3mw...         13.0   \n",
       "3  https://lh3.googleusercontent.com/p/AF1QipP1o8...          1.0   \n",
       "4  https://lh3.googleusercontent.com/p/AF1QipM1o-...          5.0   \n",
       "\n",
       "   reviewsCount                 scrapedAt searchString  \n",
       "0             0  2025-06-15T22:56:55.477Z   tecnologia  \n",
       "1             7  2025-06-15T22:56:54.474Z   tecnologia  \n",
       "2             3  2025-06-15T22:56:57.478Z     comercio  \n",
       "3             3  2025-06-15T22:56:57.478Z     comercio  \n",
       "4             9  2025-06-15T22:56:58.824Z     comercio  "
      ]
     },
     "execution_count": 147,
     "metadata": {},
     "output_type": "execute_result"
    }
   ],
   "source": [
    "# Limpia los nombres de comercios eliminando comillas, asteriscos, signos de interrogación y emoticones.\n",
    "df['title'] = df['title'].str.replace('\"', '', regex=False) \\\n",
    "    .str.replace('*', '', regex=False) \\\n",
    "    .str.replace('?', '', regex=False) \\\n",
    "    .str.replace(\"'\", '', regex=False) \\\n",
    "    .str.replace(\"👬\", '', regex=False) \\\n",
    "    .str.replace(\"✨\", '', regex=False) \\\n",
    "    .str.replace(\"⚽️\", '', regex=False) \\\n",
    "    .str.replace(\"💖\", '', regex=False) \\\n",
    "    .str.replace(\"♓\", '', regex=False) \\\n",
    "    .str.replace(\"°\", '', regex=False) \\\n",
    "    .str.replace(\"❣️\", '', regex=False) \\\n",
    "    .str.replace(\"!\", '', regex=False) \\\n",
    "    .str.replace(\"🔥\", '', regex=False) \\\n",
    "    .str.replace(\"🪽\", '', regex=False)\t  \n",
    "df.head(5)"
   ]
  },
  {
   "cell_type": "code",
   "execution_count": 148,
   "id": "b36f2e89",
   "metadata": {},
   "outputs": [
    {
     "data": {
      "application/vnd.microsoft.datawrangler.viewer.v0+json": {
       "columns": [
        {
         "name": "index",
         "rawType": "int64",
         "type": "integer"
        },
        {
         "name": "title",
         "rawType": "object",
         "type": "string"
        },
        {
         "name": "searchString",
         "rawType": "object",
         "type": "string"
        },
        {
         "name": "categoryName",
         "rawType": "object",
         "type": "string"
        }
       ],
       "ref": "49772ef9-f2ae-4ed0-b30f-569496d78357",
       "rows": [
        [
         "0",
         "Dti - Azul",
         "Tecnologia",
         "Soporte Y Servicios Informáticos"
        ],
        [
         "1",
         "Tecno Computacion",
         "Tecnologia",
         "Tienda De Móviles"
        ],
        [
         "2",
         "Ingeniero Marcelo Edgardo Cornec",
         "Comercio",
         "Ingeniero"
        ],
        [
         "3",
         "La Esquina",
         "Comercio",
         "Kiosco"
        ],
        [
         "4",
         "Vidrieria 25 De Mayo De Jose Canalicchio",
         "Comercio",
         "Comercio"
        ],
        [
         "5",
         "El Almacén",
         "Comercio",
         "Tienda De Ropa"
        ],
        [
         "6",
         "Tus Sorrentinos",
         "Comercio",
         "Comercio"
        ],
        [
         "7",
         "Venden Y Permutas",
         "Comercio",
         "Tienda General"
        ],
        [
         "8",
         "Minimercado La Esquina De Alejandro Y Silvina",
         "Comercio",
         "Comercio"
        ],
        [
         "9",
         "Kiosco Pasaje Del Parque",
         "Comercio",
         "Comercio"
        ],
        [
         "10",
         "Martinez Juan J M Hijos De",
         "Comercio",
         "Comercio"
        ],
        [
         "11",
         "Tateti",
         "Comercio",
         "Kiosco"
        ],
        [
         "12",
         "Ferreteca",
         "Comercio",
         "Ferretería"
        ],
        [
         "13",
         "Loteria De La Provincia Piazza Sur",
         "Comercio",
         "Tienda De Lotería"
        ],
        [
         "14",
         "Brillos",
         "Comercio",
         "Tienda De Artículos Para El Hogar"
        ],
        [
         "15",
         "El Tiempo",
         "Comercio",
         "Librería"
        ],
        [
         "16",
         "Dietética Estilo Natural",
         "Comercio",
         "Tienda De Alimentación"
        ],
        [
         "17",
         "Stilton Almacén",
         "Comercio",
         "Tienda De Alimentación"
        ],
        [
         "18",
         "Despensa La Esquina",
         "Comercio",
         "Tienda De Alimentación"
        ],
        [
         "19",
         "La Coqueta Frutas Y Verduras",
         "Comercio",
         "Tienda De Alimentación"
        ],
        [
         "20",
         "Enlanadas",
         "Comercio",
         "Tienda General"
        ],
        [
         "21",
         "Cintia Burgos Ventas",
         "Comercio",
         "Tienda De Ropa"
        ],
        [
         "22",
         "Lisboa Indumentaria",
         "Comercio",
         "Tienda De Ropa"
        ],
        [
         "23",
         "Indumentariaahorrounixes",
         "Comercio",
         "Tienda De Ropa"
        ],
        [
         "24",
         "Maxikioscos Gonzalez",
         "Comercio",
         "Librería"
        ],
        [
         "25",
         "Autoservicio El Valle",
         "Comercio",
         "Tienda De Alimentación"
        ],
        [
         "26",
         "La Serranita",
         "Comercio",
         "Tienda De Bebidas Alcohólicas"
        ],
        [
         "27",
         "Forrajería Y Todo Suelto El Amanecer",
         "Comercio",
         "Tienda De Alimentación"
        ],
        [
         "28",
         "Circulo De Analistas Clinicos De Azul",
         "Comercio",
         "Comercio"
        ],
        [
         "29",
         "Megacompras Azul",
         "Comercio",
         "Tienda De Artículos Para El Hogar"
        ],
        [
         "30",
         "Color Codice - Imprenta - Grafica - Centro De Copiado",
         "Comercio",
         "Comercio"
        ],
        [
         "31",
         "Verdu De Conte",
         "Comercio",
         "Tienda De Alimentación"
        ],
        [
         "32",
         "Maxikiosco Ohana",
         "Comercio",
         "Kiosco"
        ],
        [
         "33",
         "Bacano Productos Regionales",
         "Comercio",
         "Tienda De Fiambres"
        ],
        [
         "34",
         "Maxikiosco Lo De Max",
         "Comercio",
         "Kiosco"
        ],
        [
         "35",
         "Dietetica Rincon Natural",
         "Comercio",
         "Tienda De Alimentación"
        ],
        [
         "36",
         "Minimarket",
         "Comercio",
         "Supermercado"
        ],
        [
         "37",
         "Campos Del Centro Srl",
         "Comercio",
         "Comercio"
        ],
        [
         "38",
         "Kiosco Kober",
         "Comercio",
         "Kiosco"
        ],
        [
         "39",
         "Leñera Las 3 Niñas",
         "Comercio",
         "Comercio"
        ],
        [
         "40",
         "Moccero Adolfo M",
         "Comercio",
         "Comercio"
        ],
        [
         "41",
         "Sederia Marion",
         "Comercio",
         "Comercio"
        ],
        [
         "42",
         "Tancredi Olga",
         "Comercio",
         "Comercio"
        ],
        [
         "43",
         "Drugstore Center Azul",
         "Comercio",
         "Kiosco"
        ],
        [
         "44",
         "Despensa Del Barrio",
         "Comercio",
         "Tienda De Alimentación"
        ],
        [
         "45",
         "Suttò Piedras Y Aromas",
         "Comercio",
         "Comercio"
        ],
        [
         "46",
         "Agrocentro",
         "Comercio",
         "Comercio"
        ],
        [
         "47",
         "Almíbar",
         "Comercio",
         "Tienda De Alimentación"
        ],
        [
         "48",
         "Quiricocho- Indumentaria Deportiva",
         "Comercio",
         "Comercio"
        ],
        [
         "49",
         "Asociacion Latina De Exportacion Sa",
         "Comercio",
         "Comercio"
        ]
       ],
       "shape": {
        "columns": 3,
        "rows": 5859
       }
      },
      "text/html": [
       "<div>\n",
       "<style scoped>\n",
       "    .dataframe tbody tr th:only-of-type {\n",
       "        vertical-align: middle;\n",
       "    }\n",
       "\n",
       "    .dataframe tbody tr th {\n",
       "        vertical-align: top;\n",
       "    }\n",
       "\n",
       "    .dataframe thead th {\n",
       "        text-align: right;\n",
       "    }\n",
       "</style>\n",
       "<table border=\"1\" class=\"dataframe\">\n",
       "  <thead>\n",
       "    <tr style=\"text-align: right;\">\n",
       "      <th></th>\n",
       "      <th>title</th>\n",
       "      <th>searchString</th>\n",
       "      <th>categoryName</th>\n",
       "    </tr>\n",
       "  </thead>\n",
       "  <tbody>\n",
       "    <tr>\n",
       "      <th>0</th>\n",
       "      <td>Dti - Azul</td>\n",
       "      <td>Tecnologia</td>\n",
       "      <td>Soporte Y Servicios Informáticos</td>\n",
       "    </tr>\n",
       "    <tr>\n",
       "      <th>1</th>\n",
       "      <td>Tecno Computacion</td>\n",
       "      <td>Tecnologia</td>\n",
       "      <td>Tienda De Móviles</td>\n",
       "    </tr>\n",
       "    <tr>\n",
       "      <th>2</th>\n",
       "      <td>Ingeniero Marcelo Edgardo Cornec</td>\n",
       "      <td>Comercio</td>\n",
       "      <td>Ingeniero</td>\n",
       "    </tr>\n",
       "    <tr>\n",
       "      <th>3</th>\n",
       "      <td>La Esquina</td>\n",
       "      <td>Comercio</td>\n",
       "      <td>Kiosco</td>\n",
       "    </tr>\n",
       "    <tr>\n",
       "      <th>4</th>\n",
       "      <td>Vidrieria 25 De Mayo De Jose Canalicchio</td>\n",
       "      <td>Comercio</td>\n",
       "      <td>Comercio</td>\n",
       "    </tr>\n",
       "    <tr>\n",
       "      <th>...</th>\n",
       "      <td>...</td>\n",
       "      <td>...</td>\n",
       "      <td>...</td>\n",
       "    </tr>\n",
       "    <tr>\n",
       "      <th>5854</th>\n",
       "      <td>Arkansas Muebles</td>\n",
       "      <td>Electrodomesticos</td>\n",
       "      <td>Tienda De Muebles</td>\n",
       "    </tr>\n",
       "    <tr>\n",
       "      <th>5855</th>\n",
       "      <td>Pilchas Mb</td>\n",
       "      <td>Ropa</td>\n",
       "      <td>Tienda De Ropa De Hombre</td>\n",
       "    </tr>\n",
       "    <tr>\n",
       "      <th>5856</th>\n",
       "      <td>Rodriggi</td>\n",
       "      <td>Ropa</td>\n",
       "      <td>Tienda De Ropa De Hombre</td>\n",
       "    </tr>\n",
       "    <tr>\n",
       "      <th>5857</th>\n",
       "      <td>Lg Service</td>\n",
       "      <td>Electrodomesticos</td>\n",
       "      <td>Servicio De Reparación De Electrodomésticos</td>\n",
       "    </tr>\n",
       "    <tr>\n",
       "      <th>5858</th>\n",
       "      <td>Friototal</td>\n",
       "      <td>Electrodomesticos</td>\n",
       "      <td>Distribuidor De Acero</td>\n",
       "    </tr>\n",
       "  </tbody>\n",
       "</table>\n",
       "<p>5859 rows × 3 columns</p>\n",
       "</div>"
      ],
      "text/plain": [
       "                                         title       searchString  \\\n",
       "0                                   Dti - Azul         Tecnologia   \n",
       "1                            Tecno Computacion         Tecnologia   \n",
       "2             Ingeniero Marcelo Edgardo Cornec           Comercio   \n",
       "3                                   La Esquina           Comercio   \n",
       "4     Vidrieria 25 De Mayo De Jose Canalicchio           Comercio   \n",
       "...                                        ...                ...   \n",
       "5854                          Arkansas Muebles  Electrodomesticos   \n",
       "5855                                Pilchas Mb               Ropa   \n",
       "5856                                  Rodriggi               Ropa   \n",
       "5857                                Lg Service  Electrodomesticos   \n",
       "5858                                 Friototal  Electrodomesticos   \n",
       "\n",
       "                                     categoryName  \n",
       "0                Soporte Y Servicios Informáticos  \n",
       "1                               Tienda De Móviles  \n",
       "2                                       Ingeniero  \n",
       "3                                          Kiosco  \n",
       "4                                        Comercio  \n",
       "...                                           ...  \n",
       "5854                            Tienda De Muebles  \n",
       "5855                     Tienda De Ropa De Hombre  \n",
       "5856                     Tienda De Ropa De Hombre  \n",
       "5857  Servicio De Reparación De Electrodomésticos  \n",
       "5858                        Distribuidor De Acero  \n",
       "\n",
       "[5859 rows x 3 columns]"
      ]
     },
     "execution_count": 148,
     "metadata": {},
     "output_type": "execute_result"
    }
   ],
   "source": [
    "# Estandariza title, searchString y categoryName aplicando formato de título.\n",
    "df['title'] = df['title'].str.title()\n",
    "df['searchString'] = df['searchString'].str.title()\n",
    "df['categoryName'] = df['categoryName'].str.title()\n",
    "df[['title', 'searchString', 'categoryName']]"
   ]
  },
  {
   "cell_type": "code",
   "execution_count": 149,
   "id": "54efce16",
   "metadata": {},
   "outputs": [],
   "source": [
    "# Elimina el prefijo '/url?q=' de las URLs en la columna 'website' y conserva solo la URL base.\n",
    "df['website'] = df['website'].str.replace(\n",
    "    r'^\\s*/url\\?q=(https?://.*)',\n",
    "    r'\\1',\n",
    "    regex=True\n",
    ")"
   ]
  },
  {
   "cell_type": "code",
   "execution_count": 150,
   "id": "cdbd4f95",
   "metadata": {},
   "outputs": [
    {
     "data": {
      "application/vnd.microsoft.datawrangler.viewer.v0+json": {
       "columns": [
        {
         "name": "website",
         "rawType": "object",
         "type": "string"
        },
        {
         "name": "count",
         "rawType": "int64",
         "type": "integer"
        }
       ],
       "ref": "5a48f347-a9cc-4d8a-8eeb-e1aacc7bfe5a",
       "rows": [
        [
         "Incomplete",
         "4109"
        ],
        [
         "https://argentina.gridohelado.com/",
         "6"
        ],
        [
         "http://www.luz-azul.com.ar/",
         "5"
        ],
        [
         "http://www.cooperativaobrera.coop/",
         "5"
        ],
        [
         "https://www.gpstaller.com.ar/",
         "4"
        ],
        [
         "https://www.carrefour.com.ar/",
         "4"
        ],
        [
         "http://www.ypf.com/",
         "4"
        ],
        [
         "http://www.golopolis.com.ar/",
         "4"
        ],
        [
         "http://www.imposa.com.ar/",
         "3"
        ],
        [
         "https://canelapinturerias.com.ar/",
         "3"
        ],
        [
         "http://www.opensports.com.ar/",
         "3"
        ],
        [
         "http://www.mimo.com.ar/",
         "3"
        ],
        [
         "https://www.tiendadash.com.ar/",
         "3"
        ],
        [
         "http://www.cheeky.com.ar/",
         "3"
        ],
        [
         "https://diaonline.supermercadosdia.com.ar/",
         "3"
        ],
        [
         "http://www.lacasiana.com/",
         "3"
        ],
        [
         "http://www.roas.com.ar/",
         "3"
        ],
        [
         "https://www.facebook.com/share/1WoxmBF5Cx/",
         "3"
        ],
        [
         "http://www.hiperblanco.com/",
         "2"
        ],
        [
         "http://www.desdelaraiz.com.ar/",
         "2"
        ],
        [
         "http://www.maxiconsumo.com/",
         "2"
        ],
        [
         "http://www.polipez.com.ar/",
         "2"
        ],
        [
         "http://catrielmapu.com.ar/",
         "2"
        ],
        [
         "http://elpra.com.ar/",
         "2"
        ],
        [
         "https://www.finning.com/es_AR/contact/branch-locator/sucursal-olavarria.html",
         "2"
        ],
        [
         "http://www.tripstore.com.ar/",
         "2"
        ],
        [
         "http://cementoarmado.es.tl/",
         "2"
        ],
        [
         "http://estudiofilippin.com.ar/",
         "2"
        ],
        [
         "https://www.goldenbike.com.ar/",
         "2"
        ],
        [
         "https://www.instagram.com/mujeryhombredehoy/",
         "2"
        ],
        [
         "https://www.prestigio.com.ar/?utm_source=botonTienda&utm_medium=gbp&utm_id=gbp",
         "2"
        ],
        [
         "https://www.arredo.com.ar/",
         "2"
        ],
        [
         "http://www.kevingston.com/",
         "2"
        ],
        [
         "http://miwok.com.ar/",
         "2"
        ],
        [
         "https://m.facebook.com/pages/FAMULARO-SA/159162330949584",
         "2"
        ],
        [
         "http://comoquieres.com.ar/",
         "2"
        ],
        [
         "https://www.bringerihogar.com.ar/",
         "2"
        ],
        [
         "https://carbono3d.com.ar/",
         "2"
        ],
        [
         "https://www.instagram.com/megacompras_oficial/?hl=es-la",
         "2"
        ],
        [
         "http://multigamma.com.ar/",
         "2"
        ],
        [
         "http://www.casasilvia.com/",
         "2"
        ],
        [
         "https://find.shell.com/ar/fuel/10129342-rosa-juana-crocci-de-giliberti/es_AR",
         "2"
        ],
        [
         "http://www.naldo.com.ar/",
         "2"
        ],
        [
         "https://www.facebook.com/olavarriaautomotores",
         "2"
        ],
        [
         "http://www.leutthe.com/",
         "2"
        ],
        [
         "http://www.lemont.com.ar/",
         "2"
        ],
        [
         "http://www.tiempodeaventura.store/",
         "2"
        ],
        [
         "http://www.magher.com.ar/",
         "2"
        ],
        [
         "https://www.nuevashogar.com.ar/",
         "2"
        ],
        [
         "https://www.facebook.com/zonanortetandil",
         "2"
        ]
       ],
       "shape": {
        "columns": 1,
        "rows": 1652
       }
      },
      "text/plain": [
       "website\n",
       "Incomplete                                                                                             4109\n",
       "https://argentina.gridohelado.com/                                                                        6\n",
       "http://www.luz-azul.com.ar/                                                                               5\n",
       "http://www.cooperativaobrera.coop/                                                                        5\n",
       "https://www.gpstaller.com.ar/                                                                             4\n",
       "                                                                                                       ... \n",
       "http://www.herreriaelprogreso.com.ar/                                                                     1\n",
       "http://martinezsalamandras.com/                                                                           1\n",
       "https://www.guia-dorada.com.ar/guia/aviso-constructora-aripuka-sa-en-tandil-buenos-aires-25615.html       1\n",
       "https://m.facebook.com/GUMEautomotoresTandil?mibextid=LQQJ4d                                              1\n",
       "http://www.friototal.com.ar/                                                                              1\n",
       "Name: count, Length: 1652, dtype: int64"
      ]
     },
     "execution_count": 150,
     "metadata": {},
     "output_type": "execute_result"
    }
   ],
   "source": [
    "# Contar cuántas veces aparece cada valor en la columna 'website'\n",
    "df['website'].value_counts()"
   ]
  },
  {
   "cell_type": "code",
   "execution_count": 151,
   "id": "8b0c2bd6",
   "metadata": {},
   "outputs": [
    {
     "name": "stdout",
     "output_type": "stream",
     "text": [
      "Los comercios están registrados en un total de 621 categorías distintas\n"
     ]
    }
   ],
   "source": [
    "# Se cuentan las distintas categorías\n",
    "category = df['categoryName'].nunique()\n",
    "print(f\"Los comercios están registrados en un total de {category} categorías distintas\")"
   ]
  },
  {
   "cell_type": "code",
   "execution_count": 152,
   "id": "318048ea",
   "metadata": {},
   "outputs": [
    {
     "data": {
      "application/vnd.microsoft.datawrangler.viewer.v0+json": {
       "columns": [
        {
         "name": "categoryName",
         "rawType": "object",
         "type": "string"
        },
        {
         "name": "count",
         "rawType": "int64",
         "type": "integer"
        }
       ],
       "ref": "78479b94-62ea-4805-b9ea-b1940b590372",
       "rows": [
        [
         "Tienda De Ropa",
         "465"
        ],
        [
         "Tienda De Alimentación",
         "366"
        ],
        [
         "Comercio",
         "334"
        ],
        [
         "Agencia Inmobiliaria",
         "180"
        ],
        [
         "Incomplete",
         "142"
        ],
        [
         "Taller De Reparación De Automóviles",
         "141"
        ],
        [
         "Tienda De Repuestos Para Automóviles",
         "141"
        ],
        [
         "Tienda De Ropa De Mujer",
         "115"
        ],
        [
         "Tienda De Materiales Para La Construcción",
         "103"
        ],
        [
         "Carnicería",
         "101"
        ],
        [
         "Tienda De Artículos Para El Hogar",
         "99"
        ],
        [
         "Supermercado",
         "93"
        ],
        [
         "Panadería",
         "90"
        ],
        [
         "Concesionario De Automóviles",
         "83"
        ],
        [
         "Taller Mecánico",
         "81"
        ],
        [
         "Tienda De Muebles",
         "67"
        ],
        [
         "Club Deportivo",
         "66"
        ],
        [
         "Empresa Constructora",
         "66"
        ],
        [
         "Ferretería",
         "60"
        ],
        [
         "Frutería",
         "59"
        ],
        [
         "Kiosco",
         "57"
        ],
        [
         "Tienda General",
         "53"
        ],
        [
         "Farmacia",
         "48"
        ],
        [
         "Tienda De Pinturas",
         "47"
        ],
        [
         "Tienda De Regalos",
         "45"
        ],
        [
         "Tienda De Informática",
         "45"
        ],
        [
         "Librería",
         "43"
        ],
        [
         "Tienda De Ropa Infantil",
         "38"
        ],
        [
         "Tienda De Electrónica",
         "35"
        ],
        [
         "Heladería",
         "35"
        ],
        [
         "Tienda De Móviles",
         "34"
        ],
        [
         "Tienda De Neumáticos",
         "33"
        ],
        [
         "Taller De Automóviles",
         "33"
        ],
        [
         "Tienda De Ropa Para Bebés",
         "31"
        ],
        [
         "Tienda De Ropa De Hombre",
         "31"
        ],
        [
         "Agentes Inmobiliarios",
         "29"
        ],
        [
         "Tienda De Herramientas",
         "29"
        ],
        [
         "Tienda De Lencería",
         "28"
        ],
        [
         "Cafetería",
         "28"
        ],
        [
         "Urbanización",
         "28"
        ],
        [
         "Tienda De Alimentos Naturales",
         "26"
        ],
        [
         "Zapatería",
         "26"
        ],
        [
         "Diseñador De Sitios Web",
         "26"
        ],
        [
         "Tienda De Ropa De Deportes",
         "26"
        ],
        [
         "Proveedor De Materiales De Construcción",
         "24"
        ],
        [
         "Gasolinera",
         "22"
        ],
        [
         "Servicio De Cambio De Aceite",
         "22"
        ],
        [
         "Establecimiento De Venta De Madera",
         "22"
        ],
        [
         "Tienda De Alimentos Para Animales",
         "21"
        ],
        [
         "Electricista",
         "20"
        ]
       ],
       "shape": {
        "columns": 1,
        "rows": 621
       }
      },
      "text/plain": [
       "categoryName\n",
       "Tienda De Ropa                   465\n",
       "Tienda De Alimentación           366\n",
       "Comercio                         334\n",
       "Agencia Inmobiliaria             180\n",
       "Incomplete                       142\n",
       "                                ... \n",
       "Fábrica De Bolsas De Papel         1\n",
       "Tienda De Discos                   1\n",
       "Masajista Deportivo                1\n",
       "Servicio De Sistemas Sépticos      1\n",
       "Escuela De Artes Marciales         1\n",
       "Name: count, Length: 621, dtype: int64"
      ]
     },
     "execution_count": 152,
     "metadata": {},
     "output_type": "execute_result"
    }
   ],
   "source": [
    "# Se cuentan las categorías y se muestran las más frecuentes.\n",
    "df['categoryName'].value_counts()"
   ]
  },
  {
   "cell_type": "code",
   "execution_count": 153,
   "id": "4911a209",
   "metadata": {},
   "outputs": [],
   "source": [
    "# Se exporta el DataFrame Regional limpio a un archivo CSV sin incluir la columna del índice.\n",
    "df.to_csv('../CleanData/Regional.csv', index=False)"
   ]
  },
  {
   "cell_type": "markdown",
   "id": "66f62ec3",
   "metadata": {},
   "source": [
    "<div style=\"font-family: 'JetBrains Mono', monospace; font-size: 14px; color: #e2dbdbff; line-height: 1.6;\">\n",
    "✅ Conclusión\n",
    "\n",
    "Se obtuvo un dataset unificado, sin duplicados y con valores nulos tratados.\n",
    "El archivo está limpio y preparado para el análisis explora"
   ]
  }
 ],
 "metadata": {
  "kernelspec": {
   "display_name": "Python 3",
   "language": "python",
   "name": "python3"
  },
  "language_info": {
   "codemirror_mode": {
    "name": "ipython",
    "version": 3
   },
   "file_extension": ".py",
   "mimetype": "text/x-python",
   "name": "python",
   "nbconvert_exporter": "python",
   "pygments_lexer": "ipython3",
   "version": "3.13.7"
  }
 },
 "nbformat": 4,
 "nbformat_minor": 5
}
