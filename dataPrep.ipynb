{
 "cells": [
  {
   "cell_type": "markdown",
   "id": "cafe4ed2",
   "metadata": {},
   "source": [
    "<div style=\"font-family: 'JetBrains Mono', monospace; font-size: 14px; color: #e2dbdbff; line-height: 1.6;\">\n",
    "\n",
    "## 1. 🚀 Introducción y Contexto\n",
    "\n",
    "### 🛠️ La Historia que Motivó este Análisis\n",
    "\n",
    "Era un día cualquiera en **Tandil** cuando mi bordeadora STIHL FSE60 decidió rendirse. Necesitaba un repuesto específico y, como cualquier persona del siglo XXI, mi primer instinto fue buscarlo **online**.\n",
    "\n",
    "🔍 **Google:** Nada en la ciudad  \n",
    "🛒 **MercadoLibre:** ¡Disponible! Pero a **350 km** y con 2 días de espera\n",
    "\n",
    "Decidí intentar la búsqueda física. Después de **un día completo** recorriendo comercios...\n",
    "\n",
    "💡 **¡EUREKA!** Un comercio finalmente sabía dónde conseguirlo. Estaba a **10 cuadras de casa**.\n",
    "\n",
    "#### 🤔 La Pregunta que Cambió Todo\n",
    "\n",
    "> **\"Si este comercio lo tenía, ¿por qué no apareció en mis búsquedas online?\"**\n",
    "\n",
    "---\n",
    "\n",
    "### 🎯 Objetivos del Análisis\n",
    "\n",
    "**🔍 Objetivo Principal:** Analizar el estado de la digitalización comercial en 5 ciudades del centro de Buenos Aires.\n",
    "\n",
    "**📊 Preguntas de Investigación:**\n",
    "- ¿Qué porcentaje de comercios tiene **datos completos** en Google Maps?\n",
    "- ¿Cuántos tienen **sitio web** o **redes sociales** registradas?\n",
    "- ¿El **tamaño de la ciudad** influye en la digitalización?\n",
    "- ¿Los comercios digitalizados tienen **mejor engagement**?\n",
    "\n",
    "**💡 Meta:** Transformar una experiencia personal en insights útiles para comerciantes locales.\n",
    "\n",
    "</div>"
   ]
  },
  {
   "cell_type": "markdown",
   "id": "5ff0f830",
   "metadata": {},
   "source": [
    "<div style=\"font-family: 'JetBrains Mono', monospace; font-size: 14px; color: #e2dbdbff; line-height: 1.6;\">\n",
    "\n",
    "## 2. 🔧 Preparación de Datos\n",
    "\n",
    "📊 Importación y Limpieza\n",
    "\n",
    "**🔄 Procesamiento:** Carga de múltiples archivos CSV por ciudad, selección de columnas relevantes y corrección de valores erróneos.\n",
    "\n",
    "**🔗 Consolidación:** Concatenación de datasets individuales en archivo único 'Regional' con estandarización de teléfonos, tratamiento de missing values y eliminación de duplicados.\n",
    "\n",
    "**🧹 Normalización:** Limpieza de nombres comerciales (comillas, asteriscos, emoticones) y estandarización de formato.\n",
    "\n",
    "</div>"
   ]
  },
  {
   "cell_type": "code",
   "execution_count": 199,
   "id": "06b3f050",
   "metadata": {},
   "outputs": [],
   "source": [
    "# Se importan las librerías para la carga y manipulación de los datos.\n",
    "# pandas: manejo y limpieza de datos\n",
    "# numpy: operaciones numéricas\n",
    "# glob, os: manipulación de archivos y carpetas\n",
    "\n",
    "import pandas as pd\n",
    "import os\n",
    "import numpy as np\n",
    "from glob import glob\n",
    "import glob\n",
    "import matplotlib.pyplot as plt\n",
    "import seaborn as sns\n",
    "\n",
    "# Configura pandas para mostrar todas las columnas del DataFrame al mostrarlo, sin recorte visual.\n",
    "pd.set_option('display.max_columns', None) "
   ]
  },
  {
   "cell_type": "code",
   "execution_count": 200,
   "id": "17206384",
   "metadata": {},
   "outputs": [
    {
     "data": {
      "text/plain": [
       "['../Python_es/Datasets\\\\azul_dataset_crawler-google-places_2025-06-15_22-59-32-816.csv',\n",
       " '../Python_es/Datasets\\\\azul_dataset_crawler-google-places_2025-07-30_14-54-37-400.csv',\n",
       " '../Python_es/Datasets\\\\azul_dataset_google-maps-extractor_2025-05-19_00-03-31-957.csv']"
      ]
     },
     "execution_count": 200,
     "metadata": {},
     "output_type": "execute_result"
    }
   ],
   "source": [
    "# Búsqueda de los archivos .csv en el directorio\n",
    "glob.glob('../Python_es/Datasets/*azul*.csv')"
   ]
  },
  {
   "cell_type": "code",
   "execution_count": 201,
   "id": "090b6aef",
   "metadata": {},
   "outputs": [
    {
     "data": {
      "text/plain": [
       "Index(['additionalInfo/Accesibilidad/0/Entrada accesible para personas en silla de ruedas',\n",
       "       'additionalInfo/Accesibilidad/0/Espacio accesible para personas en silla de ruedas',\n",
       "       'additionalInfo/Accesibilidad/0/Estacionamiento accesible para personas en silla de ruedas',\n",
       "       'additionalInfo/Accesibilidad/1/Bucle magnético de asistencia',\n",
       "       'additionalInfo/Accesibilidad/1/Espacio accesible para personas en silla de ruedas',\n",
       "       'additionalInfo/Accesibilidad/1/Estacionamiento accesible para personas en silla de ruedas',\n",
       "       'additionalInfo/Accesibilidad/1/Sanitarios accesibles para personas en silla de ruedas',\n",
       "       'additionalInfo/Accesibilidad/2/Bucle magnético de asistencia',\n",
       "       'additionalInfo/Accesibilidad/2/Sanitarios accesibles para personas en silla de ruedas',\n",
       "       'additionalInfo/Ambiente/0/A la moda',\n",
       "       ...\n",
       "       'plusCode',\n",
       "       'additionalInfo/Accesibilidad/3/Sanitarios accesibles para personas en silla de ruedas',\n",
       "       'additionalInfo/Estacionamiento/0',\n",
       "       'additionalInfo/Opciones del local/3/Postres',\n",
       "       'additionalInfo/Opciones del local/4/Espacio con asientos',\n",
       "       'additionalInfo/Popular por/1/Almuerzo',\n",
       "       'additionalInfo/Popular por/2/Cena en solitario',\n",
       "       'additionalInfo/Popular por/3/Un buen lugar para trabajar con una laptop',\n",
       "       'additionalInfo/Qué ofrece/2/Comidas durante la madrugada',\n",
       "       'locatedIn'],\n",
       "      dtype='object', length=555)"
      ]
     },
     "execution_count": 201,
     "metadata": {},
     "output_type": "execute_result"
    }
   ],
   "source": [
    "# Lectura de todos los archivos CSV de la carpeta y se combinan en un único DataFrame con 'pd.concat()' y se reestablece el índice con 'reset_index(drop=True)'.\n",
    "# Se listan las columnas del DataFrame resultante.\n",
    "df = pd.concat(map(pd.read_csv, glob.glob('../Python_es/Datasets/*azul*.csv'))).reset_index(drop=True)\n",
    "df.columns"
   ]
  },
  {
   "cell_type": "code",
   "execution_count": 202,
   "id": "48d6b069",
   "metadata": {},
   "outputs": [
    {
     "data": {
      "application/vnd.microsoft.datawrangler.viewer.v0+json": {
       "columns": [
        {
         "name": "index",
         "rawType": "int64",
         "type": "integer"
        },
        {
         "name": "title",
         "rawType": "object",
         "type": "string"
        },
        {
         "name": "categoryName",
         "rawType": "object",
         "type": "string"
        },
        {
         "name": "website",
         "rawType": "object",
         "type": "unknown"
        },
        {
         "name": "street",
         "rawType": "object",
         "type": "string"
        },
        {
         "name": "phone",
         "rawType": "object",
         "type": "string"
        },
        {
         "name": "city",
         "rawType": "object",
         "type": "string"
        },
        {
         "name": "state",
         "rawType": "object",
         "type": "string"
        },
        {
         "name": "location/lat",
         "rawType": "float64",
         "type": "float"
        },
        {
         "name": "location/lng",
         "rawType": "float64",
         "type": "float"
        },
        {
         "name": "totalScore",
         "rawType": "float64",
         "type": "float"
        },
        {
         "name": "rank",
         "rawType": "int64",
         "type": "integer"
        },
        {
         "name": "imageUrl",
         "rawType": "object",
         "type": "string"
        },
        {
         "name": "imagesCount",
         "rawType": "float64",
         "type": "float"
        },
        {
         "name": "reviewsCount",
         "rawType": "int64",
         "type": "integer"
        },
        {
         "name": "scrapedAt",
         "rawType": "object",
         "type": "string"
        },
        {
         "name": "searchString",
         "rawType": "object",
         "type": "string"
        }
       ],
       "ref": "558c51fe-64f6-480d-bbc9-1910c3cb29af",
       "rows": [
        [
         "0",
         "DTI - Azul",
         "Soporte y servicios informáticos",
         null,
         "Av. Juan Domingo Perón 525",
         "+54 2281 42-7066",
         "Azul",
         "Provincia de Buenos Aires",
         "-36.7820062",
         "-59.8654974",
         null,
         "22",
         "https://streetviewpixels-pa.googleapis.com/v1/thumbnail?panoid=zL2SLXDLlIyLOOkG7pxFlg&cb_client=search.gws-prod.gps&w=408&h=240&yaw=231.62384&pitch=0&thumbfov=100",
         "1.0",
         "0",
         "2025-06-15T22:56:55.477Z",
         "tecnologia"
        ],
        [
         "1",
         "TECNO COMPUTACION",
         "Tienda de móviles",
         "http://www.tecnocomputacionazul.com/",
         "Lamadrid 33",
         "+54 2281 65-7938",
         "Azul",
         "Provincia de Buenos Aires",
         "-36.7649137",
         "-59.8624039",
         "4.6",
         "3",
         "https://lh3.googleusercontent.com/p/AF1QipP9GgrGu9iOG5xNOUsuEUj6fdq4j3xvaLptITLH=w408-h408-k-no",
         "12.0",
         "7",
         "2025-06-15T22:56:54.474Z",
         "tecnologia"
        ],
        [
         "2",
         "Ingeniero Marcelo Edgardo Cornec",
         "Ingeniero",
         null,
         "Av. Juan Domingo Perón 622",
         "+54 2281 42-6984",
         "Azul",
         "Provincia de Buenos Aires",
         "-36.7832779",
         "-59.8635941",
         "5.0",
         "20",
         "https://lh3.googleusercontent.com/p/AF1QipN3mw2facF8IFrTvwJ_gdFhsNWQrFQi4pazN5RN=w426-h240-k-no",
         "13.0",
         "3",
         "2025-06-15T22:56:57.478Z",
         "comercio"
        ],
        [
         "3",
         "La esquina",
         "Kiosco",
         null,
         "7300, Gral. Paz 1500",
         "+54 2281 36-0736",
         "Azul",
         "Provincia de Buenos Aires",
         "-36.7980904",
         "-59.8535248",
         "3.7",
         "19",
         "https://lh3.googleusercontent.com/p/AF1QipP1o8LwpKf0khxVBfihAWLOI4K4X00X3SCtGAg=w408-h544-k-no",
         "1.0",
         "3",
         "2025-06-15T22:56:57.478Z",
         "comercio"
        ],
        [
         "4",
         "Vidrieria 25 de Mayo de Jose Canalicchio",
         "Comercio",
         null,
         "Guaminí 610",
         "+54 2281 53-7036",
         "Azul",
         "Provincia de Buenos Aires",
         "-36.7855521",
         "-59.8671447",
         "4.2",
         "40",
         "https://lh3.googleusercontent.com/p/AF1QipM1o-ulafI-mAMROrwDJeAv15XDqrWz-t4wzI86=w426-h240-k-no",
         "5.0",
         "9",
         "2025-06-15T22:56:58.824Z",
         "comercio"
        ]
       ],
       "shape": {
        "columns": 16,
        "rows": 5
       }
      },
      "text/html": [
       "<div>\n",
       "<style scoped>\n",
       "    .dataframe tbody tr th:only-of-type {\n",
       "        vertical-align: middle;\n",
       "    }\n",
       "\n",
       "    .dataframe tbody tr th {\n",
       "        vertical-align: top;\n",
       "    }\n",
       "\n",
       "    .dataframe thead th {\n",
       "        text-align: right;\n",
       "    }\n",
       "</style>\n",
       "<table border=\"1\" class=\"dataframe\">\n",
       "  <thead>\n",
       "    <tr style=\"text-align: right;\">\n",
       "      <th></th>\n",
       "      <th>title</th>\n",
       "      <th>categoryName</th>\n",
       "      <th>website</th>\n",
       "      <th>street</th>\n",
       "      <th>phone</th>\n",
       "      <th>city</th>\n",
       "      <th>state</th>\n",
       "      <th>location/lat</th>\n",
       "      <th>location/lng</th>\n",
       "      <th>totalScore</th>\n",
       "      <th>rank</th>\n",
       "      <th>imageUrl</th>\n",
       "      <th>imagesCount</th>\n",
       "      <th>reviewsCount</th>\n",
       "      <th>scrapedAt</th>\n",
       "      <th>searchString</th>\n",
       "    </tr>\n",
       "  </thead>\n",
       "  <tbody>\n",
       "    <tr>\n",
       "      <th>0</th>\n",
       "      <td>DTI - Azul</td>\n",
       "      <td>Soporte y servicios informáticos</td>\n",
       "      <td>NaN</td>\n",
       "      <td>Av. Juan Domingo Perón 525</td>\n",
       "      <td>+54 2281 42-7066</td>\n",
       "      <td>Azul</td>\n",
       "      <td>Provincia de Buenos Aires</td>\n",
       "      <td>-36.782006</td>\n",
       "      <td>-59.865497</td>\n",
       "      <td>NaN</td>\n",
       "      <td>22</td>\n",
       "      <td>https://streetviewpixels-pa.googleapis.com/v1/...</td>\n",
       "      <td>1.0</td>\n",
       "      <td>0</td>\n",
       "      <td>2025-06-15T22:56:55.477Z</td>\n",
       "      <td>tecnologia</td>\n",
       "    </tr>\n",
       "    <tr>\n",
       "      <th>1</th>\n",
       "      <td>TECNO COMPUTACION</td>\n",
       "      <td>Tienda de móviles</td>\n",
       "      <td>http://www.tecnocomputacionazul.com/</td>\n",
       "      <td>Lamadrid 33</td>\n",
       "      <td>+54 2281 65-7938</td>\n",
       "      <td>Azul</td>\n",
       "      <td>Provincia de Buenos Aires</td>\n",
       "      <td>-36.764914</td>\n",
       "      <td>-59.862404</td>\n",
       "      <td>4.6</td>\n",
       "      <td>3</td>\n",
       "      <td>https://lh3.googleusercontent.com/p/AF1QipP9Gg...</td>\n",
       "      <td>12.0</td>\n",
       "      <td>7</td>\n",
       "      <td>2025-06-15T22:56:54.474Z</td>\n",
       "      <td>tecnologia</td>\n",
       "    </tr>\n",
       "    <tr>\n",
       "      <th>2</th>\n",
       "      <td>Ingeniero Marcelo Edgardo Cornec</td>\n",
       "      <td>Ingeniero</td>\n",
       "      <td>NaN</td>\n",
       "      <td>Av. Juan Domingo Perón 622</td>\n",
       "      <td>+54 2281 42-6984</td>\n",
       "      <td>Azul</td>\n",
       "      <td>Provincia de Buenos Aires</td>\n",
       "      <td>-36.783278</td>\n",
       "      <td>-59.863594</td>\n",
       "      <td>5.0</td>\n",
       "      <td>20</td>\n",
       "      <td>https://lh3.googleusercontent.com/p/AF1QipN3mw...</td>\n",
       "      <td>13.0</td>\n",
       "      <td>3</td>\n",
       "      <td>2025-06-15T22:56:57.478Z</td>\n",
       "      <td>comercio</td>\n",
       "    </tr>\n",
       "    <tr>\n",
       "      <th>3</th>\n",
       "      <td>La esquina</td>\n",
       "      <td>Kiosco</td>\n",
       "      <td>NaN</td>\n",
       "      <td>7300, Gral. Paz 1500</td>\n",
       "      <td>+54 2281 36-0736</td>\n",
       "      <td>Azul</td>\n",
       "      <td>Provincia de Buenos Aires</td>\n",
       "      <td>-36.798090</td>\n",
       "      <td>-59.853525</td>\n",
       "      <td>3.7</td>\n",
       "      <td>19</td>\n",
       "      <td>https://lh3.googleusercontent.com/p/AF1QipP1o8...</td>\n",
       "      <td>1.0</td>\n",
       "      <td>3</td>\n",
       "      <td>2025-06-15T22:56:57.478Z</td>\n",
       "      <td>comercio</td>\n",
       "    </tr>\n",
       "    <tr>\n",
       "      <th>4</th>\n",
       "      <td>Vidrieria 25 de Mayo de Jose Canalicchio</td>\n",
       "      <td>Comercio</td>\n",
       "      <td>NaN</td>\n",
       "      <td>Guaminí 610</td>\n",
       "      <td>+54 2281 53-7036</td>\n",
       "      <td>Azul</td>\n",
       "      <td>Provincia de Buenos Aires</td>\n",
       "      <td>-36.785552</td>\n",
       "      <td>-59.867145</td>\n",
       "      <td>4.2</td>\n",
       "      <td>40</td>\n",
       "      <td>https://lh3.googleusercontent.com/p/AF1QipM1o-...</td>\n",
       "      <td>5.0</td>\n",
       "      <td>9</td>\n",
       "      <td>2025-06-15T22:56:58.824Z</td>\n",
       "      <td>comercio</td>\n",
       "    </tr>\n",
       "  </tbody>\n",
       "</table>\n",
       "</div>"
      ],
      "text/plain": [
       "                                      title                      categoryName  \\\n",
       "0                                DTI - Azul  Soporte y servicios informáticos   \n",
       "1                         TECNO COMPUTACION                 Tienda de móviles   \n",
       "2          Ingeniero Marcelo Edgardo Cornec                         Ingeniero   \n",
       "3                                La esquina                            Kiosco   \n",
       "4  Vidrieria 25 de Mayo de Jose Canalicchio                          Comercio   \n",
       "\n",
       "                                website                      street  \\\n",
       "0                                   NaN  Av. Juan Domingo Perón 525   \n",
       "1  http://www.tecnocomputacionazul.com/                 Lamadrid 33   \n",
       "2                                   NaN  Av. Juan Domingo Perón 622   \n",
       "3                                   NaN        7300, Gral. Paz 1500   \n",
       "4                                   NaN                 Guaminí 610   \n",
       "\n",
       "              phone  city                      state  location/lat  \\\n",
       "0  +54 2281 42-7066  Azul  Provincia de Buenos Aires    -36.782006   \n",
       "1  +54 2281 65-7938  Azul  Provincia de Buenos Aires    -36.764914   \n",
       "2  +54 2281 42-6984  Azul  Provincia de Buenos Aires    -36.783278   \n",
       "3  +54 2281 36-0736  Azul  Provincia de Buenos Aires    -36.798090   \n",
       "4  +54 2281 53-7036  Azul  Provincia de Buenos Aires    -36.785552   \n",
       "\n",
       "   location/lng  totalScore  rank  \\\n",
       "0    -59.865497         NaN    22   \n",
       "1    -59.862404         4.6     3   \n",
       "2    -59.863594         5.0    20   \n",
       "3    -59.853525         3.7    19   \n",
       "4    -59.867145         4.2    40   \n",
       "\n",
       "                                            imageUrl  imagesCount  \\\n",
       "0  https://streetviewpixels-pa.googleapis.com/v1/...          1.0   \n",
       "1  https://lh3.googleusercontent.com/p/AF1QipP9Gg...         12.0   \n",
       "2  https://lh3.googleusercontent.com/p/AF1QipN3mw...         13.0   \n",
       "3  https://lh3.googleusercontent.com/p/AF1QipP1o8...          1.0   \n",
       "4  https://lh3.googleusercontent.com/p/AF1QipM1o-...          5.0   \n",
       "\n",
       "   reviewsCount                 scrapedAt searchString  \n",
       "0             0  2025-06-15T22:56:55.477Z   tecnologia  \n",
       "1             7  2025-06-15T22:56:54.474Z   tecnologia  \n",
       "2             3  2025-06-15T22:56:57.478Z     comercio  \n",
       "3             3  2025-06-15T22:56:57.478Z     comercio  \n",
       "4             9  2025-06-15T22:56:58.824Z     comercio  "
      ]
     },
     "execution_count": 202,
     "metadata": {},
     "output_type": "execute_result"
    }
   ],
   "source": [
    "# Selección de columnas relevantes\n",
    "df = df[[\n",
    "        'title',\n",
    "        'categoryName',\n",
    "        'website',\n",
    "        'street',\n",
    "        'phone',\n",
    "        'city',\n",
    "        'state',\n",
    "        'location/lat', \n",
    "        'location/lng',\n",
    "        'totalScore',\n",
    "        'rank',\n",
    "        'imageUrl',\n",
    "        'imagesCount',       \n",
    "        'reviewsCount', \n",
    "        'scrapedAt',\n",
    "        'searchString']]\n",
    "df.head(5)"
   ]
  },
  {
   "cell_type": "code",
   "execution_count": 203,
   "id": "5f22fe99",
   "metadata": {},
   "outputs": [
    {
     "name": "stdout",
     "output_type": "stream",
     "text": [
      "<class 'pandas.core.frame.DataFrame'>\n",
      "RangeIndex: 1730 entries, 0 to 1729\n",
      "Data columns (total 16 columns):\n",
      " #   Column        Non-Null Count  Dtype  \n",
      "---  ------        --------------  -----  \n",
      " 0   title         1730 non-null   object \n",
      " 1   categoryName  1699 non-null   object \n",
      " 2   website       377 non-null    object \n",
      " 3   street        1584 non-null   object \n",
      " 4   phone         1107 non-null   object \n",
      " 5   city          1716 non-null   object \n",
      " 6   state         1717 non-null   object \n",
      " 7   location/lat  1730 non-null   float64\n",
      " 8   location/lng  1730 non-null   float64\n",
      " 9   totalScore    1278 non-null   float64\n",
      " 10  rank          1730 non-null   int64  \n",
      " 11  imageUrl      1678 non-null   object \n",
      " 12  imagesCount   1676 non-null   float64\n",
      " 13  reviewsCount  1730 non-null   int64  \n",
      " 14  scrapedAt     1730 non-null   object \n",
      " 15  searchString  1730 non-null   object \n",
      "dtypes: float64(4), int64(2), object(10)\n",
      "memory usage: 216.4+ KB\n"
     ]
    }
   ],
   "source": [
    "# Información del DataFrame sececcionado a través del método .info() : \n",
    "# Número de filas y columnas\n",
    "# Nombres y tipos de datos de las columnas\n",
    "# Valores no nulos en cada columna\n",
    "# Uso de memoria\n",
    "df.info()"
   ]
  },
  {
   "cell_type": "code",
   "execution_count": 204,
   "id": "ea35f9dc",
   "metadata": {},
   "outputs": [],
   "source": [
    "# Rellenar valores faltantes en la columna 'city' y 'state' con los valor por defecto 'Azul' y 'Provincia de Buenos Aires' respectivamente.\n",
    "df['city'] = df['city'].fillna('Azul')\n",
    "df['state'] = df['state'].fillna('Provincia de Buenos Aires')"
   ]
  },
  {
   "cell_type": "code",
   "execution_count": 205,
   "id": "cef168b5",
   "metadata": {},
   "outputs": [
    {
     "data": {
      "application/vnd.microsoft.datawrangler.viewer.v0+json": {
       "columns": [
        {
         "name": "state",
         "rawType": "object",
         "type": "string"
        },
        {
         "name": "count",
         "rawType": "int64",
         "type": "integer"
        }
       ],
       "ref": "0e7bb137-47b9-4fb3-8200-fe3cca94776a",
       "rows": [
        [
         "Provincia de Buenos Aires",
         "1728"
        ],
        [
         "San Juan",
         "1"
        ],
        [
         "La Pampa",
         "1"
        ]
       ],
       "shape": {
        "columns": 1,
        "rows": 3
       }
      },
      "text/plain": [
       "state\n",
       "Provincia de Buenos Aires    1728\n",
       "San Juan                        1\n",
       "La Pampa                        1\n",
       "Name: count, dtype: int64"
      ]
     },
     "execution_count": 205,
     "metadata": {},
     "output_type": "execute_result"
    }
   ],
   "source": [
    "# Este código cuenta la frecuencia de cada registro en la columna 'state'\n",
    "df['state'].value_counts()"
   ]
  },
  {
   "cell_type": "code",
   "execution_count": 206,
   "id": "65d8c1a0",
   "metadata": {},
   "outputs": [],
   "source": [
    "# Se reemplazan los datos de la columna 'state' que no son correctos\n",
    "df['state'] = df['state'].replace({\n",
    "    'San Juan': 'Provincia de Buenos Aires',\n",
    "    'La Pampa': 'Provincia de Buenos Aires'\n",
    "})"
   ]
  },
  {
   "cell_type": "code",
   "execution_count": 207,
   "id": "2204d569",
   "metadata": {},
   "outputs": [
    {
     "data": {
      "application/vnd.microsoft.datawrangler.viewer.v0+json": {
       "columns": [
        {
         "name": "city",
         "rawType": "object",
         "type": "string"
        },
        {
         "name": "count",
         "rawType": "int64",
         "type": "integer"
        }
       ],
       "ref": "e70ed513-b65d-4188-a83e-27b7aea92210",
       "rows": [
        [
         "Azul",
         "1698"
        ],
        [
         "Buenos Aires",
         "11"
        ],
        [
         "CJV",
         "3"
        ],
        [
         "B7300GEU",
         "3"
        ],
        [
         "GEV",
         "3"
        ],
        [
         "FAD",
         "2"
        ],
        [
         "CKA",
         "2"
        ],
        [
         "CJU",
         "2"
        ],
        [
         "FRU",
         "2"
        ],
        [
         "ILF",
         "1"
        ],
        [
         "CKE",
         "1"
        ],
        [
         "FVW",
         "1"
        ],
        [
         "Caleufú",
         "1"
        ]
       ],
       "shape": {
        "columns": 1,
        "rows": 13
       }
      },
      "text/plain": [
       "city\n",
       "Azul            1698\n",
       "Buenos Aires      11\n",
       "CJV                3\n",
       "B7300GEU           3\n",
       "GEV                3\n",
       "FAD                2\n",
       "CKA                2\n",
       "CJU                2\n",
       "FRU                2\n",
       "ILF                1\n",
       "CKE                1\n",
       "FVW                1\n",
       "Caleufú            1\n",
       "Name: count, dtype: int64"
      ]
     },
     "execution_count": 207,
     "metadata": {},
     "output_type": "execute_result"
    }
   ],
   "source": [
    "# Cuenta cuántas veces aparece cada ciudad.\n",
    "df['city'].value_counts()"
   ]
  },
  {
   "cell_type": "code",
   "execution_count": 208,
   "id": "918a6730",
   "metadata": {},
   "outputs": [],
   "source": [
    "# Se reemplazan los datos de la columna 'city' que no son correctos\n",
    "df['city'] = df['city'].replace({\n",
    "    'Buenos Aires': 'Azul',\n",
    "    'FRU' : 'Azul',\n",
    "    'FAD' : 'Azul',\n",
    "    'B7300GEU' : 'Azul',\n",
    "    'CJV' : 'Azul',\n",
    "    'GEV' : 'Azul',\n",
    "    'CJU' : 'Azul',\n",
    "    'FVW' : 'Azul',\n",
    "    'CKE' : 'Azul',\n",
    "    'ILF' : 'Azul',\n",
    "    'CKA' : 'Azul',\n",
    "    'Caleufú' : 'Azul'\n",
    "})"
   ]
  },
  {
   "cell_type": "code",
   "execution_count": 209,
   "id": "757d6070",
   "metadata": {},
   "outputs": [],
   "source": [
    "# Se guarda el archivo principal de la ciudad\n",
    "df.to_csv('../Python_es/CleanData/AzulMain.csv', index=False)"
   ]
  },
  {
   "cell_type": "code",
   "execution_count": 210,
   "id": "67590d27",
   "metadata": {},
   "outputs": [
    {
     "data": {
      "text/plain": [
       "['../Python_es/Datasets\\\\juarez_dataset_crawler-google-places_2025-05-29_00-54-32-651.csv',\n",
       " '../Python_es/Datasets\\\\juarez_dataset_crawler-google-places_2025-06-15_23-27-55-877.csv',\n",
       " '../Python_es/Datasets\\\\juarez_dataset_crawler-google-places_2025-07-30_15-23-16-317.csv']"
      ]
     },
     "execution_count": 210,
     "metadata": {},
     "output_type": "execute_result"
    }
   ],
   "source": [
    "# Búsqueda de los archivos .csv en el directorio\n",
    "glob.glob('../Python_es/Datasets/*juarez*.csv')"
   ]
  },
  {
   "cell_type": "code",
   "execution_count": 211,
   "id": "4a9051e2",
   "metadata": {},
   "outputs": [],
   "source": [
    "# Carga y concatena todos los archivos CSV que contengan 'juarez' en su nombre y reestablece el índice del DataFrame resultante.\n",
    "df = pd.concat(map(pd.read_csv, glob.glob('../Python_es/Datasets/*juarez*.csv'))).reset_index(drop=True)"
   ]
  },
  {
   "cell_type": "code",
   "execution_count": 212,
   "id": "99863164",
   "metadata": {},
   "outputs": [
    {
     "data": {
      "application/vnd.microsoft.datawrangler.viewer.v0+json": {
       "columns": [
        {
         "name": "index",
         "rawType": "int64",
         "type": "integer"
        },
        {
         "name": "title",
         "rawType": "object",
         "type": "string"
        },
        {
         "name": "categoryName",
         "rawType": "object",
         "type": "string"
        },
        {
         "name": "website",
         "rawType": "object",
         "type": "unknown"
        },
        {
         "name": "street",
         "rawType": "object",
         "type": "string"
        },
        {
         "name": "phone",
         "rawType": "object",
         "type": "unknown"
        },
        {
         "name": "city",
         "rawType": "object",
         "type": "string"
        },
        {
         "name": "state",
         "rawType": "object",
         "type": "string"
        },
        {
         "name": "location/lat",
         "rawType": "float64",
         "type": "float"
        },
        {
         "name": "location/lng",
         "rawType": "float64",
         "type": "float"
        },
        {
         "name": "totalScore",
         "rawType": "float64",
         "type": "float"
        },
        {
         "name": "rank",
         "rawType": "int64",
         "type": "integer"
        },
        {
         "name": "imageUrl",
         "rawType": "object",
         "type": "string"
        },
        {
         "name": "imagesCount",
         "rawType": "float64",
         "type": "float"
        },
        {
         "name": "reviewsCount",
         "rawType": "int64",
         "type": "integer"
        },
        {
         "name": "scrapedAt",
         "rawType": "object",
         "type": "string"
        },
        {
         "name": "searchString",
         "rawType": "object",
         "type": "string"
        }
       ],
       "ref": "7f1a66fa-2d41-408b-9bb8-020c73a739ae",
       "rows": [
        [
         "0",
         "Serantes Accesorios",
         "Tienda de repuestos de automóviles usados",
         null,
         "Av. Muñiz 49",
         "+54 2281 46-6108",
         "Benito Juárez",
         "Provincia de Buenos Aires",
         "-37.6784356",
         "-59.8006522",
         "4.6",
         "1",
         "https://lh3.googleusercontent.com/gps-cs-s/AC9h4npFTY2xN7TX1mODcm1EARYECZaqbfbY-3MI3RytpUHJF6loC7IhbiCUyElFUMxd5J2Zv26k3KmHA_VO3m1Z5aqzhSjudFP-uvmO7tKx86kJewoiAZCARMCYs8GbwdYI4mvmd4ug=w408-h306-k-no",
         "2.0",
         "66",
         "2025-05-29T00:53:21.747Z",
         "repuestos"
        ],
        [
         "1",
         "Carlos REYNOSO REPUESTOS AGRICOLAS",
         "Tienda de repuestos para coches de carreras",
         null,
         "Av. Muñiz 251-299",
         null,
         "Benito Juárez",
         "Provincia de Buenos Aires",
         "-37.6823028",
         "-59.8057421",
         "4.9",
         "2",
         "https://streetviewpixels-pa.googleapis.com/v1/thumbnail?panoid=vp4kjEzYM-JH0c__-_D-dA&cb_client=search.gws-prod.gps&w=408&h=240&yaw=298.29306&pitch=0&thumbfov=100",
         "1.0",
         "11",
         "2025-05-29T00:53:21.748Z",
         "repuestos"
        ],
        [
         "2",
         "Repuestos lo de migue",
         "Tienda de accesorios para automóviles",
         null,
         "San Juan 126",
         "+54 2281 53-2680",
         "Benito Juárez",
         "Provincia de Buenos Aires",
         "-37.6724408",
         "-59.8003032",
         "4.6",
         "3",
         "https://lh3.googleusercontent.com/gps-cs-s/AC9h4nrmz7jUNtgpfd0XGzY_UpYU0zb5ZOBcjNqDzodXm_DB4MzITIRQTPiXmfV3FzCxIfHPD2j8QmPHvaeYhANUQzZ_j7cJWhhI1AxfE44tDHay621L3b_LG1JRk06vl_jtBROqlJrI=w408-h544-k-no",
         "4.0",
         "17",
         "2025-05-29T00:53:21.748Z",
         "repuestos"
        ],
        [
         "3",
         "Repuestos Perco",
         "Tienda de repuestos de automóviles usados",
         null,
         "Av. Urquiza 41",
         "+54 2281 53-2090",
         "Benito Juárez",
         "Provincia de Buenos Aires",
         "-37.6728965",
         "-59.8036928",
         "4.6",
         "4",
         "https://streetviewpixels-pa.googleapis.com/v1/thumbnail?panoid=1nnz39CMBIbhdYJccqcPDA&cb_client=search.gws-prod.gps&w=408&h=240&yaw=123.82189&pitch=0&thumbfov=100",
         "1.0",
         "5",
         "2025-05-29T00:53:21.749Z",
         "repuestos"
        ],
        [
         "4",
         "Acoplados Juarez - Repuestos acoplados y semirremolques",
         "Proveedor de repuestos de carrocería de automóviles",
         "https://www.guia-dorada.com.ar/guia/aviso-repuestos-para-acoplados-y-semirremolques-en-benito-juarez-buenos-aires-25514.html",
         "Ruta Provincial 86, Suipacha y",
         "+54 9 249 463-4600",
         "Benito Juárez",
         "Provincia de Buenos Aires",
         "-37.6794468",
         "-59.8186845",
         "5.0",
         "5",
         "https://lh3.googleusercontent.com/gps-cs-s/AC9h4npaK6-Hl_4TBoLBYjTt-RzoZVffvbidNfVAy103iXGp12VL5G7xN41q9i92BhMNXQ6VOnN8WFe0kbaN5htSLeJpemiqPC_GDiygeXUm1ec0Ku8gksQls7JzALgwhitvJ345LY_b=w408-h306-k-no",
         "26.0",
         "2",
         "2025-05-29T00:53:21.749Z",
         "repuestos"
        ]
       ],
       "shape": {
        "columns": 16,
        "rows": 5
       }
      },
      "text/html": [
       "<div>\n",
       "<style scoped>\n",
       "    .dataframe tbody tr th:only-of-type {\n",
       "        vertical-align: middle;\n",
       "    }\n",
       "\n",
       "    .dataframe tbody tr th {\n",
       "        vertical-align: top;\n",
       "    }\n",
       "\n",
       "    .dataframe thead th {\n",
       "        text-align: right;\n",
       "    }\n",
       "</style>\n",
       "<table border=\"1\" class=\"dataframe\">\n",
       "  <thead>\n",
       "    <tr style=\"text-align: right;\">\n",
       "      <th></th>\n",
       "      <th>title</th>\n",
       "      <th>categoryName</th>\n",
       "      <th>website</th>\n",
       "      <th>street</th>\n",
       "      <th>phone</th>\n",
       "      <th>city</th>\n",
       "      <th>state</th>\n",
       "      <th>location/lat</th>\n",
       "      <th>location/lng</th>\n",
       "      <th>totalScore</th>\n",
       "      <th>rank</th>\n",
       "      <th>imageUrl</th>\n",
       "      <th>imagesCount</th>\n",
       "      <th>reviewsCount</th>\n",
       "      <th>scrapedAt</th>\n",
       "      <th>searchString</th>\n",
       "    </tr>\n",
       "  </thead>\n",
       "  <tbody>\n",
       "    <tr>\n",
       "      <th>0</th>\n",
       "      <td>Serantes Accesorios</td>\n",
       "      <td>Tienda de repuestos de automóviles usados</td>\n",
       "      <td>NaN</td>\n",
       "      <td>Av. Muñiz 49</td>\n",
       "      <td>+54 2281 46-6108</td>\n",
       "      <td>Benito Juárez</td>\n",
       "      <td>Provincia de Buenos Aires</td>\n",
       "      <td>-37.678436</td>\n",
       "      <td>-59.800652</td>\n",
       "      <td>4.6</td>\n",
       "      <td>1</td>\n",
       "      <td>https://lh3.googleusercontent.com/gps-cs-s/AC9...</td>\n",
       "      <td>2.0</td>\n",
       "      <td>66</td>\n",
       "      <td>2025-05-29T00:53:21.747Z</td>\n",
       "      <td>repuestos</td>\n",
       "    </tr>\n",
       "    <tr>\n",
       "      <th>1</th>\n",
       "      <td>Carlos REYNOSO REPUESTOS AGRICOLAS</td>\n",
       "      <td>Tienda de repuestos para coches de carreras</td>\n",
       "      <td>NaN</td>\n",
       "      <td>Av. Muñiz 251-299</td>\n",
       "      <td>NaN</td>\n",
       "      <td>Benito Juárez</td>\n",
       "      <td>Provincia de Buenos Aires</td>\n",
       "      <td>-37.682303</td>\n",
       "      <td>-59.805742</td>\n",
       "      <td>4.9</td>\n",
       "      <td>2</td>\n",
       "      <td>https://streetviewpixels-pa.googleapis.com/v1/...</td>\n",
       "      <td>1.0</td>\n",
       "      <td>11</td>\n",
       "      <td>2025-05-29T00:53:21.748Z</td>\n",
       "      <td>repuestos</td>\n",
       "    </tr>\n",
       "    <tr>\n",
       "      <th>2</th>\n",
       "      <td>Repuestos lo de migue</td>\n",
       "      <td>Tienda de accesorios para automóviles</td>\n",
       "      <td>NaN</td>\n",
       "      <td>San Juan 126</td>\n",
       "      <td>+54 2281 53-2680</td>\n",
       "      <td>Benito Juárez</td>\n",
       "      <td>Provincia de Buenos Aires</td>\n",
       "      <td>-37.672441</td>\n",
       "      <td>-59.800303</td>\n",
       "      <td>4.6</td>\n",
       "      <td>3</td>\n",
       "      <td>https://lh3.googleusercontent.com/gps-cs-s/AC9...</td>\n",
       "      <td>4.0</td>\n",
       "      <td>17</td>\n",
       "      <td>2025-05-29T00:53:21.748Z</td>\n",
       "      <td>repuestos</td>\n",
       "    </tr>\n",
       "    <tr>\n",
       "      <th>3</th>\n",
       "      <td>Repuestos Perco</td>\n",
       "      <td>Tienda de repuestos de automóviles usados</td>\n",
       "      <td>NaN</td>\n",
       "      <td>Av. Urquiza 41</td>\n",
       "      <td>+54 2281 53-2090</td>\n",
       "      <td>Benito Juárez</td>\n",
       "      <td>Provincia de Buenos Aires</td>\n",
       "      <td>-37.672897</td>\n",
       "      <td>-59.803693</td>\n",
       "      <td>4.6</td>\n",
       "      <td>4</td>\n",
       "      <td>https://streetviewpixels-pa.googleapis.com/v1/...</td>\n",
       "      <td>1.0</td>\n",
       "      <td>5</td>\n",
       "      <td>2025-05-29T00:53:21.749Z</td>\n",
       "      <td>repuestos</td>\n",
       "    </tr>\n",
       "    <tr>\n",
       "      <th>4</th>\n",
       "      <td>Acoplados Juarez - Repuestos acoplados y semir...</td>\n",
       "      <td>Proveedor de repuestos de carrocería de automó...</td>\n",
       "      <td>https://www.guia-dorada.com.ar/guia/aviso-repu...</td>\n",
       "      <td>Ruta Provincial 86, Suipacha y</td>\n",
       "      <td>+54 9 249 463-4600</td>\n",
       "      <td>Benito Juárez</td>\n",
       "      <td>Provincia de Buenos Aires</td>\n",
       "      <td>-37.679447</td>\n",
       "      <td>-59.818685</td>\n",
       "      <td>5.0</td>\n",
       "      <td>5</td>\n",
       "      <td>https://lh3.googleusercontent.com/gps-cs-s/AC9...</td>\n",
       "      <td>26.0</td>\n",
       "      <td>2</td>\n",
       "      <td>2025-05-29T00:53:21.749Z</td>\n",
       "      <td>repuestos</td>\n",
       "    </tr>\n",
       "  </tbody>\n",
       "</table>\n",
       "</div>"
      ],
      "text/plain": [
       "                                               title  \\\n",
       "0                                Serantes Accesorios   \n",
       "1                 Carlos REYNOSO REPUESTOS AGRICOLAS   \n",
       "2                              Repuestos lo de migue   \n",
       "3                                    Repuestos Perco   \n",
       "4  Acoplados Juarez - Repuestos acoplados y semir...   \n",
       "\n",
       "                                        categoryName  \\\n",
       "0          Tienda de repuestos de automóviles usados   \n",
       "1        Tienda de repuestos para coches de carreras   \n",
       "2              Tienda de accesorios para automóviles   \n",
       "3          Tienda de repuestos de automóviles usados   \n",
       "4  Proveedor de repuestos de carrocería de automó...   \n",
       "\n",
       "                                             website  \\\n",
       "0                                                NaN   \n",
       "1                                                NaN   \n",
       "2                                                NaN   \n",
       "3                                                NaN   \n",
       "4  https://www.guia-dorada.com.ar/guia/aviso-repu...   \n",
       "\n",
       "                           street               phone           city  \\\n",
       "0                    Av. Muñiz 49    +54 2281 46-6108  Benito Juárez   \n",
       "1               Av. Muñiz 251-299                 NaN  Benito Juárez   \n",
       "2                    San Juan 126    +54 2281 53-2680  Benito Juárez   \n",
       "3                  Av. Urquiza 41    +54 2281 53-2090  Benito Juárez   \n",
       "4  Ruta Provincial 86, Suipacha y  +54 9 249 463-4600  Benito Juárez   \n",
       "\n",
       "                       state  location/lat  location/lng  totalScore  rank  \\\n",
       "0  Provincia de Buenos Aires    -37.678436    -59.800652         4.6     1   \n",
       "1  Provincia de Buenos Aires    -37.682303    -59.805742         4.9     2   \n",
       "2  Provincia de Buenos Aires    -37.672441    -59.800303         4.6     3   \n",
       "3  Provincia de Buenos Aires    -37.672897    -59.803693         4.6     4   \n",
       "4  Provincia de Buenos Aires    -37.679447    -59.818685         5.0     5   \n",
       "\n",
       "                                            imageUrl  imagesCount  \\\n",
       "0  https://lh3.googleusercontent.com/gps-cs-s/AC9...          2.0   \n",
       "1  https://streetviewpixels-pa.googleapis.com/v1/...          1.0   \n",
       "2  https://lh3.googleusercontent.com/gps-cs-s/AC9...          4.0   \n",
       "3  https://streetviewpixels-pa.googleapis.com/v1/...          1.0   \n",
       "4  https://lh3.googleusercontent.com/gps-cs-s/AC9...         26.0   \n",
       "\n",
       "   reviewsCount                 scrapedAt searchString  \n",
       "0            66  2025-05-29T00:53:21.747Z    repuestos  \n",
       "1            11  2025-05-29T00:53:21.748Z    repuestos  \n",
       "2            17  2025-05-29T00:53:21.748Z    repuestos  \n",
       "3             5  2025-05-29T00:53:21.749Z    repuestos  \n",
       "4             2  2025-05-29T00:53:21.749Z    repuestos  "
      ]
     },
     "execution_count": 212,
     "metadata": {},
     "output_type": "execute_result"
    }
   ],
   "source": [
    "# Selección de columnas relevantes\n",
    "df = df[[\n",
    "        'title',\n",
    "        'categoryName',\n",
    "        'website',\n",
    "        'street',\n",
    "        'phone',\n",
    "        'city',\n",
    "        'state',\n",
    "        'location/lat', \n",
    "        'location/lng',\n",
    "        'totalScore',\n",
    "        'rank',\n",
    "        'imageUrl',\n",
    "        'imagesCount',       \n",
    "        'reviewsCount', \n",
    "        'scrapedAt',\n",
    "        'searchString']]\n",
    "df.head(5)"
   ]
  },
  {
   "cell_type": "code",
   "execution_count": 213,
   "id": "dafce2ed",
   "metadata": {},
   "outputs": [
    {
     "name": "stdout",
     "output_type": "stream",
     "text": [
      "<class 'pandas.core.frame.DataFrame'>\n",
      "RangeIndex: 704 entries, 0 to 703\n",
      "Data columns (total 16 columns):\n",
      " #   Column        Non-Null Count  Dtype  \n",
      "---  ------        --------------  -----  \n",
      " 0   title         704 non-null    object \n",
      " 1   categoryName  686 non-null    object \n",
      " 2   website       125 non-null    object \n",
      " 3   street        655 non-null    object \n",
      " 4   phone         430 non-null    object \n",
      " 5   city          701 non-null    object \n",
      " 6   state         701 non-null    object \n",
      " 7   location/lat  704 non-null    float64\n",
      " 8   location/lng  704 non-null    float64\n",
      " 9   totalScore    451 non-null    float64\n",
      " 10  rank          704 non-null    int64  \n",
      " 11  imageUrl      681 non-null    object \n",
      " 12  imagesCount   681 non-null    float64\n",
      " 13  reviewsCount  704 non-null    int64  \n",
      " 14  scrapedAt     704 non-null    object \n",
      " 15  searchString  704 non-null    object \n",
      "dtypes: float64(4), int64(2), object(10)\n",
      "memory usage: 88.1+ KB\n"
     ]
    }
   ],
   "source": [
    "df.info()"
   ]
  },
  {
   "cell_type": "code",
   "execution_count": 214,
   "id": "17c0cfb8",
   "metadata": {},
   "outputs": [],
   "source": [
    "# Rellenar valores faltantes en la columna 'city' y 'state'.\n",
    "df['city'] = df['city'].fillna('Benito Juárez')\n",
    "df['state'] = df['state'].fillna('Provincia de Buenos Aires')"
   ]
  },
  {
   "cell_type": "code",
   "execution_count": 215,
   "id": "26db5aa9",
   "metadata": {},
   "outputs": [
    {
     "data": {
      "application/vnd.microsoft.datawrangler.viewer.v0+json": {
       "columns": [
        {
         "name": "state",
         "rawType": "object",
         "type": "string"
        },
        {
         "name": "count",
         "rawType": "int64",
         "type": "integer"
        }
       ],
       "ref": "a39b37b9-751b-426d-9581-da4d28130d95",
       "rows": [
        [
         "Provincia de Buenos Aires",
         "704"
        ]
       ],
       "shape": {
        "columns": 1,
        "rows": 1
       }
      },
      "text/plain": [
       "state\n",
       "Provincia de Buenos Aires    704\n",
       "Name: count, dtype: int64"
      ]
     },
     "execution_count": 215,
     "metadata": {},
     "output_type": "execute_result"
    }
   ],
   "source": [
    "# Cuenta y muestra la frecuencia de cada valor único en la columna 'state'.\n",
    "df['state'].value_counts()"
   ]
  },
  {
   "cell_type": "code",
   "execution_count": 216,
   "id": "b60e7fa1",
   "metadata": {},
   "outputs": [
    {
     "data": {
      "application/vnd.microsoft.datawrangler.viewer.v0+json": {
       "columns": [
        {
         "name": "city",
         "rawType": "object",
         "type": "string"
        },
        {
         "name": "count",
         "rawType": "int64",
         "type": "integer"
        }
       ],
       "ref": "08354bfa-98c4-48f1-ac0d-95a6d821f3a7",
       "rows": [
        [
         "Benito Juárez",
         "690"
        ],
        [
         "Buenos Aires",
         "6"
        ],
        [
         "Henderson",
         "3"
        ],
        [
         "alberti",
         "2"
        ],
        [
         "BENITO JUAREZ",
         "2"
        ],
        [
         "BAB",
         "1"
        ]
       ],
       "shape": {
        "columns": 1,
        "rows": 6
       }
      },
      "text/plain": [
       "city\n",
       "Benito Juárez    690\n",
       "Buenos Aires       6\n",
       "Henderson          3\n",
       "alberti            2\n",
       "BENITO JUAREZ      2\n",
       "BAB                1\n",
       "Name: count, dtype: int64"
      ]
     },
     "execution_count": 216,
     "metadata": {},
     "output_type": "execute_result"
    }
   ],
   "source": [
    "# Se cuenta la frecuencia de los registros de la columna 'city'\n",
    "df['city'].value_counts()"
   ]
  },
  {
   "cell_type": "code",
   "execution_count": 217,
   "id": "eb46c998",
   "metadata": {},
   "outputs": [
    {
     "data": {
      "application/vnd.microsoft.datawrangler.viewer.v0+json": {
       "columns": [
        {
         "name": "city",
         "rawType": "object",
         "type": "string"
        },
        {
         "name": "count",
         "rawType": "int64",
         "type": "integer"
        }
       ],
       "ref": "42345416-e8a0-48d5-9c13-274758cfa504",
       "rows": [
        [
         "Benito Juárez",
         "704"
        ]
       ],
       "shape": {
        "columns": 1,
        "rows": 1
       }
      },
      "text/plain": [
       "city\n",
       "Benito Juárez    704\n",
       "Name: count, dtype: int64"
      ]
     },
     "execution_count": 217,
     "metadata": {},
     "output_type": "execute_result"
    }
   ],
   "source": [
    "df['city'] = df['city'].replace({\n",
    "    'Buenos Aires': 'Benito Juárez',\n",
    "    'Henderson' : 'Benito Juárez',\n",
    "    'BENITO JUAREZ' : 'Benito Juárez',\n",
    "    'BAB' : 'Benito Juárez',\n",
    "    'alberti' : 'Benito Juárez'\n",
    "})\n",
    "df['city'].value_counts()"
   ]
  },
  {
   "cell_type": "code",
   "execution_count": 218,
   "id": "a7a3d38e",
   "metadata": {},
   "outputs": [],
   "source": [
    "# Se guarda el archivo principal de la ciudad\n",
    "df.to_csv('../Python_es/CleanData/JuarezMain.csv', index=False)"
   ]
  },
  {
   "cell_type": "code",
   "execution_count": 219,
   "id": "c6f32ba8",
   "metadata": {},
   "outputs": [
    {
     "data": {
      "text/plain": [
       "['../Python_es/Datasets\\\\olavarria_dataset_crawler-google-places_2025-05-29_00-56-36-905.csv',\n",
       " '../Python_es/Datasets\\\\olavarria_dataset_crawler-google-places_2025-06-11_18-14-26-674.csv',\n",
       " '../Python_es/Datasets\\\\olavarria_dataset_crawler-google-places_2025-06-15_23-35-08-815.csv',\n",
       " '../Python_es/Datasets\\\\olavarria_dataset_crawler-google-places_2025-07-30_14-43-37-977.csv']"
      ]
     },
     "execution_count": 219,
     "metadata": {},
     "output_type": "execute_result"
    }
   ],
   "source": [
    "# Búsqueda de los archivos .csv en el directorio\n",
    "glob.glob('../Python_es/Datasets/*olavarria*.csv')"
   ]
  },
  {
   "cell_type": "code",
   "execution_count": 220,
   "id": "92025fe5",
   "metadata": {},
   "outputs": [],
   "source": [
    "# Carga y concatena todos los archivos CSV que contengan 'olavarria' en su nombre.\n",
    "df = pd.concat(map(pd.read_csv, glob.glob('../Python_es/Datasets/*olavarria*.csv'))).reset_index(drop=True)"
   ]
  },
  {
   "cell_type": "code",
   "execution_count": 221,
   "id": "7816afbb",
   "metadata": {},
   "outputs": [
    {
     "data": {
      "application/vnd.microsoft.datawrangler.viewer.v0+json": {
       "columns": [
        {
         "name": "index",
         "rawType": "int64",
         "type": "integer"
        },
        {
         "name": "title",
         "rawType": "object",
         "type": "string"
        },
        {
         "name": "categoryName",
         "rawType": "object",
         "type": "string"
        },
        {
         "name": "website",
         "rawType": "object",
         "type": "unknown"
        },
        {
         "name": "street",
         "rawType": "object",
         "type": "string"
        },
        {
         "name": "phone",
         "rawType": "object",
         "type": "unknown"
        },
        {
         "name": "city",
         "rawType": "object",
         "type": "string"
        },
        {
         "name": "state",
         "rawType": "object",
         "type": "string"
        },
        {
         "name": "location/lat",
         "rawType": "float64",
         "type": "float"
        },
        {
         "name": "location/lng",
         "rawType": "float64",
         "type": "float"
        },
        {
         "name": "totalScore",
         "rawType": "float64",
         "type": "float"
        },
        {
         "name": "rank",
         "rawType": "int64",
         "type": "integer"
        },
        {
         "name": "imageUrl",
         "rawType": "object",
         "type": "string"
        },
        {
         "name": "imagesCount",
         "rawType": "float64",
         "type": "float"
        },
        {
         "name": "reviewsCount",
         "rawType": "int64",
         "type": "integer"
        },
        {
         "name": "scrapedAt",
         "rawType": "object",
         "type": "string"
        },
        {
         "name": "searchString",
         "rawType": "object",
         "type": "string"
        }
       ],
       "ref": "85528cf0-bf55-4993-8586-bccc40f85cd4",
       "rows": [
        [
         "0",
         "Polirrubros La Silvia",
         "Kiosco",
         null,
         "Av. Ituzaingó 1317",
         null,
         "Olavarría",
         "Provincia de Buenos Aires",
         "-36.8954659",
         "-60.3450999",
         "4.8",
         "1",
         "https://lh3.googleusercontent.com/gps-cs-s/AC9h4nq8xvTgpbctG-9Ttr7o6i3CaKGMd4LM3Rf_NeHHFpLH0kQDvF_TCj5158sCZrdffbfsuK_P33Z2HuFPW5INdrX9Zu-hhdpWF96MJtmK75hX0m65UDNF3aQJ6Ht82xu2G3j6i16-=w426-h240-k-no",
         "16.0",
         "27",
         "2025-05-29T00:56:12.806Z",
         "comercio"
        ],
        [
         "1",
         "Distribuidora Katy",
         "Comercio",
         null,
         "Pelegrino, Av. Ituzaingó e",
         "+54 2284 71-1461",
         "Olavarría",
         "Provincia de Buenos Aires",
         "-36.8904483",
         "-60.3381332",
         null,
         "2",
         "https://lh3.googleusercontent.com/p/AF1QipOckQKK6l6UC0Bscvd7bj3ooNV633aGRAkIiRqK=w408-h906-k-no",
         "20.0",
         "0",
         "2025-05-29T00:56:12.808Z",
         "comercio"
        ],
        [
         "2",
         "Mercadito Gaby-Fer",
         "Comercio",
         null,
         "Collinet 2595",
         "+54 2284 41-7540",
         "Olavarría",
         "Provincia de Buenos Aires",
         "-36.9009979",
         "-60.3351212",
         "5.0",
         "3",
         "https://lh3.googleusercontent.com/gps-cs-s/AC9h4nppJD_PwNOaY7KKxhxikJTrD07KEEWqgTzPGRUBj7NZCys094LG5SU9yJY5xYWIN11rj-R_GLbKFxKdfVoPeHlgy7XxMGPO78FAq3H6Nhff1pLpAApavrAbNNrp79Jvb2hufqmkXw=w408-h725-k-no",
         "3.0",
         "4",
         "2025-05-29T00:56:12.808Z",
         "comercio"
        ],
        [
         "3",
         "Dulcemente",
         "Tienda de alimentación",
         null,
         "Independencia 1700-1600",
         "+54 2284 69-7125",
         "Olavarría",
         "Provincia de Buenos Aires",
         "-36.8954927",
         "-60.3396999",
         "5.0",
         "4",
         "https://lh3.googleusercontent.com/gps-cs-s/AC9h4nrEJfRYx5qddAWVtHrsB_7KuVGCPgsZ2MiY9ZhSQmxWzUc0Dz_uEBfnJ-io_C2tccptzXYLASuVhxy4iKzr6ZIiWmOWQmGUd_1P77AhqX8KhdOyLDvtLxIr9IZki6VnwzJgWowY=w408-h408-k-no",
         "2.0",
         "2",
         "2025-05-29T00:56:12.808Z",
         "comercio"
        ],
        [
         "4",
         "104 Polirrubro",
         "Tienda de alimentación",
         null,
         "Azopardo 1598",
         "+54 2284 42-1670",
         "Olavarría",
         "Provincia de Buenos Aires",
         "-36.8930219",
         "-60.341844",
         "3.8",
         "5",
         "https://lh3.googleusercontent.com/gps-cs-s/AC9h4noqABoiN4MPRoW99qJulH_GSLhr0kfkd7lB3KAXZVzr1XPhv4CyM-R3pnrORN4RPYau1dEZdFmm1xNBcVW95pjnxdSyCgCpfAU4hTcYkdqyK1U1HT6GCNI3_uoG0jNTM3kKbCiEEA=w408-h544-k-no",
         "18.0",
         "4",
         "2025-05-29T00:56:12.808Z",
         "comercio"
        ]
       ],
       "shape": {
        "columns": 16,
        "rows": 5
       }
      },
      "text/html": [
       "<div>\n",
       "<style scoped>\n",
       "    .dataframe tbody tr th:only-of-type {\n",
       "        vertical-align: middle;\n",
       "    }\n",
       "\n",
       "    .dataframe tbody tr th {\n",
       "        vertical-align: top;\n",
       "    }\n",
       "\n",
       "    .dataframe thead th {\n",
       "        text-align: right;\n",
       "    }\n",
       "</style>\n",
       "<table border=\"1\" class=\"dataframe\">\n",
       "  <thead>\n",
       "    <tr style=\"text-align: right;\">\n",
       "      <th></th>\n",
       "      <th>title</th>\n",
       "      <th>categoryName</th>\n",
       "      <th>website</th>\n",
       "      <th>street</th>\n",
       "      <th>phone</th>\n",
       "      <th>city</th>\n",
       "      <th>state</th>\n",
       "      <th>location/lat</th>\n",
       "      <th>location/lng</th>\n",
       "      <th>totalScore</th>\n",
       "      <th>rank</th>\n",
       "      <th>imageUrl</th>\n",
       "      <th>imagesCount</th>\n",
       "      <th>reviewsCount</th>\n",
       "      <th>scrapedAt</th>\n",
       "      <th>searchString</th>\n",
       "    </tr>\n",
       "  </thead>\n",
       "  <tbody>\n",
       "    <tr>\n",
       "      <th>0</th>\n",
       "      <td>Polirrubros La Silvia</td>\n",
       "      <td>Kiosco</td>\n",
       "      <td>NaN</td>\n",
       "      <td>Av. Ituzaingó 1317</td>\n",
       "      <td>NaN</td>\n",
       "      <td>Olavarría</td>\n",
       "      <td>Provincia de Buenos Aires</td>\n",
       "      <td>-36.895466</td>\n",
       "      <td>-60.345100</td>\n",
       "      <td>4.8</td>\n",
       "      <td>1</td>\n",
       "      <td>https://lh3.googleusercontent.com/gps-cs-s/AC9...</td>\n",
       "      <td>16.0</td>\n",
       "      <td>27</td>\n",
       "      <td>2025-05-29T00:56:12.806Z</td>\n",
       "      <td>comercio</td>\n",
       "    </tr>\n",
       "    <tr>\n",
       "      <th>1</th>\n",
       "      <td>Distribuidora Katy</td>\n",
       "      <td>Comercio</td>\n",
       "      <td>NaN</td>\n",
       "      <td>Pelegrino, Av. Ituzaingó e</td>\n",
       "      <td>+54 2284 71-1461</td>\n",
       "      <td>Olavarría</td>\n",
       "      <td>Provincia de Buenos Aires</td>\n",
       "      <td>-36.890448</td>\n",
       "      <td>-60.338133</td>\n",
       "      <td>NaN</td>\n",
       "      <td>2</td>\n",
       "      <td>https://lh3.googleusercontent.com/p/AF1QipOckQ...</td>\n",
       "      <td>20.0</td>\n",
       "      <td>0</td>\n",
       "      <td>2025-05-29T00:56:12.808Z</td>\n",
       "      <td>comercio</td>\n",
       "    </tr>\n",
       "    <tr>\n",
       "      <th>2</th>\n",
       "      <td>Mercadito Gaby-Fer</td>\n",
       "      <td>Comercio</td>\n",
       "      <td>NaN</td>\n",
       "      <td>Collinet 2595</td>\n",
       "      <td>+54 2284 41-7540</td>\n",
       "      <td>Olavarría</td>\n",
       "      <td>Provincia de Buenos Aires</td>\n",
       "      <td>-36.900998</td>\n",
       "      <td>-60.335121</td>\n",
       "      <td>5.0</td>\n",
       "      <td>3</td>\n",
       "      <td>https://lh3.googleusercontent.com/gps-cs-s/AC9...</td>\n",
       "      <td>3.0</td>\n",
       "      <td>4</td>\n",
       "      <td>2025-05-29T00:56:12.808Z</td>\n",
       "      <td>comercio</td>\n",
       "    </tr>\n",
       "    <tr>\n",
       "      <th>3</th>\n",
       "      <td>Dulcemente</td>\n",
       "      <td>Tienda de alimentación</td>\n",
       "      <td>NaN</td>\n",
       "      <td>Independencia 1700-1600</td>\n",
       "      <td>+54 2284 69-7125</td>\n",
       "      <td>Olavarría</td>\n",
       "      <td>Provincia de Buenos Aires</td>\n",
       "      <td>-36.895493</td>\n",
       "      <td>-60.339700</td>\n",
       "      <td>5.0</td>\n",
       "      <td>4</td>\n",
       "      <td>https://lh3.googleusercontent.com/gps-cs-s/AC9...</td>\n",
       "      <td>2.0</td>\n",
       "      <td>2</td>\n",
       "      <td>2025-05-29T00:56:12.808Z</td>\n",
       "      <td>comercio</td>\n",
       "    </tr>\n",
       "    <tr>\n",
       "      <th>4</th>\n",
       "      <td>104 Polirrubro</td>\n",
       "      <td>Tienda de alimentación</td>\n",
       "      <td>NaN</td>\n",
       "      <td>Azopardo 1598</td>\n",
       "      <td>+54 2284 42-1670</td>\n",
       "      <td>Olavarría</td>\n",
       "      <td>Provincia de Buenos Aires</td>\n",
       "      <td>-36.893022</td>\n",
       "      <td>-60.341844</td>\n",
       "      <td>3.8</td>\n",
       "      <td>5</td>\n",
       "      <td>https://lh3.googleusercontent.com/gps-cs-s/AC9...</td>\n",
       "      <td>18.0</td>\n",
       "      <td>4</td>\n",
       "      <td>2025-05-29T00:56:12.808Z</td>\n",
       "      <td>comercio</td>\n",
       "    </tr>\n",
       "  </tbody>\n",
       "</table>\n",
       "</div>"
      ],
      "text/plain": [
       "                   title            categoryName website  \\\n",
       "0  Polirrubros La Silvia                  Kiosco     NaN   \n",
       "1     Distribuidora Katy                Comercio     NaN   \n",
       "2     Mercadito Gaby-Fer                Comercio     NaN   \n",
       "3             Dulcemente  Tienda de alimentación     NaN   \n",
       "4         104 Polirrubro  Tienda de alimentación     NaN   \n",
       "\n",
       "                       street             phone       city  \\\n",
       "0          Av. Ituzaingó 1317               NaN  Olavarría   \n",
       "1  Pelegrino, Av. Ituzaingó e  +54 2284 71-1461  Olavarría   \n",
       "2               Collinet 2595  +54 2284 41-7540  Olavarría   \n",
       "3     Independencia 1700-1600  +54 2284 69-7125  Olavarría   \n",
       "4               Azopardo 1598  +54 2284 42-1670  Olavarría   \n",
       "\n",
       "                       state  location/lat  location/lng  totalScore  rank  \\\n",
       "0  Provincia de Buenos Aires    -36.895466    -60.345100         4.8     1   \n",
       "1  Provincia de Buenos Aires    -36.890448    -60.338133         NaN     2   \n",
       "2  Provincia de Buenos Aires    -36.900998    -60.335121         5.0     3   \n",
       "3  Provincia de Buenos Aires    -36.895493    -60.339700         5.0     4   \n",
       "4  Provincia de Buenos Aires    -36.893022    -60.341844         3.8     5   \n",
       "\n",
       "                                            imageUrl  imagesCount  \\\n",
       "0  https://lh3.googleusercontent.com/gps-cs-s/AC9...         16.0   \n",
       "1  https://lh3.googleusercontent.com/p/AF1QipOckQ...         20.0   \n",
       "2  https://lh3.googleusercontent.com/gps-cs-s/AC9...          3.0   \n",
       "3  https://lh3.googleusercontent.com/gps-cs-s/AC9...          2.0   \n",
       "4  https://lh3.googleusercontent.com/gps-cs-s/AC9...         18.0   \n",
       "\n",
       "   reviewsCount                 scrapedAt searchString  \n",
       "0            27  2025-05-29T00:56:12.806Z     comercio  \n",
       "1             0  2025-05-29T00:56:12.808Z     comercio  \n",
       "2             4  2025-05-29T00:56:12.808Z     comercio  \n",
       "3             2  2025-05-29T00:56:12.808Z     comercio  \n",
       "4             4  2025-05-29T00:56:12.808Z     comercio  "
      ]
     },
     "execution_count": 221,
     "metadata": {},
     "output_type": "execute_result"
    }
   ],
   "source": [
    "# Selección de columnas relevantes\n",
    "df = df[[\n",
    "        'title',\n",
    "        'categoryName',\n",
    "        'website',\n",
    "        'street',\n",
    "        'phone',\n",
    "        'city',\n",
    "        'state',\n",
    "        'location/lat', \n",
    "        'location/lng',\n",
    "        'totalScore',\n",
    "        'rank',\n",
    "        'imageUrl',\n",
    "        'imagesCount',       \n",
    "        'reviewsCount', \n",
    "        'scrapedAt',\n",
    "        'searchString']]\n",
    "df.head(5)"
   ]
  },
  {
   "cell_type": "code",
   "execution_count": 222,
   "id": "b26d27ca",
   "metadata": {},
   "outputs": [
    {
     "name": "stdout",
     "output_type": "stream",
     "text": [
      "<class 'pandas.core.frame.DataFrame'>\n",
      "RangeIndex: 2341 entries, 0 to 2340\n",
      "Data columns (total 16 columns):\n",
      " #   Column        Non-Null Count  Dtype  \n",
      "---  ------        --------------  -----  \n",
      " 0   title         2341 non-null   object \n",
      " 1   categoryName  2293 non-null   object \n",
      " 2   website       774 non-null    object \n",
      " 3   street        2253 non-null   object \n",
      " 4   phone         1797 non-null   object \n",
      " 5   city          2335 non-null   object \n",
      " 6   state         2335 non-null   object \n",
      " 7   location/lat  2341 non-null   float64\n",
      " 8   location/lng  2341 non-null   float64\n",
      " 9   totalScore    1867 non-null   float64\n",
      " 10  rank          2341 non-null   int64  \n",
      " 11  imageUrl      2289 non-null   object \n",
      " 12  imagesCount   2289 non-null   float64\n",
      " 13  reviewsCount  2341 non-null   int64  \n",
      " 14  scrapedAt     2341 non-null   object \n",
      " 15  searchString  2341 non-null   object \n",
      "dtypes: float64(4), int64(2), object(10)\n",
      "memory usage: 292.8+ KB\n"
     ]
    }
   ],
   "source": [
    "df.info()"
   ]
  },
  {
   "cell_type": "code",
   "execution_count": 223,
   "id": "505acfb1",
   "metadata": {},
   "outputs": [],
   "source": [
    "# Rellenar valores faltantes en la columna 'city' y 'state'.\n",
    "df['city'] = df['city'].fillna('Olavarría')\n",
    "df['state'] = df['state'].fillna('Provincia de Buenos Aires')"
   ]
  },
  {
   "cell_type": "markdown",
   "id": "be6dd920",
   "metadata": {},
   "source": [
    "<style>\n",
    ".rendered_html {\n",
    "    font-family: 'Comic Sans MS', cursive !important;\n",
    "    font-size: 18px !important;\n",
    "    color: red !important;\n",
    "}\n",
    "</style>"
   ]
  },
  {
   "cell_type": "code",
   "execution_count": 224,
   "id": "10be8ce0",
   "metadata": {},
   "outputs": [
    {
     "data": {
      "application/vnd.microsoft.datawrangler.viewer.v0+json": {
       "columns": [
        {
         "name": "state",
         "rawType": "object",
         "type": "string"
        },
        {
         "name": "count",
         "rawType": "int64",
         "type": "integer"
        }
       ],
       "ref": "17ab0347-9fd9-468e-90a7-630460f09c76",
       "rows": [
        [
         "Provincia de Buenos Aires",
         "2338"
        ],
        [
         "Ciudad Autónoma de Buenos Aires",
         "2"
        ],
        [
         "CABA",
         "1"
        ]
       ],
       "shape": {
        "columns": 1,
        "rows": 3
       }
      },
      "text/plain": [
       "state\n",
       "Provincia de Buenos Aires          2338\n",
       "Ciudad Autónoma de Buenos Aires       2\n",
       "CABA                                  1\n",
       "Name: count, dtype: int64"
      ]
     },
     "execution_count": 224,
     "metadata": {},
     "output_type": "execute_result"
    }
   ],
   "source": [
    "# Cuenta y muestra la frecuencia de cada valor único en la columna 'state'.\n",
    "df['state'].value_counts()"
   ]
  },
  {
   "cell_type": "code",
   "execution_count": 225,
   "id": "0ba3c6ce",
   "metadata": {},
   "outputs": [],
   "source": [
    "df['state'] = df['state'].replace({\n",
    "    'Ciudad Autónoma de Buenos Aires': 'Provincia de Buenos Aires',\n",
    "    'CABA': 'Provincia de Buenos Aires'\n",
    "})"
   ]
  },
  {
   "cell_type": "code",
   "execution_count": 226,
   "id": "0694fa51",
   "metadata": {},
   "outputs": [
    {
     "data": {
      "application/vnd.microsoft.datawrangler.viewer.v0+json": {
       "columns": [
        {
         "name": "city",
         "rawType": "object",
         "type": "string"
        },
        {
         "name": "count",
         "rawType": "int64",
         "type": "integer"
        }
       ],
       "ref": "23a0b731-4f2c-4b10-83e2-b72cdf0b2018",
       "rows": [
        [
         "Olavarría",
         "2225"
        ],
        [
         "Gran Buenos Aires",
         "57"
        ],
        [
         "DFE",
         "4"
        ],
        [
         "KKJ",
         "4"
        ],
        [
         "Buenos Aires",
         "4"
        ],
        [
         "IDH",
         "3"
        ],
        [
         "KCI",
         "3"
        ],
        [
         "COO",
         "3"
        ],
        [
         "CVQ",
         "3"
        ],
        [
         "B7400LCX",
         "3"
        ],
        [
         "CZY",
         "2"
        ],
        [
         "JZB",
         "2"
        ],
        [
         "Caseros",
         "2"
        ],
        [
         "Moreno",
         "2"
        ],
        [
         "Colon",
         "2"
        ],
        [
         "DAS",
         "2"
        ],
        [
         "DJY",
         "2"
        ],
        [
         "LLD",
         "1"
        ],
        [
         "CUV",
         "1"
        ],
        [
         "B7400JWP",
         "1"
        ],
        [
         "CABA",
         "1"
        ],
        [
         "DTO",
         "1"
        ],
        [
         "LNM",
         "1"
        ],
        [
         "CUR",
         "1"
        ],
        [
         "CWP",
         "1"
        ],
        [
         "JUE",
         "1"
        ],
        [
         "DRL",
         "1"
        ],
        [
         "DSN",
         "1"
        ],
        [
         "DJQ",
         "1"
        ],
        [
         "DRQ",
         "1"
        ],
        [
         "CUC",
         "1"
        ],
        [
         "CRB",
         "1"
        ],
        [
         "KKM",
         "1"
        ],
        [
         "DSC",
         "1"
        ],
        [
         "CUG",
         "1"
        ]
       ],
       "shape": {
        "columns": 1,
        "rows": 35
       }
      },
      "text/plain": [
       "city\n",
       "Olavarría            2225\n",
       "Gran Buenos Aires      57\n",
       "DFE                     4\n",
       "KKJ                     4\n",
       "Buenos Aires            4\n",
       "IDH                     3\n",
       "KCI                     3\n",
       "COO                     3\n",
       "CVQ                     3\n",
       "B7400LCX                3\n",
       "CZY                     2\n",
       "JZB                     2\n",
       "Caseros                 2\n",
       "Moreno                  2\n",
       "Colon                   2\n",
       "DAS                     2\n",
       "DJY                     2\n",
       "LLD                     1\n",
       "CUV                     1\n",
       "B7400JWP                1\n",
       "CABA                    1\n",
       "DTO                     1\n",
       "LNM                     1\n",
       "CUR                     1\n",
       "CWP                     1\n",
       "JUE                     1\n",
       "DRL                     1\n",
       "DSN                     1\n",
       "DJQ                     1\n",
       "DRQ                     1\n",
       "CUC                     1\n",
       "CRB                     1\n",
       "KKM                     1\n",
       "DSC                     1\n",
       "CUG                     1\n",
       "Name: count, dtype: int64"
      ]
     },
     "execution_count": 226,
     "metadata": {},
     "output_type": "execute_result"
    }
   ],
   "source": [
    "df['city'].value_counts()"
   ]
  },
  {
   "cell_type": "code",
   "execution_count": 227,
   "id": "01315329",
   "metadata": {},
   "outputs": [],
   "source": [
    "df['city'] = df['city'].replace({\n",
    "    'Gran Buenos Aires': 'Olavarría',\n",
    "    'DFE' : 'Olavarría',\n",
    "    'Buenos Aires' : 'Olavarría',\n",
    "    'KKJ' : 'Olavarría',\n",
    "    'KCI' : 'Olavarría',\n",
    "    'B7400LCX' : 'Olavarría',\n",
    "    'COO' : 'Olavarría',\n",
    "    'CVQ' : 'Olavarría',\n",
    "    'IDH' : 'Olavarría',\n",
    "    'Caseros' : 'Olavarría',\n",
    "    'DAS' : 'Olavarría',\n",
    "    'Colon' : 'Olavarría',\n",
    "    'Moreno' : 'Olavarría',\n",
    "    'CZY' : 'Olavarría',\n",
    "    'DJY' : 'Olavarría',\n",
    "    'JZB' : 'Olavarría',\n",
    "    'DRQ' : 'Olavarría',\n",
    "    'B7400JWP' : 'Olavarría',\n",
    "    'CUV' : 'Olavarría',\n",
    "    'CUG' : 'Olavarría',\n",
    "    'DSC' : 'Olavarría',\n",
    "    'KKM' : 'Olavarría',\n",
    "    'CRB' : 'Olavarría',\n",
    "    'CUC' : 'Olavarría',\n",
    "    'JUE' : 'Olavarría',\n",
    "    'DJQ' : 'Olavarría',\n",
    "    'DSN' : 'Olavarría',\n",
    "    'DRL' : 'Olavarría',\n",
    "    'CWP' : 'Olavarría',\n",
    "    'CUR' : 'Olavarría',\n",
    "    'LNM' : 'Olavarría',\n",
    "    'DTO' : 'Olavarría',\n",
    "    'LLD' : 'Olavarría',\n",
    "    'CABA' : 'Olavarría'\n",
    "})"
   ]
  },
  {
   "cell_type": "code",
   "execution_count": 228,
   "id": "42312361",
   "metadata": {},
   "outputs": [],
   "source": [
    "# Exporta el DataFrame a .CSV sin incluir la columna del índice\n",
    "df.to_csv('../Python_es/CleanData/OlavarriaMain.csv', index=False)"
   ]
  },
  {
   "cell_type": "code",
   "execution_count": 229,
   "id": "e8d31698",
   "metadata": {},
   "outputs": [
    {
     "data": {
      "text/plain": [
       "['../Python_es/Datasets\\\\rauch_ dataset_crawler-google-places_2025-05-29_00-49-55-809.csv',\n",
       " '../Python_es/Datasets\\\\rauch_dataset_crawler-google-places_2025-06-15_22-41-11-472.csv',\n",
       " '../Python_es/Datasets\\\\rauch_dataset_crawler-google-places_2025-07-30_15-11-01-826.csv',\n",
       " '../Python_es/Datasets\\\\rauch_dataset_google-maps-extractor_2025-05-19_00-06-21-606.csv']"
      ]
     },
     "execution_count": 229,
     "metadata": {},
     "output_type": "execute_result"
    }
   ],
   "source": [
    "\n",
    "glob.glob('../Python_es/Datasets/*rauch*.csv')"
   ]
  },
  {
   "cell_type": "code",
   "execution_count": 230,
   "id": "31b4f339",
   "metadata": {},
   "outputs": [],
   "source": [
    "df = pd.concat(map(pd.read_csv, glob.glob('../Python_es/Datasets/*rauch*.csv'))).reset_index(drop=True)"
   ]
  },
  {
   "cell_type": "code",
   "execution_count": 231,
   "id": "a7e88dfb",
   "metadata": {},
   "outputs": [
    {
     "data": {
      "application/vnd.microsoft.datawrangler.viewer.v0+json": {
       "columns": [
        {
         "name": "index",
         "rawType": "int64",
         "type": "integer"
        },
        {
         "name": "title",
         "rawType": "object",
         "type": "string"
        },
        {
         "name": "categoryName",
         "rawType": "object",
         "type": "string"
        },
        {
         "name": "website",
         "rawType": "object",
         "type": "unknown"
        },
        {
         "name": "street",
         "rawType": "object",
         "type": "string"
        },
        {
         "name": "phone",
         "rawType": "object",
         "type": "unknown"
        },
        {
         "name": "city",
         "rawType": "object",
         "type": "string"
        },
        {
         "name": "state",
         "rawType": "object",
         "type": "string"
        },
        {
         "name": "location/lat",
         "rawType": "float64",
         "type": "float"
        },
        {
         "name": "location/lng",
         "rawType": "float64",
         "type": "float"
        },
        {
         "name": "totalScore",
         "rawType": "float64",
         "type": "float"
        },
        {
         "name": "rank",
         "rawType": "int64",
         "type": "integer"
        },
        {
         "name": "imageUrl",
         "rawType": "object",
         "type": "string"
        },
        {
         "name": "imagesCount",
         "rawType": "float64",
         "type": "float"
        },
        {
         "name": "reviewsCount",
         "rawType": "int64",
         "type": "integer"
        },
        {
         "name": "scrapedAt",
         "rawType": "object",
         "type": "string"
        },
        {
         "name": "searchString",
         "rawType": "object",
         "type": "string"
        }
       ],
       "ref": "c954b1e2-9fd1-4727-97e9-d8cf41504a97",
       "rows": [
        [
         "0",
         "Del Valle inyeccion electronica",
         "Taller de reparación de automóviles",
         null,
         "Aristóbulo del Valle, Aveleyra &",
         "+54 249 434-0861",
         "Rauch",
         "Provincia de Buenos Aires",
         "-36.7732979",
         "-59.0914586",
         "5.0",
         "1",
         "https://streetviewpixels-pa.googleapis.com/v1/thumbnail?panoid=3Wc1KYykIOdgSbV5Il4bPQ&cb_client=search.gws-prod.gps&w=408&h=240&yaw=118.05518&pitch=0&thumbfov=100",
         "1.0",
         "1",
         "2025-05-29T00:48:32.392Z",
         "electronica"
        ],
        [
         "1",
         "Electro 440 - Accesorios y Reparación",
         "Tienda de electrónica",
         "https://www.facebook.com/todoenremotos",
         "Letamendi 596",
         "+54 9 249 427-7096",
         "Rauch",
         "Provincia de Buenos Aires",
         "-36.7760935",
         "-59.0880719",
         "5.0",
         "2",
         "https://lh3.googleusercontent.com/gps-cs-s/AC9h4no1JR9FZkuvuzi8osn3QxaCqMVveohCuzlE0Z7Uzphchi1lA5PFLqKWbVGRXiuQtVHFDx9sld7gVjP6VjYdSCiZifbblN6Pf38ig1oxoCTrAwXlOwCxIkSrBsm90IuX-NTChRF-=w408-h290-k-no",
         "35.0",
         "5",
         "2025-05-29T00:48:32.394Z",
         "electronica"
        ],
        [
         "2",
         "Dangerous Sonido e Iluminación",
         "Tienda de equipos de sonido",
         null,
         "BNK, Saavedra 507",
         "+54 249 453-3029",
         "Rauch",
         "Provincia de Buenos Aires",
         "-36.7729746",
         "-59.0936486",
         "5.0",
         "3",
         "https://lh3.googleusercontent.com/gps-cs-s/AC9h4noKe9hxMjzz-JQuAMUhwsVnwiHcoq9zI4TM5VP0eJzAzIfWErj9xiVBVqIyQSskcxppKes2u1rhyYo4n4dRB-B8Dq9QTbJoGVeZz7THiw1Aj1Bmmc87KO7x07yYdmXnJcuoWAum=w408-h544-k-no",
         "28.0",
         "3",
         "2025-05-29T00:48:32.394Z",
         "electronica"
        ],
        [
         "3",
         "Jona PC",
         "Servicio de informática",
         "https://www.facebook.com/profile.php?id=100069057800875",
         "Dardo Rocha 850",
         null,
         "Rauch",
         "Provincia de Buenos Aires",
         "-36.7616494",
         "-59.0928231",
         "5.0",
         "4",
         "https://lh3.googleusercontent.com/p/AF1QipPcWbbtNlrx8MwBx4KROQ8X_kqLu2dtpVg87XqI=w408-h544-k-no",
         "13.0",
         "11",
         "2025-05-29T00:48:32.394Z",
         "electronica"
        ],
        [
         "4",
         "Super PC Rauch",
         "Tienda de informática",
         null,
         "Balcarce 1001",
         "+54 249 435-8292",
         "Rauch",
         "Provincia de Buenos Aires",
         "-36.7682494",
         "-59.0901479",
         null,
         "5",
         "https://streetviewpixels-pa.googleapis.com/v1/thumbnail?panoid=_xL4LKB-EG5hev3nw6bfgw&cb_client=search.gws-prod.gps&w=408&h=240&yaw=309.61942&pitch=0&thumbfov=100",
         "1.0",
         "0",
         "2025-05-29T00:48:32.395Z",
         "electronica"
        ]
       ],
       "shape": {
        "columns": 16,
        "rows": 5
       }
      },
      "text/html": [
       "<div>\n",
       "<style scoped>\n",
       "    .dataframe tbody tr th:only-of-type {\n",
       "        vertical-align: middle;\n",
       "    }\n",
       "\n",
       "    .dataframe tbody tr th {\n",
       "        vertical-align: top;\n",
       "    }\n",
       "\n",
       "    .dataframe thead th {\n",
       "        text-align: right;\n",
       "    }\n",
       "</style>\n",
       "<table border=\"1\" class=\"dataframe\">\n",
       "  <thead>\n",
       "    <tr style=\"text-align: right;\">\n",
       "      <th></th>\n",
       "      <th>title</th>\n",
       "      <th>categoryName</th>\n",
       "      <th>website</th>\n",
       "      <th>street</th>\n",
       "      <th>phone</th>\n",
       "      <th>city</th>\n",
       "      <th>state</th>\n",
       "      <th>location/lat</th>\n",
       "      <th>location/lng</th>\n",
       "      <th>totalScore</th>\n",
       "      <th>rank</th>\n",
       "      <th>imageUrl</th>\n",
       "      <th>imagesCount</th>\n",
       "      <th>reviewsCount</th>\n",
       "      <th>scrapedAt</th>\n",
       "      <th>searchString</th>\n",
       "    </tr>\n",
       "  </thead>\n",
       "  <tbody>\n",
       "    <tr>\n",
       "      <th>0</th>\n",
       "      <td>Del Valle inyeccion electronica</td>\n",
       "      <td>Taller de reparación de automóviles</td>\n",
       "      <td>NaN</td>\n",
       "      <td>Aristóbulo del Valle, Aveleyra &amp;</td>\n",
       "      <td>+54 249 434-0861</td>\n",
       "      <td>Rauch</td>\n",
       "      <td>Provincia de Buenos Aires</td>\n",
       "      <td>-36.773298</td>\n",
       "      <td>-59.091459</td>\n",
       "      <td>5.0</td>\n",
       "      <td>1</td>\n",
       "      <td>https://streetviewpixels-pa.googleapis.com/v1/...</td>\n",
       "      <td>1.0</td>\n",
       "      <td>1</td>\n",
       "      <td>2025-05-29T00:48:32.392Z</td>\n",
       "      <td>electronica</td>\n",
       "    </tr>\n",
       "    <tr>\n",
       "      <th>1</th>\n",
       "      <td>Electro 440 - Accesorios y Reparación</td>\n",
       "      <td>Tienda de electrónica</td>\n",
       "      <td>https://www.facebook.com/todoenremotos</td>\n",
       "      <td>Letamendi 596</td>\n",
       "      <td>+54 9 249 427-7096</td>\n",
       "      <td>Rauch</td>\n",
       "      <td>Provincia de Buenos Aires</td>\n",
       "      <td>-36.776094</td>\n",
       "      <td>-59.088072</td>\n",
       "      <td>5.0</td>\n",
       "      <td>2</td>\n",
       "      <td>https://lh3.googleusercontent.com/gps-cs-s/AC9...</td>\n",
       "      <td>35.0</td>\n",
       "      <td>5</td>\n",
       "      <td>2025-05-29T00:48:32.394Z</td>\n",
       "      <td>electronica</td>\n",
       "    </tr>\n",
       "    <tr>\n",
       "      <th>2</th>\n",
       "      <td>Dangerous Sonido e Iluminación</td>\n",
       "      <td>Tienda de equipos de sonido</td>\n",
       "      <td>NaN</td>\n",
       "      <td>BNK, Saavedra 507</td>\n",
       "      <td>+54 249 453-3029</td>\n",
       "      <td>Rauch</td>\n",
       "      <td>Provincia de Buenos Aires</td>\n",
       "      <td>-36.772975</td>\n",
       "      <td>-59.093649</td>\n",
       "      <td>5.0</td>\n",
       "      <td>3</td>\n",
       "      <td>https://lh3.googleusercontent.com/gps-cs-s/AC9...</td>\n",
       "      <td>28.0</td>\n",
       "      <td>3</td>\n",
       "      <td>2025-05-29T00:48:32.394Z</td>\n",
       "      <td>electronica</td>\n",
       "    </tr>\n",
       "    <tr>\n",
       "      <th>3</th>\n",
       "      <td>Jona PC</td>\n",
       "      <td>Servicio de informática</td>\n",
       "      <td>https://www.facebook.com/profile.php?id=100069...</td>\n",
       "      <td>Dardo Rocha 850</td>\n",
       "      <td>NaN</td>\n",
       "      <td>Rauch</td>\n",
       "      <td>Provincia de Buenos Aires</td>\n",
       "      <td>-36.761649</td>\n",
       "      <td>-59.092823</td>\n",
       "      <td>5.0</td>\n",
       "      <td>4</td>\n",
       "      <td>https://lh3.googleusercontent.com/p/AF1QipPcWb...</td>\n",
       "      <td>13.0</td>\n",
       "      <td>11</td>\n",
       "      <td>2025-05-29T00:48:32.394Z</td>\n",
       "      <td>electronica</td>\n",
       "    </tr>\n",
       "    <tr>\n",
       "      <th>4</th>\n",
       "      <td>Super PC Rauch</td>\n",
       "      <td>Tienda de informática</td>\n",
       "      <td>NaN</td>\n",
       "      <td>Balcarce 1001</td>\n",
       "      <td>+54 249 435-8292</td>\n",
       "      <td>Rauch</td>\n",
       "      <td>Provincia de Buenos Aires</td>\n",
       "      <td>-36.768249</td>\n",
       "      <td>-59.090148</td>\n",
       "      <td>NaN</td>\n",
       "      <td>5</td>\n",
       "      <td>https://streetviewpixels-pa.googleapis.com/v1/...</td>\n",
       "      <td>1.0</td>\n",
       "      <td>0</td>\n",
       "      <td>2025-05-29T00:48:32.395Z</td>\n",
       "      <td>electronica</td>\n",
       "    </tr>\n",
       "  </tbody>\n",
       "</table>\n",
       "</div>"
      ],
      "text/plain": [
       "                                   title                         categoryName  \\\n",
       "0        Del Valle inyeccion electronica  Taller de reparación de automóviles   \n",
       "1  Electro 440 - Accesorios y Reparación                Tienda de electrónica   \n",
       "2         Dangerous Sonido e Iluminación          Tienda de equipos de sonido   \n",
       "3                                Jona PC              Servicio de informática   \n",
       "4                         Super PC Rauch                Tienda de informática   \n",
       "\n",
       "                                             website  \\\n",
       "0                                                NaN   \n",
       "1             https://www.facebook.com/todoenremotos   \n",
       "2                                                NaN   \n",
       "3  https://www.facebook.com/profile.php?id=100069...   \n",
       "4                                                NaN   \n",
       "\n",
       "                             street               phone   city  \\\n",
       "0  Aristóbulo del Valle, Aveleyra &    +54 249 434-0861  Rauch   \n",
       "1                     Letamendi 596  +54 9 249 427-7096  Rauch   \n",
       "2                 BNK, Saavedra 507    +54 249 453-3029  Rauch   \n",
       "3                   Dardo Rocha 850                 NaN  Rauch   \n",
       "4                     Balcarce 1001    +54 249 435-8292  Rauch   \n",
       "\n",
       "                       state  location/lat  location/lng  totalScore  rank  \\\n",
       "0  Provincia de Buenos Aires    -36.773298    -59.091459         5.0     1   \n",
       "1  Provincia de Buenos Aires    -36.776094    -59.088072         5.0     2   \n",
       "2  Provincia de Buenos Aires    -36.772975    -59.093649         5.0     3   \n",
       "3  Provincia de Buenos Aires    -36.761649    -59.092823         5.0     4   \n",
       "4  Provincia de Buenos Aires    -36.768249    -59.090148         NaN     5   \n",
       "\n",
       "                                            imageUrl  imagesCount  \\\n",
       "0  https://streetviewpixels-pa.googleapis.com/v1/...          1.0   \n",
       "1  https://lh3.googleusercontent.com/gps-cs-s/AC9...         35.0   \n",
       "2  https://lh3.googleusercontent.com/gps-cs-s/AC9...         28.0   \n",
       "3  https://lh3.googleusercontent.com/p/AF1QipPcWb...         13.0   \n",
       "4  https://streetviewpixels-pa.googleapis.com/v1/...          1.0   \n",
       "\n",
       "   reviewsCount                 scrapedAt searchString  \n",
       "0             1  2025-05-29T00:48:32.392Z  electronica  \n",
       "1             5  2025-05-29T00:48:32.394Z  electronica  \n",
       "2             3  2025-05-29T00:48:32.394Z  electronica  \n",
       "3            11  2025-05-29T00:48:32.394Z  electronica  \n",
       "4             0  2025-05-29T00:48:32.395Z  electronica  "
      ]
     },
     "execution_count": 231,
     "metadata": {},
     "output_type": "execute_result"
    }
   ],
   "source": [
    "df = df[[\n",
    "        'title',\n",
    "        'categoryName',\n",
    "        'website',\n",
    "        'street',\n",
    "        'phone',\n",
    "        'city',\n",
    "        'state',\n",
    "        'location/lat', \n",
    "        'location/lng',\n",
    "        'totalScore',\n",
    "        'rank',\n",
    "        'imageUrl',\n",
    "        'imagesCount',       \n",
    "        'reviewsCount', \n",
    "        'scrapedAt',\n",
    "        'searchString']]\n",
    "df.head(5)"
   ]
  },
  {
   "cell_type": "code",
   "execution_count": 232,
   "id": "c0646fe6",
   "metadata": {},
   "outputs": [
    {
     "name": "stdout",
     "output_type": "stream",
     "text": [
      "<class 'pandas.core.frame.DataFrame'>\n",
      "RangeIndex: 826 entries, 0 to 825\n",
      "Data columns (total 16 columns):\n",
      " #   Column        Non-Null Count  Dtype  \n",
      "---  ------        --------------  -----  \n",
      " 0   title         826 non-null    object \n",
      " 1   categoryName  806 non-null    object \n",
      " 2   website       147 non-null    object \n",
      " 3   street        746 non-null    object \n",
      " 4   phone         455 non-null    object \n",
      " 5   city          820 non-null    object \n",
      " 6   state         821 non-null    object \n",
      " 7   location/lat  826 non-null    float64\n",
      " 8   location/lng  826 non-null    float64\n",
      " 9   totalScore    527 non-null    float64\n",
      " 10  rank          826 non-null    int64  \n",
      " 11  imageUrl      802 non-null    object \n",
      " 12  imagesCount   802 non-null    float64\n",
      " 13  reviewsCount  826 non-null    int64  \n",
      " 14  scrapedAt     826 non-null    object \n",
      " 15  searchString  826 non-null    object \n",
      "dtypes: float64(4), int64(2), object(10)\n",
      "memory usage: 103.4+ KB\n"
     ]
    }
   ],
   "source": [
    "df.info()"
   ]
  },
  {
   "cell_type": "code",
   "execution_count": 233,
   "id": "df4224b7",
   "metadata": {},
   "outputs": [],
   "source": [
    "df['city'] = df['city'].fillna('Rauch')\n",
    "df['state'] = df['state'].fillna('Provincia de Buenos Aires')"
   ]
  },
  {
   "cell_type": "code",
   "execution_count": 234,
   "id": "53bfd8b4",
   "metadata": {},
   "outputs": [
    {
     "data": {
      "application/vnd.microsoft.datawrangler.viewer.v0+json": {
       "columns": [
        {
         "name": "state",
         "rawType": "object",
         "type": "string"
        },
        {
         "name": "count",
         "rawType": "int64",
         "type": "integer"
        }
       ],
       "ref": "c1099772-c770-4241-a3ab-d4ad1d2e3030",
       "rows": [
        [
         "Provincia de Buenos Aires",
         "822"
        ],
        [
         "Buenos Aires Sur",
         "4"
        ]
       ],
       "shape": {
        "columns": 1,
        "rows": 2
       }
      },
      "text/plain": [
       "state\n",
       "Provincia de Buenos Aires    822\n",
       "Buenos Aires Sur               4\n",
       "Name: count, dtype: int64"
      ]
     },
     "execution_count": 234,
     "metadata": {},
     "output_type": "execute_result"
    }
   ],
   "source": [
    "\n",
    "df['state'] .value_counts()"
   ]
  },
  {
   "cell_type": "code",
   "execution_count": 235,
   "id": "380499ba",
   "metadata": {},
   "outputs": [],
   "source": [
    "df['state'] = df['state'].replace({\n",
    "    'Buenos Aires Sur' : 'Provincia de Buenos Aires'    \n",
    "})"
   ]
  },
  {
   "cell_type": "code",
   "execution_count": 236,
   "id": "b6c1d915",
   "metadata": {},
   "outputs": [
    {
     "data": {
      "application/vnd.microsoft.datawrangler.viewer.v0+json": {
       "columns": [
        {
         "name": "city",
         "rawType": "object",
         "type": "string"
        },
        {
         "name": "count",
         "rawType": "int64",
         "type": "integer"
        }
       ],
       "ref": "07f0aede-8af5-48fd-828c-81cfaf921b3a",
       "rows": [
        [
         "Rauch",
         "722"
        ],
        [
         "BPQ",
         "24"
        ],
        [
         "Buenos Aires",
         "6"
        ],
        [
         "ADB",
         "6"
        ],
        [
         "BPJ",
         "4"
        ],
        [
         "AEX",
         "4"
        ],
        [
         "BPR",
         "4"
        ],
        [
         "BBP",
         "4"
        ],
        [
         "ACD",
         "4"
        ],
        [
         "BID",
         "4"
        ],
        [
         "AQH",
         "4"
        ],
        [
         "ACF",
         "4"
        ],
        [
         "ASJ",
         "4"
        ],
        [
         "ABD",
         "3"
        ],
        [
         "AQJ",
         "3"
        ],
        [
         "ATQ",
         "3"
        ],
        [
         "BPO",
         "3"
        ],
        [
         "AKG",
         "3"
        ],
        [
         "BQC",
         "3"
        ],
        [
         "BPI",
         "2"
        ],
        [
         "BPP",
         "2"
        ],
        [
         "BPK",
         "2"
        ],
        [
         "BCB",
         "2"
        ],
        [
         "AQE",
         "1"
        ],
        [
         "BMT",
         "1"
        ],
        [
         "AQF",
         "1"
        ],
        [
         "AAI",
         "1"
        ],
        [
         "BJF",
         "1"
        ],
        [
         "AQB",
         "1"
        ]
       ],
       "shape": {
        "columns": 1,
        "rows": 29
       }
      },
      "text/plain": [
       "city\n",
       "Rauch           722\n",
       "BPQ              24\n",
       "Buenos Aires      6\n",
       "ADB               6\n",
       "BPJ               4\n",
       "AEX               4\n",
       "BPR               4\n",
       "BBP               4\n",
       "ACD               4\n",
       "BID               4\n",
       "AQH               4\n",
       "ACF               4\n",
       "ASJ               4\n",
       "ABD               3\n",
       "AQJ               3\n",
       "ATQ               3\n",
       "BPO               3\n",
       "AKG               3\n",
       "BQC               3\n",
       "BPI               2\n",
       "BPP               2\n",
       "BPK               2\n",
       "BCB               2\n",
       "AQE               1\n",
       "BMT               1\n",
       "AQF               1\n",
       "AAI               1\n",
       "BJF               1\n",
       "AQB               1\n",
       "Name: count, dtype: int64"
      ]
     },
     "execution_count": 236,
     "metadata": {},
     "output_type": "execute_result"
    }
   ],
   "source": [
    "df['city'].value_counts()"
   ]
  },
  {
   "cell_type": "code",
   "execution_count": 237,
   "id": "7cff3dae",
   "metadata": {},
   "outputs": [],
   "source": [
    "df['city'] = df['city'].replace({\n",
    "    'Buenos Aires': 'Rauch',\n",
    "    'BPQ' : 'Rauch',\n",
    "    'ADB' : 'Rauch',\n",
    "    'ASJ' : 'Rauch',\n",
    "    'BPR' : 'Rauch',\n",
    "    'BBP' : 'Rauch',\n",
    "    'ACD' : 'Rauch',\n",
    "    'BPJ' : 'Rauch',\n",
    "    'AEX' : 'Rauch',\n",
    "    'BID' : 'Rauch',\n",
    "    'ACF' : 'Rauch',\n",
    "    'AQH' : 'Rauch',\n",
    "    'BPO' : 'Rauch',\n",
    "    'ATQ' : 'Rauch',\n",
    "    'AQJ' : 'Rauch',\n",
    "    'ABD' : 'Rauch',\n",
    "    'BQC' : 'Rauch',    \n",
    "    'AKG' : 'Rauch',\n",
    "    'BCB' : 'Rauch',\n",
    "    'BPP' : 'Rauch',\n",
    "    'BPK' : 'Rauch',\n",
    "    'BPI' : 'Rauch',\n",
    "    'AQE' : 'Rauch',\n",
    "    'BMT' : 'Rauch',\n",
    "    'AQF' : 'Rauch',\n",
    "    'AAI' : 'Rauch',\n",
    "    'BJF' : 'Rauch',\n",
    "    'AQB' : 'Rauch'\n",
    "})"
   ]
  },
  {
   "cell_type": "code",
   "execution_count": 238,
   "id": "1ce638de",
   "metadata": {},
   "outputs": [],
   "source": [
    "#Exportación del DataFrame a un archivo CSV\n",
    "df.to_csv('../Python_es/CleanData/RauchMain.csv', index=False)"
   ]
  },
  {
   "cell_type": "code",
   "execution_count": 239,
   "id": "e6147c2c",
   "metadata": {},
   "outputs": [
    {
     "data": {
      "text/plain": [
       "['../Python_es/Datasets\\\\tandil _dataset_google-maps-extractor_2025-05-04_16-09-01-070.csv',\n",
       " '../Python_es/Datasets\\\\tandil_dataset_crawler-google-places_2025-05-28_23-37-49-506.csv',\n",
       " '../Python_es/Datasets\\\\tandil_dataset_crawler-google-places_2025-05-28_23-44-51-919.csv',\n",
       " '../Python_es/Datasets\\\\tandil_dataset_crawler-google-places_2025-05-29_00-18-14-608.csv',\n",
       " '../Python_es/Datasets\\\\tandil_dataset_crawler-google-places_2025-06-11_18-03-13-154.csv',\n",
       " '../Python_es/Datasets\\\\tandil_dataset_crawler-google-places_2025-06-15_23-39-41-132.csv',\n",
       " '../Python_es/Datasets\\\\tandil_dataset_crawler-google-places_2025-07-30_15-45-22-219.csv']"
      ]
     },
     "execution_count": 239,
     "metadata": {},
     "output_type": "execute_result"
    }
   ],
   "source": [
    "# Búsqueda de los archivos .csv en el directorio\n",
    "glob.glob('../Python_es/Datasets/*tandil*.csv')"
   ]
  },
  {
   "cell_type": "code",
   "execution_count": 240,
   "id": "ec2afd8a",
   "metadata": {},
   "outputs": [],
   "source": [
    "# Lectura y unión de archivos CSV\n",
    "df = pd.concat(map(pd.read_csv, glob.glob('../Python_es/Datasets/*tandil*.csv'))).reset_index(drop=True)\n"
   ]
  },
  {
   "cell_type": "code",
   "execution_count": 241,
   "id": "6d451a92",
   "metadata": {},
   "outputs": [
    {
     "data": {
      "application/vnd.microsoft.datawrangler.viewer.v0+json": {
       "columns": [
        {
         "name": "index",
         "rawType": "int64",
         "type": "integer"
        },
        {
         "name": "title",
         "rawType": "object",
         "type": "string"
        },
        {
         "name": "categoryName",
         "rawType": "object",
         "type": "string"
        },
        {
         "name": "website",
         "rawType": "object",
         "type": "unknown"
        },
        {
         "name": "street",
         "rawType": "object",
         "type": "string"
        },
        {
         "name": "phone",
         "rawType": "object",
         "type": "unknown"
        },
        {
         "name": "city",
         "rawType": "object",
         "type": "string"
        },
        {
         "name": "state",
         "rawType": "object",
         "type": "string"
        },
        {
         "name": "location/lat",
         "rawType": "float64",
         "type": "float"
        },
        {
         "name": "location/lng",
         "rawType": "float64",
         "type": "float"
        },
        {
         "name": "totalScore",
         "rawType": "float64",
         "type": "float"
        },
        {
         "name": "rank",
         "rawType": "int64",
         "type": "integer"
        },
        {
         "name": "imageUrl",
         "rawType": "object",
         "type": "string"
        },
        {
         "name": "imagesCount",
         "rawType": "float64",
         "type": "float"
        },
        {
         "name": "reviewsCount",
         "rawType": "int64",
         "type": "integer"
        },
        {
         "name": "scrapedAt",
         "rawType": "object",
         "type": "string"
        },
        {
         "name": "searchString",
         "rawType": "object",
         "type": "string"
        }
       ],
       "ref": "f8971c55-5c62-45be-b76e-22f02899d31f",
       "rows": [
        [
         "0",
         "EL BAQUEANO TANDIL",
         "Tienda de delicatessen",
         "http://www.elbaqueanotandil.com/",
         "1381, Tasende",
         null,
         "Tandil",
         "Provincia de Buenos Aires",
         "-37.3509083",
         "-59.170069",
         "4.8",
         "8",
         "https://lh3.googleusercontent.com/p/AF1QipP2-lzPSQGfKEB-nGTcYc5gwwOznhVxwuD5N-0=w426-h240-k-no",
         "686.0",
         "1408",
         "2025-05-04T16:08:15.927Z",
         "Comercio"
        ],
        [
         "1",
         "Alquimia Artesanías",
         "Tienda de artesanías",
         "https://www.facebook.com/alquimia.artesanias.tandil",
         "Icalma y Tasende Acceso Cerro El Centinela",
         null,
         "Tandil",
         "Provincia de Buenos Aires",
         "-37.3558333",
         "-59.1722222",
         "4.5",
         "9",
         "https://lh3.googleusercontent.com/p/AF1QipPXrhqd3el5t1Zy0kCGrI5036hQgo1Z10Ir06kG=w408-h272-k-no",
         "40.0",
         "43",
         "2025-05-04T16:08:15.927Z",
         "Comercio"
        ],
        [
         "2",
         "mercado Jorge",
         "Tienda de alimentación",
         null,
         "Sandino 468",
         "+54 249 444-3579",
         "Tandil",
         "Provincia de Buenos Aires",
         "-37.3380404",
         "-59.1261145",
         "4.5",
         "10",
         "https://streetviewpixels-pa.googleapis.com/v1/thumbnail?panoid=rSGMGo-ywHkDXrBdaTN2LA&cb_client=search.gws-prod.gps&w=408&h=240&yaw=68.29262&pitch=0&thumbfov=100",
         "1.0",
         "13",
         "2025-05-04T16:08:15.927Z",
         "Comercio"
        ],
        [
         "3",
         "Vale la Pena \"Almacén\"",
         "Tienda de alimentación",
         null,
         "Av. Estrada 468",
         null,
         "Tandil",
         "Provincia de Buenos Aires",
         "-37.3394896",
         "-59.1475034",
         "4.6",
         "11",
         "https://lh3.googleusercontent.com/p/AF1QipPz_6LEDOJTTtU3hOwsqUuvrlQsWxjiDEQfJiBZ=w408-h725-k-no",
         "3.0",
         "17",
         "2025-05-04T16:08:15.927Z",
         "Comercio"
        ],
        [
         "4",
         "Sec Tandil - Sociedad Emp de Comercio Tandil",
         "Sindicato",
         "http://www.sectandil.org.ar/",
         "San Martín 785",
         null,
         "Tandil",
         "Provincia de Buenos Aires",
         "-37.3254577",
         "-59.1340935",
         "1.0",
         "12",
         "https://streetviewpixels-pa.googleapis.com/v1/thumbnail?panoid=maz7Q6vXfTynCdzhY6x9WQ&cb_client=search.gws-prod.gps&w=408&h=240&yaw=149.7049&pitch=0&thumbfov=100",
         "1.0",
         "2",
         "2025-05-04T16:08:15.927Z",
         "Comercio"
        ]
       ],
       "shape": {
        "columns": 16,
        "rows": 5
       }
      },
      "text/html": [
       "<div>\n",
       "<style scoped>\n",
       "    .dataframe tbody tr th:only-of-type {\n",
       "        vertical-align: middle;\n",
       "    }\n",
       "\n",
       "    .dataframe tbody tr th {\n",
       "        vertical-align: top;\n",
       "    }\n",
       "\n",
       "    .dataframe thead th {\n",
       "        text-align: right;\n",
       "    }\n",
       "</style>\n",
       "<table border=\"1\" class=\"dataframe\">\n",
       "  <thead>\n",
       "    <tr style=\"text-align: right;\">\n",
       "      <th></th>\n",
       "      <th>title</th>\n",
       "      <th>categoryName</th>\n",
       "      <th>website</th>\n",
       "      <th>street</th>\n",
       "      <th>phone</th>\n",
       "      <th>city</th>\n",
       "      <th>state</th>\n",
       "      <th>location/lat</th>\n",
       "      <th>location/lng</th>\n",
       "      <th>totalScore</th>\n",
       "      <th>rank</th>\n",
       "      <th>imageUrl</th>\n",
       "      <th>imagesCount</th>\n",
       "      <th>reviewsCount</th>\n",
       "      <th>scrapedAt</th>\n",
       "      <th>searchString</th>\n",
       "    </tr>\n",
       "  </thead>\n",
       "  <tbody>\n",
       "    <tr>\n",
       "      <th>0</th>\n",
       "      <td>EL BAQUEANO TANDIL</td>\n",
       "      <td>Tienda de delicatessen</td>\n",
       "      <td>http://www.elbaqueanotandil.com/</td>\n",
       "      <td>1381, Tasende</td>\n",
       "      <td>NaN</td>\n",
       "      <td>Tandil</td>\n",
       "      <td>Provincia de Buenos Aires</td>\n",
       "      <td>-37.350908</td>\n",
       "      <td>-59.170069</td>\n",
       "      <td>4.8</td>\n",
       "      <td>8</td>\n",
       "      <td>https://lh3.googleusercontent.com/p/AF1QipP2-l...</td>\n",
       "      <td>686.0</td>\n",
       "      <td>1408</td>\n",
       "      <td>2025-05-04T16:08:15.927Z</td>\n",
       "      <td>Comercio</td>\n",
       "    </tr>\n",
       "    <tr>\n",
       "      <th>1</th>\n",
       "      <td>Alquimia Artesanías</td>\n",
       "      <td>Tienda de artesanías</td>\n",
       "      <td>https://www.facebook.com/alquimia.artesanias.t...</td>\n",
       "      <td>Icalma y Tasende Acceso Cerro El Centinela</td>\n",
       "      <td>NaN</td>\n",
       "      <td>Tandil</td>\n",
       "      <td>Provincia de Buenos Aires</td>\n",
       "      <td>-37.355833</td>\n",
       "      <td>-59.172222</td>\n",
       "      <td>4.5</td>\n",
       "      <td>9</td>\n",
       "      <td>https://lh3.googleusercontent.com/p/AF1QipPXrh...</td>\n",
       "      <td>40.0</td>\n",
       "      <td>43</td>\n",
       "      <td>2025-05-04T16:08:15.927Z</td>\n",
       "      <td>Comercio</td>\n",
       "    </tr>\n",
       "    <tr>\n",
       "      <th>2</th>\n",
       "      <td>mercado Jorge</td>\n",
       "      <td>Tienda de alimentación</td>\n",
       "      <td>NaN</td>\n",
       "      <td>Sandino 468</td>\n",
       "      <td>+54 249 444-3579</td>\n",
       "      <td>Tandil</td>\n",
       "      <td>Provincia de Buenos Aires</td>\n",
       "      <td>-37.338040</td>\n",
       "      <td>-59.126114</td>\n",
       "      <td>4.5</td>\n",
       "      <td>10</td>\n",
       "      <td>https://streetviewpixels-pa.googleapis.com/v1/...</td>\n",
       "      <td>1.0</td>\n",
       "      <td>13</td>\n",
       "      <td>2025-05-04T16:08:15.927Z</td>\n",
       "      <td>Comercio</td>\n",
       "    </tr>\n",
       "    <tr>\n",
       "      <th>3</th>\n",
       "      <td>Vale la Pena \"Almacén\"</td>\n",
       "      <td>Tienda de alimentación</td>\n",
       "      <td>NaN</td>\n",
       "      <td>Av. Estrada 468</td>\n",
       "      <td>NaN</td>\n",
       "      <td>Tandil</td>\n",
       "      <td>Provincia de Buenos Aires</td>\n",
       "      <td>-37.339490</td>\n",
       "      <td>-59.147503</td>\n",
       "      <td>4.6</td>\n",
       "      <td>11</td>\n",
       "      <td>https://lh3.googleusercontent.com/p/AF1QipPz_6...</td>\n",
       "      <td>3.0</td>\n",
       "      <td>17</td>\n",
       "      <td>2025-05-04T16:08:15.927Z</td>\n",
       "      <td>Comercio</td>\n",
       "    </tr>\n",
       "    <tr>\n",
       "      <th>4</th>\n",
       "      <td>Sec Tandil - Sociedad Emp de Comercio Tandil</td>\n",
       "      <td>Sindicato</td>\n",
       "      <td>http://www.sectandil.org.ar/</td>\n",
       "      <td>San Martín 785</td>\n",
       "      <td>NaN</td>\n",
       "      <td>Tandil</td>\n",
       "      <td>Provincia de Buenos Aires</td>\n",
       "      <td>-37.325458</td>\n",
       "      <td>-59.134093</td>\n",
       "      <td>1.0</td>\n",
       "      <td>12</td>\n",
       "      <td>https://streetviewpixels-pa.googleapis.com/v1/...</td>\n",
       "      <td>1.0</td>\n",
       "      <td>2</td>\n",
       "      <td>2025-05-04T16:08:15.927Z</td>\n",
       "      <td>Comercio</td>\n",
       "    </tr>\n",
       "  </tbody>\n",
       "</table>\n",
       "</div>"
      ],
      "text/plain": [
       "                                          title            categoryName  \\\n",
       "0                            EL BAQUEANO TANDIL  Tienda de delicatessen   \n",
       "1                           Alquimia Artesanías    Tienda de artesanías   \n",
       "2                                 mercado Jorge  Tienda de alimentación   \n",
       "3                        Vale la Pena \"Almacén\"  Tienda de alimentación   \n",
       "4  Sec Tandil - Sociedad Emp de Comercio Tandil               Sindicato   \n",
       "\n",
       "                                             website  \\\n",
       "0                   http://www.elbaqueanotandil.com/   \n",
       "1  https://www.facebook.com/alquimia.artesanias.t...   \n",
       "2                                                NaN   \n",
       "3                                                NaN   \n",
       "4                       http://www.sectandil.org.ar/   \n",
       "\n",
       "                                       street             phone    city  \\\n",
       "0                               1381, Tasende               NaN  Tandil   \n",
       "1  Icalma y Tasende Acceso Cerro El Centinela               NaN  Tandil   \n",
       "2                                 Sandino 468  +54 249 444-3579  Tandil   \n",
       "3                             Av. Estrada 468               NaN  Tandil   \n",
       "4                              San Martín 785               NaN  Tandil   \n",
       "\n",
       "                       state  location/lat  location/lng  totalScore  rank  \\\n",
       "0  Provincia de Buenos Aires    -37.350908    -59.170069         4.8     8   \n",
       "1  Provincia de Buenos Aires    -37.355833    -59.172222         4.5     9   \n",
       "2  Provincia de Buenos Aires    -37.338040    -59.126114         4.5    10   \n",
       "3  Provincia de Buenos Aires    -37.339490    -59.147503         4.6    11   \n",
       "4  Provincia de Buenos Aires    -37.325458    -59.134093         1.0    12   \n",
       "\n",
       "                                            imageUrl  imagesCount  \\\n",
       "0  https://lh3.googleusercontent.com/p/AF1QipP2-l...        686.0   \n",
       "1  https://lh3.googleusercontent.com/p/AF1QipPXrh...         40.0   \n",
       "2  https://streetviewpixels-pa.googleapis.com/v1/...          1.0   \n",
       "3  https://lh3.googleusercontent.com/p/AF1QipPz_6...          3.0   \n",
       "4  https://streetviewpixels-pa.googleapis.com/v1/...          1.0   \n",
       "\n",
       "   reviewsCount                 scrapedAt searchString  \n",
       "0          1408  2025-05-04T16:08:15.927Z     Comercio  \n",
       "1            43  2025-05-04T16:08:15.927Z     Comercio  \n",
       "2            13  2025-05-04T16:08:15.927Z     Comercio  \n",
       "3            17  2025-05-04T16:08:15.927Z     Comercio  \n",
       "4             2  2025-05-04T16:08:15.927Z     Comercio  "
      ]
     },
     "execution_count": 241,
     "metadata": {},
     "output_type": "execute_result"
    }
   ],
   "source": [
    "df = df[[\n",
    "        'title',\n",
    "        'categoryName',\n",
    "        'website',\n",
    "        'street',\n",
    "        'phone',\n",
    "        'city',\n",
    "        'state',\n",
    "        'location/lat', \n",
    "        'location/lng',\n",
    "        'totalScore',\n",
    "        'rank',\n",
    "        'imageUrl',\n",
    "        'imagesCount',       \n",
    "        'reviewsCount', \n",
    "        'scrapedAt',\n",
    "        'searchString']]\n",
    "df.head(5)"
   ]
  },
  {
   "cell_type": "code",
   "execution_count": 242,
   "id": "c39adebe",
   "metadata": {},
   "outputs": [
    {
     "name": "stdout",
     "output_type": "stream",
     "text": [
      "<class 'pandas.core.frame.DataFrame'>\n",
      "RangeIndex: 3577 entries, 0 to 3576\n",
      "Data columns (total 16 columns):\n",
      " #   Column        Non-Null Count  Dtype  \n",
      "---  ------        --------------  -----  \n",
      " 0   title         3577 non-null   object \n",
      " 1   categoryName  3498 non-null   object \n",
      " 2   website       1360 non-null   object \n",
      " 3   street        3450 non-null   object \n",
      " 4   phone         2746 non-null   object \n",
      " 5   city          3543 non-null   object \n",
      " 6   state         3555 non-null   object \n",
      " 7   location/lat  3577 non-null   float64\n",
      " 8   location/lng  3577 non-null   float64\n",
      " 9   totalScore    2966 non-null   float64\n",
      " 10  rank          3577 non-null   int64  \n",
      " 11  imageUrl      3486 non-null   object \n",
      " 12  imagesCount   3485 non-null   float64\n",
      " 13  reviewsCount  3577 non-null   int64  \n",
      " 14  scrapedAt     3577 non-null   object \n",
      " 15  searchString  3577 non-null   object \n",
      "dtypes: float64(4), int64(2), object(10)\n",
      "memory usage: 447.3+ KB\n"
     ]
    }
   ],
   "source": [
    "df.info()"
   ]
  },
  {
   "cell_type": "code",
   "execution_count": 243,
   "id": "e5609c3a",
   "metadata": {},
   "outputs": [],
   "source": [
    "df['city'] = df['city'].fillna('Tandil')\n",
    "df['state'] = df['state'].fillna('Provincia de Buenos Aires')"
   ]
  },
  {
   "cell_type": "code",
   "execution_count": 244,
   "id": "e2ab8e41",
   "metadata": {},
   "outputs": [
    {
     "data": {
      "application/vnd.microsoft.datawrangler.viewer.v0+json": {
       "columns": [
        {
         "name": "state",
         "rawType": "object",
         "type": "string"
        },
        {
         "name": "count",
         "rawType": "int64",
         "type": "integer"
        }
       ],
       "ref": "4690d67c-0548-4a10-8772-194c22d95663",
       "rows": [
        [
         "Provincia de Buenos Aires",
         "3571"
        ],
        [
         "Ciudad Autónoma de Buenos Aires",
         "4"
        ],
        [
         "de Buenos Aires",
         "2"
        ]
       ],
       "shape": {
        "columns": 1,
        "rows": 3
       }
      },
      "text/plain": [
       "state\n",
       "Provincia de Buenos Aires          3571\n",
       "Ciudad Autónoma de Buenos Aires       4\n",
       "de Buenos Aires                       2\n",
       "Name: count, dtype: int64"
      ]
     },
     "execution_count": 244,
     "metadata": {},
     "output_type": "execute_result"
    }
   ],
   "source": [
    "\n",
    "df['state'].value_counts()"
   ]
  },
  {
   "cell_type": "code",
   "execution_count": 245,
   "id": "93241ec2",
   "metadata": {},
   "outputs": [],
   "source": [
    "df['state'] = df['state'].replace({\n",
    "    'Ciudad Autónoma de Buenos Aires': 'Provincia de Buenos Aires',\n",
    "    'de Buenos Aires': 'Provincia de Buenos Aires'\n",
    "})"
   ]
  },
  {
   "cell_type": "code",
   "execution_count": 246,
   "id": "c383d353",
   "metadata": {},
   "outputs": [
    {
     "data": {
      "application/vnd.microsoft.datawrangler.viewer.v0+json": {
       "columns": [
        {
         "name": "city",
         "rawType": "object",
         "type": "string"
        },
        {
         "name": "count",
         "rawType": "int64",
         "type": "integer"
        }
       ],
       "ref": "ae246749-e750-4224-a250-a6e117184d53",
       "rows": [
        [
         "Tandil",
         "3486"
        ],
        [
         "Gran Buenos Aires",
         "21"
        ],
        [
         "Buenos Aires",
         "11"
        ],
        [
         "FTE",
         "4"
        ],
        [
         "IRK",
         "4"
        ],
        [
         "BGA",
         "4"
        ],
        [
         "HXG",
         "4"
        ],
        [
         "GRS",
         "3"
        ],
        [
         "GZY",
         "3"
        ],
        [
         "GKP",
         "3"
        ],
        [
         "ATN",
         "2"
        ],
        [
         "IRL",
         "2"
        ],
        [
         "BKB",
         "2"
        ],
        [
         "AOX",
         "2"
        ],
        [
         "FSW",
         "2"
        ],
        [
         "AOS",
         "2"
        ],
        [
         "AQX",
         "2"
        ],
        [
         "Ciudad Autónoma de Buenos Aires",
         "1"
        ],
        [
         "Gutiérrez",
         "1"
        ],
        [
         "AZG",
         "1"
        ],
        [
         "BJD",
         "1"
        ],
        [
         "GMM",
         "1"
        ],
        [
         "AZC",
         "1"
        ],
        [
         "AZD",
         "1"
        ],
        [
         "AOV",
         "1"
        ],
        [
         "BWH",
         "1"
        ],
        [
         "AOP",
         "1"
        ],
        [
         "GVL",
         "1"
        ],
        [
         "AEK",
         "1"
        ],
        [
         "GKR",
         "1"
        ],
        [
         "GQQ",
         "1"
        ],
        [
         "AOO",
         "1"
        ],
        [
         "AZR",
         "1"
        ],
        [
         "AHM",
         "1"
        ],
        [
         "EAC",
         "1"
        ],
        [
         "AQO",
         "1"
        ],
        [
         "HEU",
         "1"
        ]
       ],
       "shape": {
        "columns": 1,
        "rows": 37
       }
      },
      "text/plain": [
       "city\n",
       "Tandil                             3486\n",
       "Gran Buenos Aires                    21\n",
       "Buenos Aires                         11\n",
       "FTE                                   4\n",
       "IRK                                   4\n",
       "BGA                                   4\n",
       "HXG                                   4\n",
       "GRS                                   3\n",
       "GZY                                   3\n",
       "GKP                                   3\n",
       "ATN                                   2\n",
       "IRL                                   2\n",
       "BKB                                   2\n",
       "AOX                                   2\n",
       "FSW                                   2\n",
       "AOS                                   2\n",
       "AQX                                   2\n",
       "Ciudad Autónoma de Buenos Aires       1\n",
       "Gutiérrez                             1\n",
       "AZG                                   1\n",
       "BJD                                   1\n",
       "GMM                                   1\n",
       "AZC                                   1\n",
       "AZD                                   1\n",
       "AOV                                   1\n",
       "BWH                                   1\n",
       "AOP                                   1\n",
       "GVL                                   1\n",
       "AEK                                   1\n",
       "GKR                                   1\n",
       "GQQ                                   1\n",
       "AOO                                   1\n",
       "AZR                                   1\n",
       "AHM                                   1\n",
       "EAC                                   1\n",
       "AQO                                   1\n",
       "HEU                                   1\n",
       "Name: count, dtype: int64"
      ]
     },
     "execution_count": 246,
     "metadata": {},
     "output_type": "execute_result"
    }
   ],
   "source": [
    "df['city'].value_counts()"
   ]
  },
  {
   "cell_type": "code",
   "execution_count": 247,
   "id": "acbc0c31",
   "metadata": {},
   "outputs": [],
   "source": [
    "df['city'] = df['city'].replace({\n",
    "    'Gran Buenos Aires': 'Tandil',\n",
    "    'Buenos Aires': 'Tandil',\n",
    "    'HXG': 'Tandil',\n",
    "    'IRK': 'Tandil',\n",
    "    'BGA': 'Tandil',\n",
    "    'FTE': 'Tandil',\n",
    "    'GRS': 'Tandil',\n",
    "    'GZY': 'Tandil',\n",
    "    'GKP': 'Tandil',\n",
    "    'ATN': 'Tandil',\n",
    "    'BWH': 'Tandil',\n",
    "    'BKB': 'Tandil',\n",
    "    'AOS': 'Tandil',\n",
    "    'AQX': 'Tandil',\n",
    "    'AOX': 'Tandil',\n",
    "    'FSW': 'Tandil',\n",
    "    'IRL': 'Tandil',\n",
    "    'AHM': 'Tandil',\n",
    "    'AQO': 'Tandil',\n",
    "    'HEU': 'Tandil',\n",
    "    'BJD': 'Tandil',\n",
    "    'Gutiérrez': 'Tandil',\n",
    "    'AZR': 'Tandil',\n",
    "    'AZG': 'Tandil',\n",
    "    'EAC': 'Tandil',\n",
    "    'GKR': 'Tandil',\n",
    "    'GQQ': 'Tandil',\n",
    "    'AOP': 'Tandil',\n",
    "    'AOO': 'Tandil',\n",
    "    'AEK': 'Tandil',\n",
    "    'GVL': 'Tandil',\n",
    "    'GMM': 'Tandil',\n",
    "    'AZC': 'Tandil',\n",
    "    'AZD': 'Tandil',\n",
    "    'AOV': 'Tandil',\n",
    "    'Ciudad Autónoma de Buenos Aires': 'Tandil'\n",
    "})"
   ]
  },
  {
   "cell_type": "code",
   "execution_count": 248,
   "id": "22061281",
   "metadata": {},
   "outputs": [],
   "source": [
    "#Exportación del DataFrame a un archivo CSV\n",
    "df.to_csv('../Python_es/CleanData/TandilMain.csv', index=False)"
   ]
  },
  {
   "cell_type": "code",
   "execution_count": 249,
   "id": "cfce6fe0",
   "metadata": {},
   "outputs": [
    {
     "data": {
      "text/plain": [
       "['../Python_es/CleanData\\\\AzulMain.csv',\n",
       " '../Python_es/CleanData\\\\JuarezMain.csv',\n",
       " '../Python_es/CleanData\\\\OlavarriaMain.csv',\n",
       " '../Python_es/CleanData\\\\RauchMain.csv',\n",
       " '../Python_es/CleanData\\\\TandilMain.csv']"
      ]
     },
     "execution_count": 249,
     "metadata": {},
     "output_type": "execute_result"
    }
   ],
   "source": [
    "# Búsqueda de los archivos .csv en el directorio\n",
    "glob.glob('../Python_es/CleanData/*Main*.csv')"
   ]
  },
  {
   "cell_type": "code",
   "execution_count": 250,
   "id": "47430193",
   "metadata": {},
   "outputs": [],
   "source": [
    "# Lectura y unión de archivos CSV\n",
    "df = pd.concat(map(pd.read_csv, glob.glob('../Python_es/CleanData/*Main*.csv'))).reset_index(drop=True)"
   ]
  },
  {
   "cell_type": "code",
   "execution_count": 251,
   "id": "a10d76d8",
   "metadata": {},
   "outputs": [
    {
     "name": "stdout",
     "output_type": "stream",
     "text": [
      "<class 'pandas.core.frame.DataFrame'>\n",
      "RangeIndex: 9178 entries, 0 to 9177\n",
      "Data columns (total 16 columns):\n",
      " #   Column        Non-Null Count  Dtype  \n",
      "---  ------        --------------  -----  \n",
      " 0   title         9178 non-null   object \n",
      " 1   categoryName  8982 non-null   object \n",
      " 2   website       2783 non-null   object \n",
      " 3   street        8688 non-null   object \n",
      " 4   phone         6535 non-null   object \n",
      " 5   city          9178 non-null   object \n",
      " 6   state         9178 non-null   object \n",
      " 7   location/lat  9178 non-null   float64\n",
      " 8   location/lng  9178 non-null   float64\n",
      " 9   totalScore    7089 non-null   float64\n",
      " 10  rank          9178 non-null   int64  \n",
      " 11  imageUrl      8936 non-null   object \n",
      " 12  imagesCount   8933 non-null   float64\n",
      " 13  reviewsCount  9178 non-null   int64  \n",
      " 14  scrapedAt     9178 non-null   object \n",
      " 15  searchString  9178 non-null   object \n",
      "dtypes: float64(4), int64(2), object(10)\n",
      "memory usage: 1.1+ MB\n"
     ]
    }
   ],
   "source": [
    "# Información del DataFrame a través del método .info() : \n",
    "# Número de filas y columnas\n",
    "# Nombres y tipos de datos de las columnas\n",
    "# Valores no nulos en cada columna\n",
    "# Uso de memoria\n",
    "df.info()"
   ]
  },
  {
   "cell_type": "code",
   "execution_count": 252,
   "id": "056c880a",
   "metadata": {},
   "outputs": [],
   "source": [
    "# Define qué strings deben ser tratados como nulos en las columnas seleccionadas.\n",
    "nulls = ['', ' ', 'N/A', 'nan', 'NaN', 'None']\n",
    "# Define las columnas a las que quieres aplicar este proceso.\n",
    "col = ['title', 'categoryName', 'website', 'street', 'phone', 'city', 'state', 'imageUrl']\n",
    "# Itera sobre cada columna y aplica la lógica.\n",
    "for col in col:\n",
    "    df.loc[:, col] = df[col].replace(nulls, np.nan) # Estandariza a np.nan\n",
    "    df.loc[:, col] = df[col].fillna('Incomplete') # Reemplaza nulos con 'incomplete'\n"
   ]
  },
  {
   "cell_type": "code",
   "execution_count": 253,
   "id": "66f8148e",
   "metadata": {},
   "outputs": [],
   "source": [
    "# Define las columnas a las que se aplica este proceso.\n",
    "colnum = ['location/lat' ,'location/lng', 'totalScore', 'imagesCount', 'rank', 'reviewsCount']\n",
    "# Itera sobre cada columna y aplica la lógica.\n",
    "for colnum in colnum:\n",
    "   df.loc[:, colnum] = df[colnum].replace(nulls, np.nan) # Estandariza a np.nan\n",
    "   df.loc[:, colnum] = df[colnum].fillna(0) # Reemplaza nulos con 0"
   ]
  },
  {
   "cell_type": "code",
   "execution_count": 254,
   "id": "25ef1aca",
   "metadata": {},
   "outputs": [
    {
     "data": {
      "application/vnd.microsoft.datawrangler.viewer.v0+json": {
       "columns": [
        {
         "name": "index",
         "rawType": "object",
         "type": "string"
        },
        {
         "name": "0",
         "rawType": "int64",
         "type": "integer"
        }
       ],
       "ref": "08f71bbc-479a-468f-a4a9-aeb633b0bb53",
       "rows": [
        [
         "title",
         "0"
        ],
        [
         "categoryName",
         "0"
        ],
        [
         "website",
         "0"
        ],
        [
         "street",
         "0"
        ],
        [
         "phone",
         "0"
        ],
        [
         "city",
         "0"
        ],
        [
         "state",
         "0"
        ],
        [
         "location/lat",
         "0"
        ],
        [
         "location/lng",
         "0"
        ],
        [
         "totalScore",
         "0"
        ],
        [
         "rank",
         "0"
        ],
        [
         "imageUrl",
         "0"
        ],
        [
         "imagesCount",
         "0"
        ],
        [
         "reviewsCount",
         "0"
        ],
        [
         "scrapedAt",
         "0"
        ],
        [
         "searchString",
         "0"
        ]
       ],
       "shape": {
        "columns": 1,
        "rows": 16
       }
      },
      "text/plain": [
       "title           0\n",
       "categoryName    0\n",
       "website         0\n",
       "street          0\n",
       "phone           0\n",
       "city            0\n",
       "state           0\n",
       "location/lat    0\n",
       "location/lng    0\n",
       "totalScore      0\n",
       "rank            0\n",
       "imageUrl        0\n",
       "imagesCount     0\n",
       "reviewsCount    0\n",
       "scrapedAt       0\n",
       "searchString    0\n",
       "dtype: int64"
      ]
     },
     "execution_count": 254,
     "metadata": {},
     "output_type": "execute_result"
    }
   ],
   "source": [
    "# se verifica si hay valores nulos en el DataFrame.\n",
    "df.isna().sum() "
   ]
  },
  {
   "cell_type": "code",
   "execution_count": 255,
   "id": "5c4e2d42",
   "metadata": {},
   "outputs": [
    {
     "name": "stdout",
     "output_type": "stream",
     "text": [
      "<class 'pandas.core.frame.DataFrame'>\n",
      "RangeIndex: 9178 entries, 0 to 9177\n",
      "Data columns (total 16 columns):\n",
      " #   Column        Non-Null Count  Dtype  \n",
      "---  ------        --------------  -----  \n",
      " 0   title         9178 non-null   object \n",
      " 1   categoryName  9178 non-null   object \n",
      " 2   website       9178 non-null   object \n",
      " 3   street        9178 non-null   object \n",
      " 4   phone         9178 non-null   object \n",
      " 5   city          9178 non-null   object \n",
      " 6   state         9178 non-null   object \n",
      " 7   location/lat  9178 non-null   float64\n",
      " 8   location/lng  9178 non-null   float64\n",
      " 9   totalScore    9178 non-null   float64\n",
      " 10  rank          9178 non-null   int64  \n",
      " 11  imageUrl      9178 non-null   object \n",
      " 12  imagesCount   9178 non-null   float64\n",
      " 13  reviewsCount  9178 non-null   int64  \n",
      " 14  scrapedAt     9178 non-null   object \n",
      " 15  searchString  9178 non-null   object \n",
      "dtypes: float64(4), int64(2), object(10)\n",
      "memory usage: 1.1+ MB\n"
     ]
    }
   ],
   "source": [
    "df.info()"
   ]
  },
  {
   "cell_type": "code",
   "execution_count": 256,
   "id": "bb2b0a7e",
   "metadata": {},
   "outputs": [
    {
     "data": {
      "text/plain": [
       "np.int64(3319)"
      ]
     },
     "execution_count": 256,
     "metadata": {},
     "output_type": "execute_result"
    }
   ],
   "source": [
    "# Detecta y cuenta filas duplicadas basadas en título, ciudad, calle y coordenadas\n",
    "dup = df.duplicated(subset=['title','city','street','location/lat','location/lng']).sum()\n",
    "dup.sum()"
   ]
  },
  {
   "cell_type": "code",
   "execution_count": 257,
   "id": "23457504",
   "metadata": {},
   "outputs": [],
   "source": [
    "# Quita duplicados según campos clave (título, ciudad, calle y coordenadas), reinicia el índice y \n",
    "# guarda una copia limpia del DataFrame.\n",
    "df = df.loc[~df.duplicated(subset=['title','city','street','location/lat','location/lng'])] \\\n",
    "    .reset_index(drop=True).copy()"
   ]
  },
  {
   "cell_type": "code",
   "execution_count": 258,
   "id": "fa2e4299",
   "metadata": {},
   "outputs": [
    {
     "data": {
      "application/vnd.microsoft.datawrangler.viewer.v0+json": {
       "columns": [
        {
         "name": "index",
         "rawType": "object",
         "type": "string"
        },
        {
         "name": "0",
         "rawType": "object",
         "type": "unknown"
        }
       ],
       "ref": "fee321cc-fb14-4e83-b09a-eb7cd79380c7",
       "rows": [
        [
         "title",
         "object"
        ],
        [
         "categoryName",
         "object"
        ],
        [
         "website",
         "object"
        ],
        [
         "street",
         "object"
        ],
        [
         "phone",
         "object"
        ],
        [
         "city",
         "object"
        ],
        [
         "state",
         "object"
        ],
        [
         "location/lat",
         "float64"
        ],
        [
         "location/lng",
         "float64"
        ],
        [
         "totalScore",
         "float64"
        ],
        [
         "rank",
         "int64"
        ],
        [
         "imageUrl",
         "object"
        ],
        [
         "imagesCount",
         "float64"
        ],
        [
         "reviewsCount",
         "int64"
        ],
        [
         "scrapedAt",
         "object"
        ],
        [
         "searchString",
         "object"
        ]
       ],
       "shape": {
        "columns": 1,
        "rows": 16
       }
      },
      "text/plain": [
       "title            object\n",
       "categoryName     object\n",
       "website          object\n",
       "street           object\n",
       "phone            object\n",
       "city             object\n",
       "state            object\n",
       "location/lat    float64\n",
       "location/lng    float64\n",
       "totalScore      float64\n",
       "rank              int64\n",
       "imageUrl         object\n",
       "imagesCount     float64\n",
       "reviewsCount      int64\n",
       "scrapedAt        object\n",
       "searchString     object\n",
       "dtype: object"
      ]
     },
     "execution_count": 258,
     "metadata": {},
     "output_type": "execute_result"
    }
   ],
   "source": [
    "df.dtypes"
   ]
  },
  {
   "cell_type": "code",
   "execution_count": 259,
   "id": "b994a5ce",
   "metadata": {},
   "outputs": [
    {
     "name": "stdout",
     "output_type": "stream",
     "text": [
      "<class 'pandas.core.frame.DataFrame'>\n",
      "RangeIndex: 5859 entries, 0 to 5858\n",
      "Data columns (total 16 columns):\n",
      " #   Column        Non-Null Count  Dtype  \n",
      "---  ------        --------------  -----  \n",
      " 0   title         5859 non-null   object \n",
      " 1   categoryName  5859 non-null   object \n",
      " 2   website       5859 non-null   object \n",
      " 3   street        5859 non-null   object \n",
      " 4   phone         5859 non-null   object \n",
      " 5   city          5859 non-null   object \n",
      " 6   state         5859 non-null   object \n",
      " 7   location/lat  5859 non-null   float64\n",
      " 8   location/lng  5859 non-null   float64\n",
      " 9   totalScore    5859 non-null   float64\n",
      " 10  rank          5859 non-null   int64  \n",
      " 11  imageUrl      5859 non-null   object \n",
      " 12  imagesCount   5859 non-null   float64\n",
      " 13  reviewsCount  5859 non-null   int64  \n",
      " 14  scrapedAt     5859 non-null   object \n",
      " 15  searchString  5859 non-null   object \n",
      "dtypes: float64(4), int64(2), object(10)\n",
      "memory usage: 732.5+ KB\n"
     ]
    }
   ],
   "source": [
    "# Verifica estructura, cuenta de filas y columnas, tipos y falta de valores \n",
    "# tras limpieza de duplicados y modificación de tipo de dato\n",
    "df.info()"
   ]
  },
  {
   "cell_type": "code",
   "execution_count": 260,
   "id": "0da8b038",
   "metadata": {},
   "outputs": [
    {
     "data": {
      "application/vnd.microsoft.datawrangler.viewer.v0+json": {
       "columns": [
        {
         "name": "index",
         "rawType": "int64",
         "type": "integer"
        },
        {
         "name": "phone",
         "rawType": "object",
         "type": "string"
        }
       ],
       "ref": "b9f6f1d4-83b7-47b4-a217-41a9b9391c80",
       "rows": [
        [
         "0",
         "+54 2281 42-7066"
        ],
        [
         "1",
         "+54 2281 65-7938"
        ],
        [
         "2",
         "+54 2281 42-6984"
        ],
        [
         "3",
         "+54 2281 36-0736"
        ],
        [
         "4",
         "+54 2281 53-7036"
        ],
        [
         "5",
         "+54 2281 43-6001"
        ],
        [
         "6",
         "+54 2281 56-4122"
        ],
        [
         "7",
         "Incomplete"
        ],
        [
         "8",
         "Incomplete"
        ],
        [
         "9",
         "+54 2281 52-6194"
        ],
        [
         "10",
         "+54 2281 42-4153"
        ],
        [
         "11",
         "Incomplete"
        ],
        [
         "12",
         "+54 2281 42-5648"
        ],
        [
         "13",
         "Incomplete"
        ],
        [
         "14",
         "+54 2281 52-6868"
        ],
        [
         "15",
         "Incomplete"
        ],
        [
         "16",
         "+54 2901 48-2993"
        ],
        [
         "17",
         "+54 2281 66-6262"
        ],
        [
         "18",
         "Incomplete"
        ],
        [
         "19",
         "Incomplete"
        ],
        [
         "20",
         "Incomplete"
        ],
        [
         "21",
         "Incomplete"
        ],
        [
         "22",
         "+54 2281 55-0723"
        ],
        [
         "23",
         "Incomplete"
        ],
        [
         "24",
         "+54 2281 42-4066"
        ],
        [
         "25",
         "Incomplete"
        ],
        [
         "26",
         "Incomplete"
        ],
        [
         "27",
         "Incomplete"
        ],
        [
         "28",
         "+54 2281 42-6234"
        ],
        [
         "29",
         "Incomplete"
        ],
        [
         "30",
         "+54 2281 31-0205"
        ],
        [
         "31",
         "Incomplete"
        ],
        [
         "32",
         "Incomplete"
        ],
        [
         "33",
         "Incomplete"
        ],
        [
         "34",
         "Incomplete"
        ],
        [
         "35",
         "Incomplete"
        ],
        [
         "36",
         "Incomplete"
        ],
        [
         "37",
         "+54 2281 50-1288"
        ],
        [
         "38",
         "+54 2281 56-7613"
        ],
        [
         "39",
         "Incomplete"
        ],
        [
         "40",
         "+54 2281 42-2388"
        ],
        [
         "41",
         "+54 2281 43-4710"
        ],
        [
         "42",
         "+54 2281 43-3066"
        ],
        [
         "43",
         "+54 2281 51-1652"
        ],
        [
         "44",
         "+54 221 592-7482"
        ],
        [
         "45",
         "+54 2281 56-7256"
        ],
        [
         "46",
         "+54 2281 42-8084"
        ],
        [
         "47",
         "+54 2281 50-9728"
        ],
        [
         "48",
         "Incomplete"
        ],
        [
         "49",
         "+54 2281 43-0338"
        ]
       ],
       "shape": {
        "columns": 1,
        "rows": 5859
       }
      },
      "text/plain": [
       "0       +54 2281 42-7066\n",
       "1       +54 2281 65-7938\n",
       "2       +54 2281 42-6984\n",
       "3       +54 2281 36-0736\n",
       "4       +54 2281 53-7036\n",
       "              ...       \n",
       "5854    +54 249 464-3311\n",
       "5855    +54 223 555-9393\n",
       "5856    +54 249 457-5285\n",
       "5857    +54 249 438-8237\n",
       "5858    +54 249 469-8239\n",
       "Name: phone, Length: 5859, dtype: object"
      ]
     },
     "execution_count": 260,
     "metadata": {},
     "output_type": "execute_result"
    }
   ],
   "source": [
    "# Limpia y estandariza números internacionales (+54) removiendo dígito “9” extra antes del código local\n",
    "df['phone'] = df['phone'].astype(str).str.replace(r'\\+54\\s*9\\s*(\\d+)', r'+54 \\1', regex=True)\n",
    "df['phone']"
   ]
  },
  {
   "cell_type": "code",
   "execution_count": 261,
   "id": "7ea4c693",
   "metadata": {},
   "outputs": [
    {
     "data": {
      "application/vnd.microsoft.datawrangler.viewer.v0+json": {
       "columns": [
        {
         "name": "index",
         "rawType": "int64",
         "type": "integer"
        },
        {
         "name": "phone",
         "rawType": "object",
         "type": "string"
        }
       ],
       "ref": "875e81a3-3814-454f-8380-021e17a04182",
       "rows": [
        [
         "0",
         "+54 9 2281 42-7066"
        ],
        [
         "1",
         "+54 9 2281 65-7938"
        ],
        [
         "2",
         "+54 9 2281 42-6984"
        ],
        [
         "3",
         "+54 9 2281 36-0736"
        ],
        [
         "4",
         "+54 9 2281 53-7036"
        ],
        [
         "5",
         "+54 9 2281 43-6001"
        ],
        [
         "6",
         "+54 9 2281 56-4122"
        ],
        [
         "7",
         "Incomplete"
        ],
        [
         "8",
         "Incomplete"
        ],
        [
         "9",
         "+54 9 2281 52-6194"
        ],
        [
         "10",
         "+54 9 2281 42-4153"
        ],
        [
         "11",
         "Incomplete"
        ],
        [
         "12",
         "+54 9 2281 42-5648"
        ],
        [
         "13",
         "Incomplete"
        ],
        [
         "14",
         "+54 9 2281 52-6868"
        ],
        [
         "15",
         "Incomplete"
        ],
        [
         "16",
         "+54 9 2901 48-2993"
        ],
        [
         "17",
         "+54 9 2281 66-6262"
        ],
        [
         "18",
         "Incomplete"
        ],
        [
         "19",
         "Incomplete"
        ],
        [
         "20",
         "Incomplete"
        ],
        [
         "21",
         "Incomplete"
        ],
        [
         "22",
         "+54 9 2281 55-0723"
        ],
        [
         "23",
         "Incomplete"
        ],
        [
         "24",
         "+54 9 2281 42-4066"
        ],
        [
         "25",
         "Incomplete"
        ],
        [
         "26",
         "Incomplete"
        ],
        [
         "27",
         "Incomplete"
        ],
        [
         "28",
         "+54 9 2281 42-6234"
        ],
        [
         "29",
         "Incomplete"
        ],
        [
         "30",
         "+54 9 2281 31-0205"
        ],
        [
         "31",
         "Incomplete"
        ],
        [
         "32",
         "Incomplete"
        ],
        [
         "33",
         "Incomplete"
        ],
        [
         "34",
         "Incomplete"
        ],
        [
         "35",
         "Incomplete"
        ],
        [
         "36",
         "Incomplete"
        ],
        [
         "37",
         "+54 9 2281 50-1288"
        ],
        [
         "38",
         "+54 9 2281 56-7613"
        ],
        [
         "39",
         "Incomplete"
        ],
        [
         "40",
         "+54 9 2281 42-2388"
        ],
        [
         "41",
         "+54 9 2281 43-4710"
        ],
        [
         "42",
         "+54 9 2281 43-3066"
        ],
        [
         "43",
         "+54 9 2281 51-1652"
        ],
        [
         "44",
         "+54 9 221 592-7482"
        ],
        [
         "45",
         "+54 9 2281 56-7256"
        ],
        [
         "46",
         "+54 9 2281 42-8084"
        ],
        [
         "47",
         "+54 9 2281 50-9728"
        ],
        [
         "48",
         "Incomplete"
        ],
        [
         "49",
         "+54 9 2281 43-0338"
        ]
       ],
       "shape": {
        "columns": 1,
        "rows": 5859
       }
      },
      "text/plain": [
       "0       +54 9 2281 42-7066\n",
       "1       +54 9 2281 65-7938\n",
       "2       +54 9 2281 42-6984\n",
       "3       +54 9 2281 36-0736\n",
       "4       +54 9 2281 53-7036\n",
       "               ...        \n",
       "5854    +54 9 249 464-3311\n",
       "5855    +54 9 223 555-9393\n",
       "5856    +54 9 249 457-5285\n",
       "5857    +54 9 249 438-8237\n",
       "5858    +54 9 249 469-8239\n",
       "Name: phone, Length: 5859, dtype: object"
      ]
     },
     "execution_count": 261,
     "metadata": {},
     "output_type": "execute_result"
    }
   ],
   "source": [
    "# Estándariza números móviles agregando ‘9’ después del +54 si falta, asegurando el formato internacional correcto.\n",
    "df['phone'] = df['phone'].str.replace(\n",
    "    r'^\\+54\\s*(?!9\\s*[\\d(])(.+)$', \n",
    "    r'+54 9 \\1',                   \n",
    "    regex=True\n",
    ")\n",
    "df['phone']"
   ]
  },
  {
   "cell_type": "code",
   "execution_count": 262,
   "id": "f80f2022",
   "metadata": {},
   "outputs": [
    {
     "data": {
      "application/vnd.microsoft.datawrangler.viewer.v0+json": {
       "columns": [
        {
         "name": "index",
         "rawType": "int64",
         "type": "integer"
        },
        {
         "name": "title",
         "rawType": "object",
         "type": "string"
        },
        {
         "name": "categoryName",
         "rawType": "object",
         "type": "string"
        },
        {
         "name": "website",
         "rawType": "object",
         "type": "string"
        },
        {
         "name": "street",
         "rawType": "object",
         "type": "string"
        },
        {
         "name": "phone",
         "rawType": "object",
         "type": "string"
        },
        {
         "name": "city",
         "rawType": "object",
         "type": "string"
        },
        {
         "name": "state",
         "rawType": "object",
         "type": "string"
        },
        {
         "name": "location/lat",
         "rawType": "float64",
         "type": "float"
        },
        {
         "name": "location/lng",
         "rawType": "float64",
         "type": "float"
        },
        {
         "name": "totalScore",
         "rawType": "float64",
         "type": "float"
        },
        {
         "name": "rank",
         "rawType": "int64",
         "type": "integer"
        },
        {
         "name": "imageUrl",
         "rawType": "object",
         "type": "string"
        },
        {
         "name": "imagesCount",
         "rawType": "float64",
         "type": "float"
        },
        {
         "name": "reviewsCount",
         "rawType": "int64",
         "type": "integer"
        },
        {
         "name": "scrapedAt",
         "rawType": "object",
         "type": "string"
        },
        {
         "name": "searchString",
         "rawType": "object",
         "type": "string"
        }
       ],
       "ref": "c1bf4994-13f4-4139-a2ce-fde01471e528",
       "rows": [
        [
         "0",
         "DTI - Azul",
         "Soporte y servicios informáticos",
         "Incomplete",
         "Av. Juan Domingo Perón 525",
         "+54 9 2281 42-7066",
         "Azul",
         "Provincia de Buenos Aires",
         "-36.7820062",
         "-59.8654974",
         "0.0",
         "22",
         "https://streetviewpixels-pa.googleapis.com/v1/thumbnail?panoid=zL2SLXDLlIyLOOkG7pxFlg&cb_client=search.gws-prod.gps&w=408&h=240&yaw=231.62384&pitch=0&thumbfov=100",
         "1.0",
         "0",
         "2025-06-15T22:56:55.477Z",
         "tecnologia"
        ],
        [
         "1",
         "TECNO COMPUTACION",
         "Tienda de móviles",
         "http://www.tecnocomputacionazul.com/",
         "Lamadrid 33",
         "+54 9 2281 65-7938",
         "Azul",
         "Provincia de Buenos Aires",
         "-36.7649137",
         "-59.8624039",
         "4.6",
         "3",
         "https://lh3.googleusercontent.com/p/AF1QipP9GgrGu9iOG5xNOUsuEUj6fdq4j3xvaLptITLH=w408-h408-k-no",
         "12.0",
         "7",
         "2025-06-15T22:56:54.474Z",
         "tecnologia"
        ],
        [
         "2",
         "Ingeniero Marcelo Edgardo Cornec",
         "Ingeniero",
         "Incomplete",
         "Av. Juan Domingo Perón 622",
         "+54 9 2281 42-6984",
         "Azul",
         "Provincia de Buenos Aires",
         "-36.7832779",
         "-59.8635941",
         "5.0",
         "20",
         "https://lh3.googleusercontent.com/p/AF1QipN3mw2facF8IFrTvwJ_gdFhsNWQrFQi4pazN5RN=w426-h240-k-no",
         "13.0",
         "3",
         "2025-06-15T22:56:57.478Z",
         "comercio"
        ],
        [
         "3",
         "La esquina",
         "Kiosco",
         "Incomplete",
         "7300, Gral. Paz 1500",
         "+54 9 2281 36-0736",
         "Azul",
         "Provincia de Buenos Aires",
         "-36.7980904",
         "-59.8535248",
         "3.7",
         "19",
         "https://lh3.googleusercontent.com/p/AF1QipP1o8LwpKf0khxVBfihAWLOI4K4X00X3SCtGAg=w408-h544-k-no",
         "1.0",
         "3",
         "2025-06-15T22:56:57.478Z",
         "comercio"
        ],
        [
         "4",
         "Vidrieria 25 de Mayo de Jose Canalicchio",
         "Comercio",
         "Incomplete",
         "Guaminí 610",
         "+54 9 2281 53-7036",
         "Azul",
         "Provincia de Buenos Aires",
         "-36.7855521",
         "-59.8671447",
         "4.2",
         "40",
         "https://lh3.googleusercontent.com/p/AF1QipM1o-ulafI-mAMROrwDJeAv15XDqrWz-t4wzI86=w426-h240-k-no",
         "5.0",
         "9",
         "2025-06-15T22:56:58.824Z",
         "comercio"
        ]
       ],
       "shape": {
        "columns": 16,
        "rows": 5
       }
      },
      "text/html": [
       "<div>\n",
       "<style scoped>\n",
       "    .dataframe tbody tr th:only-of-type {\n",
       "        vertical-align: middle;\n",
       "    }\n",
       "\n",
       "    .dataframe tbody tr th {\n",
       "        vertical-align: top;\n",
       "    }\n",
       "\n",
       "    .dataframe thead th {\n",
       "        text-align: right;\n",
       "    }\n",
       "</style>\n",
       "<table border=\"1\" class=\"dataframe\">\n",
       "  <thead>\n",
       "    <tr style=\"text-align: right;\">\n",
       "      <th></th>\n",
       "      <th>title</th>\n",
       "      <th>categoryName</th>\n",
       "      <th>website</th>\n",
       "      <th>street</th>\n",
       "      <th>phone</th>\n",
       "      <th>city</th>\n",
       "      <th>state</th>\n",
       "      <th>location/lat</th>\n",
       "      <th>location/lng</th>\n",
       "      <th>totalScore</th>\n",
       "      <th>rank</th>\n",
       "      <th>imageUrl</th>\n",
       "      <th>imagesCount</th>\n",
       "      <th>reviewsCount</th>\n",
       "      <th>scrapedAt</th>\n",
       "      <th>searchString</th>\n",
       "    </tr>\n",
       "  </thead>\n",
       "  <tbody>\n",
       "    <tr>\n",
       "      <th>0</th>\n",
       "      <td>DTI - Azul</td>\n",
       "      <td>Soporte y servicios informáticos</td>\n",
       "      <td>Incomplete</td>\n",
       "      <td>Av. Juan Domingo Perón 525</td>\n",
       "      <td>+54 9 2281 42-7066</td>\n",
       "      <td>Azul</td>\n",
       "      <td>Provincia de Buenos Aires</td>\n",
       "      <td>-36.782006</td>\n",
       "      <td>-59.865497</td>\n",
       "      <td>0.0</td>\n",
       "      <td>22</td>\n",
       "      <td>https://streetviewpixels-pa.googleapis.com/v1/...</td>\n",
       "      <td>1.0</td>\n",
       "      <td>0</td>\n",
       "      <td>2025-06-15T22:56:55.477Z</td>\n",
       "      <td>tecnologia</td>\n",
       "    </tr>\n",
       "    <tr>\n",
       "      <th>1</th>\n",
       "      <td>TECNO COMPUTACION</td>\n",
       "      <td>Tienda de móviles</td>\n",
       "      <td>http://www.tecnocomputacionazul.com/</td>\n",
       "      <td>Lamadrid 33</td>\n",
       "      <td>+54 9 2281 65-7938</td>\n",
       "      <td>Azul</td>\n",
       "      <td>Provincia de Buenos Aires</td>\n",
       "      <td>-36.764914</td>\n",
       "      <td>-59.862404</td>\n",
       "      <td>4.6</td>\n",
       "      <td>3</td>\n",
       "      <td>https://lh3.googleusercontent.com/p/AF1QipP9Gg...</td>\n",
       "      <td>12.0</td>\n",
       "      <td>7</td>\n",
       "      <td>2025-06-15T22:56:54.474Z</td>\n",
       "      <td>tecnologia</td>\n",
       "    </tr>\n",
       "    <tr>\n",
       "      <th>2</th>\n",
       "      <td>Ingeniero Marcelo Edgardo Cornec</td>\n",
       "      <td>Ingeniero</td>\n",
       "      <td>Incomplete</td>\n",
       "      <td>Av. Juan Domingo Perón 622</td>\n",
       "      <td>+54 9 2281 42-6984</td>\n",
       "      <td>Azul</td>\n",
       "      <td>Provincia de Buenos Aires</td>\n",
       "      <td>-36.783278</td>\n",
       "      <td>-59.863594</td>\n",
       "      <td>5.0</td>\n",
       "      <td>20</td>\n",
       "      <td>https://lh3.googleusercontent.com/p/AF1QipN3mw...</td>\n",
       "      <td>13.0</td>\n",
       "      <td>3</td>\n",
       "      <td>2025-06-15T22:56:57.478Z</td>\n",
       "      <td>comercio</td>\n",
       "    </tr>\n",
       "    <tr>\n",
       "      <th>3</th>\n",
       "      <td>La esquina</td>\n",
       "      <td>Kiosco</td>\n",
       "      <td>Incomplete</td>\n",
       "      <td>7300, Gral. Paz 1500</td>\n",
       "      <td>+54 9 2281 36-0736</td>\n",
       "      <td>Azul</td>\n",
       "      <td>Provincia de Buenos Aires</td>\n",
       "      <td>-36.798090</td>\n",
       "      <td>-59.853525</td>\n",
       "      <td>3.7</td>\n",
       "      <td>19</td>\n",
       "      <td>https://lh3.googleusercontent.com/p/AF1QipP1o8...</td>\n",
       "      <td>1.0</td>\n",
       "      <td>3</td>\n",
       "      <td>2025-06-15T22:56:57.478Z</td>\n",
       "      <td>comercio</td>\n",
       "    </tr>\n",
       "    <tr>\n",
       "      <th>4</th>\n",
       "      <td>Vidrieria 25 de Mayo de Jose Canalicchio</td>\n",
       "      <td>Comercio</td>\n",
       "      <td>Incomplete</td>\n",
       "      <td>Guaminí 610</td>\n",
       "      <td>+54 9 2281 53-7036</td>\n",
       "      <td>Azul</td>\n",
       "      <td>Provincia de Buenos Aires</td>\n",
       "      <td>-36.785552</td>\n",
       "      <td>-59.867145</td>\n",
       "      <td>4.2</td>\n",
       "      <td>40</td>\n",
       "      <td>https://lh3.googleusercontent.com/p/AF1QipM1o-...</td>\n",
       "      <td>5.0</td>\n",
       "      <td>9</td>\n",
       "      <td>2025-06-15T22:56:58.824Z</td>\n",
       "      <td>comercio</td>\n",
       "    </tr>\n",
       "  </tbody>\n",
       "</table>\n",
       "</div>"
      ],
      "text/plain": [
       "                                      title                      categoryName  \\\n",
       "0                                DTI - Azul  Soporte y servicios informáticos   \n",
       "1                         TECNO COMPUTACION                 Tienda de móviles   \n",
       "2          Ingeniero Marcelo Edgardo Cornec                         Ingeniero   \n",
       "3                                La esquina                            Kiosco   \n",
       "4  Vidrieria 25 de Mayo de Jose Canalicchio                          Comercio   \n",
       "\n",
       "                                website                      street  \\\n",
       "0                            Incomplete  Av. Juan Domingo Perón 525   \n",
       "1  http://www.tecnocomputacionazul.com/                 Lamadrid 33   \n",
       "2                            Incomplete  Av. Juan Domingo Perón 622   \n",
       "3                            Incomplete        7300, Gral. Paz 1500   \n",
       "4                            Incomplete                 Guaminí 610   \n",
       "\n",
       "                phone  city                      state  location/lat  \\\n",
       "0  +54 9 2281 42-7066  Azul  Provincia de Buenos Aires    -36.782006   \n",
       "1  +54 9 2281 65-7938  Azul  Provincia de Buenos Aires    -36.764914   \n",
       "2  +54 9 2281 42-6984  Azul  Provincia de Buenos Aires    -36.783278   \n",
       "3  +54 9 2281 36-0736  Azul  Provincia de Buenos Aires    -36.798090   \n",
       "4  +54 9 2281 53-7036  Azul  Provincia de Buenos Aires    -36.785552   \n",
       "\n",
       "   location/lng  totalScore  rank  \\\n",
       "0    -59.865497         0.0    22   \n",
       "1    -59.862404         4.6     3   \n",
       "2    -59.863594         5.0    20   \n",
       "3    -59.853525         3.7    19   \n",
       "4    -59.867145         4.2    40   \n",
       "\n",
       "                                            imageUrl  imagesCount  \\\n",
       "0  https://streetviewpixels-pa.googleapis.com/v1/...          1.0   \n",
       "1  https://lh3.googleusercontent.com/p/AF1QipP9Gg...         12.0   \n",
       "2  https://lh3.googleusercontent.com/p/AF1QipN3mw...         13.0   \n",
       "3  https://lh3.googleusercontent.com/p/AF1QipP1o8...          1.0   \n",
       "4  https://lh3.googleusercontent.com/p/AF1QipM1o-...          5.0   \n",
       "\n",
       "   reviewsCount                 scrapedAt searchString  \n",
       "0             0  2025-06-15T22:56:55.477Z   tecnologia  \n",
       "1             7  2025-06-15T22:56:54.474Z   tecnologia  \n",
       "2             3  2025-06-15T22:56:57.478Z     comercio  \n",
       "3             3  2025-06-15T22:56:57.478Z     comercio  \n",
       "4             9  2025-06-15T22:56:58.824Z     comercio  "
      ]
     },
     "execution_count": 262,
     "metadata": {},
     "output_type": "execute_result"
    }
   ],
   "source": [
    "# Limpia los nombres de comercios eliminando comillas, asteriscos, signos de interrogación y emoticones.\n",
    "df['title'] = df['title'].str.replace('\"', '', regex=False) \\\n",
    "    .str.replace('*', '', regex=False) \\\n",
    "    .str.replace('?', '', regex=False) \\\n",
    "    .str.replace(\"'\", '', regex=False) \\\n",
    "    .str.replace(\"👬\", '', regex=False) \\\n",
    "    .str.replace(\"✨\", '', regex=False) \\\n",
    "    .str.replace(\"⚽️\", '', regex=False) \\\n",
    "    .str.replace(\"💖\", '', regex=False) \\\n",
    "    .str.replace(\"♓\", '', regex=False) \\\n",
    "    .str.replace(\"°\", '', regex=False) \\\n",
    "    .str.replace(\"❣️\", '', regex=False) \\\n",
    "    .str.replace(\"!\", '', regex=False) \\\n",
    "    .str.replace(\"🔥\", '', regex=False) \\\n",
    "    .str.replace(\"🪽\", '', regex=False)\t  \n",
    "df.head(5)"
   ]
  },
  {
   "cell_type": "code",
   "execution_count": 263,
   "id": "b36f2e89",
   "metadata": {},
   "outputs": [
    {
     "data": {
      "application/vnd.microsoft.datawrangler.viewer.v0+json": {
       "columns": [
        {
         "name": "index",
         "rawType": "int64",
         "type": "integer"
        },
        {
         "name": "title",
         "rawType": "object",
         "type": "string"
        },
        {
         "name": "searchString",
         "rawType": "object",
         "type": "string"
        },
        {
         "name": "categoryName",
         "rawType": "object",
         "type": "string"
        }
       ],
       "ref": "9ef06495-7dfc-4243-bd94-b9a1b59620c9",
       "rows": [
        [
         "0",
         "Dti - Azul",
         "Tecnologia",
         "Soporte Y Servicios Informáticos"
        ],
        [
         "1",
         "Tecno Computacion",
         "Tecnologia",
         "Tienda De Móviles"
        ],
        [
         "2",
         "Ingeniero Marcelo Edgardo Cornec",
         "Comercio",
         "Ingeniero"
        ],
        [
         "3",
         "La Esquina",
         "Comercio",
         "Kiosco"
        ],
        [
         "4",
         "Vidrieria 25 De Mayo De Jose Canalicchio",
         "Comercio",
         "Comercio"
        ],
        [
         "5",
         "El Almacén",
         "Comercio",
         "Tienda De Ropa"
        ],
        [
         "6",
         "Tus Sorrentinos",
         "Comercio",
         "Comercio"
        ],
        [
         "7",
         "Venden Y Permutas",
         "Comercio",
         "Tienda General"
        ],
        [
         "8",
         "Minimercado La Esquina De Alejandro Y Silvina",
         "Comercio",
         "Comercio"
        ],
        [
         "9",
         "Kiosco Pasaje Del Parque",
         "Comercio",
         "Comercio"
        ],
        [
         "10",
         "Martinez Juan J M Hijos De",
         "Comercio",
         "Comercio"
        ],
        [
         "11",
         "Tateti",
         "Comercio",
         "Kiosco"
        ],
        [
         "12",
         "Ferreteca",
         "Comercio",
         "Ferretería"
        ],
        [
         "13",
         "Loteria De La Provincia Piazza Sur",
         "Comercio",
         "Tienda De Lotería"
        ],
        [
         "14",
         "Brillos",
         "Comercio",
         "Tienda De Artículos Para El Hogar"
        ],
        [
         "15",
         "El Tiempo",
         "Comercio",
         "Librería"
        ],
        [
         "16",
         "Dietética Estilo Natural",
         "Comercio",
         "Tienda De Alimentación"
        ],
        [
         "17",
         "Stilton Almacén",
         "Comercio",
         "Tienda De Alimentación"
        ],
        [
         "18",
         "Despensa La Esquina",
         "Comercio",
         "Tienda De Alimentación"
        ],
        [
         "19",
         "La Coqueta Frutas Y Verduras",
         "Comercio",
         "Tienda De Alimentación"
        ],
        [
         "20",
         "Enlanadas",
         "Comercio",
         "Tienda General"
        ],
        [
         "21",
         "Cintia Burgos Ventas",
         "Comercio",
         "Tienda De Ropa"
        ],
        [
         "22",
         "Lisboa Indumentaria",
         "Comercio",
         "Tienda De Ropa"
        ],
        [
         "23",
         "Indumentariaahorrounixes",
         "Comercio",
         "Tienda De Ropa"
        ],
        [
         "24",
         "Maxikioscos Gonzalez",
         "Comercio",
         "Librería"
        ],
        [
         "25",
         "Autoservicio El Valle",
         "Comercio",
         "Tienda De Alimentación"
        ],
        [
         "26",
         "La Serranita",
         "Comercio",
         "Tienda De Bebidas Alcohólicas"
        ],
        [
         "27",
         "Forrajería Y Todo Suelto El Amanecer",
         "Comercio",
         "Tienda De Alimentación"
        ],
        [
         "28",
         "Circulo De Analistas Clinicos De Azul",
         "Comercio",
         "Comercio"
        ],
        [
         "29",
         "Megacompras Azul",
         "Comercio",
         "Tienda De Artículos Para El Hogar"
        ],
        [
         "30",
         "Color Codice - Imprenta - Grafica - Centro De Copiado",
         "Comercio",
         "Comercio"
        ],
        [
         "31",
         "Verdu De Conte",
         "Comercio",
         "Tienda De Alimentación"
        ],
        [
         "32",
         "Maxikiosco Ohana",
         "Comercio",
         "Kiosco"
        ],
        [
         "33",
         "Bacano Productos Regionales",
         "Comercio",
         "Tienda De Fiambres"
        ],
        [
         "34",
         "Maxikiosco Lo De Max",
         "Comercio",
         "Kiosco"
        ],
        [
         "35",
         "Dietetica Rincon Natural",
         "Comercio",
         "Tienda De Alimentación"
        ],
        [
         "36",
         "Minimarket",
         "Comercio",
         "Supermercado"
        ],
        [
         "37",
         "Campos Del Centro Srl",
         "Comercio",
         "Comercio"
        ],
        [
         "38",
         "Kiosco Kober",
         "Comercio",
         "Kiosco"
        ],
        [
         "39",
         "Leñera Las 3 Niñas",
         "Comercio",
         "Comercio"
        ],
        [
         "40",
         "Moccero Adolfo M",
         "Comercio",
         "Comercio"
        ],
        [
         "41",
         "Sederia Marion",
         "Comercio",
         "Comercio"
        ],
        [
         "42",
         "Tancredi Olga",
         "Comercio",
         "Comercio"
        ],
        [
         "43",
         "Drugstore Center Azul",
         "Comercio",
         "Kiosco"
        ],
        [
         "44",
         "Despensa Del Barrio",
         "Comercio",
         "Tienda De Alimentación"
        ],
        [
         "45",
         "Suttò Piedras Y Aromas",
         "Comercio",
         "Comercio"
        ],
        [
         "46",
         "Agrocentro",
         "Comercio",
         "Comercio"
        ],
        [
         "47",
         "Almíbar",
         "Comercio",
         "Tienda De Alimentación"
        ],
        [
         "48",
         "Quiricocho- Indumentaria Deportiva",
         "Comercio",
         "Comercio"
        ],
        [
         "49",
         "Asociacion Latina De Exportacion Sa",
         "Comercio",
         "Comercio"
        ]
       ],
       "shape": {
        "columns": 3,
        "rows": 5859
       }
      },
      "text/html": [
       "<div>\n",
       "<style scoped>\n",
       "    .dataframe tbody tr th:only-of-type {\n",
       "        vertical-align: middle;\n",
       "    }\n",
       "\n",
       "    .dataframe tbody tr th {\n",
       "        vertical-align: top;\n",
       "    }\n",
       "\n",
       "    .dataframe thead th {\n",
       "        text-align: right;\n",
       "    }\n",
       "</style>\n",
       "<table border=\"1\" class=\"dataframe\">\n",
       "  <thead>\n",
       "    <tr style=\"text-align: right;\">\n",
       "      <th></th>\n",
       "      <th>title</th>\n",
       "      <th>searchString</th>\n",
       "      <th>categoryName</th>\n",
       "    </tr>\n",
       "  </thead>\n",
       "  <tbody>\n",
       "    <tr>\n",
       "      <th>0</th>\n",
       "      <td>Dti - Azul</td>\n",
       "      <td>Tecnologia</td>\n",
       "      <td>Soporte Y Servicios Informáticos</td>\n",
       "    </tr>\n",
       "    <tr>\n",
       "      <th>1</th>\n",
       "      <td>Tecno Computacion</td>\n",
       "      <td>Tecnologia</td>\n",
       "      <td>Tienda De Móviles</td>\n",
       "    </tr>\n",
       "    <tr>\n",
       "      <th>2</th>\n",
       "      <td>Ingeniero Marcelo Edgardo Cornec</td>\n",
       "      <td>Comercio</td>\n",
       "      <td>Ingeniero</td>\n",
       "    </tr>\n",
       "    <tr>\n",
       "      <th>3</th>\n",
       "      <td>La Esquina</td>\n",
       "      <td>Comercio</td>\n",
       "      <td>Kiosco</td>\n",
       "    </tr>\n",
       "    <tr>\n",
       "      <th>4</th>\n",
       "      <td>Vidrieria 25 De Mayo De Jose Canalicchio</td>\n",
       "      <td>Comercio</td>\n",
       "      <td>Comercio</td>\n",
       "    </tr>\n",
       "    <tr>\n",
       "      <th>...</th>\n",
       "      <td>...</td>\n",
       "      <td>...</td>\n",
       "      <td>...</td>\n",
       "    </tr>\n",
       "    <tr>\n",
       "      <th>5854</th>\n",
       "      <td>Arkansas Muebles</td>\n",
       "      <td>Electrodomesticos</td>\n",
       "      <td>Tienda De Muebles</td>\n",
       "    </tr>\n",
       "    <tr>\n",
       "      <th>5855</th>\n",
       "      <td>Pilchas Mb</td>\n",
       "      <td>Ropa</td>\n",
       "      <td>Tienda De Ropa De Hombre</td>\n",
       "    </tr>\n",
       "    <tr>\n",
       "      <th>5856</th>\n",
       "      <td>Rodriggi</td>\n",
       "      <td>Ropa</td>\n",
       "      <td>Tienda De Ropa De Hombre</td>\n",
       "    </tr>\n",
       "    <tr>\n",
       "      <th>5857</th>\n",
       "      <td>Lg Service</td>\n",
       "      <td>Electrodomesticos</td>\n",
       "      <td>Servicio De Reparación De Electrodomésticos</td>\n",
       "    </tr>\n",
       "    <tr>\n",
       "      <th>5858</th>\n",
       "      <td>Friototal</td>\n",
       "      <td>Electrodomesticos</td>\n",
       "      <td>Distribuidor De Acero</td>\n",
       "    </tr>\n",
       "  </tbody>\n",
       "</table>\n",
       "<p>5859 rows × 3 columns</p>\n",
       "</div>"
      ],
      "text/plain": [
       "                                         title       searchString  \\\n",
       "0                                   Dti - Azul         Tecnologia   \n",
       "1                            Tecno Computacion         Tecnologia   \n",
       "2             Ingeniero Marcelo Edgardo Cornec           Comercio   \n",
       "3                                   La Esquina           Comercio   \n",
       "4     Vidrieria 25 De Mayo De Jose Canalicchio           Comercio   \n",
       "...                                        ...                ...   \n",
       "5854                          Arkansas Muebles  Electrodomesticos   \n",
       "5855                                Pilchas Mb               Ropa   \n",
       "5856                                  Rodriggi               Ropa   \n",
       "5857                                Lg Service  Electrodomesticos   \n",
       "5858                                 Friototal  Electrodomesticos   \n",
       "\n",
       "                                     categoryName  \n",
       "0                Soporte Y Servicios Informáticos  \n",
       "1                               Tienda De Móviles  \n",
       "2                                       Ingeniero  \n",
       "3                                          Kiosco  \n",
       "4                                        Comercio  \n",
       "...                                           ...  \n",
       "5854                            Tienda De Muebles  \n",
       "5855                     Tienda De Ropa De Hombre  \n",
       "5856                     Tienda De Ropa De Hombre  \n",
       "5857  Servicio De Reparación De Electrodomésticos  \n",
       "5858                        Distribuidor De Acero  \n",
       "\n",
       "[5859 rows x 3 columns]"
      ]
     },
     "execution_count": 263,
     "metadata": {},
     "output_type": "execute_result"
    }
   ],
   "source": [
    "# Estandariza title y searchString aplicando formato de título.\n",
    "df['title'] = df['title'].str.title()\n",
    "df['searchString'] = df['searchString'].str.title()\n",
    "df['categoryName'] = df['categoryName'].str.title()\n",
    "df[['title', 'searchString', 'categoryName']]"
   ]
  },
  {
   "cell_type": "code",
   "execution_count": 264,
   "id": "54efce16",
   "metadata": {},
   "outputs": [],
   "source": [
    "# Elimina el prefijo '/url?q=' de las URLs en la columna 'website' y conserva solo la URL base.\n",
    "df['website'] = df['website'].str.replace(\n",
    "    r'^\\s*/url\\?q=(https?://.*)',\n",
    "    r'\\1',\n",
    "    regex=True\n",
    ")"
   ]
  },
  {
   "cell_type": "code",
   "execution_count": 265,
   "id": "cdbd4f95",
   "metadata": {},
   "outputs": [
    {
     "data": {
      "application/vnd.microsoft.datawrangler.viewer.v0+json": {
       "columns": [
        {
         "name": "website",
         "rawType": "object",
         "type": "string"
        },
        {
         "name": "count",
         "rawType": "int64",
         "type": "integer"
        }
       ],
       "ref": "56f6a173-2044-4c9c-9b22-c41e6a712bf7",
       "rows": [
        [
         "Incomplete",
         "4109"
        ],
        [
         "https://argentina.gridohelado.com/",
         "6"
        ],
        [
         "http://www.luz-azul.com.ar/",
         "5"
        ],
        [
         "http://www.cooperativaobrera.coop/",
         "5"
        ],
        [
         "https://www.gpstaller.com.ar/",
         "4"
        ],
        [
         "https://www.carrefour.com.ar/",
         "4"
        ],
        [
         "http://www.ypf.com/",
         "4"
        ],
        [
         "http://www.golopolis.com.ar/",
         "4"
        ],
        [
         "http://www.imposa.com.ar/",
         "3"
        ],
        [
         "https://canelapinturerias.com.ar/",
         "3"
        ],
        [
         "http://www.opensports.com.ar/",
         "3"
        ],
        [
         "http://www.mimo.com.ar/",
         "3"
        ],
        [
         "https://www.tiendadash.com.ar/",
         "3"
        ],
        [
         "http://www.cheeky.com.ar/",
         "3"
        ],
        [
         "https://diaonline.supermercadosdia.com.ar/",
         "3"
        ],
        [
         "http://www.lacasiana.com/",
         "3"
        ],
        [
         "http://www.roas.com.ar/",
         "3"
        ],
        [
         "https://www.facebook.com/share/1WoxmBF5Cx/",
         "3"
        ],
        [
         "http://www.hiperblanco.com/",
         "2"
        ],
        [
         "http://www.desdelaraiz.com.ar/",
         "2"
        ],
        [
         "http://www.maxiconsumo.com/",
         "2"
        ],
        [
         "http://www.polipez.com.ar/",
         "2"
        ],
        [
         "http://catrielmapu.com.ar/",
         "2"
        ],
        [
         "http://elpra.com.ar/",
         "2"
        ],
        [
         "https://www.finning.com/es_AR/contact/branch-locator/sucursal-olavarria.html",
         "2"
        ],
        [
         "http://www.tripstore.com.ar/",
         "2"
        ],
        [
         "http://cementoarmado.es.tl/",
         "2"
        ],
        [
         "http://estudiofilippin.com.ar/",
         "2"
        ],
        [
         "https://www.goldenbike.com.ar/",
         "2"
        ],
        [
         "https://www.instagram.com/mujeryhombredehoy/",
         "2"
        ],
        [
         "https://www.prestigio.com.ar/?utm_source=botonTienda&utm_medium=gbp&utm_id=gbp",
         "2"
        ],
        [
         "https://www.arredo.com.ar/",
         "2"
        ],
        [
         "http://www.kevingston.com/",
         "2"
        ],
        [
         "http://miwok.com.ar/",
         "2"
        ],
        [
         "https://m.facebook.com/pages/FAMULARO-SA/159162330949584",
         "2"
        ],
        [
         "http://comoquieres.com.ar/",
         "2"
        ],
        [
         "https://www.bringerihogar.com.ar/",
         "2"
        ],
        [
         "https://carbono3d.com.ar/",
         "2"
        ],
        [
         "https://www.instagram.com/megacompras_oficial/?hl=es-la",
         "2"
        ],
        [
         "http://multigamma.com.ar/",
         "2"
        ],
        [
         "http://www.casasilvia.com/",
         "2"
        ],
        [
         "https://find.shell.com/ar/fuel/10129342-rosa-juana-crocci-de-giliberti/es_AR",
         "2"
        ],
        [
         "http://www.naldo.com.ar/",
         "2"
        ],
        [
         "https://www.facebook.com/olavarriaautomotores",
         "2"
        ],
        [
         "http://www.leutthe.com/",
         "2"
        ],
        [
         "http://www.lemont.com.ar/",
         "2"
        ],
        [
         "http://www.tiempodeaventura.store/",
         "2"
        ],
        [
         "http://www.magher.com.ar/",
         "2"
        ],
        [
         "https://www.nuevashogar.com.ar/",
         "2"
        ],
        [
         "https://www.facebook.com/zonanortetandil",
         "2"
        ]
       ],
       "shape": {
        "columns": 1,
        "rows": 1652
       }
      },
      "text/plain": [
       "website\n",
       "Incomplete                                                                                             4109\n",
       "https://argentina.gridohelado.com/                                                                        6\n",
       "http://www.luz-azul.com.ar/                                                                               5\n",
       "http://www.cooperativaobrera.coop/                                                                        5\n",
       "https://www.gpstaller.com.ar/                                                                             4\n",
       "                                                                                                       ... \n",
       "http://www.herreriaelprogreso.com.ar/                                                                     1\n",
       "http://martinezsalamandras.com/                                                                           1\n",
       "https://www.guia-dorada.com.ar/guia/aviso-constructora-aripuka-sa-en-tandil-buenos-aires-25615.html       1\n",
       "https://m.facebook.com/GUMEautomotoresTandil?mibextid=LQQJ4d                                              1\n",
       "http://www.friototal.com.ar/                                                                              1\n",
       "Name: count, Length: 1652, dtype: int64"
      ]
     },
     "execution_count": 265,
     "metadata": {},
     "output_type": "execute_result"
    }
   ],
   "source": [
    "df['website'].value_counts()"
   ]
  },
  {
   "cell_type": "code",
   "execution_count": 266,
   "id": "c72129b3",
   "metadata": {},
   "outputs": [
    {
     "data": {
      "text/plain": [
       "['Tecnologia',\n",
       " 'Comercio',\n",
       " 'Repuestos',\n",
       " 'Maquinaria',\n",
       " 'Venta',\n",
       " 'Blanqueria',\n",
       " 'Muebles',\n",
       " 'Venta Online',\n",
       " 'Telefonia',\n",
       " 'Regaleria',\n",
       " 'Tienda',\n",
       " 'Ropa',\n",
       " 'Electrodomesticos',\n",
       " 'Vehiculos',\n",
       " 'Computacion',\n",
       " 'Hogar',\n",
       " 'Bazar',\n",
       " 'Construccion',\n",
       " 'Deportivo',\n",
       " 'Inmobiliario',\n",
       " 'Electronica',\n",
       " 'Web',\n",
       " 'Bianqueria',\n",
       " 'Ventas',\n",
       " 'Online',\n",
       " 'Servicios',\n",
       " 'Ecommerce']"
      ]
     },
     "execution_count": 266,
     "metadata": {},
     "output_type": "execute_result"
    }
   ],
   "source": [
    "search = df['searchString'].unique().tolist()\n",
    "search"
   ]
  },
  {
   "cell_type": "code",
   "execution_count": 267,
   "id": "8b0c2bd6",
   "metadata": {},
   "outputs": [
    {
     "data": {
      "text/plain": [
       "621"
      ]
     },
     "execution_count": 267,
     "metadata": {},
     "output_type": "execute_result"
    }
   ],
   "source": [
    "# Se cuentan las categorias\n",
    "df['categoryName'].nunique()\n"
   ]
  },
  {
   "cell_type": "code",
   "execution_count": 268,
   "id": "318048ea",
   "metadata": {},
   "outputs": [
    {
     "data": {
      "application/vnd.microsoft.datawrangler.viewer.v0+json": {
       "columns": [
        {
         "name": "categoryName",
         "rawType": "object",
         "type": "string"
        },
        {
         "name": "count",
         "rawType": "int64",
         "type": "integer"
        }
       ],
       "ref": "ca7d2c21-44ac-410f-8161-d4610502b0ca",
       "rows": [
        [
         "Tienda De Ropa",
         "465"
        ],
        [
         "Tienda De Alimentación",
         "366"
        ],
        [
         "Comercio",
         "334"
        ],
        [
         "Agencia Inmobiliaria",
         "180"
        ],
        [
         "Incomplete",
         "142"
        ],
        [
         "Taller De Reparación De Automóviles",
         "141"
        ],
        [
         "Tienda De Repuestos Para Automóviles",
         "141"
        ],
        [
         "Tienda De Ropa De Mujer",
         "115"
        ],
        [
         "Tienda De Materiales Para La Construcción",
         "103"
        ],
        [
         "Carnicería",
         "101"
        ],
        [
         "Tienda De Artículos Para El Hogar",
         "99"
        ],
        [
         "Supermercado",
         "93"
        ],
        [
         "Panadería",
         "90"
        ],
        [
         "Concesionario De Automóviles",
         "83"
        ],
        [
         "Taller Mecánico",
         "81"
        ],
        [
         "Tienda De Muebles",
         "67"
        ],
        [
         "Club Deportivo",
         "66"
        ],
        [
         "Empresa Constructora",
         "66"
        ],
        [
         "Ferretería",
         "60"
        ],
        [
         "Frutería",
         "59"
        ],
        [
         "Kiosco",
         "57"
        ],
        [
         "Tienda General",
         "53"
        ],
        [
         "Farmacia",
         "48"
        ],
        [
         "Tienda De Pinturas",
         "47"
        ],
        [
         "Tienda De Regalos",
         "45"
        ],
        [
         "Tienda De Informática",
         "45"
        ],
        [
         "Librería",
         "43"
        ],
        [
         "Tienda De Ropa Infantil",
         "38"
        ],
        [
         "Tienda De Electrónica",
         "35"
        ],
        [
         "Heladería",
         "35"
        ],
        [
         "Tienda De Móviles",
         "34"
        ],
        [
         "Tienda De Neumáticos",
         "33"
        ],
        [
         "Taller De Automóviles",
         "33"
        ],
        [
         "Tienda De Ropa Para Bebés",
         "31"
        ],
        [
         "Tienda De Ropa De Hombre",
         "31"
        ],
        [
         "Agentes Inmobiliarios",
         "29"
        ],
        [
         "Tienda De Herramientas",
         "29"
        ],
        [
         "Tienda De Lencería",
         "28"
        ],
        [
         "Cafetería",
         "28"
        ],
        [
         "Urbanización",
         "28"
        ],
        [
         "Tienda De Alimentos Naturales",
         "26"
        ],
        [
         "Zapatería",
         "26"
        ],
        [
         "Diseñador De Sitios Web",
         "26"
        ],
        [
         "Tienda De Ropa De Deportes",
         "26"
        ],
        [
         "Proveedor De Materiales De Construcción",
         "24"
        ],
        [
         "Gasolinera",
         "22"
        ],
        [
         "Servicio De Cambio De Aceite",
         "22"
        ],
        [
         "Establecimiento De Venta De Madera",
         "22"
        ],
        [
         "Tienda De Alimentos Para Animales",
         "21"
        ],
        [
         "Electricista",
         "20"
        ]
       ],
       "shape": {
        "columns": 1,
        "rows": 621
       }
      },
      "text/plain": [
       "categoryName\n",
       "Tienda De Ropa                   465\n",
       "Tienda De Alimentación           366\n",
       "Comercio                         334\n",
       "Agencia Inmobiliaria             180\n",
       "Incomplete                       142\n",
       "                                ... \n",
       "Fábrica De Bolsas De Papel         1\n",
       "Tienda De Discos                   1\n",
       "Masajista Deportivo                1\n",
       "Servicio De Sistemas Sépticos      1\n",
       "Escuela De Artes Marciales         1\n",
       "Name: count, Length: 621, dtype: int64"
      ]
     },
     "execution_count": 268,
     "metadata": {},
     "output_type": "execute_result"
    }
   ],
   "source": [
    "df['categoryName'].value_counts()"
   ]
  },
  {
   "cell_type": "code",
   "execution_count": 269,
   "id": "4911a209",
   "metadata": {},
   "outputs": [],
   "source": [
    "df.to_csv('../Python_es/CleanData/Regional.csv', index=False)"
   ]
  },
  {
   "cell_type": "markdown",
   "id": "10d231cb",
   "metadata": {},
   "source": [
    "<div style=\"font-family: 'JetBrains Mono', monospace; font-size: 14px; color: #e2dbdbff; line-height: 1.6;\">\n",
    "\n",
    "## 📊 Exploratory Data Analysis (EDA)\n",
    "\n",
    "### ✅ Principales insights:\n",
    "\n",
    "- **25.29%** de los comercios tienen presencia web.\n",
    "- **Tandil** y **Olavarria** lideran en digitalización.\n",
    "- **Instagram 19.2%** y **Facebook 18.11** concentran la presencia en RRSS\n",
    "- Los comercios con sitio web tienen **mayor cantidad de reviews** en todas las ciudades.\n",
    "- El puntaje promedio se mantiene **alto y constante (4.0 - 4.4)**.\n",
    "- Categorías más comunes:\n",
    "  - \n",
    "  - \n",
    "  - \n",
    "  - \n",
    "\n",
    "---\n",
    "\n",
    "</div>\n"
   ]
  },
  {
   "cell_type": "code",
   "execution_count": 171,
   "id": "f828c69a",
   "metadata": {},
   "outputs": [],
   "source": [
    "# Carga del archivo CSV\n",
    "df = pd.read_csv('../Python_es/CleanData/Regional.csv')"
   ]
  },
  {
   "cell_type": "code",
   "execution_count": 172,
   "id": "ebcd4afa",
   "metadata": {},
   "outputs": [
    {
     "data": {
      "text/plain": [
       "(5859, 16)"
      ]
     },
     "execution_count": 172,
     "metadata": {},
     "output_type": "execute_result"
    }
   ],
   "source": [
    "# Verificar la estructura dimensional del DataFrame para el análisis exploratorio\n",
    "df.shape"
   ]
  },
  {
   "cell_type": "code",
   "execution_count": 173,
   "id": "645c34af",
   "metadata": {},
   "outputs": [
    {
     "data": {
      "application/vnd.microsoft.datawrangler.viewer.v0+json": {
       "columns": [
        {
         "name": "index",
         "rawType": "object",
         "type": "string"
        },
        {
         "name": "0",
         "rawType": "object",
         "type": "unknown"
        }
       ],
       "ref": "8cc2ae32-7d6b-41ce-8c93-f4c2fd0a9621",
       "rows": [
        [
         "title",
         "object"
        ],
        [
         "categoryName",
         "object"
        ],
        [
         "website",
         "object"
        ],
        [
         "street",
         "object"
        ],
        [
         "phone",
         "object"
        ],
        [
         "city",
         "object"
        ],
        [
         "state",
         "object"
        ],
        [
         "location/lat",
         "float64"
        ],
        [
         "location/lng",
         "float64"
        ],
        [
         "totalScore",
         "float64"
        ],
        [
         "rank",
         "int64"
        ],
        [
         "imageUrl",
         "object"
        ],
        [
         "imagesCount",
         "float64"
        ],
        [
         "reviewsCount",
         "int64"
        ],
        [
         "scrapedAt",
         "object"
        ],
        [
         "searchString",
         "object"
        ]
       ],
       "shape": {
        "columns": 1,
        "rows": 16
       }
      },
      "text/plain": [
       "title            object\n",
       "categoryName     object\n",
       "website          object\n",
       "street           object\n",
       "phone            object\n",
       "city             object\n",
       "state            object\n",
       "location/lat    float64\n",
       "location/lng    float64\n",
       "totalScore      float64\n",
       "rank              int64\n",
       "imageUrl         object\n",
       "imagesCount     float64\n",
       "reviewsCount      int64\n",
       "scrapedAt        object\n",
       "searchString     object\n",
       "dtype: object"
      ]
     },
     "execution_count": 173,
     "metadata": {},
     "output_type": "execute_result"
    }
   ],
   "source": [
    "# Análisis de tipos de datos para identificar variables numéricas y categóricas\n",
    "df.dtypes"
   ]
  },
  {
   "cell_type": "code",
   "execution_count": 174,
   "id": "46cf2486",
   "metadata": {},
   "outputs": [
    {
     "data": {
      "application/vnd.microsoft.datawrangler.viewer.v0+json": {
       "columns": [
        {
         "name": "index",
         "rawType": "int64",
         "type": "integer"
        },
        {
         "name": "scrapedAt",
         "rawType": "object",
         "type": "unknown"
        }
       ],
       "ref": "582c93dc-7443-46a3-b417-183a043b724e",
       "rows": [
        [
         "0",
         "2025-06-15"
        ],
        [
         "1",
         "2025-06-15"
        ],
        [
         "2",
         "2025-06-15"
        ],
        [
         "3",
         "2025-06-15"
        ],
        [
         "4",
         "2025-06-15"
        ],
        [
         "5",
         "2025-06-15"
        ],
        [
         "6",
         "2025-06-15"
        ],
        [
         "7",
         "2025-06-15"
        ],
        [
         "8",
         "2025-06-15"
        ],
        [
         "9",
         "2025-06-15"
        ],
        [
         "10",
         "2025-06-15"
        ],
        [
         "11",
         "2025-06-15"
        ],
        [
         "12",
         "2025-06-15"
        ],
        [
         "13",
         "2025-06-15"
        ],
        [
         "14",
         "2025-06-15"
        ],
        [
         "15",
         "2025-06-15"
        ],
        [
         "16",
         "2025-06-15"
        ],
        [
         "17",
         "2025-06-15"
        ],
        [
         "18",
         "2025-06-15"
        ],
        [
         "19",
         "2025-06-15"
        ],
        [
         "20",
         "2025-06-15"
        ],
        [
         "21",
         "2025-06-15"
        ],
        [
         "22",
         "2025-06-15"
        ],
        [
         "23",
         "2025-06-15"
        ],
        [
         "24",
         "2025-06-15"
        ],
        [
         "25",
         "2025-06-15"
        ],
        [
         "26",
         "2025-06-15"
        ],
        [
         "27",
         "2025-06-15"
        ],
        [
         "28",
         "2025-06-15"
        ],
        [
         "29",
         "2025-06-15"
        ],
        [
         "30",
         "2025-06-15"
        ],
        [
         "31",
         "2025-06-15"
        ],
        [
         "32",
         "2025-06-15"
        ],
        [
         "33",
         "2025-06-15"
        ],
        [
         "34",
         "2025-06-15"
        ],
        [
         "35",
         "2025-06-15"
        ],
        [
         "36",
         "2025-06-15"
        ],
        [
         "37",
         "2025-06-15"
        ],
        [
         "38",
         "2025-06-15"
        ],
        [
         "39",
         "2025-06-15"
        ],
        [
         "40",
         "2025-06-15"
        ],
        [
         "41",
         "2025-06-15"
        ],
        [
         "42",
         "2025-06-15"
        ],
        [
         "43",
         "2025-06-15"
        ],
        [
         "44",
         "2025-06-15"
        ],
        [
         "45",
         "2025-06-15"
        ],
        [
         "46",
         "2025-06-15"
        ],
        [
         "47",
         "2025-06-15"
        ],
        [
         "48",
         "2025-06-15"
        ],
        [
         "49",
         "2025-06-15"
        ]
       ],
       "shape": {
        "columns": 1,
        "rows": 5859
       }
      },
      "text/plain": [
       "0       2025-06-15\n",
       "1       2025-06-15\n",
       "2       2025-06-15\n",
       "3       2025-06-15\n",
       "4       2025-06-15\n",
       "           ...    \n",
       "5854    2025-07-30\n",
       "5855    2025-07-30\n",
       "5856    2025-07-30\n",
       "5857    2025-07-30\n",
       "5858    2025-07-30\n",
       "Name: scrapedAt, Length: 5859, dtype: object"
      ]
     },
     "execution_count": 174,
     "metadata": {},
     "output_type": "execute_result"
    }
   ],
   "source": [
    "# Convierte a formato datetime manejando valores inválidos\n",
    "df['scrapedAt'] = pd.to_datetime(df['scrapedAt'], errors='coerce', utc=True)\n",
    "# Extraer solo la fecha (eliminar información de hora)\n",
    "df['scrapedAt'].dt.date"
   ]
  },
  {
   "cell_type": "code",
   "execution_count": 175,
   "id": "deea96ed",
   "metadata": {},
   "outputs": [
    {
     "name": "stdout",
     "output_type": "stream",
     "text": [
      "<class 'pandas.core.frame.DataFrame'>\n",
      "RangeIndex: 5859 entries, 0 to 5858\n",
      "Data columns (total 16 columns):\n",
      " #   Column        Non-Null Count  Dtype              \n",
      "---  ------        --------------  -----              \n",
      " 0   title         5859 non-null   object             \n",
      " 1   categoryName  5859 non-null   object             \n",
      " 2   website       5859 non-null   object             \n",
      " 3   street        5859 non-null   object             \n",
      " 4   phone         5859 non-null   object             \n",
      " 5   city          5859 non-null   object             \n",
      " 6   state         5859 non-null   object             \n",
      " 7   location/lat  5859 non-null   float64            \n",
      " 8   location/lng  5859 non-null   float64            \n",
      " 9   totalScore    5859 non-null   float64            \n",
      " 10  rank          5859 non-null   int64              \n",
      " 11  imageUrl      5859 non-null   object             \n",
      " 12  imagesCount   5859 non-null   float64            \n",
      " 13  reviewsCount  5859 non-null   int64              \n",
      " 14  scrapedAt     5859 non-null   datetime64[ns, UTC]\n",
      " 15  searchString  5859 non-null   object             \n",
      "dtypes: datetime64[ns, UTC](1), float64(4), int64(2), object(9)\n",
      "memory usage: 732.5+ KB\n"
     ]
    }
   ],
   "source": [
    "# Resumen general del dataset: tipos, memoria y valores no nulos\n",
    "df.info()"
   ]
  },
  {
   "cell_type": "code",
   "execution_count": 176,
   "id": "560f19e7",
   "metadata": {},
   "outputs": [
    {
     "data": {
      "application/vnd.microsoft.datawrangler.viewer.v0+json": {
       "columns": [
        {
         "name": "index",
         "rawType": "int64",
         "type": "integer"
        },
        {
         "name": "title",
         "rawType": "object",
         "type": "string"
        },
        {
         "name": "categoryName",
         "rawType": "object",
         "type": "string"
        },
        {
         "name": "website",
         "rawType": "object",
         "type": "string"
        },
        {
         "name": "street",
         "rawType": "object",
         "type": "string"
        },
        {
         "name": "phone",
         "rawType": "object",
         "type": "string"
        },
        {
         "name": "city",
         "rawType": "object",
         "type": "string"
        },
        {
         "name": "state",
         "rawType": "object",
         "type": "string"
        },
        {
         "name": "location/lat",
         "rawType": "float64",
         "type": "float"
        },
        {
         "name": "location/lng",
         "rawType": "float64",
         "type": "float"
        },
        {
         "name": "totalScore",
         "rawType": "float64",
         "type": "float"
        },
        {
         "name": "rank",
         "rawType": "int64",
         "type": "integer"
        },
        {
         "name": "imageUrl",
         "rawType": "object",
         "type": "string"
        },
        {
         "name": "imagesCount",
         "rawType": "float64",
         "type": "float"
        },
        {
         "name": "reviewsCount",
         "rawType": "int64",
         "type": "integer"
        },
        {
         "name": "scrapedAt",
         "rawType": "datetime64[ns, UTC]",
         "type": "unknown"
        },
        {
         "name": "searchString",
         "rawType": "object",
         "type": "string"
        }
       ],
       "ref": "780e657f-7e77-430a-b2f9-a6849be11199",
       "rows": [
        [
         "0",
         "Dti - Azul",
         "Soporte Y Servicios Informáticos",
         "Incomplete",
         "Av. Juan Domingo Perón 525",
         "+54 9 2281 42-7066",
         "Azul",
         "Provincia de Buenos Aires",
         "-36.7820062",
         "-59.8654974",
         "0.0",
         "22",
         "https://streetviewpixels-pa.googleapis.com/v1/thumbnail?panoid=zL2SLXDLlIyLOOkG7pxFlg&cb_client=search.gws-prod.gps&w=408&h=240&yaw=231.62384&pitch=0&thumbfov=100",
         "1.0",
         "0",
         "2025-06-15 22:56:55.477000+00:00",
         "Tecnologia"
        ],
        [
         "1",
         "Tecno Computacion",
         "Tienda De Móviles",
         "http://www.tecnocomputacionazul.com/",
         "Lamadrid 33",
         "+54 9 2281 65-7938",
         "Azul",
         "Provincia de Buenos Aires",
         "-36.7649137",
         "-59.8624039",
         "4.6",
         "3",
         "https://lh3.googleusercontent.com/p/AF1QipP9GgrGu9iOG5xNOUsuEUj6fdq4j3xvaLptITLH=w408-h408-k-no",
         "12.0",
         "7",
         "2025-06-15 22:56:54.474000+00:00",
         "Tecnologia"
        ],
        [
         "2",
         "Ingeniero Marcelo Edgardo Cornec",
         "Ingeniero",
         "Incomplete",
         "Av. Juan Domingo Perón 622",
         "+54 9 2281 42-6984",
         "Azul",
         "Provincia de Buenos Aires",
         "-36.7832779",
         "-59.8635941",
         "5.0",
         "20",
         "https://lh3.googleusercontent.com/p/AF1QipN3mw2facF8IFrTvwJ_gdFhsNWQrFQi4pazN5RN=w426-h240-k-no",
         "13.0",
         "3",
         "2025-06-15 22:56:57.478000+00:00",
         "Comercio"
        ],
        [
         "3",
         "La Esquina",
         "Kiosco",
         "Incomplete",
         "7300, Gral. Paz 1500",
         "+54 9 2281 36-0736",
         "Azul",
         "Provincia de Buenos Aires",
         "-36.7980904",
         "-59.8535248",
         "3.7",
         "19",
         "https://lh3.googleusercontent.com/p/AF1QipP1o8LwpKf0khxVBfihAWLOI4K4X00X3SCtGAg=w408-h544-k-no",
         "1.0",
         "3",
         "2025-06-15 22:56:57.478000+00:00",
         "Comercio"
        ],
        [
         "4",
         "Vidrieria 25 De Mayo De Jose Canalicchio",
         "Comercio",
         "Incomplete",
         "Guaminí 610",
         "+54 9 2281 53-7036",
         "Azul",
         "Provincia de Buenos Aires",
         "-36.7855521",
         "-59.8671447",
         "4.2",
         "40",
         "https://lh3.googleusercontent.com/p/AF1QipM1o-ulafI-mAMROrwDJeAv15XDqrWz-t4wzI86=w426-h240-k-no",
         "5.0",
         "9",
         "2025-06-15 22:56:58.824000+00:00",
         "Comercio"
        ]
       ],
       "shape": {
        "columns": 16,
        "rows": 5
       }
      },
      "text/html": [
       "<div>\n",
       "<style scoped>\n",
       "    .dataframe tbody tr th:only-of-type {\n",
       "        vertical-align: middle;\n",
       "    }\n",
       "\n",
       "    .dataframe tbody tr th {\n",
       "        vertical-align: top;\n",
       "    }\n",
       "\n",
       "    .dataframe thead th {\n",
       "        text-align: right;\n",
       "    }\n",
       "</style>\n",
       "<table border=\"1\" class=\"dataframe\">\n",
       "  <thead>\n",
       "    <tr style=\"text-align: right;\">\n",
       "      <th></th>\n",
       "      <th>title</th>\n",
       "      <th>categoryName</th>\n",
       "      <th>website</th>\n",
       "      <th>street</th>\n",
       "      <th>phone</th>\n",
       "      <th>city</th>\n",
       "      <th>state</th>\n",
       "      <th>location/lat</th>\n",
       "      <th>location/lng</th>\n",
       "      <th>totalScore</th>\n",
       "      <th>rank</th>\n",
       "      <th>imageUrl</th>\n",
       "      <th>imagesCount</th>\n",
       "      <th>reviewsCount</th>\n",
       "      <th>scrapedAt</th>\n",
       "      <th>searchString</th>\n",
       "    </tr>\n",
       "  </thead>\n",
       "  <tbody>\n",
       "    <tr>\n",
       "      <th>0</th>\n",
       "      <td>Dti - Azul</td>\n",
       "      <td>Soporte Y Servicios Informáticos</td>\n",
       "      <td>Incomplete</td>\n",
       "      <td>Av. Juan Domingo Perón 525</td>\n",
       "      <td>+54 9 2281 42-7066</td>\n",
       "      <td>Azul</td>\n",
       "      <td>Provincia de Buenos Aires</td>\n",
       "      <td>-36.782006</td>\n",
       "      <td>-59.865497</td>\n",
       "      <td>0.0</td>\n",
       "      <td>22</td>\n",
       "      <td>https://streetviewpixels-pa.googleapis.com/v1/...</td>\n",
       "      <td>1.0</td>\n",
       "      <td>0</td>\n",
       "      <td>2025-06-15 22:56:55.477000+00:00</td>\n",
       "      <td>Tecnologia</td>\n",
       "    </tr>\n",
       "    <tr>\n",
       "      <th>1</th>\n",
       "      <td>Tecno Computacion</td>\n",
       "      <td>Tienda De Móviles</td>\n",
       "      <td>http://www.tecnocomputacionazul.com/</td>\n",
       "      <td>Lamadrid 33</td>\n",
       "      <td>+54 9 2281 65-7938</td>\n",
       "      <td>Azul</td>\n",
       "      <td>Provincia de Buenos Aires</td>\n",
       "      <td>-36.764914</td>\n",
       "      <td>-59.862404</td>\n",
       "      <td>4.6</td>\n",
       "      <td>3</td>\n",
       "      <td>https://lh3.googleusercontent.com/p/AF1QipP9Gg...</td>\n",
       "      <td>12.0</td>\n",
       "      <td>7</td>\n",
       "      <td>2025-06-15 22:56:54.474000+00:00</td>\n",
       "      <td>Tecnologia</td>\n",
       "    </tr>\n",
       "    <tr>\n",
       "      <th>2</th>\n",
       "      <td>Ingeniero Marcelo Edgardo Cornec</td>\n",
       "      <td>Ingeniero</td>\n",
       "      <td>Incomplete</td>\n",
       "      <td>Av. Juan Domingo Perón 622</td>\n",
       "      <td>+54 9 2281 42-6984</td>\n",
       "      <td>Azul</td>\n",
       "      <td>Provincia de Buenos Aires</td>\n",
       "      <td>-36.783278</td>\n",
       "      <td>-59.863594</td>\n",
       "      <td>5.0</td>\n",
       "      <td>20</td>\n",
       "      <td>https://lh3.googleusercontent.com/p/AF1QipN3mw...</td>\n",
       "      <td>13.0</td>\n",
       "      <td>3</td>\n",
       "      <td>2025-06-15 22:56:57.478000+00:00</td>\n",
       "      <td>Comercio</td>\n",
       "    </tr>\n",
       "    <tr>\n",
       "      <th>3</th>\n",
       "      <td>La Esquina</td>\n",
       "      <td>Kiosco</td>\n",
       "      <td>Incomplete</td>\n",
       "      <td>7300, Gral. Paz 1500</td>\n",
       "      <td>+54 9 2281 36-0736</td>\n",
       "      <td>Azul</td>\n",
       "      <td>Provincia de Buenos Aires</td>\n",
       "      <td>-36.798090</td>\n",
       "      <td>-59.853525</td>\n",
       "      <td>3.7</td>\n",
       "      <td>19</td>\n",
       "      <td>https://lh3.googleusercontent.com/p/AF1QipP1o8...</td>\n",
       "      <td>1.0</td>\n",
       "      <td>3</td>\n",
       "      <td>2025-06-15 22:56:57.478000+00:00</td>\n",
       "      <td>Comercio</td>\n",
       "    </tr>\n",
       "    <tr>\n",
       "      <th>4</th>\n",
       "      <td>Vidrieria 25 De Mayo De Jose Canalicchio</td>\n",
       "      <td>Comercio</td>\n",
       "      <td>Incomplete</td>\n",
       "      <td>Guaminí 610</td>\n",
       "      <td>+54 9 2281 53-7036</td>\n",
       "      <td>Azul</td>\n",
       "      <td>Provincia de Buenos Aires</td>\n",
       "      <td>-36.785552</td>\n",
       "      <td>-59.867145</td>\n",
       "      <td>4.2</td>\n",
       "      <td>40</td>\n",
       "      <td>https://lh3.googleusercontent.com/p/AF1QipM1o-...</td>\n",
       "      <td>5.0</td>\n",
       "      <td>9</td>\n",
       "      <td>2025-06-15 22:56:58.824000+00:00</td>\n",
       "      <td>Comercio</td>\n",
       "    </tr>\n",
       "  </tbody>\n",
       "</table>\n",
       "</div>"
      ],
      "text/plain": [
       "                                      title                      categoryName  \\\n",
       "0                                Dti - Azul  Soporte Y Servicios Informáticos   \n",
       "1                         Tecno Computacion                 Tienda De Móviles   \n",
       "2          Ingeniero Marcelo Edgardo Cornec                         Ingeniero   \n",
       "3                                La Esquina                            Kiosco   \n",
       "4  Vidrieria 25 De Mayo De Jose Canalicchio                          Comercio   \n",
       "\n",
       "                                website                      street  \\\n",
       "0                            Incomplete  Av. Juan Domingo Perón 525   \n",
       "1  http://www.tecnocomputacionazul.com/                 Lamadrid 33   \n",
       "2                            Incomplete  Av. Juan Domingo Perón 622   \n",
       "3                            Incomplete        7300, Gral. Paz 1500   \n",
       "4                            Incomplete                 Guaminí 610   \n",
       "\n",
       "                phone  city                      state  location/lat  \\\n",
       "0  +54 9 2281 42-7066  Azul  Provincia de Buenos Aires    -36.782006   \n",
       "1  +54 9 2281 65-7938  Azul  Provincia de Buenos Aires    -36.764914   \n",
       "2  +54 9 2281 42-6984  Azul  Provincia de Buenos Aires    -36.783278   \n",
       "3  +54 9 2281 36-0736  Azul  Provincia de Buenos Aires    -36.798090   \n",
       "4  +54 9 2281 53-7036  Azul  Provincia de Buenos Aires    -36.785552   \n",
       "\n",
       "   location/lng  totalScore  rank  \\\n",
       "0    -59.865497         0.0    22   \n",
       "1    -59.862404         4.6     3   \n",
       "2    -59.863594         5.0    20   \n",
       "3    -59.853525         3.7    19   \n",
       "4    -59.867145         4.2    40   \n",
       "\n",
       "                                            imageUrl  imagesCount  \\\n",
       "0  https://streetviewpixels-pa.googleapis.com/v1/...          1.0   \n",
       "1  https://lh3.googleusercontent.com/p/AF1QipP9Gg...         12.0   \n",
       "2  https://lh3.googleusercontent.com/p/AF1QipN3mw...         13.0   \n",
       "3  https://lh3.googleusercontent.com/p/AF1QipP1o8...          1.0   \n",
       "4  https://lh3.googleusercontent.com/p/AF1QipM1o-...          5.0   \n",
       "\n",
       "   reviewsCount                        scrapedAt searchString  \n",
       "0             0 2025-06-15 22:56:55.477000+00:00   Tecnologia  \n",
       "1             7 2025-06-15 22:56:54.474000+00:00   Tecnologia  \n",
       "2             3 2025-06-15 22:56:57.478000+00:00     Comercio  \n",
       "3             3 2025-06-15 22:56:57.478000+00:00     Comercio  \n",
       "4             9 2025-06-15 22:56:58.824000+00:00     Comercio  "
      ]
     },
     "execution_count": 176,
     "metadata": {},
     "output_type": "execute_result"
    }
   ],
   "source": [
    "# Visualizar las primeras 5 filas para entender la estructura\n",
    "df.head(5)"
   ]
  },
  {
   "cell_type": "code",
   "execution_count": 177,
   "id": "a3592def",
   "metadata": {},
   "outputs": [
    {
     "data": {
      "application/vnd.microsoft.datawrangler.viewer.v0+json": {
       "columns": [
        {
         "name": "index",
         "rawType": "int64",
         "type": "integer"
        },
        {
         "name": "title",
         "rawType": "object",
         "type": "string"
        },
        {
         "name": "categoryName",
         "rawType": "object",
         "type": "string"
        },
        {
         "name": "website",
         "rawType": "object",
         "type": "string"
        },
        {
         "name": "street",
         "rawType": "object",
         "type": "string"
        },
        {
         "name": "phone",
         "rawType": "object",
         "type": "string"
        },
        {
         "name": "city",
         "rawType": "object",
         "type": "string"
        },
        {
         "name": "state",
         "rawType": "object",
         "type": "string"
        },
        {
         "name": "location/lat",
         "rawType": "float64",
         "type": "float"
        },
        {
         "name": "location/lng",
         "rawType": "float64",
         "type": "float"
        },
        {
         "name": "totalScore",
         "rawType": "float64",
         "type": "float"
        },
        {
         "name": "rank",
         "rawType": "int64",
         "type": "integer"
        },
        {
         "name": "imageUrl",
         "rawType": "object",
         "type": "string"
        },
        {
         "name": "imagesCount",
         "rawType": "float64",
         "type": "float"
        },
        {
         "name": "reviewsCount",
         "rawType": "int64",
         "type": "integer"
        },
        {
         "name": "scrapedAt",
         "rawType": "datetime64[ns, UTC]",
         "type": "unknown"
        },
        {
         "name": "searchString",
         "rawType": "object",
         "type": "string"
        }
       ],
       "ref": "57427c5a-e015-45ef-8a4a-6bf54d3e0f92",
       "rows": [
        [
         "5854",
         "Arkansas Muebles",
         "Tienda De Muebles",
         "http://arkansastandil.mitiendanube.com/",
         "Av. Marconi 1498",
         "+54 9 249 464-3311",
         "Tandil",
         "Provincia de Buenos Aires",
         "-37.3175719",
         "-59.1256882",
         "5.0",
         "79",
         "https://lh3.googleusercontent.com/gps-proxy/ALd4DhE1EbgcrMM7_msEKZ5Fs4WQdrdgiI950eTOUaZ6wp8u9HNkIFZjqTJMMOmUxmPC1rwq7of0HLqBCqCfpiVDTkNL_xaBen-u1bl_BhCzySL2f-oEY27OdKLzuFXpFaqzqc_KtUAjn-EpNScOF1n8LjfAbIzD27e9TUExPpHCMV9bzXMw7phjOKLoywNb1tYUSKjVUg=w408-h306-k-no",
         "3.0",
         "1",
         "2025-07-30 15:45:05.590000+00:00",
         "Electrodomesticos"
        ],
        [
         "5855",
         "Pilchas Mb",
         "Tienda De Ropa De Hombre",
         "Incomplete",
         "San Martín 915",
         "+54 9 223 555-9393",
         "Tandil",
         "Provincia de Buenos Aires",
         "-37.3246989",
         "-59.1320305",
         "5.0",
         "78",
         "https://lh3.googleusercontent.com/gps-cs-s/AC9h4non8uQP_sqcqowOu_UsOqxgV0SYhiPMiy8CLWiITFzTjfeqRyEvV0bwxJA46ejqnVe_K4i2fu3HYvqiip0jrLJTGeXMhzQOqzUACcv913IRE1rFxu3Qp7sXosd1H3xoE5WM0n3eZQfvtpjf=w408-h544-k-no",
         "6.0",
         "9",
         "2025-07-30 15:45:19.810000+00:00",
         "Ropa"
        ],
        [
         "5856",
         "Rodriggi",
         "Tienda De Ropa De Hombre",
         "Incomplete",
         "9 de Julio 445",
         "+54 9 249 457-5285",
         "Tandil",
         "Provincia de Buenos Aires",
         "-37.3277961",
         "-59.1338221",
         "4.9",
         "80",
         "https://lh3.googleusercontent.com/p/AF1QipPNSwjqO-BcGWZ_QFWc4MR_7a0o8wZy3S1BjG54=w408-h272-k-no",
         "6.0",
         "23",
         "2025-07-30 15:45:19.810000+00:00",
         "Ropa"
        ],
        [
         "5857",
         "Lg Service",
         "Servicio De Reparación De Electrodomésticos",
         "Incomplete",
         "Saavedra 778",
         "+54 9 249 438-8237",
         "Tandil",
         "Provincia de Buenos Aires",
         "-37.3182553",
         "-59.121669",
         "4.7",
         "84",
         "https://streetviewpixels-pa.googleapis.com/v1/thumbnail?panoid=w8F2RrnwTIVnJD4m2ClR_Q&cb_client=search.gws-prod.gps&w=408&h=240&yaw=255.47885&pitch=0&thumbfov=100",
         "1.0",
         "3",
         "2025-07-30 15:45:06.574000+00:00",
         "Electrodomesticos"
        ],
        [
         "5858",
         "Friototal",
         "Distribuidor De Acero",
         "http://www.friototal.com.ar/",
         "Av. del Valle 1258",
         "+54 9 249 469-8239",
         "Tandil",
         "Provincia de Buenos Aires",
         "-37.3092976",
         "-59.1345556",
         "3.7",
         "60",
         "https://lh3.googleusercontent.com/gps-cs-s/AC9h4nrY6dCcXjno432CvCOQjpVB1uui0qruYbu1hwIZ9zCq_uIbqnlbWlMGFcmKVIPH_OtBeioELjwT2aCv0NjcR8GnMqs9hQt__70e2fvlxQY2zTEhsB8tGw2PXg77qTN7BxzMP-qDTA=w408-h544-k-no",
         "17.0",
         "3",
         "2025-07-30 15:45:04.562000+00:00",
         "Electrodomesticos"
        ]
       ],
       "shape": {
        "columns": 16,
        "rows": 5
       }
      },
      "text/html": [
       "<div>\n",
       "<style scoped>\n",
       "    .dataframe tbody tr th:only-of-type {\n",
       "        vertical-align: middle;\n",
       "    }\n",
       "\n",
       "    .dataframe tbody tr th {\n",
       "        vertical-align: top;\n",
       "    }\n",
       "\n",
       "    .dataframe thead th {\n",
       "        text-align: right;\n",
       "    }\n",
       "</style>\n",
       "<table border=\"1\" class=\"dataframe\">\n",
       "  <thead>\n",
       "    <tr style=\"text-align: right;\">\n",
       "      <th></th>\n",
       "      <th>title</th>\n",
       "      <th>categoryName</th>\n",
       "      <th>website</th>\n",
       "      <th>street</th>\n",
       "      <th>phone</th>\n",
       "      <th>city</th>\n",
       "      <th>state</th>\n",
       "      <th>location/lat</th>\n",
       "      <th>location/lng</th>\n",
       "      <th>totalScore</th>\n",
       "      <th>rank</th>\n",
       "      <th>imageUrl</th>\n",
       "      <th>imagesCount</th>\n",
       "      <th>reviewsCount</th>\n",
       "      <th>scrapedAt</th>\n",
       "      <th>searchString</th>\n",
       "    </tr>\n",
       "  </thead>\n",
       "  <tbody>\n",
       "    <tr>\n",
       "      <th>5854</th>\n",
       "      <td>Arkansas Muebles</td>\n",
       "      <td>Tienda De Muebles</td>\n",
       "      <td>http://arkansastandil.mitiendanube.com/</td>\n",
       "      <td>Av. Marconi 1498</td>\n",
       "      <td>+54 9 249 464-3311</td>\n",
       "      <td>Tandil</td>\n",
       "      <td>Provincia de Buenos Aires</td>\n",
       "      <td>-37.317572</td>\n",
       "      <td>-59.125688</td>\n",
       "      <td>5.0</td>\n",
       "      <td>79</td>\n",
       "      <td>https://lh3.googleusercontent.com/gps-proxy/AL...</td>\n",
       "      <td>3.0</td>\n",
       "      <td>1</td>\n",
       "      <td>2025-07-30 15:45:05.590000+00:00</td>\n",
       "      <td>Electrodomesticos</td>\n",
       "    </tr>\n",
       "    <tr>\n",
       "      <th>5855</th>\n",
       "      <td>Pilchas Mb</td>\n",
       "      <td>Tienda De Ropa De Hombre</td>\n",
       "      <td>Incomplete</td>\n",
       "      <td>San Martín 915</td>\n",
       "      <td>+54 9 223 555-9393</td>\n",
       "      <td>Tandil</td>\n",
       "      <td>Provincia de Buenos Aires</td>\n",
       "      <td>-37.324699</td>\n",
       "      <td>-59.132030</td>\n",
       "      <td>5.0</td>\n",
       "      <td>78</td>\n",
       "      <td>https://lh3.googleusercontent.com/gps-cs-s/AC9...</td>\n",
       "      <td>6.0</td>\n",
       "      <td>9</td>\n",
       "      <td>2025-07-30 15:45:19.810000+00:00</td>\n",
       "      <td>Ropa</td>\n",
       "    </tr>\n",
       "    <tr>\n",
       "      <th>5856</th>\n",
       "      <td>Rodriggi</td>\n",
       "      <td>Tienda De Ropa De Hombre</td>\n",
       "      <td>Incomplete</td>\n",
       "      <td>9 de Julio 445</td>\n",
       "      <td>+54 9 249 457-5285</td>\n",
       "      <td>Tandil</td>\n",
       "      <td>Provincia de Buenos Aires</td>\n",
       "      <td>-37.327796</td>\n",
       "      <td>-59.133822</td>\n",
       "      <td>4.9</td>\n",
       "      <td>80</td>\n",
       "      <td>https://lh3.googleusercontent.com/p/AF1QipPNSw...</td>\n",
       "      <td>6.0</td>\n",
       "      <td>23</td>\n",
       "      <td>2025-07-30 15:45:19.810000+00:00</td>\n",
       "      <td>Ropa</td>\n",
       "    </tr>\n",
       "    <tr>\n",
       "      <th>5857</th>\n",
       "      <td>Lg Service</td>\n",
       "      <td>Servicio De Reparación De Electrodomésticos</td>\n",
       "      <td>Incomplete</td>\n",
       "      <td>Saavedra 778</td>\n",
       "      <td>+54 9 249 438-8237</td>\n",
       "      <td>Tandil</td>\n",
       "      <td>Provincia de Buenos Aires</td>\n",
       "      <td>-37.318255</td>\n",
       "      <td>-59.121669</td>\n",
       "      <td>4.7</td>\n",
       "      <td>84</td>\n",
       "      <td>https://streetviewpixels-pa.googleapis.com/v1/...</td>\n",
       "      <td>1.0</td>\n",
       "      <td>3</td>\n",
       "      <td>2025-07-30 15:45:06.574000+00:00</td>\n",
       "      <td>Electrodomesticos</td>\n",
       "    </tr>\n",
       "    <tr>\n",
       "      <th>5858</th>\n",
       "      <td>Friototal</td>\n",
       "      <td>Distribuidor De Acero</td>\n",
       "      <td>http://www.friototal.com.ar/</td>\n",
       "      <td>Av. del Valle 1258</td>\n",
       "      <td>+54 9 249 469-8239</td>\n",
       "      <td>Tandil</td>\n",
       "      <td>Provincia de Buenos Aires</td>\n",
       "      <td>-37.309298</td>\n",
       "      <td>-59.134556</td>\n",
       "      <td>3.7</td>\n",
       "      <td>60</td>\n",
       "      <td>https://lh3.googleusercontent.com/gps-cs-s/AC9...</td>\n",
       "      <td>17.0</td>\n",
       "      <td>3</td>\n",
       "      <td>2025-07-30 15:45:04.562000+00:00</td>\n",
       "      <td>Electrodomesticos</td>\n",
       "    </tr>\n",
       "  </tbody>\n",
       "</table>\n",
       "</div>"
      ],
      "text/plain": [
       "                 title                                 categoryName  \\\n",
       "5854  Arkansas Muebles                            Tienda De Muebles   \n",
       "5855        Pilchas Mb                     Tienda De Ropa De Hombre   \n",
       "5856          Rodriggi                     Tienda De Ropa De Hombre   \n",
       "5857        Lg Service  Servicio De Reparación De Electrodomésticos   \n",
       "5858         Friototal                        Distribuidor De Acero   \n",
       "\n",
       "                                      website              street  \\\n",
       "5854  http://arkansastandil.mitiendanube.com/    Av. Marconi 1498   \n",
       "5855                               Incomplete      San Martín 915   \n",
       "5856                               Incomplete      9 de Julio 445   \n",
       "5857                               Incomplete        Saavedra 778   \n",
       "5858             http://www.friototal.com.ar/  Av. del Valle 1258   \n",
       "\n",
       "                   phone    city                      state  location/lat  \\\n",
       "5854  +54 9 249 464-3311  Tandil  Provincia de Buenos Aires    -37.317572   \n",
       "5855  +54 9 223 555-9393  Tandil  Provincia de Buenos Aires    -37.324699   \n",
       "5856  +54 9 249 457-5285  Tandil  Provincia de Buenos Aires    -37.327796   \n",
       "5857  +54 9 249 438-8237  Tandil  Provincia de Buenos Aires    -37.318255   \n",
       "5858  +54 9 249 469-8239  Tandil  Provincia de Buenos Aires    -37.309298   \n",
       "\n",
       "      location/lng  totalScore  rank  \\\n",
       "5854    -59.125688         5.0    79   \n",
       "5855    -59.132030         5.0    78   \n",
       "5856    -59.133822         4.9    80   \n",
       "5857    -59.121669         4.7    84   \n",
       "5858    -59.134556         3.7    60   \n",
       "\n",
       "                                               imageUrl  imagesCount  \\\n",
       "5854  https://lh3.googleusercontent.com/gps-proxy/AL...          3.0   \n",
       "5855  https://lh3.googleusercontent.com/gps-cs-s/AC9...          6.0   \n",
       "5856  https://lh3.googleusercontent.com/p/AF1QipPNSw...          6.0   \n",
       "5857  https://streetviewpixels-pa.googleapis.com/v1/...          1.0   \n",
       "5858  https://lh3.googleusercontent.com/gps-cs-s/AC9...         17.0   \n",
       "\n",
       "      reviewsCount                        scrapedAt       searchString  \n",
       "5854             1 2025-07-30 15:45:05.590000+00:00  Electrodomesticos  \n",
       "5855             9 2025-07-30 15:45:19.810000+00:00               Ropa  \n",
       "5856            23 2025-07-30 15:45:19.810000+00:00               Ropa  \n",
       "5857             3 2025-07-30 15:45:06.574000+00:00  Electrodomesticos  \n",
       "5858             3 2025-07-30 15:45:04.562000+00:00  Electrodomesticos  "
      ]
     },
     "execution_count": 177,
     "metadata": {},
     "output_type": "execute_result"
    }
   ],
   "source": [
    "# Verificar consistencia en los últimos registros\n",
    "df.tail(5)"
   ]
  },
  {
   "cell_type": "code",
   "execution_count": 178,
   "id": "20cff9cf",
   "metadata": {},
   "outputs": [
    {
     "data": {
      "application/vnd.microsoft.datawrangler.viewer.v0+json": {
       "columns": [
        {
         "name": "index",
         "rawType": "int64",
         "type": "integer"
        },
        {
         "name": "title",
         "rawType": "object",
         "type": "string"
        },
        {
         "name": "categoryName",
         "rawType": "object",
         "type": "string"
        },
        {
         "name": "website",
         "rawType": "object",
         "type": "string"
        },
        {
         "name": "street",
         "rawType": "object",
         "type": "string"
        },
        {
         "name": "phone",
         "rawType": "object",
         "type": "string"
        },
        {
         "name": "city",
         "rawType": "object",
         "type": "string"
        },
        {
         "name": "state",
         "rawType": "object",
         "type": "string"
        },
        {
         "name": "location/lat",
         "rawType": "float64",
         "type": "float"
        },
        {
         "name": "location/lng",
         "rawType": "float64",
         "type": "float"
        },
        {
         "name": "totalScore",
         "rawType": "float64",
         "type": "float"
        },
        {
         "name": "rank",
         "rawType": "int64",
         "type": "integer"
        },
        {
         "name": "imageUrl",
         "rawType": "object",
         "type": "string"
        },
        {
         "name": "imagesCount",
         "rawType": "float64",
         "type": "float"
        },
        {
         "name": "reviewsCount",
         "rawType": "int64",
         "type": "integer"
        },
        {
         "name": "scrapedAt",
         "rawType": "datetime64[ns, UTC]",
         "type": "unknown"
        },
        {
         "name": "searchString",
         "rawType": "object",
         "type": "string"
        }
       ],
       "ref": "a26aa3a5-77fd-4926-961f-4307a0c68b2b",
       "rows": [
        [
         "5280",
         "Gnc Tandil",
         "Gasolinera",
         "https://www.facebook.com/grupo.alpamar",
         "Av. Buzón 888",
         "+54 9 249 464-4640",
         "Tandil",
         "Provincia de Buenos Aires",
         "-37.3182646",
         "-59.1194396",
         "4.4",
         "32",
         "https://lh3.googleusercontent.com/gps-cs-s/AC9h4npbKBkB3_3l9Hq2-6hJx8hyOdgu8ITCRGneioZFItQ4baORXGY7svtFW67mflWg-_mm3EWodQGvSeGIsQcTPEWqrLtbcfSm1ilRrR5J-2bdKpshLUGzmeNj0S7CPUpfeARfKP76=w520-h240-k-no",
         "14.0",
         "473",
         "2025-06-11 18:03:05.147000+00:00",
         "Venta"
        ],
        [
         "2388",
         "Pecma (Planta Hormigón)",
         "Empresa Constructora",
         "Incomplete",
         "Los Jazmines 4204",
         "+54 9 2284 50-1585",
         "Olavarría",
         "Provincia de Buenos Aires",
         "-36.9096247",
         "-60.2797801",
         "0.0",
         "45",
         "https://streetviewpixels-pa.googleapis.com/v1/thumbnail?panoid=EQvqy8Fc5QImX2AYT1LPrg&cb_client=search.gws-prod.gps&w=408&h=240&yaw=120.25144&pitch=0&thumbfov=100",
         "2.0",
         "0",
         "2025-06-15 23:33:00.770000+00:00",
         "Maquinaria"
        ],
        [
         "1855",
         "Frutamax",
         "Frutería",
         "Incomplete",
         "Av. Pueyrredón 4442",
         "+54 9 2284 57-7842",
         "Olavarría",
         "Provincia de Buenos Aires",
         "-36.9131048",
         "-60.3189803",
         "4.7",
         "18",
         "https://lh3.googleusercontent.com/gps-proxy/ALd4DhFNa_FuSTfEYZXyteaWtxdIS4q3H1Eu8CDxBQyxn6QGxwnR-nbVJbRm7eKcM91evJLyfpxVzWUU579gAtxsxSHwE3AoEyO6MyNVJD8jye1INxsghxRzYKVvp40Ld2BQWobjQ6myuoIZ0bpMXjYsx0yTj303YLbol7Tl7KRLawuFpG0j7V7B6NDZUhNV70kh_h7CXE8=w408-h306-k-no",
         "5.0",
         "9",
         "2025-06-11 18:13:55.958000+00:00",
         "Comercio"
        ],
        [
         "2942",
         "Servicio Especializado Volkswagen",
         "Taller De Reparación De Automóviles",
         "Incomplete",
         "Av. Pellegrini",
         "+54 9 2281 60-2006",
         "Olavarría",
         "Provincia de Buenos Aires",
         "-36.9125784",
         "-60.3154539",
         "4.6",
         "88",
         "https://streetviewpixels-pa.googleapis.com/v1/thumbnail?panoid=SAL1MAI3sw6JCCxzDfbLTQ&cb_client=search.gws-prod.gps&w=408&h=240&yaw=142.05054&pitch=0&thumbfov=100",
         "1.0",
         "7",
         "2025-07-30 14:43:12.980000+00:00",
         "Vehiculos"
        ],
        [
         "1456",
         "Ferreteria El Negro",
         "Ferretería",
         "https://www.facebook.com/elnegroferreteria",
         "Almte. Brown 49",
         "Incomplete",
         "Benito Juárez",
         "Provincia de Buenos Aires",
         "-37.6719749",
         "-59.8045663",
         "4.9",
         "119",
         "https://lh3.googleusercontent.com/p/AF1QipNr29lYxm6D1muR0njUJWSKK2s75r3aIpw1H247=w408-h272-k-no",
         "2.0",
         "62",
         "2025-05-29 00:54:01.425000+00:00",
         "Comercio"
        ]
       ],
       "shape": {
        "columns": 16,
        "rows": 5
       }
      },
      "text/html": [
       "<div>\n",
       "<style scoped>\n",
       "    .dataframe tbody tr th:only-of-type {\n",
       "        vertical-align: middle;\n",
       "    }\n",
       "\n",
       "    .dataframe tbody tr th {\n",
       "        vertical-align: top;\n",
       "    }\n",
       "\n",
       "    .dataframe thead th {\n",
       "        text-align: right;\n",
       "    }\n",
       "</style>\n",
       "<table border=\"1\" class=\"dataframe\">\n",
       "  <thead>\n",
       "    <tr style=\"text-align: right;\">\n",
       "      <th></th>\n",
       "      <th>title</th>\n",
       "      <th>categoryName</th>\n",
       "      <th>website</th>\n",
       "      <th>street</th>\n",
       "      <th>phone</th>\n",
       "      <th>city</th>\n",
       "      <th>state</th>\n",
       "      <th>location/lat</th>\n",
       "      <th>location/lng</th>\n",
       "      <th>totalScore</th>\n",
       "      <th>rank</th>\n",
       "      <th>imageUrl</th>\n",
       "      <th>imagesCount</th>\n",
       "      <th>reviewsCount</th>\n",
       "      <th>scrapedAt</th>\n",
       "      <th>searchString</th>\n",
       "    </tr>\n",
       "  </thead>\n",
       "  <tbody>\n",
       "    <tr>\n",
       "      <th>5280</th>\n",
       "      <td>Gnc Tandil</td>\n",
       "      <td>Gasolinera</td>\n",
       "      <td>https://www.facebook.com/grupo.alpamar</td>\n",
       "      <td>Av. Buzón 888</td>\n",
       "      <td>+54 9 249 464-4640</td>\n",
       "      <td>Tandil</td>\n",
       "      <td>Provincia de Buenos Aires</td>\n",
       "      <td>-37.318265</td>\n",
       "      <td>-59.119440</td>\n",
       "      <td>4.4</td>\n",
       "      <td>32</td>\n",
       "      <td>https://lh3.googleusercontent.com/gps-cs-s/AC9...</td>\n",
       "      <td>14.0</td>\n",
       "      <td>473</td>\n",
       "      <td>2025-06-11 18:03:05.147000+00:00</td>\n",
       "      <td>Venta</td>\n",
       "    </tr>\n",
       "    <tr>\n",
       "      <th>2388</th>\n",
       "      <td>Pecma (Planta Hormigón)</td>\n",
       "      <td>Empresa Constructora</td>\n",
       "      <td>Incomplete</td>\n",
       "      <td>Los Jazmines 4204</td>\n",
       "      <td>+54 9 2284 50-1585</td>\n",
       "      <td>Olavarría</td>\n",
       "      <td>Provincia de Buenos Aires</td>\n",
       "      <td>-36.909625</td>\n",
       "      <td>-60.279780</td>\n",
       "      <td>0.0</td>\n",
       "      <td>45</td>\n",
       "      <td>https://streetviewpixels-pa.googleapis.com/v1/...</td>\n",
       "      <td>2.0</td>\n",
       "      <td>0</td>\n",
       "      <td>2025-06-15 23:33:00.770000+00:00</td>\n",
       "      <td>Maquinaria</td>\n",
       "    </tr>\n",
       "    <tr>\n",
       "      <th>1855</th>\n",
       "      <td>Frutamax</td>\n",
       "      <td>Frutería</td>\n",
       "      <td>Incomplete</td>\n",
       "      <td>Av. Pueyrredón 4442</td>\n",
       "      <td>+54 9 2284 57-7842</td>\n",
       "      <td>Olavarría</td>\n",
       "      <td>Provincia de Buenos Aires</td>\n",
       "      <td>-36.913105</td>\n",
       "      <td>-60.318980</td>\n",
       "      <td>4.7</td>\n",
       "      <td>18</td>\n",
       "      <td>https://lh3.googleusercontent.com/gps-proxy/AL...</td>\n",
       "      <td>5.0</td>\n",
       "      <td>9</td>\n",
       "      <td>2025-06-11 18:13:55.958000+00:00</td>\n",
       "      <td>Comercio</td>\n",
       "    </tr>\n",
       "    <tr>\n",
       "      <th>2942</th>\n",
       "      <td>Servicio Especializado Volkswagen</td>\n",
       "      <td>Taller De Reparación De Automóviles</td>\n",
       "      <td>Incomplete</td>\n",
       "      <td>Av. Pellegrini</td>\n",
       "      <td>+54 9 2281 60-2006</td>\n",
       "      <td>Olavarría</td>\n",
       "      <td>Provincia de Buenos Aires</td>\n",
       "      <td>-36.912578</td>\n",
       "      <td>-60.315454</td>\n",
       "      <td>4.6</td>\n",
       "      <td>88</td>\n",
       "      <td>https://streetviewpixels-pa.googleapis.com/v1/...</td>\n",
       "      <td>1.0</td>\n",
       "      <td>7</td>\n",
       "      <td>2025-07-30 14:43:12.980000+00:00</td>\n",
       "      <td>Vehiculos</td>\n",
       "    </tr>\n",
       "    <tr>\n",
       "      <th>1456</th>\n",
       "      <td>Ferreteria El Negro</td>\n",
       "      <td>Ferretería</td>\n",
       "      <td>https://www.facebook.com/elnegroferreteria</td>\n",
       "      <td>Almte. Brown 49</td>\n",
       "      <td>Incomplete</td>\n",
       "      <td>Benito Juárez</td>\n",
       "      <td>Provincia de Buenos Aires</td>\n",
       "      <td>-37.671975</td>\n",
       "      <td>-59.804566</td>\n",
       "      <td>4.9</td>\n",
       "      <td>119</td>\n",
       "      <td>https://lh3.googleusercontent.com/p/AF1QipNr29...</td>\n",
       "      <td>2.0</td>\n",
       "      <td>62</td>\n",
       "      <td>2025-05-29 00:54:01.425000+00:00</td>\n",
       "      <td>Comercio</td>\n",
       "    </tr>\n",
       "  </tbody>\n",
       "</table>\n",
       "</div>"
      ],
      "text/plain": [
       "                                  title                         categoryName  \\\n",
       "5280                         Gnc Tandil                           Gasolinera   \n",
       "2388            Pecma (Planta Hormigón)                 Empresa Constructora   \n",
       "1855                           Frutamax                             Frutería   \n",
       "2942  Servicio Especializado Volkswagen  Taller De Reparación De Automóviles   \n",
       "1456                Ferreteria El Negro                           Ferretería   \n",
       "\n",
       "                                         website               street  \\\n",
       "5280      https://www.facebook.com/grupo.alpamar        Av. Buzón 888   \n",
       "2388                                  Incomplete    Los Jazmines 4204   \n",
       "1855                                  Incomplete  Av. Pueyrredón 4442   \n",
       "2942                                  Incomplete       Av. Pellegrini   \n",
       "1456  https://www.facebook.com/elnegroferreteria      Almte. Brown 49   \n",
       "\n",
       "                   phone           city                      state  \\\n",
       "5280  +54 9 249 464-4640         Tandil  Provincia de Buenos Aires   \n",
       "2388  +54 9 2284 50-1585      Olavarría  Provincia de Buenos Aires   \n",
       "1855  +54 9 2284 57-7842      Olavarría  Provincia de Buenos Aires   \n",
       "2942  +54 9 2281 60-2006      Olavarría  Provincia de Buenos Aires   \n",
       "1456          Incomplete  Benito Juárez  Provincia de Buenos Aires   \n",
       "\n",
       "      location/lat  location/lng  totalScore  rank  \\\n",
       "5280    -37.318265    -59.119440         4.4    32   \n",
       "2388    -36.909625    -60.279780         0.0    45   \n",
       "1855    -36.913105    -60.318980         4.7    18   \n",
       "2942    -36.912578    -60.315454         4.6    88   \n",
       "1456    -37.671975    -59.804566         4.9   119   \n",
       "\n",
       "                                               imageUrl  imagesCount  \\\n",
       "5280  https://lh3.googleusercontent.com/gps-cs-s/AC9...         14.0   \n",
       "2388  https://streetviewpixels-pa.googleapis.com/v1/...          2.0   \n",
       "1855  https://lh3.googleusercontent.com/gps-proxy/AL...          5.0   \n",
       "2942  https://streetviewpixels-pa.googleapis.com/v1/...          1.0   \n",
       "1456  https://lh3.googleusercontent.com/p/AF1QipNr29...          2.0   \n",
       "\n",
       "      reviewsCount                        scrapedAt searchString  \n",
       "5280           473 2025-06-11 18:03:05.147000+00:00        Venta  \n",
       "2388             0 2025-06-15 23:33:00.770000+00:00   Maquinaria  \n",
       "1855             9 2025-06-11 18:13:55.958000+00:00     Comercio  \n",
       "2942             7 2025-07-30 14:43:12.980000+00:00    Vehiculos  \n",
       "1456            62 2025-05-29 00:54:01.425000+00:00     Comercio  "
      ]
     },
     "execution_count": 178,
     "metadata": {},
     "output_type": "execute_result"
    }
   ],
   "source": [
    "# Muestra aleatoria para revisar variabilidad de los datos\n",
    "df.sample(5)"
   ]
  },
  {
   "cell_type": "code",
   "execution_count": 179,
   "id": "bda87129",
   "metadata": {},
   "outputs": [
    {
     "data": {
      "application/vnd.microsoft.datawrangler.viewer.v0+json": {
       "columns": [
        {
         "name": "city",
         "rawType": "object",
         "type": "string"
        },
        {
         "name": "title",
         "rawType": "int64",
         "type": "integer"
        }
       ],
       "ref": "2f666c30-f0da-4d36-93fe-fafbacd1ace3",
       "rows": [
        [
         "Tandil",
         "2409"
        ],
        [
         "Olavarría",
         "1494"
        ],
        [
         "Azul",
         "1274"
        ],
        [
         "Benito Juárez",
         "351"
        ],
        [
         "Rauch",
         "331"
        ]
       ],
       "shape": {
        "columns": 1,
        "rows": 5
       }
      },
      "text/plain": [
       "city\n",
       "Tandil           2409\n",
       "Olavarría        1494\n",
       "Azul             1274\n",
       "Benito Juárez     351\n",
       "Rauch             331\n",
       "Name: title, dtype: int64"
      ]
     },
     "execution_count": 179,
     "metadata": {},
     "output_type": "execute_result"
    }
   ],
   "source": [
    "# Contar total de registros por ciudad\n",
    "total_city = df.groupby('city')['title'].count().sort_values(ascending=False)\n",
    "total_city"
   ]
  },
  {
   "cell_type": "code",
   "execution_count": 180,
   "id": "16a19fd0",
   "metadata": {},
   "outputs": [
    {
     "data": {
      "application/vnd.microsoft.datawrangler.viewer.v0+json": {
       "columns": [
        {
         "name": "city",
         "rawType": "object",
         "type": "string"
        },
        {
         "name": "website",
         "rawType": "int64",
         "type": "integer"
        }
       ],
       "ref": "d19105f8-04a8-4e6d-8a16-df64f22671cd",
       "rows": [
        [
         "Tandil",
         "849"
        ],
        [
         "Olavarría",
         "497"
        ],
        [
         "Azul",
         "282"
        ],
        [
         "Benito Juárez",
         "62"
        ],
        [
         "Rauch",
         "60"
        ]
       ],
       "shape": {
        "columns": 1,
        "rows": 5
       }
      },
      "text/plain": [
       "city\n",
       "Tandil           849\n",
       "Olavarría        497\n",
       "Azul             282\n",
       "Benito Juárez     62\n",
       "Rauch             60\n",
       "Name: website, dtype: int64"
      ]
     },
     "execution_count": 180,
     "metadata": {},
     "output_type": "execute_result"
    }
   ],
   "source": [
    "# Contar total de registros por ciudad excluyendo 'incomplete'\n",
    "total_web = (df[~df['website'].str.contains('Incomplete', case=False, na=False)]\n",
    "            .groupby('city')['website'].count()\n",
    "            .sort_values(ascending=False))\n",
    "total_web"
   ]
  },
  {
   "cell_type": "code",
   "execution_count": 181,
   "id": "01c3a39d",
   "metadata": {},
   "outputs": [
    {
     "data": {
      "text/plain": [
       "np.int64(1750)"
      ]
     },
     "execution_count": 181,
     "metadata": {},
     "output_type": "execute_result"
    }
   ],
   "source": [
    "webs = total_web.sum()\n",
    "webs"
   ]
  },
  {
   "cell_type": "code",
   "execution_count": 182,
   "id": "86bb67b5",
   "metadata": {},
   "outputs": [
    {
     "data": {
      "application/vnd.microsoft.datawrangler.viewer.v0+json": {
       "columns": [
        {
         "name": "city",
         "rawType": "object",
         "type": "string"
        },
        {
         "name": "website",
         "rawType": "int64",
         "type": "integer"
        }
       ],
       "ref": "a1458f72-25df-4ea7-9638-2d53993cc847",
       "rows": [
        [
         "Tandil",
         "1560"
        ],
        [
         "Olavarría",
         "997"
        ],
        [
         "Azul",
         "992"
        ],
        [
         "Benito Juárez",
         "289"
        ],
        [
         "Rauch",
         "271"
        ]
       ],
       "shape": {
        "columns": 1,
        "rows": 5
       }
      },
      "text/plain": [
       "city\n",
       "Tandil           1560\n",
       "Olavarría         997\n",
       "Azul              992\n",
       "Benito Juárez     289\n",
       "Rauch             271\n",
       "Name: website, dtype: int64"
      ]
     },
     "execution_count": 182,
     "metadata": {},
     "output_type": "execute_result"
    }
   ],
   "source": [
    "# Análisis de calidad: datos faltantes agrupados por ciudad\n",
    "incomplete_city = (df[df['website'] == 'Incomplete']\n",
    "                .groupby('city')['website'].count()\n",
    "                .sort_values(ascending=False))\n",
    "incomplete_city"
   ]
  },
  {
   "cell_type": "code",
   "execution_count": 183,
   "id": "34e7d5dc",
   "metadata": {},
   "outputs": [
    {
     "data": {
      "application/vnd.microsoft.datawrangler.viewer.v0+json": {
       "columns": [
        {
         "name": "index",
         "rawType": "int64",
         "type": "integer"
        },
        {
         "name": "title",
         "rawType": "object",
         "type": "string"
        },
        {
         "name": "categoryName",
         "rawType": "object",
         "type": "string"
        },
        {
         "name": "website",
         "rawType": "object",
         "type": "string"
        },
        {
         "name": "street",
         "rawType": "object",
         "type": "string"
        },
        {
         "name": "phone",
         "rawType": "object",
         "type": "string"
        },
        {
         "name": "city",
         "rawType": "object",
         "type": "string"
        },
        {
         "name": "state",
         "rawType": "object",
         "type": "string"
        },
        {
         "name": "location/lat",
         "rawType": "float64",
         "type": "float"
        },
        {
         "name": "location/lng",
         "rawType": "float64",
         "type": "float"
        },
        {
         "name": "totalScore",
         "rawType": "float64",
         "type": "float"
        },
        {
         "name": "rank",
         "rawType": "int64",
         "type": "integer"
        },
        {
         "name": "imageUrl",
         "rawType": "object",
         "type": "string"
        },
        {
         "name": "imagesCount",
         "rawType": "float64",
         "type": "float"
        },
        {
         "name": "reviewsCount",
         "rawType": "int64",
         "type": "integer"
        },
        {
         "name": "scrapedAt",
         "rawType": "datetime64[ns, UTC]",
         "type": "unknown"
        },
        {
         "name": "searchString",
         "rawType": "object",
         "type": "string"
        }
       ],
       "ref": "604a1242-030f-436d-b9d1-71c4584df0d6",
       "rows": [
        [
         "1",
         "Tecno Computacion",
         "Tienda De Móviles",
         "http://www.tecnocomputacionazul.com/",
         "Lamadrid 33",
         "+54 9 2281 65-7938",
         "Azul",
         "Provincia de Buenos Aires",
         "-36.7649137",
         "-59.8624039",
         "4.6",
         "3",
         "https://lh3.googleusercontent.com/p/AF1QipP9GgrGu9iOG5xNOUsuEUj6fdq4j3xvaLptITLH=w408-h408-k-no",
         "12.0",
         "7",
         "2025-06-15 22:56:54.474000+00:00",
         "Tecnologia"
        ],
        [
         "17",
         "Stilton Almacén",
         "Tienda De Alimentación",
         "http://instagram.com/stiltonalmacen",
         "Moreno 850",
         "+54 9 2281 66-6262",
         "Azul",
         "Provincia de Buenos Aires",
         "-36.7818689",
         "-59.8649548",
         "4.5",
         "54",
         "https://lh3.googleusercontent.com/p/AF1QipOsq_B4qfSE_a1vZPEXCp-DZRoobdy6fYkofOsC=w427-h240-k-no",
         "18.0",
         "23",
         "2025-06-15 22:57:00.082000+00:00",
         "Comercio"
        ],
        [
         "37",
         "Campos Del Centro Srl",
         "Comercio",
         "https://www.instagram.com/camposdelcentrosrl/",
         "C. 61 535",
         "+54 9 2281 50-1288",
         "Azul",
         "Provincia de Buenos Aires",
         "-36.7921744",
         "-59.8413099",
         "4.4",
         "13",
         "https://lh3.googleusercontent.com/p/AF1QipN00H7ZU7M72VrqrWe46YTWFDnjldiT-qYTtYNH=w426-h240-k-no",
         "9.0",
         "8",
         "2025-06-15 22:56:57.477000+00:00",
         "Comercio"
        ],
        [
         "43",
         "Drugstore Center Azul",
         "Kiosco",
         "https://instagram.com/drugstore_center_azul?igshid=h8b7x73qzzsw",
         "Av.Mitre 401 Av 25 de Mayo esq Tandil Av Caneva 534 H.Irigoyen esq Moreno, Av. 25 de Mayo 1326",
         "+54 9 2281 51-1652",
         "Azul",
         "Provincia de Buenos Aires",
         "-36.7788745",
         "-59.8610032",
         "4.7",
         "7",
         "https://lh3.googleusercontent.com/p/AF1QipOFa3z10f5yZqEu_c6gX1UJ_gKt5M6fBLU3Od_r=w408-h271-k-no",
         "3.0",
         "42",
         "2025-06-15 22:56:57.477000+00:00",
         "Comercio"
        ],
        [
         "45",
         "Suttò Piedras Y Aromas",
         "Comercio",
         "https://instagram.com/sutto.artesanias?igshid=MzRlODBiNWFlZA==",
         "Rauch 959",
         "+54 9 2281 56-7256",
         "Azul",
         "Provincia de Buenos Aires",
         "-36.7863139",
         "-59.8632744",
         "5.0",
         "5",
         "https://lh3.googleusercontent.com/p/AF1QipO03jpDH7tmFyg0VeiPalAF1OhMM5FKLrmAMn4O=w408-h324-k-no",
         "14.0",
         "94",
         "2025-06-15 22:56:57.477000+00:00",
         "Comercio"
        ]
       ],
       "shape": {
        "columns": 16,
        "rows": 5
       }
      },
      "text/html": [
       "<div>\n",
       "<style scoped>\n",
       "    .dataframe tbody tr th:only-of-type {\n",
       "        vertical-align: middle;\n",
       "    }\n",
       "\n",
       "    .dataframe tbody tr th {\n",
       "        vertical-align: top;\n",
       "    }\n",
       "\n",
       "    .dataframe thead th {\n",
       "        text-align: right;\n",
       "    }\n",
       "</style>\n",
       "<table border=\"1\" class=\"dataframe\">\n",
       "  <thead>\n",
       "    <tr style=\"text-align: right;\">\n",
       "      <th></th>\n",
       "      <th>title</th>\n",
       "      <th>categoryName</th>\n",
       "      <th>website</th>\n",
       "      <th>street</th>\n",
       "      <th>phone</th>\n",
       "      <th>city</th>\n",
       "      <th>state</th>\n",
       "      <th>location/lat</th>\n",
       "      <th>location/lng</th>\n",
       "      <th>totalScore</th>\n",
       "      <th>rank</th>\n",
       "      <th>imageUrl</th>\n",
       "      <th>imagesCount</th>\n",
       "      <th>reviewsCount</th>\n",
       "      <th>scrapedAt</th>\n",
       "      <th>searchString</th>\n",
       "    </tr>\n",
       "  </thead>\n",
       "  <tbody>\n",
       "    <tr>\n",
       "      <th>1</th>\n",
       "      <td>Tecno Computacion</td>\n",
       "      <td>Tienda De Móviles</td>\n",
       "      <td>http://www.tecnocomputacionazul.com/</td>\n",
       "      <td>Lamadrid 33</td>\n",
       "      <td>+54 9 2281 65-7938</td>\n",
       "      <td>Azul</td>\n",
       "      <td>Provincia de Buenos Aires</td>\n",
       "      <td>-36.764914</td>\n",
       "      <td>-59.862404</td>\n",
       "      <td>4.6</td>\n",
       "      <td>3</td>\n",
       "      <td>https://lh3.googleusercontent.com/p/AF1QipP9Gg...</td>\n",
       "      <td>12.0</td>\n",
       "      <td>7</td>\n",
       "      <td>2025-06-15 22:56:54.474000+00:00</td>\n",
       "      <td>Tecnologia</td>\n",
       "    </tr>\n",
       "    <tr>\n",
       "      <th>17</th>\n",
       "      <td>Stilton Almacén</td>\n",
       "      <td>Tienda De Alimentación</td>\n",
       "      <td>http://instagram.com/stiltonalmacen</td>\n",
       "      <td>Moreno 850</td>\n",
       "      <td>+54 9 2281 66-6262</td>\n",
       "      <td>Azul</td>\n",
       "      <td>Provincia de Buenos Aires</td>\n",
       "      <td>-36.781869</td>\n",
       "      <td>-59.864955</td>\n",
       "      <td>4.5</td>\n",
       "      <td>54</td>\n",
       "      <td>https://lh3.googleusercontent.com/p/AF1QipOsq_...</td>\n",
       "      <td>18.0</td>\n",
       "      <td>23</td>\n",
       "      <td>2025-06-15 22:57:00.082000+00:00</td>\n",
       "      <td>Comercio</td>\n",
       "    </tr>\n",
       "    <tr>\n",
       "      <th>37</th>\n",
       "      <td>Campos Del Centro Srl</td>\n",
       "      <td>Comercio</td>\n",
       "      <td>https://www.instagram.com/camposdelcentrosrl/</td>\n",
       "      <td>C. 61 535</td>\n",
       "      <td>+54 9 2281 50-1288</td>\n",
       "      <td>Azul</td>\n",
       "      <td>Provincia de Buenos Aires</td>\n",
       "      <td>-36.792174</td>\n",
       "      <td>-59.841310</td>\n",
       "      <td>4.4</td>\n",
       "      <td>13</td>\n",
       "      <td>https://lh3.googleusercontent.com/p/AF1QipN00H...</td>\n",
       "      <td>9.0</td>\n",
       "      <td>8</td>\n",
       "      <td>2025-06-15 22:56:57.477000+00:00</td>\n",
       "      <td>Comercio</td>\n",
       "    </tr>\n",
       "    <tr>\n",
       "      <th>43</th>\n",
       "      <td>Drugstore Center Azul</td>\n",
       "      <td>Kiosco</td>\n",
       "      <td>https://instagram.com/drugstore_center_azul?ig...</td>\n",
       "      <td>Av.Mitre 401 Av 25 de Mayo esq Tandil Av Canev...</td>\n",
       "      <td>+54 9 2281 51-1652</td>\n",
       "      <td>Azul</td>\n",
       "      <td>Provincia de Buenos Aires</td>\n",
       "      <td>-36.778875</td>\n",
       "      <td>-59.861003</td>\n",
       "      <td>4.7</td>\n",
       "      <td>7</td>\n",
       "      <td>https://lh3.googleusercontent.com/p/AF1QipOFa3...</td>\n",
       "      <td>3.0</td>\n",
       "      <td>42</td>\n",
       "      <td>2025-06-15 22:56:57.477000+00:00</td>\n",
       "      <td>Comercio</td>\n",
       "    </tr>\n",
       "    <tr>\n",
       "      <th>45</th>\n",
       "      <td>Suttò Piedras Y Aromas</td>\n",
       "      <td>Comercio</td>\n",
       "      <td>https://instagram.com/sutto.artesanias?igshid=...</td>\n",
       "      <td>Rauch 959</td>\n",
       "      <td>+54 9 2281 56-7256</td>\n",
       "      <td>Azul</td>\n",
       "      <td>Provincia de Buenos Aires</td>\n",
       "      <td>-36.786314</td>\n",
       "      <td>-59.863274</td>\n",
       "      <td>5.0</td>\n",
       "      <td>5</td>\n",
       "      <td>https://lh3.googleusercontent.com/p/AF1QipO03j...</td>\n",
       "      <td>14.0</td>\n",
       "      <td>94</td>\n",
       "      <td>2025-06-15 22:56:57.477000+00:00</td>\n",
       "      <td>Comercio</td>\n",
       "    </tr>\n",
       "  </tbody>\n",
       "</table>\n",
       "</div>"
      ],
      "text/plain": [
       "                     title            categoryName  \\\n",
       "1        Tecno Computacion       Tienda De Móviles   \n",
       "17         Stilton Almacén  Tienda De Alimentación   \n",
       "37   Campos Del Centro Srl                Comercio   \n",
       "43   Drugstore Center Azul                  Kiosco   \n",
       "45  Suttò Piedras Y Aromas                Comercio   \n",
       "\n",
       "                                              website  \\\n",
       "1                http://www.tecnocomputacionazul.com/   \n",
       "17                http://instagram.com/stiltonalmacen   \n",
       "37      https://www.instagram.com/camposdelcentrosrl/   \n",
       "43  https://instagram.com/drugstore_center_azul?ig...   \n",
       "45  https://instagram.com/sutto.artesanias?igshid=...   \n",
       "\n",
       "                                               street               phone  \\\n",
       "1                                         Lamadrid 33  +54 9 2281 65-7938   \n",
       "17                                         Moreno 850  +54 9 2281 66-6262   \n",
       "37                                          C. 61 535  +54 9 2281 50-1288   \n",
       "43  Av.Mitre 401 Av 25 de Mayo esq Tandil Av Canev...  +54 9 2281 51-1652   \n",
       "45                                          Rauch 959  +54 9 2281 56-7256   \n",
       "\n",
       "    city                      state  location/lat  location/lng  totalScore  \\\n",
       "1   Azul  Provincia de Buenos Aires    -36.764914    -59.862404         4.6   \n",
       "17  Azul  Provincia de Buenos Aires    -36.781869    -59.864955         4.5   \n",
       "37  Azul  Provincia de Buenos Aires    -36.792174    -59.841310         4.4   \n",
       "43  Azul  Provincia de Buenos Aires    -36.778875    -59.861003         4.7   \n",
       "45  Azul  Provincia de Buenos Aires    -36.786314    -59.863274         5.0   \n",
       "\n",
       "    rank                                           imageUrl  imagesCount  \\\n",
       "1      3  https://lh3.googleusercontent.com/p/AF1QipP9Gg...         12.0   \n",
       "17    54  https://lh3.googleusercontent.com/p/AF1QipOsq_...         18.0   \n",
       "37    13  https://lh3.googleusercontent.com/p/AF1QipN00H...          9.0   \n",
       "43     7  https://lh3.googleusercontent.com/p/AF1QipOFa3...          3.0   \n",
       "45     5  https://lh3.googleusercontent.com/p/AF1QipO03j...         14.0   \n",
       "\n",
       "    reviewsCount                        scrapedAt searchString  \n",
       "1              7 2025-06-15 22:56:54.474000+00:00   Tecnologia  \n",
       "17            23 2025-06-15 22:57:00.082000+00:00     Comercio  \n",
       "37             8 2025-06-15 22:56:57.477000+00:00     Comercio  \n",
       "43            42 2025-06-15 22:56:57.477000+00:00     Comercio  \n",
       "45            94 2025-06-15 22:56:57.477000+00:00     Comercio  "
      ]
     },
     "execution_count": 183,
     "metadata": {},
     "output_type": "execute_result"
    }
   ],
   "source": [
    "# Crear nuevo DataFrame filtrando registros completos\n",
    "# Excluye filas que contengan 'incomplete' en cualquiera de las columnas\n",
    "df_full_records = df[~(df == 'Incomplete').any(axis=1)].copy()\n",
    "# Resultado: DataFrame con registros que tienen datos completos en todas las columnas\n",
    "df_full_records.head(5)"
   ]
  },
  {
   "cell_type": "code",
   "execution_count": 184,
   "id": "64f4eebf",
   "metadata": {},
   "outputs": [
    {
     "data": {
      "application/vnd.microsoft.datawrangler.viewer.v0+json": {
       "columns": [
        {
         "name": "categoryName",
         "rawType": "object",
         "type": "string"
        },
        {
         "name": "count",
         "rawType": "int64",
         "type": "integer"
        }
       ],
       "ref": "01dcb5ce-299e-43b2-a839-4bac65e4cdb8",
       "rows": [
        [
         "Tienda De Ropa",
         "105"
        ],
        [
         "Agencia Inmobiliaria",
         "84"
        ],
        [
         "Tienda De Materiales Para La Construcción",
         "52"
        ],
        [
         "Comercio",
         "49"
        ],
        [
         "Tienda De Repuestos Para Automóviles",
         "42"
        ],
        [
         "Tienda De Ropa De Mujer",
         "30"
        ],
        [
         "Tienda De Artículos Para El Hogar",
         "30"
        ],
        [
         "Concesionario De Automóviles",
         "23"
        ],
        [
         "Tienda De Informática",
         "23"
        ],
        [
         "Tienda De Muebles",
         "21"
        ],
        [
         "Tienda De Pinturas",
         "19"
        ],
        [
         "Gasolinera",
         "18"
        ],
        [
         "Tienda De Alimentación",
         "18"
        ],
        [
         "Taller Mecánico",
         "17"
        ],
        [
         "Empresa Constructora",
         "17"
        ],
        [
         "Heladería",
         "16"
        ],
        [
         "Taller De Reparación De Automóviles",
         "16"
        ],
        [
         "Supermercado",
         "16"
        ],
        [
         "Quesería",
         "16"
        ],
        [
         "Tienda De Ropa De Deportes",
         "16"
        ],
        [
         "Tienda De Ropa Infantil",
         "16"
        ],
        [
         "Tienda De Electrodomésticos",
         "15"
        ],
        [
         "Servicio De Cambio De Aceite",
         "15"
        ],
        [
         "Ferretería",
         "14"
        ],
        [
         "Farmacia",
         "13"
        ],
        [
         "Agentes Inmobiliarios",
         "12"
        ],
        [
         "Tienda De Móviles",
         "11"
        ],
        [
         "Librería",
         "11"
        ],
        [
         "Tienda De Electrónica",
         "11"
        ],
        [
         "Proveedor De Materiales De Construcción",
         "11"
        ],
        [
         "Tienda De Regalos",
         "11"
        ],
        [
         "Tienda De Ropa De Hombre",
         "10"
        ],
        [
         "Tienda De Neumáticos",
         "10"
        ],
        [
         "Tienda De Ropa Para Bebés",
         "10"
        ],
        [
         "Juguetería",
         "10"
        ],
        [
         "Tienda De Herramientas",
         "10"
        ],
        [
         "Tienda De Alimentos Naturales",
         "9"
        ],
        [
         "Colchonería",
         "9"
        ],
        [
         "Club Deportivo",
         "9"
        ],
        [
         "Diseñador De Sitios Web",
         "9"
        ],
        [
         "Oficinas De Empresa",
         "9"
        ],
        [
         "Empresa De Software",
         "8"
        ],
        [
         "Tienda De Alimentos Para Animales",
         "8"
        ],
        [
         "Taller De Maquinaria",
         "8"
        ],
        [
         "Establecimiento De Venta De Madera",
         "7"
        ],
        [
         "Concesionario De Motos",
         "7"
        ],
        [
         "Zapatería",
         "7"
        ],
        [
         "Soporte Y Servicios Informáticos",
         "7"
        ],
        [
         "Tienda De Cubertería",
         "7"
        ],
        [
         "Tienda De Fotografía",
         "7"
        ]
       ],
       "shape": {
        "columns": 1,
        "rows": 352
       }
      },
      "text/plain": [
       "categoryName\n",
       "Tienda De Ropa                               105\n",
       "Agencia Inmobiliaria                          84\n",
       "Tienda De Materiales Para La Construcción     52\n",
       "Comercio                                      49\n",
       "Tienda De Repuestos Para Automóviles          42\n",
       "                                            ... \n",
       "Equipos Para Panaderías                        1\n",
       "Chatarrería                                    1\n",
       "Contratista De Materiales Para Suelos          1\n",
       "Residencia De Ancianos                         1\n",
       "Contratista                                    1\n",
       "Name: count, Length: 352, dtype: int64"
      ]
     },
     "execution_count": 184,
     "metadata": {},
     "output_type": "execute_result"
    }
   ],
   "source": [
    "df_full_records['categoryName'].value_counts()"
   ]
  },
  {
   "cell_type": "code",
   "execution_count": 185,
   "id": "4a67523e",
   "metadata": {},
   "outputs": [
    {
     "data": {
      "application/vnd.microsoft.datawrangler.viewer.v0+json": {
       "columns": [
        {
         "name": "index",
         "rawType": "object",
         "type": "string"
        },
        {
         "name": "0",
         "rawType": "int64",
         "type": "integer"
        }
       ],
       "ref": "b25da0ad-0a36-4dba-b0f5-16ed973da46a",
       "rows": [
        [
         "instagram",
         "336"
        ],
        [
         "facebook",
         "317"
        ],
        [
         "guia-dorada",
         "68"
        ],
        [
         "tiendanube",
         "36"
        ],
        [
         "wa.me",
         "15"
        ],
        [
         "sites.google.",
         "13"
        ],
        [
         "gurugo",
         "8"
        ],
        [
         "mercadoshops",
         "8"
        ],
        [
         "region20",
         "5"
        ],
        [
         "mercadolibre",
         "3"
        ],
        [
         "paginasamarillas",
         "2"
        ],
        [
         "pedidosya",
         "1"
        ]
       ],
       "shape": {
        "columns": 1,
        "rows": 12
       }
      },
      "text/plain": [
       "instagram           336\n",
       "facebook            317\n",
       "guia-dorada          68\n",
       "tiendanube           36\n",
       "wa.me                15\n",
       "sites.google.        13\n",
       "gurugo                8\n",
       "mercadoshops          8\n",
       "region20              5\n",
       "mercadolibre          3\n",
       "paginasamarillas      2\n",
       "pedidosya             1\n",
       "dtype: int64"
      ]
     },
     "execution_count": 185,
     "metadata": {},
     "output_type": "execute_result"
    }
   ],
   "source": [
    "# Crear una máscara que identifique registros que contienen CUALQUIERA de esas palabras\n",
    "words = ['facebook', 'instagram', 'mercadolibre', 'mercadoshops', 'tiendanube', 'paginasamarillas', \n",
    "        'guia-dorada', 'gurugo', 'wa.me', 'sites.google.', 'pedidosya', 'region20']\n",
    "result = (pd.Series({word: df['website'].str.contains(word, case=False, na=False).sum() \n",
    "                for word in words})\n",
    "        .sort_values(ascending=False))\n",
    "\n",
    "result"
   ]
  },
  {
   "cell_type": "code",
   "execution_count": 186,
   "id": "a22669ef",
   "metadata": {},
   "outputs": [
    {
     "data": {
      "application/vnd.microsoft.datawrangler.viewer.v0+json": {
       "columns": [
        {
         "name": "index",
         "rawType": "object",
         "type": "string"
        },
        {
         "name": "count",
         "rawType": "int64",
         "type": "integer"
        },
        {
         "name": "percentage",
         "rawType": "float64",
         "type": "float"
        }
       ],
       "ref": "b89484fc-f4cd-4a6e-becb-d2fb2c225211",
       "rows": [
        [
         "instagram",
         "336",
         "19.2"
        ],
        [
         "facebook",
         "317",
         "18.11"
        ],
        [
         "guia-dorada",
         "68",
         "3.89"
        ],
        [
         "tiendanube",
         "36",
         "2.06"
        ],
        [
         "wa.me",
         "15",
         "0.86"
        ],
        [
         "sites.google.",
         "13",
         "0.74"
        ],
        [
         "gurugo",
         "8",
         "0.46"
        ],
        [
         "mercadoshops",
         "8",
         "0.46"
        ],
        [
         "region20",
         "5",
         "0.29"
        ],
        [
         "mercadolibre",
         "3",
         "0.17"
        ],
        [
         "paginasamarillas",
         "2",
         "0.11"
        ],
        [
         "pedidosya",
         "1",
         "0.06"
        ]
       ],
       "shape": {
        "columns": 2,
        "rows": 12
       }
      },
      "text/html": [
       "<div>\n",
       "<style scoped>\n",
       "    .dataframe tbody tr th:only-of-type {\n",
       "        vertical-align: middle;\n",
       "    }\n",
       "\n",
       "    .dataframe tbody tr th {\n",
       "        vertical-align: top;\n",
       "    }\n",
       "\n",
       "    .dataframe thead th {\n",
       "        text-align: right;\n",
       "    }\n",
       "</style>\n",
       "<table border=\"1\" class=\"dataframe\">\n",
       "  <thead>\n",
       "    <tr style=\"text-align: right;\">\n",
       "      <th></th>\n",
       "      <th>count</th>\n",
       "      <th>percentage</th>\n",
       "    </tr>\n",
       "  </thead>\n",
       "  <tbody>\n",
       "    <tr>\n",
       "      <th>instagram</th>\n",
       "      <td>336</td>\n",
       "      <td>19.20</td>\n",
       "    </tr>\n",
       "    <tr>\n",
       "      <th>facebook</th>\n",
       "      <td>317</td>\n",
       "      <td>18.11</td>\n",
       "    </tr>\n",
       "    <tr>\n",
       "      <th>guia-dorada</th>\n",
       "      <td>68</td>\n",
       "      <td>3.89</td>\n",
       "    </tr>\n",
       "    <tr>\n",
       "      <th>tiendanube</th>\n",
       "      <td>36</td>\n",
       "      <td>2.06</td>\n",
       "    </tr>\n",
       "    <tr>\n",
       "      <th>wa.me</th>\n",
       "      <td>15</td>\n",
       "      <td>0.86</td>\n",
       "    </tr>\n",
       "    <tr>\n",
       "      <th>sites.google.</th>\n",
       "      <td>13</td>\n",
       "      <td>0.74</td>\n",
       "    </tr>\n",
       "    <tr>\n",
       "      <th>gurugo</th>\n",
       "      <td>8</td>\n",
       "      <td>0.46</td>\n",
       "    </tr>\n",
       "    <tr>\n",
       "      <th>mercadoshops</th>\n",
       "      <td>8</td>\n",
       "      <td>0.46</td>\n",
       "    </tr>\n",
       "    <tr>\n",
       "      <th>region20</th>\n",
       "      <td>5</td>\n",
       "      <td>0.29</td>\n",
       "    </tr>\n",
       "    <tr>\n",
       "      <th>mercadolibre</th>\n",
       "      <td>3</td>\n",
       "      <td>0.17</td>\n",
       "    </tr>\n",
       "    <tr>\n",
       "      <th>paginasamarillas</th>\n",
       "      <td>2</td>\n",
       "      <td>0.11</td>\n",
       "    </tr>\n",
       "    <tr>\n",
       "      <th>pedidosya</th>\n",
       "      <td>1</td>\n",
       "      <td>0.06</td>\n",
       "    </tr>\n",
       "  </tbody>\n",
       "</table>\n",
       "</div>"
      ],
      "text/plain": [
       "                  count  percentage\n",
       "instagram           336       19.20\n",
       "facebook            317       18.11\n",
       "guia-dorada          68        3.89\n",
       "tiendanube           36        2.06\n",
       "wa.me                15        0.86\n",
       "sites.google.        13        0.74\n",
       "gurugo                8        0.46\n",
       "mercadoshops          8        0.46\n",
       "region20              5        0.29\n",
       "mercadolibre          3        0.17\n",
       "paginasamarillas      2        0.11\n",
       "pedidosya             1        0.06"
      ]
     },
     "execution_count": 186,
     "metadata": {},
     "output_type": "execute_result"
    }
   ],
   "source": [
    "result_df = pd.DataFrame({\n",
    "    'count': result,\n",
    "    'percentage': (result / webs * 100).round(2)\n",
    "})\n",
    "result_df"
   ]
  },
  {
   "cell_type": "code",
   "execution_count": 187,
   "id": "5c0223ed",
   "metadata": {},
   "outputs": [
    {
     "data": {
      "text/plain": [
       "np.int64(941)"
      ]
     },
     "execution_count": 187,
     "metadata": {},
     "output_type": "execute_result"
    }
   ],
   "source": [
    "words_2 = ['facebook', 'instagram', 'mercadolibre', 'mercadoshops', 'tiendanube', 'paginasamarillas', \n",
    "        'guia-dorada', 'gurugo', 'wa.me', 'sites.google.', 'region20', 'Incomplete']\n",
    "# Crear máscara combinada\n",
    "contains_word = df['website'].str.contains('|'.join(words_2), case=False, na=False)\n",
    "# Contar los que NO contienen ninguna de esas palabras\n",
    "Own_Website = (~contains_word).sum()\n",
    "Own_Website"
   ]
  },
  {
   "cell_type": "code",
   "execution_count": 188,
   "id": "d0715042",
   "metadata": {},
   "outputs": [
    {
     "data": {
      "application/vnd.microsoft.datawrangler.viewer.v0+json": {
       "columns": [
        {
         "name": "city",
         "rawType": "object",
         "type": "string"
        },
        {
         "name": "total_registros",
         "rawType": "int64",
         "type": "integer"
        },
        {
         "name": "Incomplete",
         "rawType": "int64",
         "type": "integer"
        },
        {
         "name": "complete",
         "rawType": "int64",
         "type": "integer"
        },
        {
         "name": "complete_pct",
         "rawType": "float64",
         "type": "float"
        },
        {
         "name": "Incomplete_pct",
         "rawType": "float64",
         "type": "float"
        }
       ],
       "ref": "c5cd5797-59f1-4d2b-a79e-c4a53cc1fa16",
       "rows": [
        [
         "Tandil",
         "2409",
         "1560",
         "849",
         "35.24",
         "64.76"
        ],
        [
         "Olavarría",
         "1494",
         "997",
         "497",
         "33.27",
         "66.73"
        ],
        [
         "Azul",
         "1274",
         "992",
         "282",
         "22.14",
         "77.86"
        ],
        [
         "Benito Juárez",
         "351",
         "289",
         "62",
         "17.66",
         "82.34"
        ],
        [
         "Rauch",
         "331",
         "271",
         "60",
         "18.13",
         "81.87"
        ]
       ],
       "shape": {
        "columns": 5,
        "rows": 5
       }
      },
      "text/html": [
       "<div>\n",
       "<style scoped>\n",
       "    .dataframe tbody tr th:only-of-type {\n",
       "        vertical-align: middle;\n",
       "    }\n",
       "\n",
       "    .dataframe tbody tr th {\n",
       "        vertical-align: top;\n",
       "    }\n",
       "\n",
       "    .dataframe thead th {\n",
       "        text-align: right;\n",
       "    }\n",
       "</style>\n",
       "<table border=\"1\" class=\"dataframe\">\n",
       "  <thead>\n",
       "    <tr style=\"text-align: right;\">\n",
       "      <th></th>\n",
       "      <th>total_registros</th>\n",
       "      <th>Incomplete</th>\n",
       "      <th>complete</th>\n",
       "      <th>complete_pct</th>\n",
       "      <th>Incomplete_pct</th>\n",
       "    </tr>\n",
       "    <tr>\n",
       "      <th>city</th>\n",
       "      <th></th>\n",
       "      <th></th>\n",
       "      <th></th>\n",
       "      <th></th>\n",
       "      <th></th>\n",
       "    </tr>\n",
       "  </thead>\n",
       "  <tbody>\n",
       "    <tr>\n",
       "      <th>Tandil</th>\n",
       "      <td>2409</td>\n",
       "      <td>1560</td>\n",
       "      <td>849</td>\n",
       "      <td>35.24</td>\n",
       "      <td>64.76</td>\n",
       "    </tr>\n",
       "    <tr>\n",
       "      <th>Olavarría</th>\n",
       "      <td>1494</td>\n",
       "      <td>997</td>\n",
       "      <td>497</td>\n",
       "      <td>33.27</td>\n",
       "      <td>66.73</td>\n",
       "    </tr>\n",
       "    <tr>\n",
       "      <th>Azul</th>\n",
       "      <td>1274</td>\n",
       "      <td>992</td>\n",
       "      <td>282</td>\n",
       "      <td>22.14</td>\n",
       "      <td>77.86</td>\n",
       "    </tr>\n",
       "    <tr>\n",
       "      <th>Benito Juárez</th>\n",
       "      <td>351</td>\n",
       "      <td>289</td>\n",
       "      <td>62</td>\n",
       "      <td>17.66</td>\n",
       "      <td>82.34</td>\n",
       "    </tr>\n",
       "    <tr>\n",
       "      <th>Rauch</th>\n",
       "      <td>331</td>\n",
       "      <td>271</td>\n",
       "      <td>60</td>\n",
       "      <td>18.13</td>\n",
       "      <td>81.87</td>\n",
       "    </tr>\n",
       "  </tbody>\n",
       "</table>\n",
       "</div>"
      ],
      "text/plain": [
       "               total_registros  Incomplete  complete  complete_pct  \\\n",
       "city                                                                 \n",
       "Tandil                    2409        1560       849         35.24   \n",
       "Olavarría                 1494         997       497         33.27   \n",
       "Azul                      1274         992       282         22.14   \n",
       "Benito Juárez              351         289        62         17.66   \n",
       "Rauch                      331         271        60         18.13   \n",
       "\n",
       "               Incomplete_pct  \n",
       "city                           \n",
       "Tandil                  64.76  \n",
       "Olavarría               66.73  \n",
       "Azul                    77.86  \n",
       "Benito Juárez           82.34  \n",
       "Rauch                   81.87  "
      ]
     },
     "execution_count": 188,
     "metadata": {},
     "output_type": "execute_result"
    }
   ],
   "source": [
    "# Calcular métricas base por ciudad\n",
    "total_registros = df.groupby('city').size()\n",
    "registros_incomplete = df[df['website'].str.contains('Incomplete', case=False, na=False)].groupby('city').size()\n",
    "\n",
    "# Crear tabla resumen con métricas de calidad\n",
    "resumen = pd.DataFrame({\n",
    "    'total_registros': total_registros,\n",
    "    'Incomplete': registros_incomplete\n",
    "}).fillna(0)\n",
    "\n",
    "# Calcular métricas derivadas\n",
    "resumen['complete'] = resumen['total_registros'] - resumen['Incomplete']\n",
    "resumen['complete_pct'] = (resumen['complete'] / resumen['total_registros'] * 100).round(2)\n",
    "resumen['Incomplete_pct'] = (resumen['Incomplete'] / resumen['total_registros'] * 100).round(2)\n",
    "\n",
    "# Ordenar por total de registros\n",
    "resumen = resumen.sort_values('total_registros', ascending=False)\n",
    "resumen\n"
   ]
  },
  {
   "cell_type": "code",
   "execution_count": 270,
   "id": "1d5ba383",
   "metadata": {},
   "outputs": [
    {
     "name": "stdout",
     "output_type": "stream",
     "text": [
      "Promedio general de presencia web: 25.29%\n"
     ]
    }
   ],
   "source": [
    "# Promedio general de presencia web\n",
    "avg_General = resumen['complete_pct'].mean().round(2)\n",
    "print(f\"Promedio general de presencia web: {avg_General}%\")"
   ]
  },
  {
   "cell_type": "markdown",
   "id": "abb54278",
   "metadata": {},
   "source": [
    "<div style=\"font-family: 'JetBrains Mono', monospace; font-size: 14px; color: #e2dbdbff; line-height: 1.6;\">\n",
    "\n",
    " 📊 **Visualizaciones**\n",
    "\n",
    "</div>\n"
   ]
  },
  {
   "cell_type": "code",
   "execution_count": 190,
   "id": "deaaa9fc",
   "metadata": {},
   "outputs": [
    {
     "data": {
      "image/png": "[encoded data removed]",
      "text/plain": [
       "<Figure size 1000x600 with 1 Axes>"
      ]
     },
     "metadata": {},
     "output_type": "display_data"
    }
   ],
   "source": [
    "\n",
    "fig, ax = plt.subplots(figsize=(10, 6))\n",
    "resumen[['complete_pct', 'Incomplete_pct']].plot(\n",
    "    kind='bar', stacked=True, ax=ax, color=[\"#1D63FF\", \"#85abfc\"]\n",
    ")\n",
    "\n",
    "# Agregar los porcentajes en cada barra\n",
    "for container in ax.containers:\n",
    "    labels = [f'{w:.1f}%' if w > 0 else '' for w in container.datavalues]\n",
    "    ax.bar_label(container, labels=labels, label_type='center', color='black', fontsize=10)\n",
    "\n",
    "plt.ylabel('Porcentaje')\n",
    "plt.title('Presencia web por ciudad')\n",
    "plt.legend(['Con web', 'Sin web'])\n",
    "plt.xticks(rotation=0) \n",
    "plt.tight_layout()\n",
    "plt.show()"
   ]
  },
  {
   "cell_type": "code",
   "execution_count": 191,
   "id": "367cf8e5",
   "metadata": {},
   "outputs": [
    {
     "data": {
      "image/png": "[encoded data removed]",
      "text/plain": [
       "<Figure size 1200x700 with 1 Axes>"
      ]
     },
     "metadata": {},
     "output_type": "display_data"
    },
    {
     "name": "stdout",
     "output_type": "stream",
     "text": [
      "Promedio con Website: 25.3%\n"
     ]
    }
   ],
   "source": [
    "# Visualización profesional de completitud de datos por ciudad\n",
    "fig, ax = plt.subplots(figsize=(12, 7))\n",
    "\n",
    "# Crear gráfico con colores profesionales y contraste mejorado\n",
    "resumen[['complete_pct', 'Incomplete_pct']].plot(\n",
    "    kind='bar', \n",
    "    stacked=True, \n",
    "    ax=ax, \n",
    "    color=[\"#1D63FF\", \"#85abfc\"],\n",
    "    width=0.7,\n",
    "    edgecolor='none',\n",
    "    linewidth=0.8\n",
    ")\n",
    "# Etiquetas de porcentaje solo donde sean legibles\n",
    "for i, container in enumerate(ax.containers):\n",
    "    labels = [f'{w:.1f}%' if w > 5 else '' for w in container.datavalues]  # Solo mostrar si >5%\n",
    "    ax.bar_label(container, labels=labels, label_type='center', \n",
    "                color='black', fontweight='bold', fontsize=9)\n",
    "\n",
    "# Personalización\n",
    "ax.set_ylabel('Porcentaje (%)', fontsize=12, fontweight='bold')\n",
    "ax.set_title('Presencia Web por ciudad', fontsize=14, fontweight='bold', pad=20)\n",
    "ax.set_xlabel('Ciudades', fontsize=12, fontweight='bold')\n",
    "\n",
    "# Mejorar leyenda\n",
    "ax.legend(['Tiene Website', 'Datos Incompletos'], \n",
    "        loc='upper right', frameon=True, shadow=True, \n",
    "        fancybox=True, fontsize=10)\n",
    "# Rotar labels si hay muchas ciudades\n",
    "plt.xticks(rotation=45 if len(resumen) > 8 else 0, ha='right' if len(resumen) > 8 else 'center')\n",
    "# Personalizar ejes\n",
    "ax.set_ylim(0, 100)\n",
    "ax.set_yticks(range(0, 101, 20))\n",
    "ax.grid(axis='y', alpha=0.3, linestyle='--')\n",
    "ax.set_axisbelow(True)\n",
    "plt.tight_layout()\n",
    "plt.show()\n",
    "\n",
    "# Estadística complementaria\n",
    "print(f\"Promedio con Website: {resumen['complete_pct'].mean():.1f}%\")"
   ]
  },
  {
   "cell_type": "code",
   "execution_count": 192,
   "id": "5e232dd3",
   "metadata": {},
   "outputs": [
    {
     "data": {
      "image/png": "[encoded data removed]",
      "text/plain": [
       "<Figure size 1000x600 with 1 Axes>"
      ]
     },
     "metadata": {},
     "output_type": "display_data"
    }
   ],
   "source": [
    "\n",
    "\n",
    "fig, ax = plt.subplots(figsize=(10, 6))\n",
    "resumen[['complete_pct', 'Incomplete_pct']].plot(\n",
    "    kind='bar', stacked=True, ax=ax, color=['#4CAF50', '#F44336']\n",
    ")\n",
    "plt.ylabel('Porcentaje')\n",
    "plt.title('Presencia web por ciudad')\n",
    "plt.legend(['Con web', 'Sin web (incomplete)'])\n",
    "plt.tight_layout()\n",
    "plt.show()"
   ]
  },
  {
   "cell_type": "code",
   "execution_count": 193,
   "id": "5b17d9b3",
   "metadata": {},
   "outputs": [
    {
     "data": {
      "image/png": "[encoded data removed]",
      "text/plain": [
       "<Figure size 640x480 with 1 Axes>"
      ]
     },
     "metadata": {},
     "output_type": "display_data"
    }
   ],
   "source": [
    "avg_rating = df.groupby('city')['rank'].mean().sort_values(ascending=False)\n",
    "avg_rating.plot(kind='barh', title='Calificación promedio por ciudad')\n",
    "plt.xlabel('Calificación promedio')\n",
    "plt.show()\n"
   ]
  },
  {
   "cell_type": "code",
   "execution_count": 194,
   "id": "0a1b9419",
   "metadata": {},
   "outputs": [
    {
     "data": {
      "image/png": "[encoded data removed]",
      "text/plain": [
       "<Figure size 640x480 with 1 Axes>"
      ]
     },
     "metadata": {},
     "output_type": "display_data"
    }
   ],
   "source": [
    "top_categories = df['categoryName'].value_counts().head(10)\n",
    "\n",
    "sns.barplot(x=top_categories.values, y=top_categories.index)\n",
    "plt.title('Top 10 categorías de negocios')\n",
    "plt.xlabel('Cantidad')\n",
    "plt.show()\n"
   ]
  },
  {
   "cell_type": "markdown",
   "id": "5e5ad947",
   "metadata": {},
   "source": [
    "\n",
    "<div style=\"font-family: 'JetBrains Mono', monospace; font-size: 14px; color: #e2dbdbff; line-height: 1.6;\">\n",
    "\n",
    "## Distribución de negocios por ciudad\n",
    "\n",
    "</div>"
   ]
  },
  {
   "cell_type": "code",
   "execution_count": 195,
   "id": "60d6c3ef",
   "metadata": {},
   "outputs": [
    {
     "data": {
      "image/png": "[encoded data removed]",
      "text/plain": [
       "<Figure size 800x500 with 1 Axes>"
      ]
     },
     "metadata": {},
     "output_type": "display_data"
    },
    {
     "name": "stdout",
     "output_type": "stream",
     "text": [
      "El color de la primera barra es: (0.19460784313725488, 0.45343137254901944, 0.632843137254902, 1.0)\n"
     ]
    }
   ],
   "source": [
    "city_counts = df['city'].value_counts()\n",
    "\n",
    "plt.figure(figsize=(8,5))\n",
    "barplot = sns.barplot(x=city_counts.index, y=city_counts.values)\n",
    "\n",
    "for index, value in enumerate(city_counts.values):\n",
    "    barplot.text(index, value, str(value), ha='center', va='bottom')\n",
    "# Configurar títulos y etiquetas\n",
    "plt.title('Cantidad de negocios por ciudad')\n",
    "plt.ylabel('Cantidad')\n",
    "plt.xlabel('Ciudad')\n",
    "plt.show()\n",
    "first_bar_color = barplot.patches[0].get_facecolor()\n",
    "print(f\"El color de la primera barra es: {first_bar_color}\")"
   ]
  },
  {
   "cell_type": "markdown",
   "id": "42f3fdba",
   "metadata": {},
   "source": [
    "<div style=\"font-family: 'JetBrains Mono', monospace; font-size: 14px; color: #e2dbdbff; line-height: 1.6;\">\n",
    "\n",
    "## Principales categorías de negocios\n",
    "\n",
    "Se identifican las categorías de negocios más frecuentes en la región.\n",
    "\n",
    "</div>\n",
    "\n"
   ]
  },
  {
   "cell_type": "code",
   "execution_count": 196,
   "id": "1b221632",
   "metadata": {},
   "outputs": [
    {
     "data": {
      "image/png": "[encoded data removed]",
      "text/plain": [
       "<Figure size 640x480 with 1 Axes>"
      ]
     },
     "metadata": {},
     "output_type": "display_data"
    }
   ],
   "source": [
    "top_categories = df['categoryName'].value_counts().head(10)\n",
    "\n",
    "sns.barplot(x=top_categories.values, y=top_categories.index)\n",
    "plt.title('Top 10 categorías de negocios')\n",
    "plt.xlabel('Cantidad')\n",
    "plt.show()\n"
   ]
  },
  {
   "cell_type": "markdown",
   "id": "790fdd81",
   "metadata": {},
   "source": [
    "<div style=\"font-family: 'JetBrains Mono', monospace; font-size: 14px; color: #e2dbdbff; line-height: 1.6;\">\n",
    "\n",
    "## Análisis de calificaciones promedio por ciudad\n",
    "\n",
    "</div>"
   ]
  },
  {
   "cell_type": "code",
   "execution_count": 197,
   "id": "1e745985",
   "metadata": {},
   "outputs": [
    {
     "data": {
      "image/png": "[encoded data removed]",
      "text/plain": [
       "<Figure size 640x480 with 1 Axes>"
      ]
     },
     "metadata": {},
     "output_type": "display_data"
    }
   ],
   "source": [
    "avg_rating = df.groupby('city')['rank'].mean().sort_values(ascending=False)\n",
    "avg_rating.plot(kind='barh', title='Calificación promedio por ciudad')\n",
    "plt.xlabel('Calificación promedio')\n",
    "plt.show()\n"
   ]
  },
  {
   "cell_type": "markdown",
   "id": "91d62d71",
   "metadata": {},
   "source": [
    "## Conclusiones\n",
    "\n",
    "- La ciudad X tiene la mayor cantidad de negocios registrados.\n",
    "- Las categorías más frecuentes son Restaurants, Grocery, etc.\n",
    "- Las calificaciones promedio muestran oportunidades de mejora en ciertas ciudades.\n",
    "\n",
    "Próximos pasos:\n",
    "- Profundizar en análisis de reviews.\n",
    "- Analizar correlaciones entre ubicación y puntuaciones.\n"
   ]
  },
  {
   "cell_type": "markdown",
   "id": "d6c8620f",
   "metadata": {},
   "source": [
    "# Elegir una paleta armónica\n",
    "color_palette = px.colors.qualitative.Pastel\n",
    "\n",
    "fig = px.bar(\n",
    "    category_counts,\n",
    "    x='count',\n",
    "    y='website_category',\n",
    "    orientation='h',\n",
    "    color='website_category',\n",
    "    color_discrete_sequence=color_palette,\n",
    "    text='count'\n",
    ")\n",
    "\n",
    "fig.update_layout(\n",
    "    title='Distribución de Tipos de Presencia Online de Negocios Locales',\n",
    "    xaxis_title='Cantidad de Negocios',\n",
    "    yaxis_title='Tipo de Presencia Online',\n",
    "    showlegend=False,\n",
    "    plot_bgcolor='white',\n",
    "    font=dict(size=14)\n",
    ")\n",
    "\n",
    "fig.update_traces(\n",
    "    textposition='outside'\n",
    ")\n",
    "\n",
    "fig.show()\n"
   ]
  },
  {
   "cell_type": "markdown",
   "id": "45c02e1a",
   "metadata": {},
   "source": [
    "import pandas as pd\n",
    "import plotly.express as px\n",
    "\n",
    "# Filtrar filas con website válido\n",
    "df_valid = df[~df['website'].isna() & (df['website'].str.strip() != '')]\n",
    "\n",
    "# Keywords\n",
    "keywords = [\n",
    "    \"facebook\",\n",
    "    \"mercadoshops\",\n",
    "    \"mercadolibre\",\n",
    "    \"tiendanube\",\n",
    "    \"wa.me\",\n",
    "    \"guia-dorada.com.ar\",\n",
    "    \"pedidosya.com.ar\",\n",
    "    \"region20\",\n",
    "    \"empretienda\",\n",
    "    \"gurugo\",\n",
    "    \"wixsite\",\n",
    "    \".gob\",\n",
    "    \".gov\",\n",
    "    \"tiendanegocio\",\n",
    "    \"sites.google.com\"\n",
    "]\n",
    "\n",
    "# Función para categorizar\n",
    "def categorize_website(site):\n",
    "    site_lower = str(site).lower()\n",
    "    for kw in keywords:\n",
    "        if kw in site_lower:\n",
    "            return kw\n",
    "    return 'ownDomain'\n",
    "\n",
    "# Aplicar categorización\n",
    "df_valid['website_category'] = df_valid['website'].apply(categorize_website)\n",
    "\n",
    "# Contar ocurrencias\n",
    "category_counts = df_valid['website_category'].value_counts().reset_index()\n",
    "category_counts.columns = ['website_category', 'count']\n",
    "category_counts = category_counts.sort_values(by='count', ascending=True)\n",
    "\n",
    "# Plotly\n",
    "color_palette = px.colors.qualitative.Pastel\n",
    "\n",
    "fig = px.bar(\n",
    "    category_counts,\n",
    "    x='count',\n",
    "    y='website_category',\n",
    "    orientation='h',\n",
    "    color='website_category',\n",
    "    color_discrete_sequence=color_palette,\n",
    "    text='count'\n",
    ")\n",
    "\n",
    "fig.update_layout(\n",
    "    title='Distribución de Tipos de Presencia Online de Negocios Locales',\n",
    "    xaxis_title='Cantidad de Negocios',\n",
    "    yaxis_title='Tipo de Presencia Online',\n",
    "    showlegend=False,\n",
    "    plot_bgcolor='white',\n",
    "    font=dict(size=14)\n",
    ")\n",
    "\n",
    "fig.update_traces(\n",
    "    textposition='outside'\n",
    ")\n",
    "\n",
    "fig.show()\n"
   ]
  },
  {
   "cell_type": "code",
   "execution_count": 198,
   "id": "de1f8d1f",
   "metadata": {},
   "outputs": [
    {
     "data": {
      "application/vnd.microsoft.datawrangler.viewer.v0+json": {
       "columns": [
        {
         "name": "index",
         "rawType": "int64",
         "type": "integer"
        },
        {
         "name": "city",
         "rawType": "object",
         "type": "string"
        },
        {
         "name": "categoryName",
         "rawType": "object",
         "type": "string"
        },
        {
         "name": "website_count",
         "rawType": "int64",
         "type": "integer"
        }
       ],
       "ref": "b94fc0ce-24db-4b13-bd3d-5d2c694ba41f",
       "rows": [
        [
         "1218",
         "Tandil",
         "Tienda De Ropa",
         "161"
        ],
        [
         "235",
         "Azul",
         "Tienda De Ropa",
         "142"
        ],
        [
         "1119",
         "Tandil",
         "Tienda De Alimentación",
         "137"
        ],
        [
         "865",
         "Tandil",
         "Comercio",
         "124"
        ],
        [
         "37",
         "Azul",
         "Comercio",
         "110"
        ],
        [
         "661",
         "Olavarría",
         "Tienda De Ropa",
         "105"
        ],
        [
         "170",
         "Azul",
         "Tienda De Alimentación",
         "84"
        ],
        [
         "584",
         "Olavarría",
         "Tienda De Alimentación",
         "82"
        ],
        [
         "816",
         "Tandil",
         "Agencia Inmobiliaria",
         "76"
        ],
        [
         "392",
         "Olavarría",
         "Agencia Inmobiliaria",
         "61"
        ],
        [
         "962",
         "Tandil",
         "Incomplete",
         "61"
        ],
        [
         "1223",
         "Tandil",
         "Tienda De Ropa De Mujer",
         "59"
        ],
        [
         "658",
         "Olavarría",
         "Tienda De Repuestos Para Automóviles",
         "57"
        ],
        [
         "436",
         "Olavarría",
         "Comercio",
         "51"
        ],
        [
         "1215",
         "Tandil",
         "Tienda De Repuestos Para Automóviles",
         "50"
        ],
        [
         "1186",
         "Tandil",
         "Tienda De Materiales Para La Construcción",
         "43"
        ],
        [
         "1105",
         "Tandil",
         "Taller De Reparación De Automóviles",
         "43"
        ],
        [
         "572",
         "Olavarría",
         "Taller De Reparación De Automóviles",
         "39"
        ],
        [
         "1095",
         "Tandil",
         "Supermercado",
         "38"
        ],
        [
         "837",
         "Tandil",
         "Carnicería",
         "38"
        ],
        [
         "160",
         "Azul",
         "Taller De Reparación De Automóviles",
         "37"
        ],
        [
         "489",
         "Olavarría",
         "Incomplete",
         "37"
        ],
        [
         "991",
         "Tandil",
         "Panadería",
         "36"
        ],
        [
         "17",
         "Azul",
         "Carnicería",
         "35"
        ],
        [
         "1137",
         "Tandil",
         "Tienda De Artículos Para El Hogar",
         "34"
        ],
        [
         "346",
         "Benito Juárez",
         "Tienda De Alimentación",
         "34"
        ],
        [
         "462",
         "Olavarría",
         "Empresa Constructora",
         "33"
        ],
        [
         "666",
         "Olavarría",
         "Tienda De Ropa De Mujer",
         "33"
        ],
        [
         "1109",
         "Tandil",
         "Taller Mecánico",
         "32"
        ],
        [
         "594",
         "Olavarría",
         "Tienda De Artículos Para El Hogar",
         "31"
        ],
        [
         "636",
         "Olavarría",
         "Tienda De Materiales Para La Construcción",
         "31"
        ],
        [
         "378",
         "Benito Juárez",
         "Tienda De Ropa",
         "31"
        ],
        [
         "442",
         "Olavarría",
         "Concesionario De Automóviles",
         "30"
        ],
        [
         "705",
         "Rauch",
         "Comercio",
         "30"
        ],
        [
         "765",
         "Rauch",
         "Tienda De Alimentación",
         "29"
        ],
        [
         "3",
         "Azul",
         "Agencia Inmobiliaria",
         "29"
        ],
        [
         "576",
         "Olavarría",
         "Taller Mecánico",
         "29"
        ],
        [
         "942",
         "Tandil",
         "Frutería",
         "27"
        ],
        [
         "1246",
         "Tandil",
         "Tienda General",
         "27"
        ],
        [
         "792",
         "Rauch",
         "Tienda De Ropa",
         "26"
        ],
        [
         "85",
         "Azul",
         "Incomplete",
         "25"
        ],
        [
         "1191",
         "Tandil",
         "Tienda De Muebles",
         "24"
        ],
        [
         "233",
         "Azul",
         "Tienda De Repuestos Para Automóviles",
         "24"
        ],
        [
         "218",
         "Azul",
         "Tienda De Materiales Para La Construcción",
         "24"
        ],
        [
         "938",
         "Tandil",
         "Ferretería",
         "24"
        ],
        [
         "640",
         "Olavarría",
         "Tienda De Muebles",
         "23"
        ],
        [
         "34",
         "Azul",
         "Club Deportivo",
         "21"
        ],
        [
         "153",
         "Azul",
         "Supermercado",
         "21"
        ],
        [
         "110",
         "Azul",
         "Panadería",
         "21"
        ],
        [
         "911",
         "Tandil",
         "Empresa Constructora",
         "21"
        ]
       ],
       "shape": {
        "columns": 3,
        "rows": 1256
       }
      },
      "text/html": [
       "<div>\n",
       "<style scoped>\n",
       "    .dataframe tbody tr th:only-of-type {\n",
       "        vertical-align: middle;\n",
       "    }\n",
       "\n",
       "    .dataframe tbody tr th {\n",
       "        vertical-align: top;\n",
       "    }\n",
       "\n",
       "    .dataframe thead th {\n",
       "        text-align: right;\n",
       "    }\n",
       "</style>\n",
       "<table border=\"1\" class=\"dataframe\">\n",
       "  <thead>\n",
       "    <tr style=\"text-align: right;\">\n",
       "      <th></th>\n",
       "      <th>city</th>\n",
       "      <th>categoryName</th>\n",
       "      <th>website_count</th>\n",
       "    </tr>\n",
       "  </thead>\n",
       "  <tbody>\n",
       "    <tr>\n",
       "      <th>1218</th>\n",
       "      <td>Tandil</td>\n",
       "      <td>Tienda De Ropa</td>\n",
       "      <td>161</td>\n",
       "    </tr>\n",
       "    <tr>\n",
       "      <th>235</th>\n",
       "      <td>Azul</td>\n",
       "      <td>Tienda De Ropa</td>\n",
       "      <td>142</td>\n",
       "    </tr>\n",
       "    <tr>\n",
       "      <th>1119</th>\n",
       "      <td>Tandil</td>\n",
       "      <td>Tienda De Alimentación</td>\n",
       "      <td>137</td>\n",
       "    </tr>\n",
       "    <tr>\n",
       "      <th>865</th>\n",
       "      <td>Tandil</td>\n",
       "      <td>Comercio</td>\n",
       "      <td>124</td>\n",
       "    </tr>\n",
       "    <tr>\n",
       "      <th>37</th>\n",
       "      <td>Azul</td>\n",
       "      <td>Comercio</td>\n",
       "      <td>110</td>\n",
       "    </tr>\n",
       "    <tr>\n",
       "      <th>...</th>\n",
       "      <td>...</td>\n",
       "      <td>...</td>\n",
       "      <td>...</td>\n",
       "    </tr>\n",
       "    <tr>\n",
       "      <th>21</th>\n",
       "      <td>Azul</td>\n",
       "      <td>Centro Comunitario</td>\n",
       "      <td>1</td>\n",
       "    </tr>\n",
       "    <tr>\n",
       "      <th>20</th>\n",
       "      <td>Azul</td>\n",
       "      <td>Centro Comercial</td>\n",
       "      <td>1</td>\n",
       "    </tr>\n",
       "    <tr>\n",
       "      <th>19</th>\n",
       "      <td>Azul</td>\n",
       "      <td>Carpintería</td>\n",
       "      <td>1</td>\n",
       "    </tr>\n",
       "    <tr>\n",
       "      <th>18</th>\n",
       "      <td>Azul</td>\n",
       "      <td>Carpintero</td>\n",
       "      <td>1</td>\n",
       "    </tr>\n",
       "    <tr>\n",
       "      <th>16</th>\n",
       "      <td>Azul</td>\n",
       "      <td>Campo De Tiro</td>\n",
       "      <td>1</td>\n",
       "    </tr>\n",
       "  </tbody>\n",
       "</table>\n",
       "<p>1256 rows × 3 columns</p>\n",
       "</div>"
      ],
      "text/plain": [
       "        city            categoryName  website_count\n",
       "1218  Tandil          Tienda De Ropa            161\n",
       "235     Azul          Tienda De Ropa            142\n",
       "1119  Tandil  Tienda De Alimentación            137\n",
       "865   Tandil                Comercio            124\n",
       "37      Azul                Comercio            110\n",
       "...      ...                     ...            ...\n",
       "21      Azul      Centro Comunitario              1\n",
       "20      Azul        Centro Comercial              1\n",
       "19      Azul             Carpintería              1\n",
       "18      Azul              Carpintero              1\n",
       "16      Azul           Campo De Tiro              1\n",
       "\n",
       "[1256 rows x 3 columns]"
      ]
     },
     "execution_count": 198,
     "metadata": {},
     "output_type": "execute_result"
    }
   ],
   "source": [
    "# Agrupar por ciudad y categoría\n",
    "category_counts = (\n",
    "    df\n",
    "    .groupby(['city', 'categoryName'])\n",
    "    .size()\n",
    "    .reset_index(name='website_count')\n",
    ")\n",
    "category_counts = category_counts.sort_values(by='website_count', ascending=False)\n",
    "category_counts"
   ]
  },
  {
   "cell_type": "markdown",
   "id": "850ba201",
   "metadata": {},
   "source": [
    "PASO 2 — Agrupar por ciudad y categoría\n",
    "Contamos cuántos websites hay en cada categoría dentro de cada ciudad.\n",
    "\n",
    "\n",
    "\n",
    "# Total de websites por ciudad\n",
    "total_by_city = (\n",
    "    city_category_counts\n",
    "    .groupby('city')['website_count']\n",
    "    .sum()\n",
    "    .reset_index(name='total_city')\n",
    ")\n",
    "\n",
    "# Merge para calcular el porcentaje\n",
    "city_category_counts = city_category_counts.merge(\n",
    "    total_by_city,\n",
    "    on='city',\n",
    "    how='left'\n",
    ")\n",
    "\n",
    "city_category_counts['percentage'] = (\n",
    "    city_category_counts['website_count'] / city_category_counts['total_city'] * 100\n",
    ").round(2)\n",
    "\n",
    "# Crear texto doble\n",
    "city_category_counts['text_label'] = (\n",
    "    \"N = \" + city_category_counts['website_count'].astype(str) +\n",
    "    \"<br>\" +\n",
    "    city_category_counts['percentage'].astype(str) + \" %\"\n",
    ")\n",
    "\n",
    "PASO 3 — Calcular % dentro de cada ciudad\n",
    "Queremos saber el porcentaje que cada categoría representa dentro de su ciudad.\n",
    "\n",
    "# Total de websites por ciudad\n",
    "total_by_city = (\n",
    "    city_category_counts\n",
    "    .groupby('city')['website_count']\n",
    "    .sum()\n",
    "    .reset_index(name='total_city')\n",
    ")\n",
    "\n",
    "# Merge para calcular el porcentaje\n",
    "city_category_counts = city_category_counts.merge(\n",
    "    total_by_city,\n",
    "    on='city',\n",
    "    how='left'\n",
    ")\n",
    "\n",
    "city_category_counts['percentage'] = (\n",
    "    city_category_counts['website_count'] / city_category_counts['total_city'] * 100\n",
    ").round(2)\n",
    "\n",
    "# Crear texto doble\n",
    "city_category_counts['text_label'] = (\n",
    "    \"N = \" + city_category_counts['website_count'].astype(str) +\n",
    "    \"<br>\" +\n",
    "    city_category_counts['percentage'].astype(str) + \" %\"\n",
    ")\n",
    "PASO 4 — Generar un gráfico por ciudad\n",
    "Ahora generamos un gráfico individual para cada ciudad.\n",
    "\n",
    "\n",
    "cities = city_category_counts['city'].unique()\n",
    "\n",
    "for city in cities:\n",
    "    df_city = city_category_counts[city_category_counts['city'] == city]\n",
    "    \n",
    "    # Podés mostrar solo el top 10 de categorías\n",
    "    df_city_top = df_city.sort_values('website_count', ascending=False).head(10)\n",
    "    \n",
    "    fig = px.bar(\n",
    "        df_city_top.sort_values('website_count', ascending=True),\n",
    "        x='website_count',\n",
    "        y='categoryName',\n",
    "        orientation='h',\n",
    "        text='text_label',\n",
    "        color_discrete_sequence=px.colors.qualitative.Set3,\n",
    "        title=f\"Categorías con MÁS páginas web en {city}\",\n",
    "        hover_data={\n",
    "            'website_count': True,\n",
    "            'percentage': True,\n",
    "            'categoryName': False,\n",
    "            'text_label': False\n",
    "        },\n",
    "        labels={\n",
    "            'website_count': 'Cantidad de páginas web',\n",
    "            'categoryName': 'Categoría de Negocio'\n",
    "        },\n",
    "        height=500\n",
    "    )\n",
    "    \n",
    "    fig.update_layout(\n",
    "        plot_bgcolor=\"#FDF6F6\",\n",
    "        title={\n",
    "            'x': 0.5,\n",
    "            'xanchor': 'center',\n",
    "            'font': {\n",
    "                'family': 'Arial, sans-serif',\n",
    "                'size': 20,\n",
    "                'color': 'darkblue'\n",
    "            }\n",
    "        },\n",
    "        margin=dict(t=80, b=80, r=250),\n",
    "        legend=dict(\n",
    "            orientation='h',\n",
    "            yanchor='bottom',\n",
    "            y=-0.3,\n",
    "            xanchor='center',\n",
    "            x=0.5\n",
    "        )\n",
    "    )\n",
    "    \n",
    "    fig.update_traces(\n",
    "        textposition='inside',\n",
    "        insidetextanchor='middle'\n",
    "    )\n",
    "    \n",
    "    fig.show()\n",
    "\n",
    "\n",
    "    "
   ]
  }
 ],
 "metadata": {
  "kernelspec": {
   "display_name": "Python 3",
   "language": "python",
   "name": "python3"
  },
  "language_info": {
   "codemirror_mode": {
    "name": "ipython",
    "version": 3
   },
   "file_extension": ".py",
   "mimetype": "text/x-python",
   "name": "python",
   "nbconvert_exporter": "python",
   "pygments_lexer": "ipython3",
   "version": "3.13.7"
  }
 },
 "nbformat": 4,
 "nbformat_minor": 5
}
